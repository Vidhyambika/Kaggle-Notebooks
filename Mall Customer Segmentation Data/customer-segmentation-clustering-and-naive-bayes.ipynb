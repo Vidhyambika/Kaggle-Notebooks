{
 "cells": [
  {
   "cell_type": "code",
   "execution_count": 1,
   "id": "80004000",
   "metadata": {
    "execution": {
     "iopub.execute_input": "2023-02-26T20:25:38.945123Z",
     "iopub.status.busy": "2023-02-26T20:25:38.944779Z",
     "iopub.status.idle": "2023-02-26T20:25:39.933543Z",
     "shell.execute_reply": "2023-02-26T20:25:39.932705Z"
    },
    "id": "cdBovcPgGexO",
    "papermill": {
     "duration": 1.007212,
     "end_time": "2023-02-26T20:25:39.935798",
     "exception": false,
     "start_time": "2023-02-26T20:25:38.928586",
     "status": "completed"
    },
    "tags": []
   },
   "outputs": [],
   "source": [
    "# importing the required libraries\n",
    "\n",
    "import pandas as pd \n",
    "import numpy as np\n",
    "import seaborn as sns\n",
    "import matplotlib.pyplot as plt"
   ]
  },
  {
   "cell_type": "markdown",
   "id": "6d1b8824",
   "metadata": {
    "id": "Hmdrg5L6Fsfp",
    "papermill": {
     "duration": 0.013116,
     "end_time": "2023-02-26T20:25:39.962941",
     "exception": false,
     "start_time": "2023-02-26T20:25:39.949825",
     "status": "completed"
    },
    "tags": []
   },
   "source": [
    "# **1,2) DOWNLOADING AND LOADING THE DATASET**"
   ]
  },
  {
   "cell_type": "code",
   "execution_count": 2,
   "id": "d103ea25",
   "metadata": {
    "execution": {
     "iopub.execute_input": "2023-02-26T20:25:39.992047Z",
     "iopub.status.busy": "2023-02-26T20:25:39.991695Z",
     "iopub.status.idle": "2023-02-26T20:25:40.025915Z",
     "shell.execute_reply": "2023-02-26T20:25:40.024954Z"
    },
    "id": "iUUnF0S-Fibv",
    "outputId": "feb6214a-72e6-494e-b237-6f1fe3459f27",
    "papermill": {
     "duration": 0.051797,
     "end_time": "2023-02-26T20:25:40.027985",
     "exception": false,
     "start_time": "2023-02-26T20:25:39.976188",
     "status": "completed"
    },
    "tags": []
   },
   "outputs": [
    {
     "data": {
      "text/html": [
       "<div>\n",
       "<style scoped>\n",
       "    .dataframe tbody tr th:only-of-type {\n",
       "        vertical-align: middle;\n",
       "    }\n",
       "\n",
       "    .dataframe tbody tr th {\n",
       "        vertical-align: top;\n",
       "    }\n",
       "\n",
       "    .dataframe thead th {\n",
       "        text-align: right;\n",
       "    }\n",
       "</style>\n",
       "<table border=\"1\" class=\"dataframe\">\n",
       "  <thead>\n",
       "    <tr style=\"text-align: right;\">\n",
       "      <th></th>\n",
       "      <th>CustomerID</th>\n",
       "      <th>Gender</th>\n",
       "      <th>Age</th>\n",
       "      <th>Annual Income (k$)</th>\n",
       "      <th>Spending Score (1-100)</th>\n",
       "    </tr>\n",
       "  </thead>\n",
       "  <tbody>\n",
       "    <tr>\n",
       "      <th>0</th>\n",
       "      <td>1</td>\n",
       "      <td>Male</td>\n",
       "      <td>19</td>\n",
       "      <td>15</td>\n",
       "      <td>39</td>\n",
       "    </tr>\n",
       "    <tr>\n",
       "      <th>1</th>\n",
       "      <td>2</td>\n",
       "      <td>Male</td>\n",
       "      <td>21</td>\n",
       "      <td>15</td>\n",
       "      <td>81</td>\n",
       "    </tr>\n",
       "    <tr>\n",
       "      <th>2</th>\n",
       "      <td>3</td>\n",
       "      <td>Female</td>\n",
       "      <td>20</td>\n",
       "      <td>16</td>\n",
       "      <td>6</td>\n",
       "    </tr>\n",
       "    <tr>\n",
       "      <th>3</th>\n",
       "      <td>4</td>\n",
       "      <td>Female</td>\n",
       "      <td>23</td>\n",
       "      <td>16</td>\n",
       "      <td>77</td>\n",
       "    </tr>\n",
       "    <tr>\n",
       "      <th>4</th>\n",
       "      <td>5</td>\n",
       "      <td>Female</td>\n",
       "      <td>31</td>\n",
       "      <td>17</td>\n",
       "      <td>40</td>\n",
       "    </tr>\n",
       "  </tbody>\n",
       "</table>\n",
       "</div>"
      ],
      "text/plain": [
       "   CustomerID  Gender  Age  Annual Income (k$)  Spending Score (1-100)\n",
       "0           1    Male   19                  15                      39\n",
       "1           2    Male   21                  15                      81\n",
       "2           3  Female   20                  16                       6\n",
       "3           4  Female   23                  16                      77\n",
       "4           5  Female   31                  17                      40"
      ]
     },
     "execution_count": 2,
     "metadata": {},
     "output_type": "execute_result"
    }
   ],
   "source": [
    "df=pd.read_csv('/kaggle/input/customer-segmentation-tutorial-in-python/Mall_Customers.csv')\n",
    "df.head()"
   ]
  },
  {
   "cell_type": "code",
   "execution_count": 3,
   "id": "b4b0c735",
   "metadata": {
    "execution": {
     "iopub.execute_input": "2023-02-26T20:25:40.057461Z",
     "iopub.status.busy": "2023-02-26T20:25:40.056317Z",
     "iopub.status.idle": "2023-02-26T20:25:40.061052Z",
     "shell.execute_reply": "2023-02-26T20:25:40.060173Z"
    },
    "id": "0BeBdji3HC8X",
    "papermill": {
     "duration": 0.021377,
     "end_time": "2023-02-26T20:25:40.063135",
     "exception": false,
     "start_time": "2023-02-26T20:25:40.041758",
     "status": "completed"
    },
    "tags": []
   },
   "outputs": [],
   "source": [
    "#Creating a copy of the dataframe\n",
    "dfCopy = df.copy()"
   ]
  },
  {
   "cell_type": "code",
   "execution_count": 4,
   "id": "023e0252",
   "metadata": {
    "execution": {
     "iopub.execute_input": "2023-02-26T20:25:40.092495Z",
     "iopub.status.busy": "2023-02-26T20:25:40.092062Z",
     "iopub.status.idle": "2023-02-26T20:25:40.110675Z",
     "shell.execute_reply": "2023-02-26T20:25:40.109727Z"
    },
    "id": "7ZA48EicHM_C",
    "outputId": "9e919952-dec0-4b56-a744-40f21c74858b",
    "papermill": {
     "duration": 0.035977,
     "end_time": "2023-02-26T20:25:40.112983",
     "exception": false,
     "start_time": "2023-02-26T20:25:40.077006",
     "status": "completed"
    },
    "tags": []
   },
   "outputs": [
    {
     "data": {
      "text/html": [
       "<div>\n",
       "<style scoped>\n",
       "    .dataframe tbody tr th:only-of-type {\n",
       "        vertical-align: middle;\n",
       "    }\n",
       "\n",
       "    .dataframe tbody tr th {\n",
       "        vertical-align: top;\n",
       "    }\n",
       "\n",
       "    .dataframe thead th {\n",
       "        text-align: right;\n",
       "    }\n",
       "</style>\n",
       "<table border=\"1\" class=\"dataframe\">\n",
       "  <thead>\n",
       "    <tr style=\"text-align: right;\">\n",
       "      <th></th>\n",
       "      <th>CustomerID</th>\n",
       "      <th>Gender</th>\n",
       "      <th>Age</th>\n",
       "      <th>Annual Income (k$)</th>\n",
       "      <th>Spending Score (1-100)</th>\n",
       "    </tr>\n",
       "  </thead>\n",
       "  <tbody>\n",
       "    <tr>\n",
       "      <th>0</th>\n",
       "      <td>1</td>\n",
       "      <td>Male</td>\n",
       "      <td>19</td>\n",
       "      <td>15</td>\n",
       "      <td>39</td>\n",
       "    </tr>\n",
       "    <tr>\n",
       "      <th>1</th>\n",
       "      <td>2</td>\n",
       "      <td>Male</td>\n",
       "      <td>21</td>\n",
       "      <td>15</td>\n",
       "      <td>81</td>\n",
       "    </tr>\n",
       "    <tr>\n",
       "      <th>2</th>\n",
       "      <td>3</td>\n",
       "      <td>Female</td>\n",
       "      <td>20</td>\n",
       "      <td>16</td>\n",
       "      <td>6</td>\n",
       "    </tr>\n",
       "    <tr>\n",
       "      <th>3</th>\n",
       "      <td>4</td>\n",
       "      <td>Female</td>\n",
       "      <td>23</td>\n",
       "      <td>16</td>\n",
       "      <td>77</td>\n",
       "    </tr>\n",
       "    <tr>\n",
       "      <th>4</th>\n",
       "      <td>5</td>\n",
       "      <td>Female</td>\n",
       "      <td>31</td>\n",
       "      <td>17</td>\n",
       "      <td>40</td>\n",
       "    </tr>\n",
       "    <tr>\n",
       "      <th>...</th>\n",
       "      <td>...</td>\n",
       "      <td>...</td>\n",
       "      <td>...</td>\n",
       "      <td>...</td>\n",
       "      <td>...</td>\n",
       "    </tr>\n",
       "    <tr>\n",
       "      <th>195</th>\n",
       "      <td>196</td>\n",
       "      <td>Female</td>\n",
       "      <td>35</td>\n",
       "      <td>120</td>\n",
       "      <td>79</td>\n",
       "    </tr>\n",
       "    <tr>\n",
       "      <th>196</th>\n",
       "      <td>197</td>\n",
       "      <td>Female</td>\n",
       "      <td>45</td>\n",
       "      <td>126</td>\n",
       "      <td>28</td>\n",
       "    </tr>\n",
       "    <tr>\n",
       "      <th>197</th>\n",
       "      <td>198</td>\n",
       "      <td>Male</td>\n",
       "      <td>32</td>\n",
       "      <td>126</td>\n",
       "      <td>74</td>\n",
       "    </tr>\n",
       "    <tr>\n",
       "      <th>198</th>\n",
       "      <td>199</td>\n",
       "      <td>Male</td>\n",
       "      <td>32</td>\n",
       "      <td>137</td>\n",
       "      <td>18</td>\n",
       "    </tr>\n",
       "    <tr>\n",
       "      <th>199</th>\n",
       "      <td>200</td>\n",
       "      <td>Male</td>\n",
       "      <td>30</td>\n",
       "      <td>137</td>\n",
       "      <td>83</td>\n",
       "    </tr>\n",
       "  </tbody>\n",
       "</table>\n",
       "<p>200 rows × 5 columns</p>\n",
       "</div>"
      ],
      "text/plain": [
       "     CustomerID  Gender  Age  Annual Income (k$)  Spending Score (1-100)\n",
       "0             1    Male   19                  15                      39\n",
       "1             2    Male   21                  15                      81\n",
       "2             3  Female   20                  16                       6\n",
       "3             4  Female   23                  16                      77\n",
       "4             5  Female   31                  17                      40\n",
       "..          ...     ...  ...                 ...                     ...\n",
       "195         196  Female   35                 120                      79\n",
       "196         197  Female   45                 126                      28\n",
       "197         198    Male   32                 126                      74\n",
       "198         199    Male   32                 137                      18\n",
       "199         200    Male   30                 137                      83\n",
       "\n",
       "[200 rows x 5 columns]"
      ]
     },
     "execution_count": 4,
     "metadata": {},
     "output_type": "execute_result"
    }
   ],
   "source": [
    "df"
   ]
  },
  {
   "cell_type": "code",
   "execution_count": 5,
   "id": "2d0bc621",
   "metadata": {
    "execution": {
     "iopub.execute_input": "2023-02-26T20:25:40.150268Z",
     "iopub.status.busy": "2023-02-26T20:25:40.149686Z",
     "iopub.status.idle": "2023-02-26T20:25:40.157250Z",
     "shell.execute_reply": "2023-02-26T20:25:40.156529Z"
    },
    "id": "ZCEVi2E1HTi7",
    "outputId": "d1d35def-cd7f-4f9d-e9d2-c933f8cdc982",
    "papermill": {
     "duration": 0.028032,
     "end_time": "2023-02-26T20:25:40.159102",
     "exception": false,
     "start_time": "2023-02-26T20:25:40.131070",
     "status": "completed"
    },
    "tags": []
   },
   "outputs": [
    {
     "data": {
      "text/plain": [
       "CustomerID                False\n",
       "Gender                    False\n",
       "Age                       False\n",
       "Annual Income (k$)        False\n",
       "Spending Score (1-100)    False\n",
       "dtype: bool"
      ]
     },
     "execution_count": 5,
     "metadata": {},
     "output_type": "execute_result"
    }
   ],
   "source": [
    "#Checking for null values\n",
    "df.isnull().any()"
   ]
  },
  {
   "cell_type": "code",
   "execution_count": 6,
   "id": "aa20c979",
   "metadata": {
    "execution": {
     "iopub.execute_input": "2023-02-26T20:25:40.189434Z",
     "iopub.status.busy": "2023-02-26T20:25:40.188891Z",
     "iopub.status.idle": "2023-02-26T20:25:40.196563Z",
     "shell.execute_reply": "2023-02-26T20:25:40.195048Z"
    },
    "id": "IJtNPK_xHWdF",
    "outputId": "b4beb414-138a-4a46-94f0-6c0bac70a9cb",
    "papermill": {
     "duration": 0.02568,
     "end_time": "2023-02-26T20:25:40.199167",
     "exception": false,
     "start_time": "2023-02-26T20:25:40.173487",
     "status": "completed"
    },
    "tags": []
   },
   "outputs": [
    {
     "data": {
      "text/plain": [
       "(200, 5)"
      ]
     },
     "execution_count": 6,
     "metadata": {},
     "output_type": "execute_result"
    }
   ],
   "source": [
    "df.shape"
   ]
  },
  {
   "cell_type": "markdown",
   "id": "3b338d3c",
   "metadata": {
    "id": "3fbkBQH5HZkt",
    "papermill": {
     "duration": 0.013732,
     "end_time": "2023-02-26T20:25:40.227316",
     "exception": false,
     "start_time": "2023-02-26T20:25:40.213584",
     "status": "completed"
    },
    "tags": []
   },
   "source": [
    "# **3) EDA AND VISUALISATION**"
   ]
  },
  {
   "cell_type": "code",
   "execution_count": 7,
   "id": "ca128237",
   "metadata": {
    "execution": {
     "iopub.execute_input": "2023-02-26T20:25:40.257779Z",
     "iopub.status.busy": "2023-02-26T20:25:40.257367Z",
     "iopub.status.idle": "2023-02-26T20:25:40.274505Z",
     "shell.execute_reply": "2023-02-26T20:25:40.273452Z"
    },
    "id": "XNxtzzbpJYYq",
    "outputId": "ca6f7610-5ca0-44fe-9ee9-e1068ce998c6",
    "papermill": {
     "duration": 0.035376,
     "end_time": "2023-02-26T20:25:40.276592",
     "exception": false,
     "start_time": "2023-02-26T20:25:40.241216",
     "status": "completed"
    },
    "tags": []
   },
   "outputs": [
    {
     "data": {
      "text/html": [
       "<div>\n",
       "<style scoped>\n",
       "    .dataframe tbody tr th:only-of-type {\n",
       "        vertical-align: middle;\n",
       "    }\n",
       "\n",
       "    .dataframe tbody tr th {\n",
       "        vertical-align: top;\n",
       "    }\n",
       "\n",
       "    .dataframe thead th {\n",
       "        text-align: right;\n",
       "    }\n",
       "</style>\n",
       "<table border=\"1\" class=\"dataframe\">\n",
       "  <thead>\n",
       "    <tr style=\"text-align: right;\">\n",
       "      <th></th>\n",
       "      <th>CustomerID</th>\n",
       "      <th>Gender</th>\n",
       "      <th>Age</th>\n",
       "      <th>AnnualIncome</th>\n",
       "      <th>SpendingScore</th>\n",
       "    </tr>\n",
       "  </thead>\n",
       "  <tbody>\n",
       "    <tr>\n",
       "      <th>0</th>\n",
       "      <td>1</td>\n",
       "      <td>Male</td>\n",
       "      <td>19</td>\n",
       "      <td>15</td>\n",
       "      <td>39</td>\n",
       "    </tr>\n",
       "    <tr>\n",
       "      <th>1</th>\n",
       "      <td>2</td>\n",
       "      <td>Male</td>\n",
       "      <td>21</td>\n",
       "      <td>15</td>\n",
       "      <td>81</td>\n",
       "    </tr>\n",
       "    <tr>\n",
       "      <th>2</th>\n",
       "      <td>3</td>\n",
       "      <td>Female</td>\n",
       "      <td>20</td>\n",
       "      <td>16</td>\n",
       "      <td>6</td>\n",
       "    </tr>\n",
       "    <tr>\n",
       "      <th>3</th>\n",
       "      <td>4</td>\n",
       "      <td>Female</td>\n",
       "      <td>23</td>\n",
       "      <td>16</td>\n",
       "      <td>77</td>\n",
       "    </tr>\n",
       "    <tr>\n",
       "      <th>4</th>\n",
       "      <td>5</td>\n",
       "      <td>Female</td>\n",
       "      <td>31</td>\n",
       "      <td>17</td>\n",
       "      <td>40</td>\n",
       "    </tr>\n",
       "    <tr>\n",
       "      <th>...</th>\n",
       "      <td>...</td>\n",
       "      <td>...</td>\n",
       "      <td>...</td>\n",
       "      <td>...</td>\n",
       "      <td>...</td>\n",
       "    </tr>\n",
       "    <tr>\n",
       "      <th>195</th>\n",
       "      <td>196</td>\n",
       "      <td>Female</td>\n",
       "      <td>35</td>\n",
       "      <td>120</td>\n",
       "      <td>79</td>\n",
       "    </tr>\n",
       "    <tr>\n",
       "      <th>196</th>\n",
       "      <td>197</td>\n",
       "      <td>Female</td>\n",
       "      <td>45</td>\n",
       "      <td>126</td>\n",
       "      <td>28</td>\n",
       "    </tr>\n",
       "    <tr>\n",
       "      <th>197</th>\n",
       "      <td>198</td>\n",
       "      <td>Male</td>\n",
       "      <td>32</td>\n",
       "      <td>126</td>\n",
       "      <td>74</td>\n",
       "    </tr>\n",
       "    <tr>\n",
       "      <th>198</th>\n",
       "      <td>199</td>\n",
       "      <td>Male</td>\n",
       "      <td>32</td>\n",
       "      <td>137</td>\n",
       "      <td>18</td>\n",
       "    </tr>\n",
       "    <tr>\n",
       "      <th>199</th>\n",
       "      <td>200</td>\n",
       "      <td>Male</td>\n",
       "      <td>30</td>\n",
       "      <td>137</td>\n",
       "      <td>83</td>\n",
       "    </tr>\n",
       "  </tbody>\n",
       "</table>\n",
       "<p>200 rows × 5 columns</p>\n",
       "</div>"
      ],
      "text/plain": [
       "     CustomerID  Gender  Age  AnnualIncome  SpendingScore\n",
       "0             1    Male   19            15             39\n",
       "1             2    Male   21            15             81\n",
       "2             3  Female   20            16              6\n",
       "3             4  Female   23            16             77\n",
       "4             5  Female   31            17             40\n",
       "..          ...     ...  ...           ...            ...\n",
       "195         196  Female   35           120             79\n",
       "196         197  Female   45           126             28\n",
       "197         198    Male   32           126             74\n",
       "198         199    Male   32           137             18\n",
       "199         200    Male   30           137             83\n",
       "\n",
       "[200 rows x 5 columns]"
      ]
     },
     "execution_count": 7,
     "metadata": {},
     "output_type": "execute_result"
    }
   ],
   "source": [
    "#renaming a column name\n",
    "dfCopy.rename(columns = {'Spending Score (1-100)':'SpendingScore'}, inplace = True)\n",
    "dfCopy.rename(columns = {'Annual Income (k$)':'AnnualIncome'}, inplace = True)\n",
    "dfCopy"
   ]
  },
  {
   "cell_type": "code",
   "execution_count": 8,
   "id": "79b5326b",
   "metadata": {
    "execution": {
     "iopub.execute_input": "2023-02-26T20:25:40.308191Z",
     "iopub.status.busy": "2023-02-26T20:25:40.307021Z",
     "iopub.status.idle": "2023-02-26T20:25:40.558418Z",
     "shell.execute_reply": "2023-02-26T20:25:40.557264Z"
    },
    "id": "RX5d9h5DKF8b",
    "outputId": "16a83561-cc3e-4514-9c5b-a09355da662f",
    "papermill": {
     "duration": 0.269561,
     "end_time": "2023-02-26T20:25:40.560821",
     "exception": false,
     "start_time": "2023-02-26T20:25:40.291260",
     "status": "completed"
    },
    "tags": []
   },
   "outputs": [
    {
     "data": {
      "text/plain": [
       "<seaborn.axisgrid.FacetGrid at 0x7f67105d34d0>"
      ]
     },
     "execution_count": 8,
     "metadata": {},
     "output_type": "execute_result"
    },
    {
     "data": {
      "image/png": "[encoded data removed]",
      "text/plain": [
       "<Figure size 500x500 with 1 Axes>"
      ]
     },
     "metadata": {},
     "output_type": "display_data"
    }
   ],
   "source": [
    "dfCopy\n",
    "sns.displot(dfCopy.SpendingScore)"
   ]
  },
  {
   "cell_type": "code",
   "execution_count": 9,
   "id": "41339043",
   "metadata": {
    "execution": {
     "iopub.execute_input": "2023-02-26T20:25:40.591947Z",
     "iopub.status.busy": "2023-02-26T20:25:40.591588Z",
     "iopub.status.idle": "2023-02-26T20:25:40.802169Z",
     "shell.execute_reply": "2023-02-26T20:25:40.801207Z"
    },
    "id": "bFzIjn1CI3Zm",
    "outputId": "889b8465-0a39-4a41-842b-137594c0053b",
    "papermill": {
     "duration": 0.228466,
     "end_time": "2023-02-26T20:25:40.804146",
     "exception": false,
     "start_time": "2023-02-26T20:25:40.575680",
     "status": "completed"
    },
    "tags": []
   },
   "outputs": [
    {
     "name": "stderr",
     "output_type": "stream",
     "text": [
      "/opt/conda/lib/python3.7/site-packages/ipykernel_launcher.py:1: UserWarning: \n",
      "\n",
      "`distplot` is a deprecated function and will be removed in seaborn v0.14.0.\n",
      "\n",
      "Please adapt your code to use either `displot` (a figure-level function with\n",
      "similar flexibility) or `histplot` (an axes-level function for histograms).\n",
      "\n",
      "For a guide to updating your code to use the new functions, please see\n",
      "https://gist.github.com/mwaskom/de44147ed2974457ad6372750bbe5751\n",
      "\n",
      "  \"\"\"Entry point for launching an IPython kernel.\n"
     ]
    },
    {
     "data": {
      "text/plain": [
       "<AxesSubplot:xlabel='AnnualIncome', ylabel='Density'>"
      ]
     },
     "execution_count": 9,
     "metadata": {},
     "output_type": "execute_result"
    },
    {
     "data": {
      "image/png": "[encoded data removed]",
      "text/plain": [
       "<Figure size 640x480 with 1 Axes>"
      ]
     },
     "metadata": {},
     "output_type": "display_data"
    }
   ],
   "source": [
    "sns.distplot(dfCopy.AnnualIncome)"
   ]
  },
  {
   "cell_type": "code",
   "execution_count": 10,
   "id": "d0259752",
   "metadata": {
    "execution": {
     "iopub.execute_input": "2023-02-26T20:25:40.836351Z",
     "iopub.status.busy": "2023-02-26T20:25:40.835561Z",
     "iopub.status.idle": "2023-02-26T20:25:40.924301Z",
     "shell.execute_reply": "2023-02-26T20:25:40.923358Z"
    },
    "id": "8eYQ6EyWMy4_",
    "outputId": "fae45ecb-98ff-4716-b36a-b6f7c47fb579",
    "papermill": {
     "duration": 0.1068,
     "end_time": "2023-02-26T20:25:40.926320",
     "exception": false,
     "start_time": "2023-02-26T20:25:40.819520",
     "status": "completed"
    },
    "tags": []
   },
   "outputs": [
    {
     "data": {
      "image/png": "[encoded data removed]",
      "text/plain": [
       "<Figure size 640x480 with 1 Axes>"
      ]
     },
     "metadata": {},
     "output_type": "display_data"
    }
   ],
   "source": [
    "plt.pie(df.Gender.value_counts(),[0.1,0],labels=[\"Male\",\"Female\"],autopct=\"%1.1f%%\",colors=[\"orange\",\"pink\"])\n",
    "plt.title(\"Gender\")\n",
    "plt.show()"
   ]
  },
  {
   "cell_type": "code",
   "execution_count": 11,
   "id": "9256f8f9",
   "metadata": {
    "execution": {
     "iopub.execute_input": "2023-02-26T20:25:40.968166Z",
     "iopub.status.busy": "2023-02-26T20:25:40.967252Z",
     "iopub.status.idle": "2023-02-26T20:25:41.148300Z",
     "shell.execute_reply": "2023-02-26T20:25:41.147351Z"
    },
    "id": "zPkfTsOCOayp",
    "outputId": "738f688d-c397-4414-97ef-deb103e87af3",
    "papermill": {
     "duration": 0.204207,
     "end_time": "2023-02-26T20:25:41.150214",
     "exception": false,
     "start_time": "2023-02-26T20:25:40.946007",
     "status": "completed"
    },
    "tags": []
   },
   "outputs": [
    {
     "data": {
      "text/plain": [
       "<AxesSubplot:ylabel='AnnualIncome'>"
      ]
     },
     "execution_count": 11,
     "metadata": {},
     "output_type": "execute_result"
    },
    {
     "data": {
      "image/png": "[encoded data removed]",
      "text/plain": [
       "<Figure size 640x480 with 1 Axes>"
      ]
     },
     "metadata": {},
     "output_type": "display_data"
    }
   ],
   "source": [
    "sns.lineplot(dfCopy.AnnualIncome)"
   ]
  },
  {
   "cell_type": "code",
   "execution_count": 12,
   "id": "1c5f1f65",
   "metadata": {
    "execution": {
     "iopub.execute_input": "2023-02-26T20:25:41.184960Z",
     "iopub.status.busy": "2023-02-26T20:25:41.183940Z",
     "iopub.status.idle": "2023-02-26T20:25:41.367510Z",
     "shell.execute_reply": "2023-02-26T20:25:41.366257Z"
    },
    "id": "1pt1e1eIPBCa",
    "outputId": "1c1794fa-13a1-44f5-aad8-2928bc360d0b",
    "papermill": {
     "duration": 0.202883,
     "end_time": "2023-02-26T20:25:41.369616",
     "exception": false,
     "start_time": "2023-02-26T20:25:41.166733",
     "status": "completed"
    },
    "tags": []
   },
   "outputs": [
    {
     "data": {
      "text/plain": [
       "<AxesSubplot:ylabel='Age'>"
      ]
     },
     "execution_count": 12,
     "metadata": {},
     "output_type": "execute_result"
    },
    {
     "data": {
      "image/png": "[encoded data removed]",
      "text/plain": [
       "<Figure size 640x480 with 1 Axes>"
      ]
     },
     "metadata": {},
     "output_type": "display_data"
    }
   ],
   "source": [
    "sns.scatterplot(dfCopy.Age)"
   ]
  },
  {
   "cell_type": "code",
   "execution_count": 13,
   "id": "e7317c61",
   "metadata": {
    "execution": {
     "iopub.execute_input": "2023-02-26T20:25:41.405805Z",
     "iopub.status.busy": "2023-02-26T20:25:41.404668Z",
     "iopub.status.idle": "2023-02-26T20:25:44.083602Z",
     "shell.execute_reply": "2023-02-26T20:25:44.082279Z"
    },
    "id": "4s7gxw2ZPWkb",
    "outputId": "293b5481-c3b0-470e-c72a-695ba813f544",
    "papermill": {
     "duration": 2.698822,
     "end_time": "2023-02-26T20:25:44.085637",
     "exception": false,
     "start_time": "2023-02-26T20:25:41.386815",
     "status": "completed"
    },
    "tags": []
   },
   "outputs": [
    {
     "data": {
      "text/plain": [
       "<seaborn.axisgrid.PairGrid at 0x7f67100e44d0>"
      ]
     },
     "execution_count": 13,
     "metadata": {},
     "output_type": "execute_result"
    },
    {
     "data": {
      "image/png": "[encoded data removed]",
      "text/plain": [
       "<Figure size 1000x1000 with 20 Axes>"
      ]
     },
     "metadata": {},
     "output_type": "display_data"
    }
   ],
   "source": [
    "sns.pairplot(df)"
   ]
  },
  {
   "cell_type": "code",
   "execution_count": 14,
   "id": "45560f54",
   "metadata": {
    "execution": {
     "iopub.execute_input": "2023-02-26T20:25:44.126392Z",
     "iopub.status.busy": "2023-02-26T20:25:44.125215Z",
     "iopub.status.idle": "2023-02-26T20:25:44.741764Z",
     "shell.execute_reply": "2023-02-26T20:25:44.740404Z"
    },
    "id": "Q8kmedJsPe2c",
    "outputId": "0012aa62-2d2f-4005-b0f6-332313404b61",
    "papermill": {
     "duration": 0.638816,
     "end_time": "2023-02-26T20:25:44.743599",
     "exception": false,
     "start_time": "2023-02-26T20:25:44.104783",
     "status": "completed"
    },
    "tags": []
   },
   "outputs": [
    {
     "data": {
      "text/plain": [
       "array([[<AxesSubplot:title={'center':'CustomerID'}>,\n",
       "        <AxesSubplot:title={'center':'Age'}>],\n",
       "       [<AxesSubplot:title={'center':'Annual Income (k$)'}>,\n",
       "        <AxesSubplot:title={'center':'Spending Score (1-100)'}>]],\n",
       "      dtype=object)"
      ]
     },
     "execution_count": 14,
     "metadata": {},
     "output_type": "execute_result"
    },
    {
     "data": {
      "image/png": "[encoded data removed]",
      "text/plain": [
       "<Figure size 1000x1000 with 4 Axes>"
      ]
     },
     "metadata": {},
     "output_type": "display_data"
    }
   ],
   "source": [
    "df.hist(figsize=(10,10))"
   ]
  },
  {
   "cell_type": "markdown",
   "id": "c313b95a",
   "metadata": {
    "id": "vxVHaZ7BPizs",
    "papermill": {
     "duration": 0.018506,
     "end_time": "2023-02-26T20:25:44.781059",
     "exception": false,
     "start_time": "2023-02-26T20:25:44.762553",
     "status": "completed"
    },
    "tags": []
   },
   "source": [
    "# **4) DESCRIPTIVE STATISTICS**"
   ]
  },
  {
   "cell_type": "code",
   "execution_count": 15,
   "id": "dab9f129",
   "metadata": {
    "execution": {
     "iopub.execute_input": "2023-02-26T20:25:44.820682Z",
     "iopub.status.busy": "2023-02-26T20:25:44.820097Z",
     "iopub.status.idle": "2023-02-26T20:25:44.829442Z",
     "shell.execute_reply": "2023-02-26T20:25:44.828389Z"
    },
    "id": "2RDU9S6mPkuF",
    "outputId": "e4d290f7-1089-49e5-be81-bb70afa3a6f8",
    "papermill": {
     "duration": 0.032232,
     "end_time": "2023-02-26T20:25:44.832280",
     "exception": false,
     "start_time": "2023-02-26T20:25:44.800048",
     "status": "completed"
    },
    "tags": []
   },
   "outputs": [
    {
     "data": {
      "text/plain": [
       "<bound method DataFrame.info of      CustomerID  Gender  Age  Annual Income (k$)  Spending Score (1-100)\n",
       "0             1    Male   19                  15                      39\n",
       "1             2    Male   21                  15                      81\n",
       "2             3  Female   20                  16                       6\n",
       "3             4  Female   23                  16                      77\n",
       "4             5  Female   31                  17                      40\n",
       "..          ...     ...  ...                 ...                     ...\n",
       "195         196  Female   35                 120                      79\n",
       "196         197  Female   45                 126                      28\n",
       "197         198    Male   32                 126                      74\n",
       "198         199    Male   32                 137                      18\n",
       "199         200    Male   30                 137                      83\n",
       "\n",
       "[200 rows x 5 columns]>"
      ]
     },
     "execution_count": 15,
     "metadata": {},
     "output_type": "execute_result"
    }
   ],
   "source": [
    "df.info"
   ]
  },
  {
   "cell_type": "code",
   "execution_count": 16,
   "id": "92da8570",
   "metadata": {
    "execution": {
     "iopub.execute_input": "2023-02-26T20:25:44.873489Z",
     "iopub.status.busy": "2023-02-26T20:25:44.872659Z",
     "iopub.status.idle": "2023-02-26T20:25:44.893309Z",
     "shell.execute_reply": "2023-02-26T20:25:44.892383Z"
    },
    "id": "Vcot0-uLPpDI",
    "outputId": "890ace84-3e59-4591-d700-58a817b301a3",
    "papermill": {
     "duration": 0.043163,
     "end_time": "2023-02-26T20:25:44.895207",
     "exception": false,
     "start_time": "2023-02-26T20:25:44.852044",
     "status": "completed"
    },
    "tags": []
   },
   "outputs": [
    {
     "data": {
      "text/html": [
       "<div>\n",
       "<style scoped>\n",
       "    .dataframe tbody tr th:only-of-type {\n",
       "        vertical-align: middle;\n",
       "    }\n",
       "\n",
       "    .dataframe tbody tr th {\n",
       "        vertical-align: top;\n",
       "    }\n",
       "\n",
       "    .dataframe thead th {\n",
       "        text-align: right;\n",
       "    }\n",
       "</style>\n",
       "<table border=\"1\" class=\"dataframe\">\n",
       "  <thead>\n",
       "    <tr style=\"text-align: right;\">\n",
       "      <th></th>\n",
       "      <th>CustomerID</th>\n",
       "      <th>Age</th>\n",
       "      <th>Annual Income (k$)</th>\n",
       "      <th>Spending Score (1-100)</th>\n",
       "    </tr>\n",
       "  </thead>\n",
       "  <tbody>\n",
       "    <tr>\n",
       "      <th>count</th>\n",
       "      <td>200.000000</td>\n",
       "      <td>200.000000</td>\n",
       "      <td>200.000000</td>\n",
       "      <td>200.000000</td>\n",
       "    </tr>\n",
       "    <tr>\n",
       "      <th>mean</th>\n",
       "      <td>100.500000</td>\n",
       "      <td>38.850000</td>\n",
       "      <td>60.560000</td>\n",
       "      <td>50.200000</td>\n",
       "    </tr>\n",
       "    <tr>\n",
       "      <th>std</th>\n",
       "      <td>57.879185</td>\n",
       "      <td>13.969007</td>\n",
       "      <td>26.264721</td>\n",
       "      <td>25.823522</td>\n",
       "    </tr>\n",
       "    <tr>\n",
       "      <th>min</th>\n",
       "      <td>1.000000</td>\n",
       "      <td>18.000000</td>\n",
       "      <td>15.000000</td>\n",
       "      <td>1.000000</td>\n",
       "    </tr>\n",
       "    <tr>\n",
       "      <th>25%</th>\n",
       "      <td>50.750000</td>\n",
       "      <td>28.750000</td>\n",
       "      <td>41.500000</td>\n",
       "      <td>34.750000</td>\n",
       "    </tr>\n",
       "    <tr>\n",
       "      <th>50%</th>\n",
       "      <td>100.500000</td>\n",
       "      <td>36.000000</td>\n",
       "      <td>61.500000</td>\n",
       "      <td>50.000000</td>\n",
       "    </tr>\n",
       "    <tr>\n",
       "      <th>75%</th>\n",
       "      <td>150.250000</td>\n",
       "      <td>49.000000</td>\n",
       "      <td>78.000000</td>\n",
       "      <td>73.000000</td>\n",
       "    </tr>\n",
       "    <tr>\n",
       "      <th>max</th>\n",
       "      <td>200.000000</td>\n",
       "      <td>70.000000</td>\n",
       "      <td>137.000000</td>\n",
       "      <td>99.000000</td>\n",
       "    </tr>\n",
       "  </tbody>\n",
       "</table>\n",
       "</div>"
      ],
      "text/plain": [
       "       CustomerID         Age  Annual Income (k$)  Spending Score (1-100)\n",
       "count  200.000000  200.000000          200.000000              200.000000\n",
       "mean   100.500000   38.850000           60.560000               50.200000\n",
       "std     57.879185   13.969007           26.264721               25.823522\n",
       "min      1.000000   18.000000           15.000000                1.000000\n",
       "25%     50.750000   28.750000           41.500000               34.750000\n",
       "50%    100.500000   36.000000           61.500000               50.000000\n",
       "75%    150.250000   49.000000           78.000000               73.000000\n",
       "max    200.000000   70.000000          137.000000               99.000000"
      ]
     },
     "execution_count": 16,
     "metadata": {},
     "output_type": "execute_result"
    }
   ],
   "source": [
    "df.describe()"
   ]
  },
  {
   "cell_type": "code",
   "execution_count": 17,
   "id": "c77a5c05",
   "metadata": {
    "execution": {
     "iopub.execute_input": "2023-02-26T20:25:44.936956Z",
     "iopub.status.busy": "2023-02-26T20:25:44.936364Z",
     "iopub.status.idle": "2023-02-26T20:25:44.941402Z",
     "shell.execute_reply": "2023-02-26T20:25:44.940764Z"
    },
    "id": "20p-PxnKPr2H",
    "outputId": "f1bb1c84-98ee-45ed-d237-85377628f864",
    "papermill": {
     "duration": 0.027598,
     "end_time": "2023-02-26T20:25:44.943061",
     "exception": false,
     "start_time": "2023-02-26T20:25:44.915463",
     "status": "completed"
    },
    "tags": []
   },
   "outputs": [
    {
     "data": {
      "text/plain": [
       "(200, 5)"
      ]
     },
     "execution_count": 17,
     "metadata": {},
     "output_type": "execute_result"
    }
   ],
   "source": [
    "df.shape"
   ]
  },
  {
   "cell_type": "code",
   "execution_count": 18,
   "id": "5dedca71",
   "metadata": {
    "execution": {
     "iopub.execute_input": "2023-02-26T20:25:44.983950Z",
     "iopub.status.busy": "2023-02-26T20:25:44.983561Z",
     "iopub.status.idle": "2023-02-26T20:25:44.989725Z",
     "shell.execute_reply": "2023-02-26T20:25:44.988285Z"
    },
    "id": "BWeocIR5PuDj",
    "outputId": "7282e46d-3916-48a4-cad7-7beecd7a5111",
    "papermill": {
     "duration": 0.028922,
     "end_time": "2023-02-26T20:25:44.991618",
     "exception": false,
     "start_time": "2023-02-26T20:25:44.962696",
     "status": "completed"
    },
    "tags": []
   },
   "outputs": [
    {
     "data": {
      "text/plain": [
       "Index(['CustomerID', 'Gender', 'Age', 'Annual Income (k$)',\n",
       "       'Spending Score (1-100)'],\n",
       "      dtype='object')"
      ]
     },
     "execution_count": 18,
     "metadata": {},
     "output_type": "execute_result"
    }
   ],
   "source": [
    "df.columns"
   ]
  },
  {
   "cell_type": "code",
   "execution_count": 19,
   "id": "c550860e",
   "metadata": {
    "execution": {
     "iopub.execute_input": "2023-02-26T20:25:45.033216Z",
     "iopub.status.busy": "2023-02-26T20:25:45.032630Z",
     "iopub.status.idle": "2023-02-26T20:25:45.041011Z",
     "shell.execute_reply": "2023-02-26T20:25:45.039889Z"
    },
    "id": "q2zDXd-MPx9X",
    "outputId": "92dc941a-b8e5-4e4b-f107-0e651002f8bb",
    "papermill": {
     "duration": 0.032062,
     "end_time": "2023-02-26T20:25:45.043626",
     "exception": false,
     "start_time": "2023-02-26T20:25:45.011564",
     "status": "completed"
    },
    "tags": []
   },
   "outputs": [
    {
     "name": "stderr",
     "output_type": "stream",
     "text": [
      "/opt/conda/lib/python3.7/site-packages/ipykernel_launcher.py:1: FutureWarning: Dropping of nuisance columns in DataFrame reductions (with 'numeric_only=None') is deprecated; in a future version this will raise TypeError.  Select only valid columns before calling the reduction.\n",
      "  \"\"\"Entry point for launching an IPython kernel.\n"
     ]
    },
    {
     "data": {
      "text/plain": [
       "CustomerID                100.50\n",
       "Age                        38.85\n",
       "Annual Income (k$)         60.56\n",
       "Spending Score (1-100)     50.20\n",
       "dtype: float64"
      ]
     },
     "execution_count": 19,
     "metadata": {},
     "output_type": "execute_result"
    }
   ],
   "source": [
    "df.mean()"
   ]
  },
  {
   "cell_type": "code",
   "execution_count": 20,
   "id": "b2a1d109",
   "metadata": {
    "execution": {
     "iopub.execute_input": "2023-02-26T20:25:45.085458Z",
     "iopub.status.busy": "2023-02-26T20:25:45.084912Z",
     "iopub.status.idle": "2023-02-26T20:25:45.094701Z",
     "shell.execute_reply": "2023-02-26T20:25:45.093209Z"
    },
    "id": "xlvCp5IdP0dM",
    "outputId": "f82c7bdb-61cd-4dbe-ac71-e11622129f2c",
    "papermill": {
     "duration": 0.03305,
     "end_time": "2023-02-26T20:25:45.097030",
     "exception": false,
     "start_time": "2023-02-26T20:25:45.063980",
     "status": "completed"
    },
    "tags": []
   },
   "outputs": [
    {
     "name": "stderr",
     "output_type": "stream",
     "text": [
      "/opt/conda/lib/python3.7/site-packages/ipykernel_launcher.py:1: FutureWarning: Dropping of nuisance columns in DataFrame reductions (with 'numeric_only=None') is deprecated; in a future version this will raise TypeError.  Select only valid columns before calling the reduction.\n",
      "  \"\"\"Entry point for launching an IPython kernel.\n"
     ]
    },
    {
     "data": {
      "text/plain": [
       "CustomerID                100.5\n",
       "Age                        36.0\n",
       "Annual Income (k$)         61.5\n",
       "Spending Score (1-100)     50.0\n",
       "dtype: float64"
      ]
     },
     "execution_count": 20,
     "metadata": {},
     "output_type": "execute_result"
    }
   ],
   "source": [
    "df.median()"
   ]
  },
  {
   "cell_type": "code",
   "execution_count": 21,
   "id": "f287986c",
   "metadata": {
    "execution": {
     "iopub.execute_input": "2023-02-26T20:25:45.138915Z",
     "iopub.status.busy": "2023-02-26T20:25:45.137782Z",
     "iopub.status.idle": "2023-02-26T20:25:45.156947Z",
     "shell.execute_reply": "2023-02-26T20:25:45.155925Z"
    },
    "id": "VqYvIGC7P0iz",
    "outputId": "2c14e00d-836f-4b8b-8194-c564aa82b436",
    "papermill": {
     "duration": 0.042001,
     "end_time": "2023-02-26T20:25:45.158856",
     "exception": false,
     "start_time": "2023-02-26T20:25:45.116855",
     "status": "completed"
    },
    "tags": []
   },
   "outputs": [
    {
     "data": {
      "text/html": [
       "<div>\n",
       "<style scoped>\n",
       "    .dataframe tbody tr th:only-of-type {\n",
       "        vertical-align: middle;\n",
       "    }\n",
       "\n",
       "    .dataframe tbody tr th {\n",
       "        vertical-align: top;\n",
       "    }\n",
       "\n",
       "    .dataframe thead th {\n",
       "        text-align: right;\n",
       "    }\n",
       "</style>\n",
       "<table border=\"1\" class=\"dataframe\">\n",
       "  <thead>\n",
       "    <tr style=\"text-align: right;\">\n",
       "      <th></th>\n",
       "      <th>CustomerID</th>\n",
       "      <th>Gender</th>\n",
       "      <th>Age</th>\n",
       "      <th>Annual Income (k$)</th>\n",
       "      <th>Spending Score (1-100)</th>\n",
       "    </tr>\n",
       "  </thead>\n",
       "  <tbody>\n",
       "    <tr>\n",
       "      <th>0</th>\n",
       "      <td>1</td>\n",
       "      <td>Female</td>\n",
       "      <td>32.0</td>\n",
       "      <td>54.0</td>\n",
       "      <td>42.0</td>\n",
       "    </tr>\n",
       "    <tr>\n",
       "      <th>1</th>\n",
       "      <td>2</td>\n",
       "      <td>NaN</td>\n",
       "      <td>NaN</td>\n",
       "      <td>78.0</td>\n",
       "      <td>NaN</td>\n",
       "    </tr>\n",
       "    <tr>\n",
       "      <th>2</th>\n",
       "      <td>3</td>\n",
       "      <td>NaN</td>\n",
       "      <td>NaN</td>\n",
       "      <td>NaN</td>\n",
       "      <td>NaN</td>\n",
       "    </tr>\n",
       "    <tr>\n",
       "      <th>3</th>\n",
       "      <td>4</td>\n",
       "      <td>NaN</td>\n",
       "      <td>NaN</td>\n",
       "      <td>NaN</td>\n",
       "      <td>NaN</td>\n",
       "    </tr>\n",
       "    <tr>\n",
       "      <th>4</th>\n",
       "      <td>5</td>\n",
       "      <td>NaN</td>\n",
       "      <td>NaN</td>\n",
       "      <td>NaN</td>\n",
       "      <td>NaN</td>\n",
       "    </tr>\n",
       "    <tr>\n",
       "      <th>...</th>\n",
       "      <td>...</td>\n",
       "      <td>...</td>\n",
       "      <td>...</td>\n",
       "      <td>...</td>\n",
       "      <td>...</td>\n",
       "    </tr>\n",
       "    <tr>\n",
       "      <th>195</th>\n",
       "      <td>196</td>\n",
       "      <td>NaN</td>\n",
       "      <td>NaN</td>\n",
       "      <td>NaN</td>\n",
       "      <td>NaN</td>\n",
       "    </tr>\n",
       "    <tr>\n",
       "      <th>196</th>\n",
       "      <td>197</td>\n",
       "      <td>NaN</td>\n",
       "      <td>NaN</td>\n",
       "      <td>NaN</td>\n",
       "      <td>NaN</td>\n",
       "    </tr>\n",
       "    <tr>\n",
       "      <th>197</th>\n",
       "      <td>198</td>\n",
       "      <td>NaN</td>\n",
       "      <td>NaN</td>\n",
       "      <td>NaN</td>\n",
       "      <td>NaN</td>\n",
       "    </tr>\n",
       "    <tr>\n",
       "      <th>198</th>\n",
       "      <td>199</td>\n",
       "      <td>NaN</td>\n",
       "      <td>NaN</td>\n",
       "      <td>NaN</td>\n",
       "      <td>NaN</td>\n",
       "    </tr>\n",
       "    <tr>\n",
       "      <th>199</th>\n",
       "      <td>200</td>\n",
       "      <td>NaN</td>\n",
       "      <td>NaN</td>\n",
       "      <td>NaN</td>\n",
       "      <td>NaN</td>\n",
       "    </tr>\n",
       "  </tbody>\n",
       "</table>\n",
       "<p>200 rows × 5 columns</p>\n",
       "</div>"
      ],
      "text/plain": [
       "     CustomerID  Gender   Age  Annual Income (k$)  Spending Score (1-100)\n",
       "0             1  Female  32.0                54.0                    42.0\n",
       "1             2     NaN   NaN                78.0                     NaN\n",
       "2             3     NaN   NaN                 NaN                     NaN\n",
       "3             4     NaN   NaN                 NaN                     NaN\n",
       "4             5     NaN   NaN                 NaN                     NaN\n",
       "..          ...     ...   ...                 ...                     ...\n",
       "195         196     NaN   NaN                 NaN                     NaN\n",
       "196         197     NaN   NaN                 NaN                     NaN\n",
       "197         198     NaN   NaN                 NaN                     NaN\n",
       "198         199     NaN   NaN                 NaN                     NaN\n",
       "199         200     NaN   NaN                 NaN                     NaN\n",
       "\n",
       "[200 rows x 5 columns]"
      ]
     },
     "execution_count": 21,
     "metadata": {},
     "output_type": "execute_result"
    }
   ],
   "source": [
    "df.mode()"
   ]
  },
  {
   "cell_type": "code",
   "execution_count": 22,
   "id": "faa7ac2b",
   "metadata": {
    "execution": {
     "iopub.execute_input": "2023-02-26T20:25:45.201021Z",
     "iopub.status.busy": "2023-02-26T20:25:45.199822Z",
     "iopub.status.idle": "2023-02-26T20:25:45.209255Z",
     "shell.execute_reply": "2023-02-26T20:25:45.208294Z"
    },
    "id": "7xxfUm8lP5aF",
    "outputId": "62cf3517-9e9f-4f94-e618-278c5b222fb0",
    "papermill": {
     "duration": 0.032416,
     "end_time": "2023-02-26T20:25:45.211294",
     "exception": false,
     "start_time": "2023-02-26T20:25:45.178878",
     "status": "completed"
    },
    "tags": []
   },
   "outputs": [
    {
     "name": "stderr",
     "output_type": "stream",
     "text": [
      "/opt/conda/lib/python3.7/site-packages/ipykernel_launcher.py:1: FutureWarning: Dropping of nuisance columns in DataFrame reductions (with 'numeric_only=None') is deprecated; in a future version this will raise TypeError.  Select only valid columns before calling the reduction.\n",
      "  \"\"\"Entry point for launching an IPython kernel.\n"
     ]
    },
    {
     "data": {
      "text/plain": [
       "CustomerID                3350.000000\n",
       "Age                        195.133166\n",
       "Annual Income (k$)         689.835578\n",
       "Spending Score (1-100)     666.854271\n",
       "dtype: float64"
      ]
     },
     "execution_count": 22,
     "metadata": {},
     "output_type": "execute_result"
    }
   ],
   "source": [
    "df.var()"
   ]
  },
  {
   "cell_type": "code",
   "execution_count": 23,
   "id": "cf2042d7",
   "metadata": {
    "execution": {
     "iopub.execute_input": "2023-02-26T20:25:45.254498Z",
     "iopub.status.busy": "2023-02-26T20:25:45.254125Z",
     "iopub.status.idle": "2023-02-26T20:25:45.264389Z",
     "shell.execute_reply": "2023-02-26T20:25:45.263076Z"
    },
    "id": "3ZTsykfYP7eX",
    "outputId": "95384d68-0399-46ff-d4b3-8e5fe7ce919d",
    "papermill": {
     "duration": 0.034907,
     "end_time": "2023-02-26T20:25:45.266530",
     "exception": false,
     "start_time": "2023-02-26T20:25:45.231623",
     "status": "completed"
    },
    "tags": []
   },
   "outputs": [
    {
     "name": "stderr",
     "output_type": "stream",
     "text": [
      "/opt/conda/lib/python3.7/site-packages/ipykernel_launcher.py:1: FutureWarning: Dropping of nuisance columns in DataFrame reductions (with 'numeric_only=None') is deprecated; in a future version this will raise TypeError.  Select only valid columns before calling the reduction.\n",
      "  \"\"\"Entry point for launching an IPython kernel.\n"
     ]
    },
    {
     "data": {
      "text/plain": [
       "CustomerID                57.879185\n",
       "Age                       13.969007\n",
       "Annual Income (k$)        26.264721\n",
       "Spending Score (1-100)    25.823522\n",
       "dtype: float64"
      ]
     },
     "execution_count": 23,
     "metadata": {},
     "output_type": "execute_result"
    }
   ],
   "source": [
    "df.std()"
   ]
  },
  {
   "cell_type": "code",
   "execution_count": 24,
   "id": "8fccad30",
   "metadata": {
    "execution": {
     "iopub.execute_input": "2023-02-26T20:25:45.308294Z",
     "iopub.status.busy": "2023-02-26T20:25:45.307962Z",
     "iopub.status.idle": "2023-02-26T20:25:45.317937Z",
     "shell.execute_reply": "2023-02-26T20:25:45.316572Z"
    },
    "id": "lKnsUb8LP7kv",
    "outputId": "ebaeeeac-fd36-4ec3-b496-80943aefadc8",
    "papermill": {
     "duration": 0.033374,
     "end_time": "2023-02-26T20:25:45.320257",
     "exception": false,
     "start_time": "2023-02-26T20:25:45.286883",
     "status": "completed"
    },
    "tags": []
   },
   "outputs": [
    {
     "name": "stderr",
     "output_type": "stream",
     "text": [
      "/opt/conda/lib/python3.7/site-packages/ipykernel_launcher.py:1: FutureWarning: Dropping of nuisance columns in DataFrame reductions (with 'numeric_only=None') is deprecated; in a future version this will raise TypeError.  Select only valid columns before calling the reduction.\n",
      "  \"\"\"Entry point for launching an IPython kernel.\n"
     ]
    },
    {
     "data": {
      "text/plain": [
       "CustomerID                0.000000\n",
       "Age                       0.485569\n",
       "Annual Income (k$)        0.321843\n",
       "Spending Score (1-100)   -0.047220\n",
       "dtype: float64"
      ]
     },
     "execution_count": 24,
     "metadata": {},
     "output_type": "execute_result"
    }
   ],
   "source": [
    "df.skew()"
   ]
  },
  {
   "cell_type": "code",
   "execution_count": 25,
   "id": "52b4fee5",
   "metadata": {
    "execution": {
     "iopub.execute_input": "2023-02-26T20:25:45.362377Z",
     "iopub.status.busy": "2023-02-26T20:25:45.362041Z",
     "iopub.status.idle": "2023-02-26T20:25:45.371514Z",
     "shell.execute_reply": "2023-02-26T20:25:45.370747Z"
    },
    "id": "CVr3toInQCXU",
    "outputId": "0fe7b71a-9608-4937-ef12-ac5a7c908ef3",
    "papermill": {
     "duration": 0.032395,
     "end_time": "2023-02-26T20:25:45.373126",
     "exception": false,
     "start_time": "2023-02-26T20:25:45.340731",
     "status": "completed"
    },
    "tags": []
   },
   "outputs": [
    {
     "name": "stderr",
     "output_type": "stream",
     "text": [
      "/opt/conda/lib/python3.7/site-packages/ipykernel_launcher.py:1: FutureWarning: Dropping of nuisance columns in DataFrame reductions (with 'numeric_only=None') is deprecated; in a future version this will raise TypeError.  Select only valid columns before calling the reduction.\n",
      "  \"\"\"Entry point for launching an IPython kernel.\n"
     ]
    },
    {
     "data": {
      "text/plain": [
       "CustomerID               -1.200000\n",
       "Age                      -0.671573\n",
       "Annual Income (k$)       -0.098487\n",
       "Spending Score (1-100)   -0.826629\n",
       "dtype: float64"
      ]
     },
     "execution_count": 25,
     "metadata": {},
     "output_type": "execute_result"
    }
   ],
   "source": [
    "df.kurtosis()"
   ]
  },
  {
   "cell_type": "code",
   "execution_count": 26,
   "id": "d960e8d3",
   "metadata": {
    "execution": {
     "iopub.execute_input": "2023-02-26T20:25:45.415456Z",
     "iopub.status.busy": "2023-02-26T20:25:45.415112Z",
     "iopub.status.idle": "2023-02-26T20:25:45.423181Z",
     "shell.execute_reply": "2023-02-26T20:25:45.422178Z"
    },
    "id": "nEC6q7gWQFGo",
    "outputId": "03efb900-5a90-44c4-8288-71f9cdc53e01",
    "papermill": {
     "duration": 0.030927,
     "end_time": "2023-02-26T20:25:45.424912",
     "exception": false,
     "start_time": "2023-02-26T20:25:45.393985",
     "status": "completed"
    },
    "tags": []
   },
   "outputs": [
    {
     "data": {
      "text/plain": [
       "CustomerID                 200\n",
       "Gender                    Male\n",
       "Age                         70\n",
       "Annual Income (k$)         137\n",
       "Spending Score (1-100)      99\n",
       "dtype: object"
      ]
     },
     "execution_count": 26,
     "metadata": {},
     "output_type": "execute_result"
    }
   ],
   "source": [
    "df.max()"
   ]
  },
  {
   "cell_type": "code",
   "execution_count": 27,
   "id": "6a8fd256",
   "metadata": {
    "execution": {
     "iopub.execute_input": "2023-02-26T20:25:45.467370Z",
     "iopub.status.busy": "2023-02-26T20:25:45.466994Z",
     "iopub.status.idle": "2023-02-26T20:25:45.475653Z",
     "shell.execute_reply": "2023-02-26T20:25:45.474774Z"
    },
    "id": "4kVZkf9NQIl2",
    "outputId": "072b5d8e-2e63-49db-990e-8551dc5cf6a0",
    "papermill": {
     "duration": 0.032126,
     "end_time": "2023-02-26T20:25:45.477559",
     "exception": false,
     "start_time": "2023-02-26T20:25:45.445433",
     "status": "completed"
    },
    "tags": []
   },
   "outputs": [
    {
     "data": {
      "text/plain": [
       "0.25    34.75\n",
       "0.50    50.00\n",
       "0.75    73.00\n",
       "Name: SpendingScore, dtype: float64"
      ]
     },
     "execution_count": 27,
     "metadata": {},
     "output_type": "execute_result"
    }
   ],
   "source": [
    "dfCopy['SpendingScore'].quantile([0.25,0.5,0.75])"
   ]
  },
  {
   "cell_type": "markdown",
   "id": "b56e7037",
   "metadata": {
    "id": "EmD2cD2lQXEz",
    "papermill": {
     "duration": 0.020467,
     "end_time": "2023-02-26T20:25:45.519137",
     "exception": false,
     "start_time": "2023-02-26T20:25:45.498670",
     "status": "completed"
    },
    "tags": []
   },
   "source": [
    "# **5) CHECK AND HANDLE THE MISSING VALUES IF PRESENT**"
   ]
  },
  {
   "cell_type": "code",
   "execution_count": 28,
   "id": "80bc8696",
   "metadata": {
    "execution": {
     "iopub.execute_input": "2023-02-26T20:25:45.562240Z",
     "iopub.status.busy": "2023-02-26T20:25:45.561907Z",
     "iopub.status.idle": "2023-02-26T20:25:45.570045Z",
     "shell.execute_reply": "2023-02-26T20:25:45.569056Z"
    },
    "id": "x7p3ECAZQZ8s",
    "outputId": "85b74e5f-ceb2-4d7d-d06c-9ef295533d7e",
    "papermill": {
     "duration": 0.032197,
     "end_time": "2023-02-26T20:25:45.572064",
     "exception": false,
     "start_time": "2023-02-26T20:25:45.539867",
     "status": "completed"
    },
    "tags": []
   },
   "outputs": [
    {
     "data": {
      "text/plain": [
       "CustomerID                0\n",
       "Gender                    0\n",
       "Age                       0\n",
       "Annual Income (k$)        0\n",
       "Spending Score (1-100)    0\n",
       "dtype: int64"
      ]
     },
     "execution_count": 28,
     "metadata": {},
     "output_type": "execute_result"
    }
   ],
   "source": [
    "df.isnull().sum()"
   ]
  },
  {
   "cell_type": "markdown",
   "id": "04b52920",
   "metadata": {
    "id": "HVIDRGJ3Qe6j",
    "papermill": {
     "duration": 0.020725,
     "end_time": "2023-02-26T20:25:45.613979",
     "exception": false,
     "start_time": "2023-02-26T20:25:45.593254",
     "status": "completed"
    },
    "tags": []
   },
   "source": [
    "# **6) FIND AND REPLACE OUTLIERS**"
   ]
  },
  {
   "cell_type": "markdown",
   "id": "8cb4b4cd",
   "metadata": {
    "id": "Zl4cYgpGQjKS",
    "papermill": {
     "duration": 0.022463,
     "end_time": "2023-02-26T20:25:45.657456",
     "exception": false,
     "start_time": "2023-02-26T20:25:45.634993",
     "status": "completed"
    },
    "tags": []
   },
   "source": [
    "## **Finding outliers**"
   ]
  },
  {
   "cell_type": "code",
   "execution_count": 29,
   "id": "9b606b8f",
   "metadata": {
    "execution": {
     "iopub.execute_input": "2023-02-26T20:25:45.701498Z",
     "iopub.status.busy": "2023-02-26T20:25:45.701150Z",
     "iopub.status.idle": "2023-02-26T20:25:45.823746Z",
     "shell.execute_reply": "2023-02-26T20:25:45.822926Z"
    },
    "id": "VB4CJNYpQgPC",
    "outputId": "3aeaf527-5d09-4bf3-c075-7bcf6e51dfe7",
    "papermill": {
     "duration": 0.146721,
     "end_time": "2023-02-26T20:25:45.826230",
     "exception": false,
     "start_time": "2023-02-26T20:25:45.679509",
     "status": "completed"
    },
    "tags": []
   },
   "outputs": [
    {
     "data": {
      "text/plain": [
       "<AxesSubplot:>"
      ]
     },
     "execution_count": 29,
     "metadata": {},
     "output_type": "execute_result"
    },
    {
     "data": {
      "image/png": "[encoded data removed]",
      "text/plain": [
       "<Figure size 640x480 with 1 Axes>"
      ]
     },
     "metadata": {},
     "output_type": "display_data"
    }
   ],
   "source": [
    "sns.boxplot(dfCopy.AnnualIncome)"
   ]
  },
  {
   "cell_type": "markdown",
   "id": "8866387b",
   "metadata": {
    "id": "ZdDOiN4jRT-W",
    "papermill": {
     "duration": 0.020924,
     "end_time": "2023-02-26T20:25:45.876332",
     "exception": false,
     "start_time": "2023-02-26T20:25:45.855408",
     "status": "completed"
    },
    "tags": []
   },
   "source": [
    "## **Replacement of Outliers**"
   ]
  },
  {
   "cell_type": "code",
   "execution_count": 30,
   "id": "0a72d067",
   "metadata": {
    "execution": {
     "iopub.execute_input": "2023-02-26T20:25:45.920985Z",
     "iopub.status.busy": "2023-02-26T20:25:45.920300Z",
     "iopub.status.idle": "2023-02-26T20:25:46.036005Z",
     "shell.execute_reply": "2023-02-26T20:25:46.035214Z"
    },
    "id": "KyjvdymtJxdF",
    "outputId": "51f36a40-1036-48c8-d72f-77b9ec300a2c",
    "papermill": {
     "duration": 0.140442,
     "end_time": "2023-02-26T20:25:46.038118",
     "exception": false,
     "start_time": "2023-02-26T20:25:45.897676",
     "status": "completed"
    },
    "tags": []
   },
   "outputs": [
    {
     "data": {
      "text/plain": [
       "<AxesSubplot:xlabel='AnnualIncome'>"
      ]
     },
     "execution_count": 30,
     "metadata": {},
     "output_type": "execute_result"
    },
    {
     "data": {
      "image/png": "[encoded data removed]",
      "text/plain": [
       "<Figure size 640x480 with 1 Axes>"
      ]
     },
     "metadata": {},
     "output_type": "display_data"
    }
   ],
   "source": [
    "q1=dfCopy.AnnualIncome.quantile(0.25)\n",
    "q3=dfCopy.AnnualIncome.quantile(0.75)\n",
    "IQR=q3-q1\n",
    "upper_limit=q3+1.5*IQR\n",
    "lower_limit=q1-1.5*IQR\n",
    "dfCopy['AnnualIncome'] = np.where(dfCopy['AnnualIncome'] > upper_limit, 7, dfCopy['AnnualIncome'])\n",
    "sns.boxplot(x=dfCopy.AnnualIncome,showfliers = False)"
   ]
  },
  {
   "cell_type": "code",
   "execution_count": 31,
   "id": "636b0541",
   "metadata": {
    "execution": {
     "iopub.execute_input": "2023-02-26T20:25:46.092660Z",
     "iopub.status.busy": "2023-02-26T20:25:46.092060Z",
     "iopub.status.idle": "2023-02-26T20:25:46.097378Z",
     "shell.execute_reply": "2023-02-26T20:25:46.096734Z"
    },
    "id": "C8sy4-GQnvu2",
    "outputId": "103ed8d9-24d0-4d1e-b2b1-c9e0227df355",
    "papermill": {
     "duration": 0.031066,
     "end_time": "2023-02-26T20:25:46.099218",
     "exception": false,
     "start_time": "2023-02-26T20:25:46.068152",
     "status": "completed"
    },
    "tags": []
   },
   "outputs": [
    {
     "data": {
      "text/plain": [
       "(200, 5)"
      ]
     },
     "execution_count": 31,
     "metadata": {},
     "output_type": "execute_result"
    }
   ],
   "source": [
    "dfCopy.shape"
   ]
  },
  {
   "cell_type": "markdown",
   "id": "456dfd73",
   "metadata": {
    "id": "eUCynbw2RqhA",
    "papermill": {
     "duration": 0.021651,
     "end_time": "2023-02-26T20:25:46.143000",
     "exception": false,
     "start_time": "2023-02-26T20:25:46.121349",
     "status": "completed"
    },
    "tags": []
   },
   "source": [
    "# **7) CHECK FOR CATEGORICAL COLUMNS AND PERFORM ENCODING**"
   ]
  },
  {
   "cell_type": "code",
   "execution_count": 32,
   "id": "87b627e4",
   "metadata": {
    "execution": {
     "iopub.execute_input": "2023-02-26T20:25:46.188305Z",
     "iopub.status.busy": "2023-02-26T20:25:46.187740Z",
     "iopub.status.idle": "2023-02-26T20:25:46.194316Z",
     "shell.execute_reply": "2023-02-26T20:25:46.193688Z"
    },
    "id": "T07aSuX1RtSD",
    "outputId": "3a18b194-be5c-4e82-eb54-1ee824fe813a",
    "papermill": {
     "duration": 0.031894,
     "end_time": "2023-02-26T20:25:46.196219",
     "exception": false,
     "start_time": "2023-02-26T20:25:46.164325",
     "status": "completed"
    },
    "tags": []
   },
   "outputs": [
    {
     "data": {
      "text/plain": [
       "['Gender']"
      ]
     },
     "execution_count": 32,
     "metadata": {},
     "output_type": "execute_result"
    }
   ],
   "source": [
    "#Checking for Categorical Columns\n",
    "df.select_dtypes(include=['object']).columns.tolist()"
   ]
  },
  {
   "cell_type": "markdown",
   "id": "29fd3c21",
   "metadata": {
    "id": "Vm2AGpOsoLJi",
    "papermill": {
     "duration": 0.022471,
     "end_time": "2023-02-26T20:25:46.240957",
     "exception": false,
     "start_time": "2023-02-26T20:25:46.218486",
     "status": "completed"
    },
    "tags": []
   },
   "source": [
    "## **Label Encoding**"
   ]
  },
  {
   "cell_type": "code",
   "execution_count": 33,
   "id": "ec88b056",
   "metadata": {
    "execution": {
     "iopub.execute_input": "2023-02-26T20:25:46.288112Z",
     "iopub.status.busy": "2023-02-26T20:25:46.287269Z",
     "iopub.status.idle": "2023-02-26T20:25:46.420168Z",
     "shell.execute_reply": "2023-02-26T20:25:46.419182Z"
    },
    "id": "QfTLClJhoFgi",
    "papermill": {
     "duration": 0.159235,
     "end_time": "2023-02-26T20:25:46.422488",
     "exception": false,
     "start_time": "2023-02-26T20:25:46.263253",
     "status": "completed"
    },
    "tags": []
   },
   "outputs": [],
   "source": [
    "from sklearn.preprocessing import LabelEncoder"
   ]
  },
  {
   "cell_type": "code",
   "execution_count": 34,
   "id": "0dcd0fa9",
   "metadata": {
    "execution": {
     "iopub.execute_input": "2023-02-26T20:25:46.467923Z",
     "iopub.status.busy": "2023-02-26T20:25:46.467514Z",
     "iopub.status.idle": "2023-02-26T20:25:46.472123Z",
     "shell.execute_reply": "2023-02-26T20:25:46.471130Z"
    },
    "id": "PnxEYbWGoSsD",
    "papermill": {
     "duration": 0.030536,
     "end_time": "2023-02-26T20:25:46.474875",
     "exception": false,
     "start_time": "2023-02-26T20:25:46.444339",
     "status": "completed"
    },
    "tags": []
   },
   "outputs": [],
   "source": [
    "le=LabelEncoder()"
   ]
  },
  {
   "cell_type": "code",
   "execution_count": 35,
   "id": "664e5fbe",
   "metadata": {
    "execution": {
     "iopub.execute_input": "2023-02-26T20:25:46.521576Z",
     "iopub.status.busy": "2023-02-26T20:25:46.521237Z",
     "iopub.status.idle": "2023-02-26T20:25:46.534066Z",
     "shell.execute_reply": "2023-02-26T20:25:46.533161Z"
    },
    "id": "C39deyBmoXCh",
    "outputId": "da6b5dd2-ac10-434b-953a-83cd74554f3f",
    "papermill": {
     "duration": 0.038193,
     "end_time": "2023-02-26T20:25:46.535955",
     "exception": false,
     "start_time": "2023-02-26T20:25:46.497762",
     "status": "completed"
    },
    "tags": []
   },
   "outputs": [
    {
     "data": {
      "text/html": [
       "<div>\n",
       "<style scoped>\n",
       "    .dataframe tbody tr th:only-of-type {\n",
       "        vertical-align: middle;\n",
       "    }\n",
       "\n",
       "    .dataframe tbody tr th {\n",
       "        vertical-align: top;\n",
       "    }\n",
       "\n",
       "    .dataframe thead th {\n",
       "        text-align: right;\n",
       "    }\n",
       "</style>\n",
       "<table border=\"1\" class=\"dataframe\">\n",
       "  <thead>\n",
       "    <tr style=\"text-align: right;\">\n",
       "      <th></th>\n",
       "      <th>CustomerID</th>\n",
       "      <th>Gender</th>\n",
       "      <th>Age</th>\n",
       "      <th>Annual Income (k$)</th>\n",
       "      <th>Spending Score (1-100)</th>\n",
       "    </tr>\n",
       "  </thead>\n",
       "  <tbody>\n",
       "    <tr>\n",
       "      <th>0</th>\n",
       "      <td>1</td>\n",
       "      <td>1</td>\n",
       "      <td>19</td>\n",
       "      <td>15</td>\n",
       "      <td>39</td>\n",
       "    </tr>\n",
       "    <tr>\n",
       "      <th>1</th>\n",
       "      <td>2</td>\n",
       "      <td>1</td>\n",
       "      <td>21</td>\n",
       "      <td>15</td>\n",
       "      <td>81</td>\n",
       "    </tr>\n",
       "    <tr>\n",
       "      <th>2</th>\n",
       "      <td>3</td>\n",
       "      <td>0</td>\n",
       "      <td>20</td>\n",
       "      <td>16</td>\n",
       "      <td>6</td>\n",
       "    </tr>\n",
       "    <tr>\n",
       "      <th>3</th>\n",
       "      <td>4</td>\n",
       "      <td>0</td>\n",
       "      <td>23</td>\n",
       "      <td>16</td>\n",
       "      <td>77</td>\n",
       "    </tr>\n",
       "    <tr>\n",
       "      <th>4</th>\n",
       "      <td>5</td>\n",
       "      <td>0</td>\n",
       "      <td>31</td>\n",
       "      <td>17</td>\n",
       "      <td>40</td>\n",
       "    </tr>\n",
       "    <tr>\n",
       "      <th>...</th>\n",
       "      <td>...</td>\n",
       "      <td>...</td>\n",
       "      <td>...</td>\n",
       "      <td>...</td>\n",
       "      <td>...</td>\n",
       "    </tr>\n",
       "    <tr>\n",
       "      <th>195</th>\n",
       "      <td>196</td>\n",
       "      <td>0</td>\n",
       "      <td>35</td>\n",
       "      <td>120</td>\n",
       "      <td>79</td>\n",
       "    </tr>\n",
       "    <tr>\n",
       "      <th>196</th>\n",
       "      <td>197</td>\n",
       "      <td>0</td>\n",
       "      <td>45</td>\n",
       "      <td>126</td>\n",
       "      <td>28</td>\n",
       "    </tr>\n",
       "    <tr>\n",
       "      <th>197</th>\n",
       "      <td>198</td>\n",
       "      <td>1</td>\n",
       "      <td>32</td>\n",
       "      <td>126</td>\n",
       "      <td>74</td>\n",
       "    </tr>\n",
       "    <tr>\n",
       "      <th>198</th>\n",
       "      <td>199</td>\n",
       "      <td>1</td>\n",
       "      <td>32</td>\n",
       "      <td>137</td>\n",
       "      <td>18</td>\n",
       "    </tr>\n",
       "    <tr>\n",
       "      <th>199</th>\n",
       "      <td>200</td>\n",
       "      <td>1</td>\n",
       "      <td>30</td>\n",
       "      <td>137</td>\n",
       "      <td>83</td>\n",
       "    </tr>\n",
       "  </tbody>\n",
       "</table>\n",
       "<p>200 rows × 5 columns</p>\n",
       "</div>"
      ],
      "text/plain": [
       "     CustomerID  Gender  Age  Annual Income (k$)  Spending Score (1-100)\n",
       "0             1       1   19                  15                      39\n",
       "1             2       1   21                  15                      81\n",
       "2             3       0   20                  16                       6\n",
       "3             4       0   23                  16                      77\n",
       "4             5       0   31                  17                      40\n",
       "..          ...     ...  ...                 ...                     ...\n",
       "195         196       0   35                 120                      79\n",
       "196         197       0   45                 126                      28\n",
       "197         198       1   32                 126                      74\n",
       "198         199       1   32                 137                      18\n",
       "199         200       1   30                 137                      83\n",
       "\n",
       "[200 rows x 5 columns]"
      ]
     },
     "execution_count": 35,
     "metadata": {},
     "output_type": "execute_result"
    }
   ],
   "source": [
    "df.Gender=le.fit_transform(df.Gender)\n",
    "df"
   ]
  },
  {
   "cell_type": "markdown",
   "id": "3876a76c",
   "metadata": {
    "id": "RkhGO7FBojxP",
    "papermill": {
     "duration": 0.021933,
     "end_time": "2023-02-26T20:25:46.580142",
     "exception": false,
     "start_time": "2023-02-26T20:25:46.558209",
     "status": "completed"
    },
    "tags": []
   },
   "source": [
    "## **One hot encoding**"
   ]
  },
  {
   "cell_type": "code",
   "execution_count": 36,
   "id": "c04283b5",
   "metadata": {
    "execution": {
     "iopub.execute_input": "2023-02-26T20:25:46.625629Z",
     "iopub.status.busy": "2023-02-26T20:25:46.624863Z",
     "iopub.status.idle": "2023-02-26T20:25:46.637693Z",
     "shell.execute_reply": "2023-02-26T20:25:46.636753Z"
    },
    "id": "0_kzPlR8okhG",
    "outputId": "c4c3ab0c-8921-40fb-f282-167c67da6631",
    "papermill": {
     "duration": 0.038326,
     "end_time": "2023-02-26T20:25:46.640234",
     "exception": false,
     "start_time": "2023-02-26T20:25:46.601908",
     "status": "completed"
    },
    "tags": []
   },
   "outputs": [
    {
     "data": {
      "text/html": [
       "<div>\n",
       "<style scoped>\n",
       "    .dataframe tbody tr th:only-of-type {\n",
       "        vertical-align: middle;\n",
       "    }\n",
       "\n",
       "    .dataframe tbody tr th {\n",
       "        vertical-align: top;\n",
       "    }\n",
       "\n",
       "    .dataframe thead th {\n",
       "        text-align: right;\n",
       "    }\n",
       "</style>\n",
       "<table border=\"1\" class=\"dataframe\">\n",
       "  <thead>\n",
       "    <tr style=\"text-align: right;\">\n",
       "      <th></th>\n",
       "      <th>CustomerID</th>\n",
       "      <th>Age</th>\n",
       "      <th>Annual Income (k$)</th>\n",
       "      <th>Spending Score (1-100)</th>\n",
       "      <th>Gender_0</th>\n",
       "      <th>Gender_1</th>\n",
       "    </tr>\n",
       "  </thead>\n",
       "  <tbody>\n",
       "    <tr>\n",
       "      <th>0</th>\n",
       "      <td>1</td>\n",
       "      <td>19</td>\n",
       "      <td>15</td>\n",
       "      <td>39</td>\n",
       "      <td>0</td>\n",
       "      <td>1</td>\n",
       "    </tr>\n",
       "    <tr>\n",
       "      <th>1</th>\n",
       "      <td>2</td>\n",
       "      <td>21</td>\n",
       "      <td>15</td>\n",
       "      <td>81</td>\n",
       "      <td>0</td>\n",
       "      <td>1</td>\n",
       "    </tr>\n",
       "    <tr>\n",
       "      <th>2</th>\n",
       "      <td>3</td>\n",
       "      <td>20</td>\n",
       "      <td>16</td>\n",
       "      <td>6</td>\n",
       "      <td>1</td>\n",
       "      <td>0</td>\n",
       "    </tr>\n",
       "    <tr>\n",
       "      <th>3</th>\n",
       "      <td>4</td>\n",
       "      <td>23</td>\n",
       "      <td>16</td>\n",
       "      <td>77</td>\n",
       "      <td>1</td>\n",
       "      <td>0</td>\n",
       "    </tr>\n",
       "    <tr>\n",
       "      <th>4</th>\n",
       "      <td>5</td>\n",
       "      <td>31</td>\n",
       "      <td>17</td>\n",
       "      <td>40</td>\n",
       "      <td>1</td>\n",
       "      <td>0</td>\n",
       "    </tr>\n",
       "  </tbody>\n",
       "</table>\n",
       "</div>"
      ],
      "text/plain": [
       "   CustomerID  Age  Annual Income (k$)  Spending Score (1-100)  Gender_0  \\\n",
       "0           1   19                  15                      39         0   \n",
       "1           2   21                  15                      81         0   \n",
       "2           3   20                  16                       6         1   \n",
       "3           4   23                  16                      77         1   \n",
       "4           5   31                  17                      40         1   \n",
       "\n",
       "   Gender_1  \n",
       "0         1  \n",
       "1         1  \n",
       "2         0  \n",
       "3         0  \n",
       "4         0  "
      ]
     },
     "execution_count": 36,
     "metadata": {},
     "output_type": "execute_result"
    }
   ],
   "source": [
    "dfCopy=pd.get_dummies(df,columns=['Gender'])\n",
    "dfCopy.head()\n",
    "#One hot encoding is just performed here to show different types of encoding applied on a categorical column.  \n",
    "#To avoid changes in original dataframe, it is performed in the copy of the dataframe"
   ]
  },
  {
   "cell_type": "markdown",
   "id": "27acd9be",
   "metadata": {
    "id": "5aKiJqeAMVKX",
    "papermill": {
     "duration": 0.022095,
     "end_time": "2023-02-26T20:25:46.685467",
     "exception": false,
     "start_time": "2023-02-26T20:25:46.663372",
     "status": "completed"
    },
    "tags": []
   },
   "source": [
    "# **8) SCALING THE DATA** "
   ]
  },
  {
   "cell_type": "code",
   "execution_count": 37,
   "id": "de83fa41",
   "metadata": {
    "execution": {
     "iopub.execute_input": "2023-02-26T20:25:46.731732Z",
     "iopub.status.busy": "2023-02-26T20:25:46.731090Z",
     "iopub.status.idle": "2023-02-26T20:25:46.740346Z",
     "shell.execute_reply": "2023-02-26T20:25:46.739406Z"
    },
    "id": "-3kaZQmzpzia",
    "outputId": "38c54bf7-932e-4d58-9b72-0a35e7bf52c4",
    "papermill": {
     "duration": 0.034573,
     "end_time": "2023-02-26T20:25:46.742304",
     "exception": false,
     "start_time": "2023-02-26T20:25:46.707731",
     "status": "completed"
    },
    "tags": []
   },
   "outputs": [
    {
     "data": {
      "text/html": [
       "<div>\n",
       "<style scoped>\n",
       "    .dataframe tbody tr th:only-of-type {\n",
       "        vertical-align: middle;\n",
       "    }\n",
       "\n",
       "    .dataframe tbody tr th {\n",
       "        vertical-align: top;\n",
       "    }\n",
       "\n",
       "    .dataframe thead th {\n",
       "        text-align: right;\n",
       "    }\n",
       "</style>\n",
       "<table border=\"1\" class=\"dataframe\">\n",
       "  <thead>\n",
       "    <tr style=\"text-align: right;\">\n",
       "      <th></th>\n",
       "      <th>Gender</th>\n",
       "      <th>Age</th>\n",
       "      <th>Annual Income (k$)</th>\n",
       "      <th>Spending Score (1-100)</th>\n",
       "    </tr>\n",
       "  </thead>\n",
       "  <tbody>\n",
       "    <tr>\n",
       "      <th>0</th>\n",
       "      <td>1</td>\n",
       "      <td>19</td>\n",
       "      <td>15</td>\n",
       "      <td>39</td>\n",
       "    </tr>\n",
       "    <tr>\n",
       "      <th>1</th>\n",
       "      <td>1</td>\n",
       "      <td>21</td>\n",
       "      <td>15</td>\n",
       "      <td>81</td>\n",
       "    </tr>\n",
       "    <tr>\n",
       "      <th>2</th>\n",
       "      <td>0</td>\n",
       "      <td>20</td>\n",
       "      <td>16</td>\n",
       "      <td>6</td>\n",
       "    </tr>\n",
       "    <tr>\n",
       "      <th>3</th>\n",
       "      <td>0</td>\n",
       "      <td>23</td>\n",
       "      <td>16</td>\n",
       "      <td>77</td>\n",
       "    </tr>\n",
       "    <tr>\n",
       "      <th>4</th>\n",
       "      <td>0</td>\n",
       "      <td>31</td>\n",
       "      <td>17</td>\n",
       "      <td>40</td>\n",
       "    </tr>\n",
       "  </tbody>\n",
       "</table>\n",
       "</div>"
      ],
      "text/plain": [
       "   Gender  Age  Annual Income (k$)  Spending Score (1-100)\n",
       "0       1   19                  15                      39\n",
       "1       1   21                  15                      81\n",
       "2       0   20                  16                       6\n",
       "3       0   23                  16                      77\n",
       "4       0   31                  17                      40"
      ]
     },
     "execution_count": 37,
     "metadata": {},
     "output_type": "execute_result"
    }
   ],
   "source": [
    "#Dropping the CustomerID column\n",
    "Up_data=df.drop(columns='CustomerID',axis=1)\n",
    "Up_data.head()"
   ]
  },
  {
   "cell_type": "code",
   "execution_count": 38,
   "id": "373057c9",
   "metadata": {
    "execution": {
     "iopub.execute_input": "2023-02-26T20:25:46.788053Z",
     "iopub.status.busy": "2023-02-26T20:25:46.787240Z",
     "iopub.status.idle": "2023-02-26T20:25:46.804356Z",
     "shell.execute_reply": "2023-02-26T20:25:46.803199Z"
    },
    "id": "1mdkRFjoqZUz",
    "outputId": "f3e65159-663d-44e9-950c-cbec0316d481",
    "papermill": {
     "duration": 0.041868,
     "end_time": "2023-02-26T20:25:46.806396",
     "exception": false,
     "start_time": "2023-02-26T20:25:46.764528",
     "status": "completed"
    },
    "tags": []
   },
   "outputs": [
    {
     "data": {
      "text/plain": [
       "array([[1.        , 0.01923077, 0.        , 0.3877551 ],\n",
       "       [1.        , 0.05769231, 0.        , 0.81632653],\n",
       "       [0.        , 0.03846154, 0.00819672, 0.05102041],\n",
       "       [0.        , 0.09615385, 0.00819672, 0.7755102 ],\n",
       "       [0.        , 0.25      , 0.01639344, 0.39795918],\n",
       "       [0.        , 0.07692308, 0.01639344, 0.76530612],\n",
       "       [0.        , 0.32692308, 0.02459016, 0.05102041],\n",
       "       [0.        , 0.09615385, 0.02459016, 0.94897959],\n",
       "       [1.        , 0.88461538, 0.03278689, 0.02040816],\n",
       "       [0.        , 0.23076923, 0.03278689, 0.7244898 ],\n",
       "       [1.        , 0.94230769, 0.03278689, 0.13265306],\n",
       "       [0.        , 0.32692308, 0.03278689, 1.        ],\n",
       "       [0.        , 0.76923077, 0.04098361, 0.14285714],\n",
       "       [0.        , 0.11538462, 0.04098361, 0.7755102 ],\n",
       "       [1.        , 0.36538462, 0.04098361, 0.12244898],\n",
       "       [1.        , 0.07692308, 0.04098361, 0.79591837],\n",
       "       [0.        , 0.32692308, 0.04918033, 0.34693878],\n",
       "       [1.        , 0.03846154, 0.04918033, 0.66326531],\n",
       "       [1.        , 0.65384615, 0.06557377, 0.28571429],\n",
       "       [0.        , 0.32692308, 0.06557377, 0.98979592],\n",
       "       [1.        , 0.32692308, 0.07377049, 0.34693878],\n",
       "       [1.        , 0.13461538, 0.07377049, 0.73469388],\n",
       "       [0.        , 0.53846154, 0.08196721, 0.04081633],\n",
       "       [1.        , 0.25      , 0.08196721, 0.73469388],\n",
       "       [0.        , 0.69230769, 0.10655738, 0.13265306],\n",
       "       [1.        , 0.21153846, 0.10655738, 0.82653061],\n",
       "       [0.        , 0.51923077, 0.10655738, 0.31632653],\n",
       "       [1.        , 0.32692308, 0.10655738, 0.6122449 ],\n",
       "       [0.        , 0.42307692, 0.1147541 , 0.30612245],\n",
       "       [0.        , 0.09615385, 0.1147541 , 0.87755102],\n",
       "       [1.        , 0.80769231, 0.12295082, 0.03061224],\n",
       "       [0.        , 0.05769231, 0.12295082, 0.73469388],\n",
       "       [1.        , 0.67307692, 0.14754098, 0.03061224],\n",
       "       [1.        , 0.        , 0.14754098, 0.92857143],\n",
       "       [0.        , 0.59615385, 0.14754098, 0.13265306],\n",
       "       [0.        , 0.05769231, 0.14754098, 0.81632653],\n",
       "       [0.        , 0.46153846, 0.1557377 , 0.16326531],\n",
       "       [0.        , 0.23076923, 0.1557377 , 0.73469388],\n",
       "       [0.        , 0.34615385, 0.18032787, 0.25510204],\n",
       "       [0.        , 0.03846154, 0.18032787, 0.75510204],\n",
       "       [0.        , 0.90384615, 0.18852459, 0.34693878],\n",
       "       [1.        , 0.11538462, 0.18852459, 0.92857143],\n",
       "       [1.        , 0.57692308, 0.19672131, 0.35714286],\n",
       "       [0.        , 0.25      , 0.19672131, 0.6122449 ],\n",
       "       [0.        , 0.59615385, 0.19672131, 0.2755102 ],\n",
       "       [0.        , 0.11538462, 0.19672131, 0.65306122],\n",
       "       [0.        , 0.61538462, 0.20491803, 0.55102041],\n",
       "       [0.        , 0.17307692, 0.20491803, 0.46938776],\n",
       "       [0.        , 0.21153846, 0.20491803, 0.41836735],\n",
       "       [0.        , 0.25      , 0.20491803, 0.41836735],\n",
       "       [0.        , 0.59615385, 0.22131148, 0.52040816],\n",
       "       [1.        , 0.28846154, 0.22131148, 0.60204082],\n",
       "       [0.        , 0.25      , 0.2295082 , 0.54081633],\n",
       "       [1.        , 0.78846154, 0.2295082 , 0.60204082],\n",
       "       [0.        , 0.61538462, 0.2295082 , 0.44897959],\n",
       "       [1.        , 0.55769231, 0.2295082 , 0.40816327],\n",
       "       [0.        , 0.63461538, 0.23770492, 0.5       ],\n",
       "       [1.        , 0.98076923, 0.23770492, 0.45918367],\n",
       "       [0.        , 0.17307692, 0.25409836, 0.51020408],\n",
       "       [1.        , 0.67307692, 0.25409836, 0.45918367],\n",
       "       [1.        , 1.        , 0.25409836, 0.56122449],\n",
       "       [1.        , 0.01923077, 0.25409836, 0.55102041],\n",
       "       [0.        , 0.94230769, 0.26229508, 0.52040816],\n",
       "       [0.        , 0.69230769, 0.26229508, 0.59183673],\n",
       "       [1.        , 0.86538462, 0.2704918 , 0.51020408],\n",
       "       [1.        , 0.        , 0.2704918 , 0.59183673],\n",
       "       [0.        , 0.48076923, 0.2704918 , 0.5       ],\n",
       "       [0.        , 0.96153846, 0.2704918 , 0.47959184],\n",
       "       [1.        , 0.01923077, 0.2704918 , 0.59183673],\n",
       "       [0.        , 0.26923077, 0.2704918 , 0.46938776],\n",
       "       [1.        , 1.        , 0.27868852, 0.55102041],\n",
       "       [0.        , 0.55769231, 0.27868852, 0.41836735],\n",
       "       [0.        , 0.80769231, 0.28688525, 0.48979592],\n",
       "       [0.        , 0.80769231, 0.28688525, 0.56122449],\n",
       "       [1.        , 0.78846154, 0.31967213, 0.46938776],\n",
       "       [1.        , 0.15384615, 0.31967213, 0.54081633],\n",
       "       [0.        , 0.51923077, 0.31967213, 0.53061224],\n",
       "       [1.        , 0.42307692, 0.31967213, 0.47959184],\n",
       "       [0.        , 0.09615385, 0.31967213, 0.52040816],\n",
       "       [0.        , 0.59615385, 0.31967213, 0.41836735],\n",
       "       [1.        , 0.75      , 0.31967213, 0.51020408],\n",
       "       [1.        , 0.38461538, 0.31967213, 0.55102041],\n",
       "       [1.        , 0.94230769, 0.31967213, 0.40816327],\n",
       "       [0.        , 0.53846154, 0.31967213, 0.43877551],\n",
       "       [0.        , 0.05769231, 0.31967213, 0.57142857],\n",
       "       [1.        , 0.57692308, 0.31967213, 0.45918367],\n",
       "       [0.        , 0.71153846, 0.3442623 , 0.58163265],\n",
       "       [0.        , 0.07692308, 0.3442623 , 0.55102041],\n",
       "       [0.        , 0.30769231, 0.35245902, 0.60204082],\n",
       "       [0.        , 0.61538462, 0.35245902, 0.45918367],\n",
       "       [0.        , 0.96153846, 0.36065574, 0.55102041],\n",
       "       [1.        , 0.        , 0.36065574, 0.40816327],\n",
       "       [1.        , 0.57692308, 0.36885246, 0.48979592],\n",
       "       [0.        , 0.42307692, 0.36885246, 0.39795918],\n",
       "       [0.        , 0.26923077, 0.36885246, 0.41836735],\n",
       "       [1.        , 0.11538462, 0.36885246, 0.52040816],\n",
       "       [0.        , 0.55769231, 0.36885246, 0.46938776],\n",
       "       [0.        , 0.17307692, 0.36885246, 0.5       ],\n",
       "       [1.        , 0.57692308, 0.37704918, 0.41836735],\n",
       "       [1.        , 0.03846154, 0.37704918, 0.48979592],\n",
       "       [0.        , 0.09615385, 0.3852459 , 0.40816327],\n",
       "       [0.        , 0.59615385, 0.3852459 , 0.47959184],\n",
       "       [1.        , 0.94230769, 0.3852459 , 0.59183673],\n",
       "       [1.        , 0.15384615, 0.3852459 , 0.55102041],\n",
       "       [1.        , 0.59615385, 0.3852459 , 0.56122449],\n",
       "       [0.        , 0.05769231, 0.3852459 , 0.41836735],\n",
       "       [0.        , 0.92307692, 0.39344262, 0.5       ],\n",
       "       [1.        , 0.69230769, 0.39344262, 0.45918367],\n",
       "       [1.        , 0.96153846, 0.39344262, 0.42857143],\n",
       "       [1.        , 0.92307692, 0.39344262, 0.47959184],\n",
       "       [1.        , 0.90384615, 0.39344262, 0.52040816],\n",
       "       [0.        , 0.01923077, 0.39344262, 0.54081633],\n",
       "       [0.        , 0.38461538, 0.40163934, 0.41836735],\n",
       "       [1.        , 0.01923077, 0.40163934, 0.45918367],\n",
       "       [0.        , 0.        , 0.40983607, 0.47959184],\n",
       "       [0.        , 0.01923077, 0.40983607, 0.5       ],\n",
       "       [0.        , 0.86538462, 0.40983607, 0.42857143],\n",
       "       [0.        , 0.59615385, 0.40983607, 0.59183673],\n",
       "       [0.        , 0.63461538, 0.42622951, 0.42857143],\n",
       "       [0.        , 0.61538462, 0.42622951, 0.57142857],\n",
       "       [1.        , 0.17307692, 0.42622951, 0.56122449],\n",
       "       [0.        , 0.38461538, 0.42622951, 0.39795918],\n",
       "       [0.        , 0.42307692, 0.44262295, 0.58163265],\n",
       "       [1.        , 0.40384615, 0.44262295, 0.91836735],\n",
       "       [0.        , 0.09615385, 0.45081967, 0.28571429],\n",
       "       [0.        , 0.25      , 0.45081967, 0.7755102 ],\n",
       "       [1.        , 0.48076923, 0.45901639, 0.34693878],\n",
       "       [1.        , 0.42307692, 0.45901639, 0.95918367],\n",
       "       [1.        , 0.78846154, 0.45901639, 0.10204082],\n",
       "       [1.        , 0.38461538, 0.45901639, 0.75510204],\n",
       "       [1.        , 0.55769231, 0.45901639, 0.08163265],\n",
       "       [1.        , 0.40384615, 0.45901639, 0.75510204],\n",
       "       [0.        , 0.13461538, 0.46721311, 0.33673469],\n",
       "       [0.        , 0.25      , 0.46721311, 0.71428571],\n",
       "       [1.        , 0.03846154, 0.47540984, 0.04081633],\n",
       "       [0.        , 0.21153846, 0.47540984, 0.8877551 ],\n",
       "       [0.        , 0.5       , 0.47540984, 0.06122449],\n",
       "       [1.        , 0.26923077, 0.47540984, 0.73469388],\n",
       "       [1.        , 0.01923077, 0.48360656, 0.09183673],\n",
       "       [0.        , 0.32692308, 0.48360656, 0.7244898 ],\n",
       "       [0.        , 0.75      , 0.49180328, 0.04081633],\n",
       "       [1.        , 0.26923077, 0.49180328, 0.93877551],\n",
       "       [0.        , 0.19230769, 0.5       , 0.39795918],\n",
       "       [0.        , 0.26923077, 0.5       , 0.87755102],\n",
       "       [1.        , 0.13461538, 0.50819672, 0.1122449 ],\n",
       "       [1.        , 0.19230769, 0.50819672, 0.97959184],\n",
       "       [1.        , 0.57692308, 0.50819672, 0.35714286],\n",
       "       [0.        , 0.26923077, 0.50819672, 0.74489796],\n",
       "       [0.        , 0.30769231, 0.51639344, 0.21428571],\n",
       "       [1.        , 0.30769231, 0.51639344, 0.90816327],\n",
       "       [1.        , 0.48076923, 0.51639344, 0.16326531],\n",
       "       [1.        , 0.40384615, 0.51639344, 0.8877551 ],\n",
       "       [0.        , 0.5       , 0.51639344, 0.19387755],\n",
       "       [0.        , 0.38461538, 0.51639344, 0.76530612],\n",
       "       [0.        , 0.55769231, 0.51639344, 0.15306122],\n",
       "       [0.        , 0.17307692, 0.51639344, 0.89795918],\n",
       "       [1.        , 0.36538462, 0.51639344, 0.        ],\n",
       "       [0.        , 0.23076923, 0.51639344, 0.78571429],\n",
       "       [1.        , 0.30769231, 0.51639344, 0.        ],\n",
       "       [0.        , 0.23076923, 0.51639344, 0.73469388],\n",
       "       [0.        , 0.73076923, 0.52459016, 0.34693878],\n",
       "       [0.        , 0.21153846, 0.52459016, 0.83673469],\n",
       "       [1.        , 0.01923077, 0.54098361, 0.04081633],\n",
       "       [0.        , 0.25      , 0.54098361, 0.93877551],\n",
       "       [1.        , 0.61538462, 0.57377049, 0.25510204],\n",
       "       [0.        , 0.34615385, 0.57377049, 0.75510204],\n",
       "       [1.        , 0.46153846, 0.58196721, 0.19387755],\n",
       "       [0.        , 0.28846154, 0.58196721, 0.95918367],\n",
       "       [0.        , 0.34615385, 0.59016393, 0.26530612],\n",
       "       [1.        , 0.26923077, 0.59016393, 0.63265306],\n",
       "       [1.        , 0.42307692, 0.59016393, 0.12244898],\n",
       "       [1.        , 0.19230769, 0.59016393, 0.75510204],\n",
       "       [1.        , 0.34615385, 0.59016393, 0.09183673],\n",
       "       [1.        , 0.34615385, 0.59016393, 0.92857143],\n",
       "       [0.        , 0.65384615, 0.59836066, 0.12244898],\n",
       "       [0.        , 0.23076923, 0.59836066, 0.86734694],\n",
       "       [1.        , 0.76923077, 0.59836066, 0.14285714],\n",
       "       [1.        , 0.17307692, 0.59836066, 0.69387755],\n",
       "       [1.        , 0.78846154, 0.63934426, 0.13265306],\n",
       "       [1.        , 0.32692308, 0.63934426, 0.90816327],\n",
       "       [0.        , 0.36538462, 0.67213115, 0.31632653],\n",
       "       [0.        , 0.26923077, 0.67213115, 0.86734694],\n",
       "       [1.        , 0.53846154, 0.68032787, 0.14285714],\n",
       "       [0.        , 0.21153846, 0.68032787, 0.8877551 ],\n",
       "       [0.        , 0.44230769, 0.68852459, 0.3877551 ],\n",
       "       [1.        , 0.23076923, 0.68852459, 0.97959184],\n",
       "       [0.        , 0.69230769, 0.70491803, 0.23469388],\n",
       "       [1.        , 0.19230769, 0.70491803, 0.68367347],\n",
       "       [0.        , 0.44230769, 0.72131148, 0.16326531],\n",
       "       [0.        , 0.34615385, 0.72131148, 0.85714286],\n",
       "       [0.        , 0.30769231, 0.72131148, 0.2244898 ],\n",
       "       [0.        , 0.26923077, 0.72131148, 0.69387755],\n",
       "       [1.        , 0.28846154, 0.80327869, 0.07142857],\n",
       "       [0.        , 0.38461538, 0.80327869, 0.91836735],\n",
       "       [0.        , 0.55769231, 0.86065574, 0.15306122],\n",
       "       [0.        , 0.32692308, 0.86065574, 0.79591837],\n",
       "       [0.        , 0.51923077, 0.90983607, 0.2755102 ],\n",
       "       [1.        , 0.26923077, 0.90983607, 0.74489796],\n",
       "       [1.        , 0.26923077, 1.        , 0.17346939],\n",
       "       [1.        , 0.23076923, 1.        , 0.83673469]])"
      ]
     },
     "execution_count": 38,
     "metadata": {},
     "output_type": "execute_result"
    }
   ],
   "source": [
    "#Min-Max Scaling\n",
    "from sklearn.preprocessing import MinMaxScaler\n",
    "min_max = MinMaxScaler()\n",
    "X_scaled = min_max.fit_transform(Up_data)\n",
    "X_scaled"
   ]
  },
  {
   "cell_type": "markdown",
   "id": "264992f8",
   "metadata": {
    "id": "hZsowY6n8p_3",
    "papermill": {
     "duration": 0.022173,
     "end_time": "2023-02-26T20:25:46.851373",
     "exception": false,
     "start_time": "2023-02-26T20:25:46.829200",
     "status": "completed"
    },
    "tags": []
   },
   "source": [
    "# **9) PERFORM ANY OF THE CLUSTERING ALGORITHMS**\n",
    "Here, K-means clustering is performed"
   ]
  },
  {
   "cell_type": "code",
   "execution_count": 39,
   "id": "f70e887f",
   "metadata": {
    "execution": {
     "iopub.execute_input": "2023-02-26T20:25:46.898073Z",
     "iopub.status.busy": "2023-02-26T20:25:46.897658Z",
     "iopub.status.idle": "2023-02-26T20:25:47.246237Z",
     "shell.execute_reply": "2023-02-26T20:25:47.245434Z"
    },
    "id": "FAB2n5u14jt1",
    "outputId": "f650d53c-ac35-4998-c24d-ec3feff7db60",
    "papermill": {
     "duration": 0.374399,
     "end_time": "2023-02-26T20:25:47.248147",
     "exception": false,
     "start_time": "2023-02-26T20:25:46.873748",
     "status": "completed"
    },
    "tags": []
   },
   "outputs": [
    {
     "data": {
      "text/plain": [
       "KMeans(n_clusters=3, random_state=0)"
      ]
     },
     "execution_count": 39,
     "metadata": {},
     "output_type": "execute_result"
    }
   ],
   "source": [
    "from sklearn import cluster\n",
    "from sklearn.cluster import KMeans\n",
    "km_model=cluster.KMeans(n_clusters=3,init='k-means++',random_state=0)\n",
    "km_model.fit(X_scaled)"
   ]
  },
  {
   "cell_type": "code",
   "execution_count": 40,
   "id": "12a9c1e8",
   "metadata": {
    "execution": {
     "iopub.execute_input": "2023-02-26T20:25:47.296219Z",
     "iopub.status.busy": "2023-02-26T20:25:47.294986Z",
     "iopub.status.idle": "2023-02-26T20:25:47.376956Z",
     "shell.execute_reply": "2023-02-26T20:25:47.376013Z"
    },
    "id": "I_6E-2mn7O6Y",
    "outputId": "ac49b997-fa44-4d62-e321-a1e53c6e0a0a",
    "papermill": {
     "duration": 0.107749,
     "end_time": "2023-02-26T20:25:47.379231",
     "exception": false,
     "start_time": "2023-02-26T20:25:47.271482",
     "status": "completed"
    },
    "tags": []
   },
   "outputs": [
    {
     "data": {
      "text/plain": [
       "array([2, 2, 0, 0, 0, 0, 0, 0, 1, 0, 1, 0, 0, 0, 1, 2, 0, 2, 1, 0, 1, 2,\n",
       "       0, 2, 0, 2, 0, 2, 0, 0, 1, 0, 1, 2, 0, 0, 0, 0, 0, 0, 0, 2, 1, 0,\n",
       "       0, 0, 0, 0, 0, 0, 0, 2, 0, 1, 0, 1, 0, 1, 0, 1, 1, 2, 0, 0, 1, 2,\n",
       "       0, 0, 2, 0, 1, 0, 0, 0, 1, 2, 0, 1, 0, 0, 1, 2, 1, 0, 0, 1, 0, 0,\n",
       "       0, 0, 0, 2, 1, 0, 0, 2, 0, 0, 1, 2, 0, 0, 1, 2, 1, 0, 0, 1, 1, 1,\n",
       "       1, 0, 0, 2, 0, 0, 0, 0, 0, 0, 2, 0, 0, 2, 0, 0, 1, 2, 1, 2, 1, 2,\n",
       "       0, 0, 1, 0, 0, 2, 1, 0, 0, 2, 0, 0, 1, 2, 1, 0, 0, 2, 1, 2, 0, 0,\n",
       "       0, 0, 1, 0, 1, 0, 0, 0, 1, 0, 1, 0, 1, 0, 0, 2, 1, 2, 1, 2, 0, 0,\n",
       "       1, 2, 1, 2, 0, 0, 1, 0, 0, 2, 0, 2, 0, 0, 0, 0, 1, 0, 0, 0, 0, 2,\n",
       "       1, 2], dtype=int32)"
      ]
     },
     "execution_count": 40,
     "metadata": {},
     "output_type": "execute_result"
    }
   ],
   "source": [
    "Cluster_kms =km_model.predict(X_scaled)\n",
    "Cluster_kms"
   ]
  },
  {
   "cell_type": "markdown",
   "id": "184c2e3b",
   "metadata": {
    "id": "ywoNeOZS9DKm",
    "papermill": {
     "duration": 0.030515,
     "end_time": "2023-02-26T20:25:47.440616",
     "exception": false,
     "start_time": "2023-02-26T20:25:47.410101",
     "status": "completed"
    },
    "tags": []
   },
   "source": [
    "# **10)ADDING THE CLUSTER DATA WITH THE PRIMARY DATASET**"
   ]
  },
  {
   "cell_type": "code",
   "execution_count": 41,
   "id": "8e3b82a2",
   "metadata": {
    "execution": {
     "iopub.execute_input": "2023-02-26T20:25:47.491627Z",
     "iopub.status.busy": "2023-02-26T20:25:47.491257Z",
     "iopub.status.idle": "2023-02-26T20:25:47.507021Z",
     "shell.execute_reply": "2023-02-26T20:25:47.506113Z"
    },
    "id": "pVVdnMC77rtl",
    "outputId": "2a6c3daf-2184-48e5-9508-560efc957495",
    "papermill": {
     "duration": 0.041564,
     "end_time": "2023-02-26T20:25:47.508827",
     "exception": false,
     "start_time": "2023-02-26T20:25:47.467263",
     "status": "completed"
    },
    "tags": []
   },
   "outputs": [
    {
     "data": {
      "text/html": [
       "<div>\n",
       "<style scoped>\n",
       "    .dataframe tbody tr th:only-of-type {\n",
       "        vertical-align: middle;\n",
       "    }\n",
       "\n",
       "    .dataframe tbody tr th {\n",
       "        vertical-align: top;\n",
       "    }\n",
       "\n",
       "    .dataframe thead th {\n",
       "        text-align: right;\n",
       "    }\n",
       "</style>\n",
       "<table border=\"1\" class=\"dataframe\">\n",
       "  <thead>\n",
       "    <tr style=\"text-align: right;\">\n",
       "      <th></th>\n",
       "      <th>CustomerID</th>\n",
       "      <th>Gender</th>\n",
       "      <th>Age</th>\n",
       "      <th>Annual Income (k$)</th>\n",
       "      <th>Spending Score (1-100)</th>\n",
       "      <th>kcluster</th>\n",
       "    </tr>\n",
       "  </thead>\n",
       "  <tbody>\n",
       "    <tr>\n",
       "      <th>0</th>\n",
       "      <td>1</td>\n",
       "      <td>1</td>\n",
       "      <td>19</td>\n",
       "      <td>15</td>\n",
       "      <td>39</td>\n",
       "      <td>2</td>\n",
       "    </tr>\n",
       "    <tr>\n",
       "      <th>1</th>\n",
       "      <td>2</td>\n",
       "      <td>1</td>\n",
       "      <td>21</td>\n",
       "      <td>15</td>\n",
       "      <td>81</td>\n",
       "      <td>2</td>\n",
       "    </tr>\n",
       "    <tr>\n",
       "      <th>2</th>\n",
       "      <td>3</td>\n",
       "      <td>0</td>\n",
       "      <td>20</td>\n",
       "      <td>16</td>\n",
       "      <td>6</td>\n",
       "      <td>0</td>\n",
       "    </tr>\n",
       "    <tr>\n",
       "      <th>3</th>\n",
       "      <td>4</td>\n",
       "      <td>0</td>\n",
       "      <td>23</td>\n",
       "      <td>16</td>\n",
       "      <td>77</td>\n",
       "      <td>0</td>\n",
       "    </tr>\n",
       "    <tr>\n",
       "      <th>4</th>\n",
       "      <td>5</td>\n",
       "      <td>0</td>\n",
       "      <td>31</td>\n",
       "      <td>17</td>\n",
       "      <td>40</td>\n",
       "      <td>0</td>\n",
       "    </tr>\n",
       "    <tr>\n",
       "      <th>...</th>\n",
       "      <td>...</td>\n",
       "      <td>...</td>\n",
       "      <td>...</td>\n",
       "      <td>...</td>\n",
       "      <td>...</td>\n",
       "      <td>...</td>\n",
       "    </tr>\n",
       "    <tr>\n",
       "      <th>195</th>\n",
       "      <td>196</td>\n",
       "      <td>0</td>\n",
       "      <td>35</td>\n",
       "      <td>120</td>\n",
       "      <td>79</td>\n",
       "      <td>0</td>\n",
       "    </tr>\n",
       "    <tr>\n",
       "      <th>196</th>\n",
       "      <td>197</td>\n",
       "      <td>0</td>\n",
       "      <td>45</td>\n",
       "      <td>126</td>\n",
       "      <td>28</td>\n",
       "      <td>0</td>\n",
       "    </tr>\n",
       "    <tr>\n",
       "      <th>197</th>\n",
       "      <td>198</td>\n",
       "      <td>1</td>\n",
       "      <td>32</td>\n",
       "      <td>126</td>\n",
       "      <td>74</td>\n",
       "      <td>2</td>\n",
       "    </tr>\n",
       "    <tr>\n",
       "      <th>198</th>\n",
       "      <td>199</td>\n",
       "      <td>1</td>\n",
       "      <td>32</td>\n",
       "      <td>137</td>\n",
       "      <td>18</td>\n",
       "      <td>1</td>\n",
       "    </tr>\n",
       "    <tr>\n",
       "      <th>199</th>\n",
       "      <td>200</td>\n",
       "      <td>1</td>\n",
       "      <td>30</td>\n",
       "      <td>137</td>\n",
       "      <td>83</td>\n",
       "      <td>2</td>\n",
       "    </tr>\n",
       "  </tbody>\n",
       "</table>\n",
       "<p>200 rows × 6 columns</p>\n",
       "</div>"
      ],
      "text/plain": [
       "     CustomerID  Gender  Age  Annual Income (k$)  Spending Score (1-100)  \\\n",
       "0             1       1   19                  15                      39   \n",
       "1             2       1   21                  15                      81   \n",
       "2             3       0   20                  16                       6   \n",
       "3             4       0   23                  16                      77   \n",
       "4             5       0   31                  17                      40   \n",
       "..          ...     ...  ...                 ...                     ...   \n",
       "195         196       0   35                 120                      79   \n",
       "196         197       0   45                 126                      28   \n",
       "197         198       1   32                 126                      74   \n",
       "198         199       1   32                 137                      18   \n",
       "199         200       1   30                 137                      83   \n",
       "\n",
       "     kcluster  \n",
       "0           2  \n",
       "1           2  \n",
       "2           0  \n",
       "3           0  \n",
       "4           0  \n",
       "..        ...  \n",
       "195         0  \n",
       "196         0  \n",
       "197         2  \n",
       "198         1  \n",
       "199         2  \n",
       "\n",
       "[200 rows x 6 columns]"
      ]
     },
     "execution_count": 41,
     "metadata": {},
     "output_type": "execute_result"
    }
   ],
   "source": [
    "#Creating a copy of the dataframe\n",
    "new_df = df.copy()\n",
    "#Adding the cluster data with dataframe\n",
    "new_df['kcluster'] = pd.Series(Cluster_kms)\n",
    "new_df"
   ]
  },
  {
   "cell_type": "markdown",
   "id": "2788b836",
   "metadata": {
    "id": "ue5FUXJV-X5z",
    "papermill": {
     "duration": 0.022538,
     "end_time": "2023-02-26T20:25:47.554348",
     "exception": false,
     "start_time": "2023-02-26T20:25:47.531810",
     "status": "completed"
    },
    "tags": []
   },
   "source": [
    "# **11) SPLITTING THE DATA INTO DEPENDENT AND INDEPENDENT VARIABLES**"
   ]
  },
  {
   "cell_type": "code",
   "execution_count": 42,
   "id": "6ab2febe",
   "metadata": {
    "execution": {
     "iopub.execute_input": "2023-02-26T20:25:47.601836Z",
     "iopub.status.busy": "2023-02-26T20:25:47.601368Z",
     "iopub.status.idle": "2023-02-26T20:25:47.613735Z",
     "shell.execute_reply": "2023-02-26T20:25:47.612767Z"
    },
    "id": "K9YKZWse-KuF",
    "outputId": "f44ff44e-a137-4f37-b37b-dad6da89c6a0",
    "papermill": {
     "duration": 0.038553,
     "end_time": "2023-02-26T20:25:47.615636",
     "exception": false,
     "start_time": "2023-02-26T20:25:47.577083",
     "status": "completed"
    },
    "tags": []
   },
   "outputs": [
    {
     "data": {
      "text/html": [
       "<div>\n",
       "<style scoped>\n",
       "    .dataframe tbody tr th:only-of-type {\n",
       "        vertical-align: middle;\n",
       "    }\n",
       "\n",
       "    .dataframe tbody tr th {\n",
       "        vertical-align: top;\n",
       "    }\n",
       "\n",
       "    .dataframe thead th {\n",
       "        text-align: right;\n",
       "    }\n",
       "</style>\n",
       "<table border=\"1\" class=\"dataframe\">\n",
       "  <thead>\n",
       "    <tr style=\"text-align: right;\">\n",
       "      <th></th>\n",
       "      <th>CustomerID</th>\n",
       "      <th>Gender</th>\n",
       "      <th>Age</th>\n",
       "      <th>Annual Income (k$)</th>\n",
       "      <th>Spending Score (1-100)</th>\n",
       "    </tr>\n",
       "  </thead>\n",
       "  <tbody>\n",
       "    <tr>\n",
       "      <th>0</th>\n",
       "      <td>1</td>\n",
       "      <td>1</td>\n",
       "      <td>19</td>\n",
       "      <td>15</td>\n",
       "      <td>39</td>\n",
       "    </tr>\n",
       "    <tr>\n",
       "      <th>1</th>\n",
       "      <td>2</td>\n",
       "      <td>1</td>\n",
       "      <td>21</td>\n",
       "      <td>15</td>\n",
       "      <td>81</td>\n",
       "    </tr>\n",
       "    <tr>\n",
       "      <th>2</th>\n",
       "      <td>3</td>\n",
       "      <td>0</td>\n",
       "      <td>20</td>\n",
       "      <td>16</td>\n",
       "      <td>6</td>\n",
       "    </tr>\n",
       "    <tr>\n",
       "      <th>3</th>\n",
       "      <td>4</td>\n",
       "      <td>0</td>\n",
       "      <td>23</td>\n",
       "      <td>16</td>\n",
       "      <td>77</td>\n",
       "    </tr>\n",
       "    <tr>\n",
       "      <th>4</th>\n",
       "      <td>5</td>\n",
       "      <td>0</td>\n",
       "      <td>31</td>\n",
       "      <td>17</td>\n",
       "      <td>40</td>\n",
       "    </tr>\n",
       "    <tr>\n",
       "      <th>...</th>\n",
       "      <td>...</td>\n",
       "      <td>...</td>\n",
       "      <td>...</td>\n",
       "      <td>...</td>\n",
       "      <td>...</td>\n",
       "    </tr>\n",
       "    <tr>\n",
       "      <th>195</th>\n",
       "      <td>196</td>\n",
       "      <td>0</td>\n",
       "      <td>35</td>\n",
       "      <td>120</td>\n",
       "      <td>79</td>\n",
       "    </tr>\n",
       "    <tr>\n",
       "      <th>196</th>\n",
       "      <td>197</td>\n",
       "      <td>0</td>\n",
       "      <td>45</td>\n",
       "      <td>126</td>\n",
       "      <td>28</td>\n",
       "    </tr>\n",
       "    <tr>\n",
       "      <th>197</th>\n",
       "      <td>198</td>\n",
       "      <td>1</td>\n",
       "      <td>32</td>\n",
       "      <td>126</td>\n",
       "      <td>74</td>\n",
       "    </tr>\n",
       "    <tr>\n",
       "      <th>198</th>\n",
       "      <td>199</td>\n",
       "      <td>1</td>\n",
       "      <td>32</td>\n",
       "      <td>137</td>\n",
       "      <td>18</td>\n",
       "    </tr>\n",
       "    <tr>\n",
       "      <th>199</th>\n",
       "      <td>200</td>\n",
       "      <td>1</td>\n",
       "      <td>30</td>\n",
       "      <td>137</td>\n",
       "      <td>83</td>\n",
       "    </tr>\n",
       "  </tbody>\n",
       "</table>\n",
       "<p>200 rows × 5 columns</p>\n",
       "</div>"
      ],
      "text/plain": [
       "     CustomerID  Gender  Age  Annual Income (k$)  Spending Score (1-100)\n",
       "0             1       1   19                  15                      39\n",
       "1             2       1   21                  15                      81\n",
       "2             3       0   20                  16                       6\n",
       "3             4       0   23                  16                      77\n",
       "4             5       0   31                  17                      40\n",
       "..          ...     ...  ...                 ...                     ...\n",
       "195         196       0   35                 120                      79\n",
       "196         197       0   45                 126                      28\n",
       "197         198       1   32                 126                      74\n",
       "198         199       1   32                 137                      18\n",
       "199         200       1   30                 137                      83\n",
       "\n",
       "[200 rows x 5 columns]"
      ]
     },
     "execution_count": 42,
     "metadata": {},
     "output_type": "execute_result"
    }
   ],
   "source": [
    "#Independent variable\n",
    "X=new_df.iloc[:,:-1]\n",
    "X"
   ]
  },
  {
   "cell_type": "code",
   "execution_count": 43,
   "id": "c32d3e81",
   "metadata": {
    "execution": {
     "iopub.execute_input": "2023-02-26T20:25:47.663083Z",
     "iopub.status.busy": "2023-02-26T20:25:47.662695Z",
     "iopub.status.idle": "2023-02-26T20:25:47.670319Z",
     "shell.execute_reply": "2023-02-26T20:25:47.669344Z"
    },
    "id": "iyq3xWLK_1bK",
    "outputId": "eb867617-638f-479a-fa0c-94fab37129fb",
    "papermill": {
     "duration": 0.033525,
     "end_time": "2023-02-26T20:25:47.672020",
     "exception": false,
     "start_time": "2023-02-26T20:25:47.638495",
     "status": "completed"
    },
    "tags": []
   },
   "outputs": [
    {
     "data": {
      "text/plain": [
       "0      2\n",
       "1      2\n",
       "2      0\n",
       "3      0\n",
       "4      0\n",
       "      ..\n",
       "195    0\n",
       "196    0\n",
       "197    2\n",
       "198    1\n",
       "199    2\n",
       "Name: kcluster, Length: 200, dtype: int32"
      ]
     },
     "execution_count": 43,
     "metadata": {},
     "output_type": "execute_result"
    }
   ],
   "source": [
    "#dedpendent variable\n",
    "y=new_df.kcluster\n",
    "y"
   ]
  },
  {
   "cell_type": "markdown",
   "id": "4267b185",
   "metadata": {
    "id": "ZRa_VQZG9TUy",
    "papermill": {
     "duration": 0.022595,
     "end_time": "2023-02-26T20:25:47.717402",
     "exception": false,
     "start_time": "2023-02-26T20:25:47.694807",
     "status": "completed"
    },
    "tags": []
   },
   "source": [
    "# **12) SPLITTING THE DATA INTO TRAINING DATA AND TEST DATA**"
   ]
  },
  {
   "cell_type": "code",
   "execution_count": 44,
   "id": "f682debe",
   "metadata": {
    "execution": {
     "iopub.execute_input": "2023-02-26T20:25:47.764989Z",
     "iopub.status.busy": "2023-02-26T20:25:47.764572Z",
     "iopub.status.idle": "2023-02-26T20:25:47.772382Z",
     "shell.execute_reply": "2023-02-26T20:25:47.771249Z"
    },
    "id": "qsjnfmS48QWq",
    "papermill": {
     "duration": 0.033962,
     "end_time": "2023-02-26T20:25:47.774166",
     "exception": false,
     "start_time": "2023-02-26T20:25:47.740204",
     "status": "completed"
    },
    "tags": []
   },
   "outputs": [],
   "source": [
    "from sklearn.model_selection import train_test_split\n",
    "X_train,X_test,y_train,y_test = train_test_split(X,y,test_size=0.3,random_state=0)\n",
    "#0.3 indicates 30% test dataset and remaining 70% training dataset which is ideal size of dataset for ml algorithms training and testing "
   ]
  },
  {
   "cell_type": "code",
   "execution_count": 45,
   "id": "c2689e46",
   "metadata": {
    "execution": {
     "iopub.execute_input": "2023-02-26T20:25:47.821836Z",
     "iopub.status.busy": "2023-02-26T20:25:47.821455Z",
     "iopub.status.idle": "2023-02-26T20:25:47.833277Z",
     "shell.execute_reply": "2023-02-26T20:25:47.832576Z"
    },
    "id": "EEuuCJVeBLzy",
    "outputId": "70fc84d7-025d-41ea-fbad-9d8a3879de87",
    "papermill": {
     "duration": 0.037647,
     "end_time": "2023-02-26T20:25:47.834905",
     "exception": false,
     "start_time": "2023-02-26T20:25:47.797258",
     "status": "completed"
    },
    "tags": []
   },
   "outputs": [
    {
     "data": {
      "text/html": [
       "<div>\n",
       "<style scoped>\n",
       "    .dataframe tbody tr th:only-of-type {\n",
       "        vertical-align: middle;\n",
       "    }\n",
       "\n",
       "    .dataframe tbody tr th {\n",
       "        vertical-align: top;\n",
       "    }\n",
       "\n",
       "    .dataframe thead th {\n",
       "        text-align: right;\n",
       "    }\n",
       "</style>\n",
       "<table border=\"1\" class=\"dataframe\">\n",
       "  <thead>\n",
       "    <tr style=\"text-align: right;\">\n",
       "      <th></th>\n",
       "      <th>CustomerID</th>\n",
       "      <th>Gender</th>\n",
       "      <th>Age</th>\n",
       "      <th>Annual Income (k$)</th>\n",
       "      <th>Spending Score (1-100)</th>\n",
       "    </tr>\n",
       "  </thead>\n",
       "  <tbody>\n",
       "    <tr>\n",
       "      <th>131</th>\n",
       "      <td>132</td>\n",
       "      <td>1</td>\n",
       "      <td>39</td>\n",
       "      <td>71</td>\n",
       "      <td>75</td>\n",
       "    </tr>\n",
       "    <tr>\n",
       "      <th>96</th>\n",
       "      <td>97</td>\n",
       "      <td>0</td>\n",
       "      <td>47</td>\n",
       "      <td>60</td>\n",
       "      <td>47</td>\n",
       "    </tr>\n",
       "    <tr>\n",
       "      <th>181</th>\n",
       "      <td>182</td>\n",
       "      <td>0</td>\n",
       "      <td>32</td>\n",
       "      <td>97</td>\n",
       "      <td>86</td>\n",
       "    </tr>\n",
       "    <tr>\n",
       "      <th>19</th>\n",
       "      <td>20</td>\n",
       "      <td>0</td>\n",
       "      <td>35</td>\n",
       "      <td>23</td>\n",
       "      <td>98</td>\n",
       "    </tr>\n",
       "    <tr>\n",
       "      <th>153</th>\n",
       "      <td>154</td>\n",
       "      <td>0</td>\n",
       "      <td>38</td>\n",
       "      <td>78</td>\n",
       "      <td>76</td>\n",
       "    </tr>\n",
       "    <tr>\n",
       "      <th>...</th>\n",
       "      <td>...</td>\n",
       "      <td>...</td>\n",
       "      <td>...</td>\n",
       "      <td>...</td>\n",
       "      <td>...</td>\n",
       "    </tr>\n",
       "    <tr>\n",
       "      <th>67</th>\n",
       "      <td>68</td>\n",
       "      <td>0</td>\n",
       "      <td>68</td>\n",
       "      <td>48</td>\n",
       "      <td>48</td>\n",
       "    </tr>\n",
       "    <tr>\n",
       "      <th>192</th>\n",
       "      <td>193</td>\n",
       "      <td>1</td>\n",
       "      <td>33</td>\n",
       "      <td>113</td>\n",
       "      <td>8</td>\n",
       "    </tr>\n",
       "    <tr>\n",
       "      <th>117</th>\n",
       "      <td>118</td>\n",
       "      <td>0</td>\n",
       "      <td>49</td>\n",
       "      <td>65</td>\n",
       "      <td>59</td>\n",
       "    </tr>\n",
       "    <tr>\n",
       "      <th>47</th>\n",
       "      <td>48</td>\n",
       "      <td>0</td>\n",
       "      <td>27</td>\n",
       "      <td>40</td>\n",
       "      <td>47</td>\n",
       "    </tr>\n",
       "    <tr>\n",
       "      <th>172</th>\n",
       "      <td>173</td>\n",
       "      <td>1</td>\n",
       "      <td>36</td>\n",
       "      <td>87</td>\n",
       "      <td>10</td>\n",
       "    </tr>\n",
       "  </tbody>\n",
       "</table>\n",
       "<p>140 rows × 5 columns</p>\n",
       "</div>"
      ],
      "text/plain": [
       "     CustomerID  Gender  Age  Annual Income (k$)  Spending Score (1-100)\n",
       "131         132       1   39                  71                      75\n",
       "96           97       0   47                  60                      47\n",
       "181         182       0   32                  97                      86\n",
       "19           20       0   35                  23                      98\n",
       "153         154       0   38                  78                      76\n",
       "..          ...     ...  ...                 ...                     ...\n",
       "67           68       0   68                  48                      48\n",
       "192         193       1   33                 113                       8\n",
       "117         118       0   49                  65                      59\n",
       "47           48       0   27                  40                      47\n",
       "172         173       1   36                  87                      10\n",
       "\n",
       "[140 rows x 5 columns]"
      ]
     },
     "execution_count": 45,
     "metadata": {},
     "output_type": "execute_result"
    }
   ],
   "source": [
    "X_train"
   ]
  },
  {
   "cell_type": "code",
   "execution_count": 46,
   "id": "bf4ffa56",
   "metadata": {
    "execution": {
     "iopub.execute_input": "2023-02-26T20:25:47.883342Z",
     "iopub.status.busy": "2023-02-26T20:25:47.882996Z",
     "iopub.status.idle": "2023-02-26T20:25:47.891290Z",
     "shell.execute_reply": "2023-02-26T20:25:47.890043Z"
    },
    "id": "bCwCUXmxBW7m",
    "outputId": "81d6a713-eb09-47a6-86be-abdbb4ed5642",
    "papermill": {
     "duration": 0.034721,
     "end_time": "2023-02-26T20:25:47.893099",
     "exception": false,
     "start_time": "2023-02-26T20:25:47.858378",
     "status": "completed"
    },
    "tags": []
   },
   "outputs": [
    {
     "data": {
      "text/plain": [
       "131    2\n",
       "96     0\n",
       "181    0\n",
       "19     0\n",
       "153    0\n",
       "      ..\n",
       "67     0\n",
       "192    1\n",
       "117    0\n",
       "47     0\n",
       "172    1\n",
       "Name: kcluster, Length: 140, dtype: int32"
      ]
     },
     "execution_count": 46,
     "metadata": {},
     "output_type": "execute_result"
    }
   ],
   "source": [
    "y_train"
   ]
  },
  {
   "cell_type": "code",
   "execution_count": 47,
   "id": "e9e01d30",
   "metadata": {
    "execution": {
     "iopub.execute_input": "2023-02-26T20:25:47.941379Z",
     "iopub.status.busy": "2023-02-26T20:25:47.941015Z",
     "iopub.status.idle": "2023-02-26T20:25:47.956623Z",
     "shell.execute_reply": "2023-02-26T20:25:47.955150Z"
    },
    "id": "MqnxhheJBaeU",
    "outputId": "22c8dc4c-0e8e-44e8-b635-ddd5dfbd0c57",
    "papermill": {
     "duration": 0.042253,
     "end_time": "2023-02-26T20:25:47.958760",
     "exception": false,
     "start_time": "2023-02-26T20:25:47.916507",
     "status": "completed"
    },
    "tags": []
   },
   "outputs": [
    {
     "data": {
      "text/html": [
       "<div>\n",
       "<style scoped>\n",
       "    .dataframe tbody tr th:only-of-type {\n",
       "        vertical-align: middle;\n",
       "    }\n",
       "\n",
       "    .dataframe tbody tr th {\n",
       "        vertical-align: top;\n",
       "    }\n",
       "\n",
       "    .dataframe thead th {\n",
       "        text-align: right;\n",
       "    }\n",
       "</style>\n",
       "<table border=\"1\" class=\"dataframe\">\n",
       "  <thead>\n",
       "    <tr style=\"text-align: right;\">\n",
       "      <th></th>\n",
       "      <th>CustomerID</th>\n",
       "      <th>Gender</th>\n",
       "      <th>Age</th>\n",
       "      <th>Annual Income (k$)</th>\n",
       "      <th>Spending Score (1-100)</th>\n",
       "    </tr>\n",
       "  </thead>\n",
       "  <tbody>\n",
       "    <tr>\n",
       "      <th>18</th>\n",
       "      <td>19</td>\n",
       "      <td>1</td>\n",
       "      <td>52</td>\n",
       "      <td>23</td>\n",
       "      <td>29</td>\n",
       "    </tr>\n",
       "    <tr>\n",
       "      <th>170</th>\n",
       "      <td>171</td>\n",
       "      <td>1</td>\n",
       "      <td>40</td>\n",
       "      <td>87</td>\n",
       "      <td>13</td>\n",
       "    </tr>\n",
       "    <tr>\n",
       "      <th>107</th>\n",
       "      <td>108</td>\n",
       "      <td>1</td>\n",
       "      <td>54</td>\n",
       "      <td>63</td>\n",
       "      <td>46</td>\n",
       "    </tr>\n",
       "    <tr>\n",
       "      <th>98</th>\n",
       "      <td>99</td>\n",
       "      <td>1</td>\n",
       "      <td>48</td>\n",
       "      <td>61</td>\n",
       "      <td>42</td>\n",
       "    </tr>\n",
       "    <tr>\n",
       "      <th>177</th>\n",
       "      <td>178</td>\n",
       "      <td>1</td>\n",
       "      <td>27</td>\n",
       "      <td>88</td>\n",
       "      <td>69</td>\n",
       "    </tr>\n",
       "    <tr>\n",
       "      <th>182</th>\n",
       "      <td>183</td>\n",
       "      <td>1</td>\n",
       "      <td>46</td>\n",
       "      <td>98</td>\n",
       "      <td>15</td>\n",
       "    </tr>\n",
       "    <tr>\n",
       "      <th>5</th>\n",
       "      <td>6</td>\n",
       "      <td>0</td>\n",
       "      <td>22</td>\n",
       "      <td>17</td>\n",
       "      <td>76</td>\n",
       "    </tr>\n",
       "    <tr>\n",
       "      <th>146</th>\n",
       "      <td>147</td>\n",
       "      <td>1</td>\n",
       "      <td>48</td>\n",
       "      <td>77</td>\n",
       "      <td>36</td>\n",
       "    </tr>\n",
       "    <tr>\n",
       "      <th>12</th>\n",
       "      <td>13</td>\n",
       "      <td>0</td>\n",
       "      <td>58</td>\n",
       "      <td>20</td>\n",
       "      <td>15</td>\n",
       "    </tr>\n",
       "    <tr>\n",
       "      <th>152</th>\n",
       "      <td>153</td>\n",
       "      <td>0</td>\n",
       "      <td>44</td>\n",
       "      <td>78</td>\n",
       "      <td>20</td>\n",
       "    </tr>\n",
       "    <tr>\n",
       "      <th>61</th>\n",
       "      <td>62</td>\n",
       "      <td>1</td>\n",
       "      <td>19</td>\n",
       "      <td>46</td>\n",
       "      <td>55</td>\n",
       "    </tr>\n",
       "    <tr>\n",
       "      <th>125</th>\n",
       "      <td>126</td>\n",
       "      <td>0</td>\n",
       "      <td>31</td>\n",
       "      <td>70</td>\n",
       "      <td>77</td>\n",
       "    </tr>\n",
       "    <tr>\n",
       "      <th>180</th>\n",
       "      <td>181</td>\n",
       "      <td>0</td>\n",
       "      <td>37</td>\n",
       "      <td>97</td>\n",
       "      <td>32</td>\n",
       "    </tr>\n",
       "    <tr>\n",
       "      <th>154</th>\n",
       "      <td>155</td>\n",
       "      <td>0</td>\n",
       "      <td>47</td>\n",
       "      <td>78</td>\n",
       "      <td>16</td>\n",
       "    </tr>\n",
       "    <tr>\n",
       "      <th>80</th>\n",
       "      <td>81</td>\n",
       "      <td>1</td>\n",
       "      <td>57</td>\n",
       "      <td>54</td>\n",
       "      <td>51</td>\n",
       "    </tr>\n",
       "    <tr>\n",
       "      <th>7</th>\n",
       "      <td>8</td>\n",
       "      <td>0</td>\n",
       "      <td>23</td>\n",
       "      <td>18</td>\n",
       "      <td>94</td>\n",
       "    </tr>\n",
       "    <tr>\n",
       "      <th>33</th>\n",
       "      <td>34</td>\n",
       "      <td>1</td>\n",
       "      <td>18</td>\n",
       "      <td>33</td>\n",
       "      <td>92</td>\n",
       "    </tr>\n",
       "    <tr>\n",
       "      <th>130</th>\n",
       "      <td>131</td>\n",
       "      <td>1</td>\n",
       "      <td>47</td>\n",
       "      <td>71</td>\n",
       "      <td>9</td>\n",
       "    </tr>\n",
       "    <tr>\n",
       "      <th>37</th>\n",
       "      <td>38</td>\n",
       "      <td>0</td>\n",
       "      <td>30</td>\n",
       "      <td>34</td>\n",
       "      <td>73</td>\n",
       "    </tr>\n",
       "    <tr>\n",
       "      <th>74</th>\n",
       "      <td>75</td>\n",
       "      <td>1</td>\n",
       "      <td>59</td>\n",
       "      <td>54</td>\n",
       "      <td>47</td>\n",
       "    </tr>\n",
       "    <tr>\n",
       "      <th>183</th>\n",
       "      <td>184</td>\n",
       "      <td>0</td>\n",
       "      <td>29</td>\n",
       "      <td>98</td>\n",
       "      <td>88</td>\n",
       "    </tr>\n",
       "    <tr>\n",
       "      <th>145</th>\n",
       "      <td>146</td>\n",
       "      <td>1</td>\n",
       "      <td>28</td>\n",
       "      <td>77</td>\n",
       "      <td>97</td>\n",
       "    </tr>\n",
       "    <tr>\n",
       "      <th>45</th>\n",
       "      <td>46</td>\n",
       "      <td>0</td>\n",
       "      <td>24</td>\n",
       "      <td>39</td>\n",
       "      <td>65</td>\n",
       "    </tr>\n",
       "    <tr>\n",
       "      <th>159</th>\n",
       "      <td>160</td>\n",
       "      <td>0</td>\n",
       "      <td>30</td>\n",
       "      <td>78</td>\n",
       "      <td>73</td>\n",
       "    </tr>\n",
       "    <tr>\n",
       "      <th>60</th>\n",
       "      <td>61</td>\n",
       "      <td>1</td>\n",
       "      <td>70</td>\n",
       "      <td>46</td>\n",
       "      <td>56</td>\n",
       "    </tr>\n",
       "    <tr>\n",
       "      <th>123</th>\n",
       "      <td>124</td>\n",
       "      <td>1</td>\n",
       "      <td>39</td>\n",
       "      <td>69</td>\n",
       "      <td>91</td>\n",
       "    </tr>\n",
       "    <tr>\n",
       "      <th>179</th>\n",
       "      <td>180</td>\n",
       "      <td>1</td>\n",
       "      <td>35</td>\n",
       "      <td>93</td>\n",
       "      <td>90</td>\n",
       "    </tr>\n",
       "    <tr>\n",
       "      <th>185</th>\n",
       "      <td>186</td>\n",
       "      <td>1</td>\n",
       "      <td>30</td>\n",
       "      <td>99</td>\n",
       "      <td>97</td>\n",
       "    </tr>\n",
       "    <tr>\n",
       "      <th>122</th>\n",
       "      <td>123</td>\n",
       "      <td>0</td>\n",
       "      <td>40</td>\n",
       "      <td>69</td>\n",
       "      <td>58</td>\n",
       "    </tr>\n",
       "    <tr>\n",
       "      <th>44</th>\n",
       "      <td>45</td>\n",
       "      <td>0</td>\n",
       "      <td>49</td>\n",
       "      <td>39</td>\n",
       "      <td>28</td>\n",
       "    </tr>\n",
       "    <tr>\n",
       "      <th>16</th>\n",
       "      <td>17</td>\n",
       "      <td>0</td>\n",
       "      <td>35</td>\n",
       "      <td>21</td>\n",
       "      <td>35</td>\n",
       "    </tr>\n",
       "    <tr>\n",
       "      <th>55</th>\n",
       "      <td>56</td>\n",
       "      <td>1</td>\n",
       "      <td>47</td>\n",
       "      <td>43</td>\n",
       "      <td>41</td>\n",
       "    </tr>\n",
       "    <tr>\n",
       "      <th>150</th>\n",
       "      <td>151</td>\n",
       "      <td>1</td>\n",
       "      <td>43</td>\n",
       "      <td>78</td>\n",
       "      <td>17</td>\n",
       "    </tr>\n",
       "    <tr>\n",
       "      <th>111</th>\n",
       "      <td>112</td>\n",
       "      <td>0</td>\n",
       "      <td>19</td>\n",
       "      <td>63</td>\n",
       "      <td>54</td>\n",
       "    </tr>\n",
       "    <tr>\n",
       "      <th>22</th>\n",
       "      <td>23</td>\n",
       "      <td>0</td>\n",
       "      <td>46</td>\n",
       "      <td>25</td>\n",
       "      <td>5</td>\n",
       "    </tr>\n",
       "    <tr>\n",
       "      <th>189</th>\n",
       "      <td>190</td>\n",
       "      <td>0</td>\n",
       "      <td>36</td>\n",
       "      <td>103</td>\n",
       "      <td>85</td>\n",
       "    </tr>\n",
       "    <tr>\n",
       "      <th>129</th>\n",
       "      <td>130</td>\n",
       "      <td>1</td>\n",
       "      <td>38</td>\n",
       "      <td>71</td>\n",
       "      <td>75</td>\n",
       "    </tr>\n",
       "    <tr>\n",
       "      <th>4</th>\n",
       "      <td>5</td>\n",
       "      <td>0</td>\n",
       "      <td>31</td>\n",
       "      <td>17</td>\n",
       "      <td>40</td>\n",
       "    </tr>\n",
       "    <tr>\n",
       "      <th>83</th>\n",
       "      <td>84</td>\n",
       "      <td>0</td>\n",
       "      <td>46</td>\n",
       "      <td>54</td>\n",
       "      <td>44</td>\n",
       "    </tr>\n",
       "    <tr>\n",
       "      <th>106</th>\n",
       "      <td>107</td>\n",
       "      <td>0</td>\n",
       "      <td>66</td>\n",
       "      <td>63</td>\n",
       "      <td>50</td>\n",
       "    </tr>\n",
       "    <tr>\n",
       "      <th>134</th>\n",
       "      <td>135</td>\n",
       "      <td>1</td>\n",
       "      <td>20</td>\n",
       "      <td>73</td>\n",
       "      <td>5</td>\n",
       "    </tr>\n",
       "    <tr>\n",
       "      <th>66</th>\n",
       "      <td>67</td>\n",
       "      <td>0</td>\n",
       "      <td>43</td>\n",
       "      <td>48</td>\n",
       "      <td>50</td>\n",
       "    </tr>\n",
       "    <tr>\n",
       "      <th>26</th>\n",
       "      <td>27</td>\n",
       "      <td>0</td>\n",
       "      <td>45</td>\n",
       "      <td>28</td>\n",
       "      <td>32</td>\n",
       "    </tr>\n",
       "    <tr>\n",
       "      <th>113</th>\n",
       "      <td>114</td>\n",
       "      <td>1</td>\n",
       "      <td>19</td>\n",
       "      <td>64</td>\n",
       "      <td>46</td>\n",
       "    </tr>\n",
       "    <tr>\n",
       "      <th>168</th>\n",
       "      <td>169</td>\n",
       "      <td>0</td>\n",
       "      <td>36</td>\n",
       "      <td>87</td>\n",
       "      <td>27</td>\n",
       "    </tr>\n",
       "    <tr>\n",
       "      <th>63</th>\n",
       "      <td>64</td>\n",
       "      <td>0</td>\n",
       "      <td>54</td>\n",
       "      <td>47</td>\n",
       "      <td>59</td>\n",
       "    </tr>\n",
       "    <tr>\n",
       "      <th>8</th>\n",
       "      <td>9</td>\n",
       "      <td>1</td>\n",
       "      <td>64</td>\n",
       "      <td>19</td>\n",
       "      <td>3</td>\n",
       "    </tr>\n",
       "    <tr>\n",
       "      <th>75</th>\n",
       "      <td>76</td>\n",
       "      <td>1</td>\n",
       "      <td>26</td>\n",
       "      <td>54</td>\n",
       "      <td>54</td>\n",
       "    </tr>\n",
       "    <tr>\n",
       "      <th>118</th>\n",
       "      <td>119</td>\n",
       "      <td>0</td>\n",
       "      <td>51</td>\n",
       "      <td>67</td>\n",
       "      <td>43</td>\n",
       "    </tr>\n",
       "    <tr>\n",
       "      <th>143</th>\n",
       "      <td>144</td>\n",
       "      <td>0</td>\n",
       "      <td>32</td>\n",
       "      <td>76</td>\n",
       "      <td>87</td>\n",
       "    </tr>\n",
       "    <tr>\n",
       "      <th>71</th>\n",
       "      <td>72</td>\n",
       "      <td>0</td>\n",
       "      <td>47</td>\n",
       "      <td>49</td>\n",
       "      <td>42</td>\n",
       "    </tr>\n",
       "    <tr>\n",
       "      <th>124</th>\n",
       "      <td>125</td>\n",
       "      <td>0</td>\n",
       "      <td>23</td>\n",
       "      <td>70</td>\n",
       "      <td>29</td>\n",
       "    </tr>\n",
       "    <tr>\n",
       "      <th>184</th>\n",
       "      <td>185</td>\n",
       "      <td>0</td>\n",
       "      <td>41</td>\n",
       "      <td>99</td>\n",
       "      <td>39</td>\n",
       "    </tr>\n",
       "    <tr>\n",
       "      <th>97</th>\n",
       "      <td>98</td>\n",
       "      <td>0</td>\n",
       "      <td>27</td>\n",
       "      <td>60</td>\n",
       "      <td>50</td>\n",
       "    </tr>\n",
       "    <tr>\n",
       "      <th>149</th>\n",
       "      <td>150</td>\n",
       "      <td>1</td>\n",
       "      <td>34</td>\n",
       "      <td>78</td>\n",
       "      <td>90</td>\n",
       "    </tr>\n",
       "    <tr>\n",
       "      <th>24</th>\n",
       "      <td>25</td>\n",
       "      <td>0</td>\n",
       "      <td>54</td>\n",
       "      <td>28</td>\n",
       "      <td>14</td>\n",
       "    </tr>\n",
       "    <tr>\n",
       "      <th>30</th>\n",
       "      <td>31</td>\n",
       "      <td>1</td>\n",
       "      <td>60</td>\n",
       "      <td>30</td>\n",
       "      <td>4</td>\n",
       "    </tr>\n",
       "    <tr>\n",
       "      <th>160</th>\n",
       "      <td>161</td>\n",
       "      <td>0</td>\n",
       "      <td>56</td>\n",
       "      <td>79</td>\n",
       "      <td>35</td>\n",
       "    </tr>\n",
       "    <tr>\n",
       "      <th>40</th>\n",
       "      <td>41</td>\n",
       "      <td>0</td>\n",
       "      <td>65</td>\n",
       "      <td>38</td>\n",
       "      <td>35</td>\n",
       "    </tr>\n",
       "    <tr>\n",
       "      <th>56</th>\n",
       "      <td>57</td>\n",
       "      <td>0</td>\n",
       "      <td>51</td>\n",
       "      <td>44</td>\n",
       "      <td>50</td>\n",
       "    </tr>\n",
       "  </tbody>\n",
       "</table>\n",
       "</div>"
      ],
      "text/plain": [
       "     CustomerID  Gender  Age  Annual Income (k$)  Spending Score (1-100)\n",
       "18           19       1   52                  23                      29\n",
       "170         171       1   40                  87                      13\n",
       "107         108       1   54                  63                      46\n",
       "98           99       1   48                  61                      42\n",
       "177         178       1   27                  88                      69\n",
       "182         183       1   46                  98                      15\n",
       "5             6       0   22                  17                      76\n",
       "146         147       1   48                  77                      36\n",
       "12           13       0   58                  20                      15\n",
       "152         153       0   44                  78                      20\n",
       "61           62       1   19                  46                      55\n",
       "125         126       0   31                  70                      77\n",
       "180         181       0   37                  97                      32\n",
       "154         155       0   47                  78                      16\n",
       "80           81       1   57                  54                      51\n",
       "7             8       0   23                  18                      94\n",
       "33           34       1   18                  33                      92\n",
       "130         131       1   47                  71                       9\n",
       "37           38       0   30                  34                      73\n",
       "74           75       1   59                  54                      47\n",
       "183         184       0   29                  98                      88\n",
       "145         146       1   28                  77                      97\n",
       "45           46       0   24                  39                      65\n",
       "159         160       0   30                  78                      73\n",
       "60           61       1   70                  46                      56\n",
       "123         124       1   39                  69                      91\n",
       "179         180       1   35                  93                      90\n",
       "185         186       1   30                  99                      97\n",
       "122         123       0   40                  69                      58\n",
       "44           45       0   49                  39                      28\n",
       "16           17       0   35                  21                      35\n",
       "55           56       1   47                  43                      41\n",
       "150         151       1   43                  78                      17\n",
       "111         112       0   19                  63                      54\n",
       "22           23       0   46                  25                       5\n",
       "189         190       0   36                 103                      85\n",
       "129         130       1   38                  71                      75\n",
       "4             5       0   31                  17                      40\n",
       "83           84       0   46                  54                      44\n",
       "106         107       0   66                  63                      50\n",
       "134         135       1   20                  73                       5\n",
       "66           67       0   43                  48                      50\n",
       "26           27       0   45                  28                      32\n",
       "113         114       1   19                  64                      46\n",
       "168         169       0   36                  87                      27\n",
       "63           64       0   54                  47                      59\n",
       "8             9       1   64                  19                       3\n",
       "75           76       1   26                  54                      54\n",
       "118         119       0   51                  67                      43\n",
       "143         144       0   32                  76                      87\n",
       "71           72       0   47                  49                      42\n",
       "124         125       0   23                  70                      29\n",
       "184         185       0   41                  99                      39\n",
       "97           98       0   27                  60                      50\n",
       "149         150       1   34                  78                      90\n",
       "24           25       0   54                  28                      14\n",
       "30           31       1   60                  30                       4\n",
       "160         161       0   56                  79                      35\n",
       "40           41       0   65                  38                      35\n",
       "56           57       0   51                  44                      50"
      ]
     },
     "execution_count": 47,
     "metadata": {},
     "output_type": "execute_result"
    }
   ],
   "source": [
    "X_test"
   ]
  },
  {
   "cell_type": "code",
   "execution_count": 48,
   "id": "aa788288",
   "metadata": {
    "execution": {
     "iopub.execute_input": "2023-02-26T20:25:48.008517Z",
     "iopub.status.busy": "2023-02-26T20:25:48.008160Z",
     "iopub.status.idle": "2023-02-26T20:25:48.015676Z",
     "shell.execute_reply": "2023-02-26T20:25:48.014846Z"
    },
    "id": "yMvOkgXWBeH4",
    "outputId": "900fb32f-2789-42b9-d546-dc7b3b180a15",
    "papermill": {
     "duration": 0.03439,
     "end_time": "2023-02-26T20:25:48.017481",
     "exception": false,
     "start_time": "2023-02-26T20:25:47.983091",
     "status": "completed"
    },
    "tags": []
   },
   "outputs": [
    {
     "data": {
      "text/plain": [
       "18     1\n",
       "170    1\n",
       "107    1\n",
       "98     1\n",
       "177    2\n",
       "182    1\n",
       "5      0\n",
       "146    1\n",
       "12     0\n",
       "152    0\n",
       "61     2\n",
       "125    0\n",
       "180    0\n",
       "154    0\n",
       "80     1\n",
       "7      0\n",
       "33     2\n",
       "130    1\n",
       "37     0\n",
       "74     1\n",
       "183    0\n",
       "145    2\n",
       "45     0\n",
       "159    0\n",
       "60     1\n",
       "123    2\n",
       "179    2\n",
       "185    2\n",
       "122    0\n",
       "44     0\n",
       "16     0\n",
       "55     1\n",
       "150    1\n",
       "111    0\n",
       "22     0\n",
       "189    0\n",
       "129    2\n",
       "4      0\n",
       "83     0\n",
       "106    0\n",
       "134    1\n",
       "66     0\n",
       "26     0\n",
       "113    2\n",
       "168    0\n",
       "63     0\n",
       "8      1\n",
       "75     2\n",
       "118    0\n",
       "143    0\n",
       "71     0\n",
       "124    0\n",
       "184    0\n",
       "97     0\n",
       "149    2\n",
       "24     0\n",
       "30     1\n",
       "160    0\n",
       "40     0\n",
       "56     0\n",
       "Name: kcluster, dtype: int32"
      ]
     },
     "execution_count": 48,
     "metadata": {},
     "output_type": "execute_result"
    }
   ],
   "source": [
    "y_test"
   ]
  },
  {
   "cell_type": "markdown",
   "id": "e041e4c8",
   "metadata": {
    "id": "f_w818NSD6gd",
    "papermill": {
     "duration": 0.024158,
     "end_time": "2023-02-26T20:25:48.066150",
     "exception": false,
     "start_time": "2023-02-26T20:25:48.041992",
     "status": "completed"
    },
    "tags": []
   },
   "source": [
    "# **13) BUILD THE MODEL**"
   ]
  },
  {
   "cell_type": "code",
   "execution_count": 49,
   "id": "406fb572",
   "metadata": {
    "execution": {
     "iopub.execute_input": "2023-02-26T20:25:48.115912Z",
     "iopub.status.busy": "2023-02-26T20:25:48.115538Z",
     "iopub.status.idle": "2023-02-26T20:25:48.125525Z",
     "shell.execute_reply": "2023-02-26T20:25:48.124834Z"
    },
    "id": "UJ-eDNJ1EA8V",
    "papermill": {
     "duration": 0.03702,
     "end_time": "2023-02-26T20:25:48.127311",
     "exception": false,
     "start_time": "2023-02-26T20:25:48.090291",
     "status": "completed"
    },
    "tags": []
   },
   "outputs": [],
   "source": [
    "from sklearn.naive_bayes import GaussianNB  "
   ]
  },
  {
   "cell_type": "markdown",
   "id": "bc8626e3",
   "metadata": {
    "id": "yqc25G91EKEK",
    "papermill": {
     "duration": 0.023662,
     "end_time": "2023-02-26T20:25:48.175238",
     "exception": false,
     "start_time": "2023-02-26T20:25:48.151576",
     "status": "completed"
    },
    "tags": []
   },
   "source": [
    "# **14) TRAIN THE MODEL**"
   ]
  },
  {
   "cell_type": "code",
   "execution_count": 50,
   "id": "6c30a69c",
   "metadata": {
    "execution": {
     "iopub.execute_input": "2023-02-26T20:25:48.224415Z",
     "iopub.status.busy": "2023-02-26T20:25:48.224054Z",
     "iopub.status.idle": "2023-02-26T20:25:48.234763Z",
     "shell.execute_reply": "2023-02-26T20:25:48.233768Z"
    },
    "id": "0Jo1LSPnEQkB",
    "outputId": "dfe84f88-dfc4-4597-e8ed-42efc8598f24",
    "papermill": {
     "duration": 0.037366,
     "end_time": "2023-02-26T20:25:48.236381",
     "exception": false,
     "start_time": "2023-02-26T20:25:48.199015",
     "status": "completed"
    },
    "tags": []
   },
   "outputs": [
    {
     "data": {
      "text/plain": [
       "GaussianNB()"
      ]
     },
     "execution_count": 50,
     "metadata": {},
     "output_type": "execute_result"
    }
   ],
   "source": [
    "classifier = GaussianNB()  \n",
    "classifier.fit(X_train, y_train) "
   ]
  },
  {
   "cell_type": "markdown",
   "id": "a61578ec",
   "metadata": {
    "id": "eHISjIjXHLjB",
    "papermill": {
     "duration": 0.023935,
     "end_time": "2023-02-26T20:25:48.284059",
     "exception": false,
     "start_time": "2023-02-26T20:25:48.260124",
     "status": "completed"
    },
    "tags": []
   },
   "source": [
    "# **15) TEST THE MODEL**"
   ]
  },
  {
   "cell_type": "code",
   "execution_count": 51,
   "id": "fce9ed74",
   "metadata": {
    "execution": {
     "iopub.execute_input": "2023-02-26T20:25:48.333546Z",
     "iopub.status.busy": "2023-02-26T20:25:48.333165Z",
     "iopub.status.idle": "2023-02-26T20:25:48.341788Z",
     "shell.execute_reply": "2023-02-26T20:25:48.340459Z"
    },
    "id": "sDhi8spwEcc3",
    "outputId": "9cafdd1e-5921-442b-891a-14dcc4ee810d",
    "papermill": {
     "duration": 0.035781,
     "end_time": "2023-02-26T20:25:48.343595",
     "exception": false,
     "start_time": "2023-02-26T20:25:48.307814",
     "status": "completed"
    },
    "tags": []
   },
   "outputs": [
    {
     "data": {
      "text/plain": [
       "array([1, 1, 1, 1, 2, 1, 0, 1, 0, 0, 2, 0, 0, 0, 1, 0, 2, 1, 0, 1, 0, 2,\n",
       "       0, 0, 1, 2, 2, 2, 0, 0, 0, 1, 1, 0, 0, 0, 2, 0, 0, 0, 1, 0, 0, 2,\n",
       "       0, 0, 1, 2, 0, 0, 0, 0, 0, 0, 2, 0, 1, 0, 0, 0], dtype=int32)"
      ]
     },
     "execution_count": 51,
     "metadata": {},
     "output_type": "execute_result"
    }
   ],
   "source": [
    "y_pred = classifier.predict(X_test)  \n",
    "y_pred"
   ]
  },
  {
   "cell_type": "markdown",
   "id": "28eec47d",
   "metadata": {
    "id": "xCWSJwNRHSMT",
    "papermill": {
     "duration": 0.024107,
     "end_time": "2023-02-26T20:25:48.396138",
     "exception": false,
     "start_time": "2023-02-26T20:25:48.372031",
     "status": "completed"
    },
    "tags": []
   },
   "source": [
    "# **16) MEASURE THE PERFORMANCE USING EVALUATION METRICS**"
   ]
  },
  {
   "cell_type": "code",
   "execution_count": 52,
   "id": "1c07d691",
   "metadata": {
    "execution": {
     "iopub.execute_input": "2023-02-26T20:25:48.445888Z",
     "iopub.status.busy": "2023-02-26T20:25:48.445506Z",
     "iopub.status.idle": "2023-02-26T20:25:48.456849Z",
     "shell.execute_reply": "2023-02-26T20:25:48.456152Z"
    },
    "id": "qdVP65ukEwJD",
    "outputId": "7c450875-99d1-49b9-c00a-dca7c2156315",
    "papermill": {
     "duration": 0.038299,
     "end_time": "2023-02-26T20:25:48.458433",
     "exception": false,
     "start_time": "2023-02-26T20:25:48.420134",
     "status": "completed"
    },
    "tags": []
   },
   "outputs": [
    {
     "data": {
      "text/html": [
       "<div>\n",
       "<style scoped>\n",
       "    .dataframe tbody tr th:only-of-type {\n",
       "        vertical-align: middle;\n",
       "    }\n",
       "\n",
       "    .dataframe tbody tr th {\n",
       "        vertical-align: top;\n",
       "    }\n",
       "\n",
       "    .dataframe thead th {\n",
       "        text-align: right;\n",
       "    }\n",
       "</style>\n",
       "<table border=\"1\" class=\"dataframe\">\n",
       "  <thead>\n",
       "    <tr style=\"text-align: right;\">\n",
       "      <th></th>\n",
       "      <th>Actual_y_value</th>\n",
       "      <th>Predicted_y_value</th>\n",
       "    </tr>\n",
       "  </thead>\n",
       "  <tbody>\n",
       "    <tr>\n",
       "      <th>18</th>\n",
       "      <td>1</td>\n",
       "      <td>1</td>\n",
       "    </tr>\n",
       "    <tr>\n",
       "      <th>170</th>\n",
       "      <td>1</td>\n",
       "      <td>1</td>\n",
       "    </tr>\n",
       "    <tr>\n",
       "      <th>107</th>\n",
       "      <td>1</td>\n",
       "      <td>1</td>\n",
       "    </tr>\n",
       "    <tr>\n",
       "      <th>98</th>\n",
       "      <td>1</td>\n",
       "      <td>1</td>\n",
       "    </tr>\n",
       "    <tr>\n",
       "      <th>177</th>\n",
       "      <td>2</td>\n",
       "      <td>2</td>\n",
       "    </tr>\n",
       "    <tr>\n",
       "      <th>182</th>\n",
       "      <td>1</td>\n",
       "      <td>1</td>\n",
       "    </tr>\n",
       "    <tr>\n",
       "      <th>5</th>\n",
       "      <td>0</td>\n",
       "      <td>0</td>\n",
       "    </tr>\n",
       "    <tr>\n",
       "      <th>146</th>\n",
       "      <td>1</td>\n",
       "      <td>1</td>\n",
       "    </tr>\n",
       "    <tr>\n",
       "      <th>12</th>\n",
       "      <td>0</td>\n",
       "      <td>0</td>\n",
       "    </tr>\n",
       "    <tr>\n",
       "      <th>152</th>\n",
       "      <td>0</td>\n",
       "      <td>0</td>\n",
       "    </tr>\n",
       "    <tr>\n",
       "      <th>61</th>\n",
       "      <td>2</td>\n",
       "      <td>2</td>\n",
       "    </tr>\n",
       "    <tr>\n",
       "      <th>125</th>\n",
       "      <td>0</td>\n",
       "      <td>0</td>\n",
       "    </tr>\n",
       "    <tr>\n",
       "      <th>180</th>\n",
       "      <td>0</td>\n",
       "      <td>0</td>\n",
       "    </tr>\n",
       "    <tr>\n",
       "      <th>154</th>\n",
       "      <td>0</td>\n",
       "      <td>0</td>\n",
       "    </tr>\n",
       "    <tr>\n",
       "      <th>80</th>\n",
       "      <td>1</td>\n",
       "      <td>1</td>\n",
       "    </tr>\n",
       "    <tr>\n",
       "      <th>7</th>\n",
       "      <td>0</td>\n",
       "      <td>0</td>\n",
       "    </tr>\n",
       "    <tr>\n",
       "      <th>33</th>\n",
       "      <td>2</td>\n",
       "      <td>2</td>\n",
       "    </tr>\n",
       "    <tr>\n",
       "      <th>130</th>\n",
       "      <td>1</td>\n",
       "      <td>1</td>\n",
       "    </tr>\n",
       "    <tr>\n",
       "      <th>37</th>\n",
       "      <td>0</td>\n",
       "      <td>0</td>\n",
       "    </tr>\n",
       "    <tr>\n",
       "      <th>74</th>\n",
       "      <td>1</td>\n",
       "      <td>1</td>\n",
       "    </tr>\n",
       "    <tr>\n",
       "      <th>183</th>\n",
       "      <td>0</td>\n",
       "      <td>0</td>\n",
       "    </tr>\n",
       "    <tr>\n",
       "      <th>145</th>\n",
       "      <td>2</td>\n",
       "      <td>2</td>\n",
       "    </tr>\n",
       "    <tr>\n",
       "      <th>45</th>\n",
       "      <td>0</td>\n",
       "      <td>0</td>\n",
       "    </tr>\n",
       "    <tr>\n",
       "      <th>159</th>\n",
       "      <td>0</td>\n",
       "      <td>0</td>\n",
       "    </tr>\n",
       "    <tr>\n",
       "      <th>60</th>\n",
       "      <td>1</td>\n",
       "      <td>1</td>\n",
       "    </tr>\n",
       "    <tr>\n",
       "      <th>123</th>\n",
       "      <td>2</td>\n",
       "      <td>2</td>\n",
       "    </tr>\n",
       "    <tr>\n",
       "      <th>179</th>\n",
       "      <td>2</td>\n",
       "      <td>2</td>\n",
       "    </tr>\n",
       "    <tr>\n",
       "      <th>185</th>\n",
       "      <td>2</td>\n",
       "      <td>2</td>\n",
       "    </tr>\n",
       "    <tr>\n",
       "      <th>122</th>\n",
       "      <td>0</td>\n",
       "      <td>0</td>\n",
       "    </tr>\n",
       "    <tr>\n",
       "      <th>44</th>\n",
       "      <td>0</td>\n",
       "      <td>0</td>\n",
       "    </tr>\n",
       "    <tr>\n",
       "      <th>16</th>\n",
       "      <td>0</td>\n",
       "      <td>0</td>\n",
       "    </tr>\n",
       "    <tr>\n",
       "      <th>55</th>\n",
       "      <td>1</td>\n",
       "      <td>1</td>\n",
       "    </tr>\n",
       "    <tr>\n",
       "      <th>150</th>\n",
       "      <td>1</td>\n",
       "      <td>1</td>\n",
       "    </tr>\n",
       "    <tr>\n",
       "      <th>111</th>\n",
       "      <td>0</td>\n",
       "      <td>0</td>\n",
       "    </tr>\n",
       "    <tr>\n",
       "      <th>22</th>\n",
       "      <td>0</td>\n",
       "      <td>0</td>\n",
       "    </tr>\n",
       "    <tr>\n",
       "      <th>189</th>\n",
       "      <td>0</td>\n",
       "      <td>0</td>\n",
       "    </tr>\n",
       "    <tr>\n",
       "      <th>129</th>\n",
       "      <td>2</td>\n",
       "      <td>2</td>\n",
       "    </tr>\n",
       "    <tr>\n",
       "      <th>4</th>\n",
       "      <td>0</td>\n",
       "      <td>0</td>\n",
       "    </tr>\n",
       "    <tr>\n",
       "      <th>83</th>\n",
       "      <td>0</td>\n",
       "      <td>0</td>\n",
       "    </tr>\n",
       "    <tr>\n",
       "      <th>106</th>\n",
       "      <td>0</td>\n",
       "      <td>0</td>\n",
       "    </tr>\n",
       "    <tr>\n",
       "      <th>134</th>\n",
       "      <td>1</td>\n",
       "      <td>1</td>\n",
       "    </tr>\n",
       "    <tr>\n",
       "      <th>66</th>\n",
       "      <td>0</td>\n",
       "      <td>0</td>\n",
       "    </tr>\n",
       "    <tr>\n",
       "      <th>26</th>\n",
       "      <td>0</td>\n",
       "      <td>0</td>\n",
       "    </tr>\n",
       "    <tr>\n",
       "      <th>113</th>\n",
       "      <td>2</td>\n",
       "      <td>2</td>\n",
       "    </tr>\n",
       "    <tr>\n",
       "      <th>168</th>\n",
       "      <td>0</td>\n",
       "      <td>0</td>\n",
       "    </tr>\n",
       "    <tr>\n",
       "      <th>63</th>\n",
       "      <td>0</td>\n",
       "      <td>0</td>\n",
       "    </tr>\n",
       "    <tr>\n",
       "      <th>8</th>\n",
       "      <td>1</td>\n",
       "      <td>1</td>\n",
       "    </tr>\n",
       "    <tr>\n",
       "      <th>75</th>\n",
       "      <td>2</td>\n",
       "      <td>2</td>\n",
       "    </tr>\n",
       "    <tr>\n",
       "      <th>118</th>\n",
       "      <td>0</td>\n",
       "      <td>0</td>\n",
       "    </tr>\n",
       "    <tr>\n",
       "      <th>143</th>\n",
       "      <td>0</td>\n",
       "      <td>0</td>\n",
       "    </tr>\n",
       "    <tr>\n",
       "      <th>71</th>\n",
       "      <td>0</td>\n",
       "      <td>0</td>\n",
       "    </tr>\n",
       "    <tr>\n",
       "      <th>124</th>\n",
       "      <td>0</td>\n",
       "      <td>0</td>\n",
       "    </tr>\n",
       "    <tr>\n",
       "      <th>184</th>\n",
       "      <td>0</td>\n",
       "      <td>0</td>\n",
       "    </tr>\n",
       "    <tr>\n",
       "      <th>97</th>\n",
       "      <td>0</td>\n",
       "      <td>0</td>\n",
       "    </tr>\n",
       "    <tr>\n",
       "      <th>149</th>\n",
       "      <td>2</td>\n",
       "      <td>2</td>\n",
       "    </tr>\n",
       "    <tr>\n",
       "      <th>24</th>\n",
       "      <td>0</td>\n",
       "      <td>0</td>\n",
       "    </tr>\n",
       "    <tr>\n",
       "      <th>30</th>\n",
       "      <td>1</td>\n",
       "      <td>1</td>\n",
       "    </tr>\n",
       "    <tr>\n",
       "      <th>160</th>\n",
       "      <td>0</td>\n",
       "      <td>0</td>\n",
       "    </tr>\n",
       "    <tr>\n",
       "      <th>40</th>\n",
       "      <td>0</td>\n",
       "      <td>0</td>\n",
       "    </tr>\n",
       "    <tr>\n",
       "      <th>56</th>\n",
       "      <td>0</td>\n",
       "      <td>0</td>\n",
       "    </tr>\n",
       "  </tbody>\n",
       "</table>\n",
       "</div>"
      ],
      "text/plain": [
       "     Actual_y_value  Predicted_y_value\n",
       "18                1                  1\n",
       "170               1                  1\n",
       "107               1                  1\n",
       "98                1                  1\n",
       "177               2                  2\n",
       "182               1                  1\n",
       "5                 0                  0\n",
       "146               1                  1\n",
       "12                0                  0\n",
       "152               0                  0\n",
       "61                2                  2\n",
       "125               0                  0\n",
       "180               0                  0\n",
       "154               0                  0\n",
       "80                1                  1\n",
       "7                 0                  0\n",
       "33                2                  2\n",
       "130               1                  1\n",
       "37                0                  0\n",
       "74                1                  1\n",
       "183               0                  0\n",
       "145               2                  2\n",
       "45                0                  0\n",
       "159               0                  0\n",
       "60                1                  1\n",
       "123               2                  2\n",
       "179               2                  2\n",
       "185               2                  2\n",
       "122               0                  0\n",
       "44                0                  0\n",
       "16                0                  0\n",
       "55                1                  1\n",
       "150               1                  1\n",
       "111               0                  0\n",
       "22                0                  0\n",
       "189               0                  0\n",
       "129               2                  2\n",
       "4                 0                  0\n",
       "83                0                  0\n",
       "106               0                  0\n",
       "134               1                  1\n",
       "66                0                  0\n",
       "26                0                  0\n",
       "113               2                  2\n",
       "168               0                  0\n",
       "63                0                  0\n",
       "8                 1                  1\n",
       "75                2                  2\n",
       "118               0                  0\n",
       "143               0                  0\n",
       "71                0                  0\n",
       "124               0                  0\n",
       "184               0                  0\n",
       "97                0                  0\n",
       "149               2                  2\n",
       "24                0                  0\n",
       "30                1                  1\n",
       "160               0                  0\n",
       "40                0                  0\n",
       "56                0                  0"
      ]
     },
     "execution_count": 52,
     "metadata": {},
     "output_type": "execute_result"
    }
   ],
   "source": [
    "Acc=pd.DataFrame({'Actual_y_value':y_test,'Predicted_y_value':y_pred})\n",
    "Acc"
   ]
  },
  {
   "cell_type": "code",
   "execution_count": 53,
   "id": "3fb7eb6e",
   "metadata": {
    "execution": {
     "iopub.execute_input": "2023-02-26T20:25:48.509417Z",
     "iopub.status.busy": "2023-02-26T20:25:48.509026Z",
     "iopub.status.idle": "2023-02-26T20:25:48.516976Z",
     "shell.execute_reply": "2023-02-26T20:25:48.516007Z"
    },
    "id": "845S_2V9EzLc",
    "outputId": "375ae9c9-bd07-4338-f856-bd7d5526243e",
    "papermill": {
     "duration": 0.036312,
     "end_time": "2023-02-26T20:25:48.519448",
     "exception": false,
     "start_time": "2023-02-26T20:25:48.483136",
     "status": "completed"
    },
    "tags": []
   },
   "outputs": [
    {
     "data": {
      "text/plain": [
       "array([[34,  0,  0],\n",
       "       [ 0, 15,  0],\n",
       "       [ 0,  0, 11]])"
      ]
     },
     "execution_count": 53,
     "metadata": {},
     "output_type": "execute_result"
    }
   ],
   "source": [
    "# Making the Confusion Matrix  \n",
    "from sklearn.metrics import confusion_matrix  \n",
    "cm = confusion_matrix(y_test, y_pred) \n",
    "cm\n",
    "#Here the confusion matrix shows three classes(3 clusters classification)accurate in a 3x3 matrix format"
   ]
  },
  {
   "cell_type": "code",
   "execution_count": 54,
   "id": "38a4d3da",
   "metadata": {
    "execution": {
     "iopub.execute_input": "2023-02-26T20:25:48.573008Z",
     "iopub.status.busy": "2023-02-26T20:25:48.572616Z",
     "iopub.status.idle": "2023-02-26T20:25:48.579344Z",
     "shell.execute_reply": "2023-02-26T20:25:48.578086Z"
    },
    "id": "Bkvz3aR1FdoO",
    "outputId": "b9fac1ee-ab89-45fb-8e96-7b5602c39653",
    "papermill": {
     "duration": 0.036585,
     "end_time": "2023-02-26T20:25:48.582038",
     "exception": false,
     "start_time": "2023-02-26T20:25:48.545453",
     "status": "completed"
    },
    "tags": []
   },
   "outputs": [
    {
     "name": "stdout",
     "output_type": "stream",
     "text": [
      "Accuracy: 1.0\n"
     ]
    }
   ],
   "source": [
    "from sklearn import metrics\n",
    " \n",
    "# Model Accuracy, how often is the classifier correct?\n",
    "print(\"Accuracy: {:.2}\".format(metrics.accuracy_score(y_test, y_pred)))\n"
   ]
  },
  {
   "cell_type": "code",
   "execution_count": 55,
   "id": "5fc7ca0e",
   "metadata": {
    "execution": {
     "iopub.execute_input": "2023-02-26T20:25:48.635334Z",
     "iopub.status.busy": "2023-02-26T20:25:48.634963Z",
     "iopub.status.idle": "2023-02-26T20:25:48.639134Z",
     "shell.execute_reply": "2023-02-26T20:25:48.638175Z"
    },
    "id": "QEwwR8tAG8sX",
    "papermill": {
     "duration": 0.033124,
     "end_time": "2023-02-26T20:25:48.641092",
     "exception": false,
     "start_time": "2023-02-26T20:25:48.607968",
     "status": "completed"
    },
    "tags": []
   },
   "outputs": [],
   "source": [
    "#Naive bayes gives the best acccuracy for the given dataset"
   ]
  }
 ],
 "metadata": {
  "kernelspec": {
   "display_name": "Python 3",
   "language": "python",
   "name": "python3"
  },
  "language_info": {
   "codemirror_mode": {
    "name": "ipython",
    "version": 3
   },
   "file_extension": ".py",
   "mimetype": "text/x-python",
   "name": "python",
   "nbconvert_exporter": "python",
   "pygments_lexer": "ipython3",
   "version": "3.7.12"
  },
  "papermill": {
   "default_parameters": {},
   "duration": 18.593502,
   "end_time": "2023-02-26T20:25:49.488340",
   "environment_variables": {},
   "exception": null,
   "input_path": "__notebook__.ipynb",
   "output_path": "__notebook__.ipynb",
   "parameters": {},
   "start_time": "2023-02-26T20:25:30.894838",
   "version": "2.4.0"
  }
 },
 "nbformat": 4,
 "nbformat_minor": 5
}
