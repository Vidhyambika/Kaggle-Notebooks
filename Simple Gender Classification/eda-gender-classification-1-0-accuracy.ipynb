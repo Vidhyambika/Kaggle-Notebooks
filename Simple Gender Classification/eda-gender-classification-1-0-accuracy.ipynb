{
 "cells": [
  {
   "cell_type": "code",
   "execution_count": 1,
   "id": "97a8539c",
   "metadata": {
    "_cell_guid": "b1076dfc-b9ad-4769-8c92-a6c4dae69d19",
    "_uuid": "8f2839f25d086af736a60e9eeb907d3b93b6e0e5",
    "execution": {
     "iopub.execute_input": "2023-03-19T09:50:30.861279Z",
     "iopub.status.busy": "2023-03-19T09:50:30.859976Z",
     "iopub.status.idle": "2023-03-19T09:50:30.881889Z",
     "shell.execute_reply": "2023-03-19T09:50:30.880866Z"
    },
    "papermill": {
     "duration": 0.037377,
     "end_time": "2023-03-19T09:50:30.884622",
     "exception": false,
     "start_time": "2023-03-19T09:50:30.847245",
     "status": "completed"
    },
    "tags": []
   },
   "outputs": [
    {
     "name": "stdout",
     "output_type": "stream",
     "text": [
      "/kaggle/input/simple-gender-classification/gender.csv\n"
     ]
    }
   ],
   "source": [
    "# This Python 3 environment comes with many helpful analytics libraries installed\n",
    "# It is defined by the kaggle/python Docker image: https://github.com/kaggle/docker-python\n",
    "# For example, here's several helpful packages to load\n",
    "\n",
    "import numpy as np # linear algebra\n",
    "import pandas as pd # data processing, CSV file I/O (e.g. pd.read_csv)\n",
    "\n",
    "# Input data files are available in the read-only \"../input/\" directory\n",
    "# For example, running this (by clicking run or pressing Shift+Enter) will list all files under the input directory\n",
    "\n",
    "import os\n",
    "for dirname, _, filenames in os.walk('/kaggle/input'):\n",
    "    for filename in filenames:\n",
    "        print(os.path.join(dirname, filename))\n",
    "\n",
    "# You can write up to 20GB to the current directory (/kaggle/working/) that gets preserved as output when you create a version using \"Save & Run All\" \n",
    "# You can also write temporary files to /kaggle/temp/, but they won't be saved outside of the current session"
   ]
  },
  {
   "cell_type": "markdown",
   "id": "93e2e604",
   "metadata": {
    "papermill": {
     "duration": 0.008648,
     "end_time": "2023-03-19T09:50:30.902816",
     "exception": false,
     "start_time": "2023-03-19T09:50:30.894168",
     "status": "completed"
    },
    "tags": []
   },
   "source": [
    "# **IMPORTING LIBRARIES**"
   ]
  },
  {
   "cell_type": "code",
   "execution_count": 2,
   "id": "1f7044f5",
   "metadata": {
    "execution": {
     "iopub.execute_input": "2023-03-19T09:50:30.922016Z",
     "iopub.status.busy": "2023-03-19T09:50:30.921540Z",
     "iopub.status.idle": "2023-03-19T09:50:34.077828Z",
     "shell.execute_reply": "2023-03-19T09:50:34.076510Z"
    },
    "papermill": {
     "duration": 3.169718,
     "end_time": "2023-03-19T09:50:34.081029",
     "exception": false,
     "start_time": "2023-03-19T09:50:30.911311",
     "status": "completed"
    },
    "tags": []
   },
   "outputs": [],
   "source": [
    "import plotly.express as px\n",
    "import seaborn as sns\n",
    "import matplotlib.pyplot as plt"
   ]
  },
  {
   "cell_type": "code",
   "execution_count": 3,
   "id": "60e07ece",
   "metadata": {
    "_kg_hide-input": true,
    "execution": {
     "iopub.execute_input": "2023-03-19T09:50:34.100801Z",
     "iopub.status.busy": "2023-03-19T09:50:34.100363Z",
     "iopub.status.idle": "2023-03-19T09:50:34.162161Z",
     "shell.execute_reply": "2023-03-19T09:50:34.160854Z"
    },
    "papermill": {
     "duration": 0.075711,
     "end_time": "2023-03-19T09:50:34.165222",
     "exception": false,
     "start_time": "2023-03-19T09:50:34.089511",
     "status": "completed"
    },
    "tags": []
   },
   "outputs": [
    {
     "data": {
      "text/html": [
       "        <script type=\"text/javascript\">\n",
       "        window.PlotlyConfig = {MathJaxConfig: 'local'};\n",
       "        if (window.MathJax && window.MathJax.Hub && window.MathJax.Hub.Config) {window.MathJax.Hub.Config({SVG: {font: \"STIX-Web\"}});}\n",
       "        if (typeof require !== 'undefined') {\n",
       "        require.undef(\"plotly\");\n",
       "        requirejs.config({\n",
       "            paths: {\n",
       "                'plotly': ['https://cdn.plot.ly/plotly-2.18.0.min']\n",
       "            }\n",
       "        });\n",
       "        require(['plotly'], function(Plotly) {\n",
       "            window._Plotly = Plotly;\n",
       "        });\n",
       "        }\n",
       "        </script>\n",
       "        "
      ]
     },
     "metadata": {},
     "output_type": "display_data"
    }
   ],
   "source": [
    "from plotly.offline import init_notebook_mode, iplot\n",
    "init_notebook_mode(connected=True)"
   ]
  },
  {
   "cell_type": "markdown",
   "id": "a4bef3e2",
   "metadata": {
    "papermill": {
     "duration": 0.008151,
     "end_time": "2023-03-19T09:50:34.182036",
     "exception": false,
     "start_time": "2023-03-19T09:50:34.173885",
     "status": "completed"
    },
    "tags": []
   },
   "source": [
    "# **LOADING DATASET**"
   ]
  },
  {
   "cell_type": "code",
   "execution_count": 4,
   "id": "8c5968bf",
   "metadata": {
    "execution": {
     "iopub.execute_input": "2023-03-19T09:50:34.200820Z",
     "iopub.status.busy": "2023-03-19T09:50:34.200414Z",
     "iopub.status.idle": "2023-03-19T09:50:34.251768Z",
     "shell.execute_reply": "2023-03-19T09:50:34.250223Z"
    },
    "papermill": {
     "duration": 0.064247,
     "end_time": "2023-03-19T09:50:34.254741",
     "exception": false,
     "start_time": "2023-03-19T09:50:34.190494",
     "status": "completed"
    },
    "tags": []
   },
   "outputs": [
    {
     "data": {
      "text/html": [
       "<div>\n",
       "<style scoped>\n",
       "    .dataframe tbody tr th:only-of-type {\n",
       "        vertical-align: middle;\n",
       "    }\n",
       "\n",
       "    .dataframe tbody tr th {\n",
       "        vertical-align: top;\n",
       "    }\n",
       "\n",
       "    .dataframe thead th {\n",
       "        text-align: right;\n",
       "    }\n",
       "</style>\n",
       "<table border=\"1\" class=\"dataframe\">\n",
       "  <thead>\n",
       "    <tr style=\"text-align: right;\">\n",
       "      <th></th>\n",
       "      <th>Gender</th>\n",
       "      <th>Age</th>\n",
       "      <th>Height (cm)</th>\n",
       "      <th>Weight (kg)</th>\n",
       "      <th>Occupation</th>\n",
       "      <th>Education Level</th>\n",
       "      <th>Marital Status</th>\n",
       "      <th>Income (USD)</th>\n",
       "      <th>Favorite Color</th>\n",
       "      <th>Unnamed: 9</th>\n",
       "    </tr>\n",
       "  </thead>\n",
       "  <tbody>\n",
       "    <tr>\n",
       "      <th>0</th>\n",
       "      <td>male</td>\n",
       "      <td>32</td>\n",
       "      <td>175</td>\n",
       "      <td>70</td>\n",
       "      <td>Software Engineer</td>\n",
       "      <td>Master's Degree</td>\n",
       "      <td>Married</td>\n",
       "      <td>75000</td>\n",
       "      <td>Blue</td>\n",
       "      <td>NaN</td>\n",
       "    </tr>\n",
       "    <tr>\n",
       "      <th>1</th>\n",
       "      <td>male</td>\n",
       "      <td>25</td>\n",
       "      <td>182</td>\n",
       "      <td>85</td>\n",
       "      <td>Sales Representative</td>\n",
       "      <td>Bachelor's Degree</td>\n",
       "      <td>Single</td>\n",
       "      <td>45000</td>\n",
       "      <td>Green</td>\n",
       "      <td>NaN</td>\n",
       "    </tr>\n",
       "    <tr>\n",
       "      <th>2</th>\n",
       "      <td>female</td>\n",
       "      <td>41</td>\n",
       "      <td>160</td>\n",
       "      <td>62</td>\n",
       "      <td>Doctor</td>\n",
       "      <td>Doctorate Degree</td>\n",
       "      <td>Married</td>\n",
       "      <td>120000</td>\n",
       "      <td>Purple</td>\n",
       "      <td>NaN</td>\n",
       "    </tr>\n",
       "    <tr>\n",
       "      <th>3</th>\n",
       "      <td>male</td>\n",
       "      <td>38</td>\n",
       "      <td>178</td>\n",
       "      <td>79</td>\n",
       "      <td>Lawyer</td>\n",
       "      <td>Bachelor's Degree</td>\n",
       "      <td>Single</td>\n",
       "      <td>90000</td>\n",
       "      <td>Red</td>\n",
       "      <td>NaN</td>\n",
       "    </tr>\n",
       "    <tr>\n",
       "      <th>4</th>\n",
       "      <td>female</td>\n",
       "      <td>29</td>\n",
       "      <td>165</td>\n",
       "      <td>58</td>\n",
       "      <td>Graphic Designer</td>\n",
       "      <td>Associate's Degree</td>\n",
       "      <td>Single</td>\n",
       "      <td>35000</td>\n",
       "      <td>Yellow</td>\n",
       "      <td>NaN</td>\n",
       "    </tr>\n",
       "    <tr>\n",
       "      <th>...</th>\n",
       "      <td>...</td>\n",
       "      <td>...</td>\n",
       "      <td>...</td>\n",
       "      <td>...</td>\n",
       "      <td>...</td>\n",
       "      <td>...</td>\n",
       "      <td>...</td>\n",
       "      <td>...</td>\n",
       "      <td>...</td>\n",
       "      <td>...</td>\n",
       "    </tr>\n",
       "    <tr>\n",
       "      <th>126</th>\n",
       "      <td>female</td>\n",
       "      <td>32</td>\n",
       "      <td>170</td>\n",
       "      <td>64</td>\n",
       "      <td>Nurse</td>\n",
       "      <td>Associate's Degree</td>\n",
       "      <td>Single</td>\n",
       "      <td>60000</td>\n",
       "      <td>Orange</td>\n",
       "      <td>NaN</td>\n",
       "    </tr>\n",
       "    <tr>\n",
       "      <th>127</th>\n",
       "      <td>male</td>\n",
       "      <td>38</td>\n",
       "      <td>176</td>\n",
       "      <td>79</td>\n",
       "      <td>Project Manager</td>\n",
       "      <td>Bachelor's Degree</td>\n",
       "      <td>Married</td>\n",
       "      <td>90000</td>\n",
       "      <td>Black</td>\n",
       "      <td>NaN</td>\n",
       "    </tr>\n",
       "    <tr>\n",
       "      <th>128</th>\n",
       "      <td>female</td>\n",
       "      <td>27</td>\n",
       "      <td>162</td>\n",
       "      <td>55</td>\n",
       "      <td>Graphic Designer</td>\n",
       "      <td>Associate's Degree</td>\n",
       "      <td>Single</td>\n",
       "      <td>55000</td>\n",
       "      <td>Green</td>\n",
       "      <td>NaN</td>\n",
       "    </tr>\n",
       "    <tr>\n",
       "      <th>129</th>\n",
       "      <td>male</td>\n",
       "      <td>33</td>\n",
       "      <td>175</td>\n",
       "      <td>77</td>\n",
       "      <td>Sales Representative</td>\n",
       "      <td>Bachelor's Degree</td>\n",
       "      <td>Married</td>\n",
       "      <td>80000</td>\n",
       "      <td>Yellow</td>\n",
       "      <td>NaN</td>\n",
       "    </tr>\n",
       "    <tr>\n",
       "      <th>130</th>\n",
       "      <td>female</td>\n",
       "      <td>29</td>\n",
       "      <td>164</td>\n",
       "      <td>57</td>\n",
       "      <td>Software Developer</td>\n",
       "      <td>Bachelor's Degree</td>\n",
       "      <td>Single</td>\n",
       "      <td>65000</td>\n",
       "      <td>Blue</td>\n",
       "      <td>NaN</td>\n",
       "    </tr>\n",
       "  </tbody>\n",
       "</table>\n",
       "<p>131 rows × 10 columns</p>\n",
       "</div>"
      ],
      "text/plain": [
       "      Gender   Age   Height (cm)   Weight (kg)             Occupation  \\\n",
       "0       male    32           175            70      Software Engineer   \n",
       "1       male    25           182            85   Sales Representative   \n",
       "2     female    41           160            62                 Doctor   \n",
       "3       male    38           178            79                 Lawyer   \n",
       "4     female    29           165            58       Graphic Designer   \n",
       "..       ...   ...           ...           ...                    ...   \n",
       "126   female    32           170            64                  Nurse   \n",
       "127     male    38           176            79        Project Manager   \n",
       "128   female    27           162            55       Graphic Designer   \n",
       "129     male    33           175            77   Sales Representative   \n",
       "130   female    29           164            57     Software Developer   \n",
       "\n",
       "         Education Level  Marital Status   Income (USD)  Favorite Color  \\\n",
       "0        Master's Degree         Married          75000            Blue   \n",
       "1      Bachelor's Degree          Single          45000           Green   \n",
       "2       Doctorate Degree         Married         120000          Purple   \n",
       "3      Bachelor's Degree          Single          90000             Red   \n",
       "4     Associate's Degree          Single          35000          Yellow   \n",
       "..                   ...             ...            ...             ...   \n",
       "126   Associate's Degree          Single          60000          Orange   \n",
       "127    Bachelor's Degree         Married          90000           Black   \n",
       "128   Associate's Degree          Single          55000           Green   \n",
       "129    Bachelor's Degree         Married          80000          Yellow   \n",
       "130    Bachelor's Degree          Single          65000            Blue   \n",
       "\n",
       "     Unnamed: 9  \n",
       "0           NaN  \n",
       "1           NaN  \n",
       "2           NaN  \n",
       "3           NaN  \n",
       "4           NaN  \n",
       "..          ...  \n",
       "126         NaN  \n",
       "127         NaN  \n",
       "128         NaN  \n",
       "129         NaN  \n",
       "130         NaN  \n",
       "\n",
       "[131 rows x 10 columns]"
      ]
     },
     "execution_count": 4,
     "metadata": {},
     "output_type": "execute_result"
    }
   ],
   "source": [
    "df = pd.read_csv('/kaggle/input/simple-gender-classification/gender.csv')\n",
    "df"
   ]
  },
  {
   "cell_type": "code",
   "execution_count": 5,
   "id": "c6a947c0",
   "metadata": {
    "execution": {
     "iopub.execute_input": "2023-03-19T09:50:34.275381Z",
     "iopub.status.busy": "2023-03-19T09:50:34.274968Z",
     "iopub.status.idle": "2023-03-19T09:50:34.287596Z",
     "shell.execute_reply": "2023-03-19T09:50:34.286248Z"
    },
    "papermill": {
     "duration": 0.026139,
     "end_time": "2023-03-19T09:50:34.290159",
     "exception": false,
     "start_time": "2023-03-19T09:50:34.264020",
     "status": "completed"
    },
    "tags": []
   },
   "outputs": [
    {
     "data": {
      "text/plain": [
       " Gender             False\n",
       " Age                False\n",
       " Height (cm)        False\n",
       " Weight (kg)        False\n",
       " Occupation         False\n",
       " Education Level    False\n",
       " Marital Status     False\n",
       " Income (USD)       False\n",
       " Favorite Color     False\n",
       "Unnamed: 9           True\n",
       "dtype: bool"
      ]
     },
     "execution_count": 5,
     "metadata": {},
     "output_type": "execute_result"
    }
   ],
   "source": [
    "#Checking for null values\n",
    "df.isnull().any()"
   ]
  },
  {
   "cell_type": "markdown",
   "id": "0a6381a5",
   "metadata": {
    "papermill": {
     "duration": 0.008634,
     "end_time": "2023-03-19T09:50:34.308886",
     "exception": false,
     "start_time": "2023-03-19T09:50:34.300252",
     "status": "completed"
    },
    "tags": []
   },
   "source": [
    "# **DELETING NAN COLUMN IN DATAFRAME**"
   ]
  },
  {
   "cell_type": "code",
   "execution_count": 6,
   "id": "bebfb0ca",
   "metadata": {
    "execution": {
     "iopub.execute_input": "2023-03-19T09:50:34.328891Z",
     "iopub.status.busy": "2023-03-19T09:50:34.328454Z",
     "iopub.status.idle": "2023-03-19T09:50:34.338349Z",
     "shell.execute_reply": "2023-03-19T09:50:34.337024Z"
    },
    "papermill": {
     "duration": 0.023015,
     "end_time": "2023-03-19T09:50:34.340855",
     "exception": false,
     "start_time": "2023-03-19T09:50:34.317840",
     "status": "completed"
    },
    "tags": []
   },
   "outputs": [],
   "source": [
    "del df['Unnamed: 9']"
   ]
  },
  {
   "cell_type": "markdown",
   "id": "2eb7ffbb",
   "metadata": {
    "papermill": {
     "duration": 0.008672,
     "end_time": "2023-03-19T09:50:34.358451",
     "exception": false,
     "start_time": "2023-03-19T09:50:34.349779",
     "status": "completed"
    },
    "tags": []
   },
   "source": [
    "# **FINDING CATEGORIES IN GENDER PARAMETER**"
   ]
  },
  {
   "cell_type": "code",
   "execution_count": 7,
   "id": "5aafa311",
   "metadata": {
    "execution": {
     "iopub.execute_input": "2023-03-19T09:50:34.378555Z",
     "iopub.status.busy": "2023-03-19T09:50:34.377750Z",
     "iopub.status.idle": "2023-03-19T09:50:34.389096Z",
     "shell.execute_reply": "2023-03-19T09:50:34.387751Z"
    },
    "papermill": {
     "duration": 0.025295,
     "end_time": "2023-03-19T09:50:34.392701",
     "exception": false,
     "start_time": "2023-03-19T09:50:34.367406",
     "status": "completed"
    },
    "tags": []
   },
   "outputs": [
    {
     "name": "stdout",
     "output_type": "stream",
     "text": [
      " female    24\n",
      " male      27\n",
      "female     39\n",
      "male       41\n",
      "Name:  Gender, dtype: int64\n"
     ]
    }
   ],
   "source": [
    "print(df[' Gender'].value_counts(ascending=True))"
   ]
  },
  {
   "cell_type": "markdown",
   "id": "8d824fd8",
   "metadata": {
    "papermill": {
     "duration": 0.008842,
     "end_time": "2023-03-19T09:50:34.411572",
     "exception": false,
     "start_time": "2023-03-19T09:50:34.402730",
     "status": "completed"
    },
    "tags": []
   },
   "source": [
    "You can see Gender has two categories of male and two categories of female (a problem). This can be seen in EDA part as well."
   ]
  },
  {
   "cell_type": "markdown",
   "id": "0c52e36a",
   "metadata": {
    "papermill": {
     "duration": 0.008597,
     "end_time": "2023-03-19T09:50:34.429119",
     "exception": false,
     "start_time": "2023-03-19T09:50:34.420522",
     "status": "completed"
    },
    "tags": []
   },
   "source": [
    "# **EXPLORATORY DATA ANALYSIS**"
   ]
  },
  {
   "cell_type": "code",
   "execution_count": 8,
   "id": "ab5ec783",
   "metadata": {
    "execution": {
     "iopub.execute_input": "2023-03-19T09:50:34.448853Z",
     "iopub.status.busy": "2023-03-19T09:50:34.448441Z",
     "iopub.status.idle": "2023-03-19T09:50:36.373237Z",
     "shell.execute_reply": "2023-03-19T09:50:36.372192Z"
    },
    "papermill": {
     "duration": 1.938771,
     "end_time": "2023-03-19T09:50:36.376853",
     "exception": false,
     "start_time": "2023-03-19T09:50:34.438082",
     "status": "completed"
    },
    "tags": []
   },
   "outputs": [
    {
     "data": {
      "application/vnd.plotly.v1+json": {
       "config": {
        "plotlyServerURL": "https://plot.ly"
       },
       "data": [
        {
         "alignmentgroup": "True",
         "customdata": [
          [
           " male"
          ],
          [
           " male"
          ],
          [
           " female"
          ],
          [
           " male"
          ],
          [
           " female"
          ],
          [
           " male"
          ],
          [
           " female"
          ],
          [
           " male"
          ],
          [
           " female"
          ],
          [
           " male"
          ],
          [
           " female"
          ],
          [
           " male"
          ],
          [
           " female"
          ],
          [
           " male"
          ],
          [
           " female"
          ],
          [
           " male"
          ],
          [
           " female"
          ],
          [
           " male"
          ],
          [
           " male"
          ],
          [
           " female"
          ],
          [
           " male"
          ],
          [
           " female"
          ],
          [
           " male"
          ],
          [
           " female"
          ],
          [
           " male"
          ],
          [
           " female"
          ],
          [
           " male"
          ],
          [
           " female"
          ],
          [
           " male"
          ],
          [
           " female"
          ],
          [
           " male"
          ],
          [
           " female"
          ],
          [
           " male"
          ],
          [
           " female"
          ],
          [
           " male"
          ],
          [
           " female"
          ],
          [
           " male"
          ],
          [
           " female"
          ],
          [
           " male"
          ],
          [
           " female"
          ],
          [
           " male"
          ],
          [
           " female"
          ],
          [
           " male"
          ],
          [
           " female"
          ],
          [
           " male"
          ],
          [
           " female"
          ],
          [
           " male"
          ],
          [
           " female"
          ],
          [
           " male"
          ],
          [
           " female"
          ],
          [
           " male"
          ],
          [
           "male"
          ],
          [
           "female"
          ],
          [
           "male"
          ],
          [
           "female"
          ],
          [
           "male"
          ],
          [
           "female"
          ],
          [
           "male"
          ],
          [
           "female"
          ],
          [
           "male"
          ],
          [
           "female"
          ],
          [
           "male"
          ],
          [
           "female"
          ],
          [
           "male"
          ],
          [
           "female"
          ],
          [
           "male"
          ],
          [
           "female"
          ],
          [
           "male"
          ],
          [
           "female"
          ],
          [
           "male"
          ],
          [
           "female"
          ],
          [
           "male"
          ],
          [
           "female"
          ],
          [
           "male"
          ],
          [
           "female"
          ],
          [
           "male"
          ],
          [
           "female"
          ],
          [
           "male"
          ],
          [
           "female"
          ],
          [
           "male"
          ],
          [
           "male"
          ],
          [
           "female"
          ],
          [
           "male"
          ],
          [
           "female"
          ],
          [
           "male"
          ],
          [
           "female"
          ],
          [
           "male"
          ],
          [
           "female"
          ],
          [
           "male"
          ],
          [
           "female"
          ],
          [
           "male"
          ],
          [
           "female"
          ],
          [
           "male"
          ],
          [
           "female"
          ],
          [
           "male"
          ],
          [
           "female"
          ],
          [
           "male"
          ],
          [
           "female"
          ],
          [
           "male"
          ],
          [
           "female"
          ],
          [
           "male"
          ],
          [
           "female"
          ],
          [
           "male"
          ],
          [
           "female"
          ],
          [
           "male"
          ],
          [
           "male"
          ],
          [
           "female"
          ],
          [
           "male"
          ],
          [
           "female"
          ],
          [
           "male"
          ],
          [
           "female"
          ],
          [
           "male"
          ],
          [
           "female"
          ],
          [
           "male"
          ],
          [
           "female"
          ],
          [
           "male"
          ],
          [
           "female"
          ],
          [
           "male"
          ],
          [
           "female"
          ],
          [
           "male"
          ],
          [
           "female"
          ],
          [
           "male"
          ],
          [
           "female"
          ],
          [
           "male"
          ],
          [
           "female"
          ],
          [
           "male"
          ],
          [
           "female"
          ],
          [
           "male"
          ],
          [
           "female"
          ],
          [
           "male"
          ],
          [
           "female"
          ]
         ],
         "hovertemplate": " Occupation=%{x}<br> Age=%{marker.color}<br>Male or Female=%{customdata[0]}<extra></extra>",
         "legendgroup": "",
         "marker": {
          "color": [
           32,
           25,
           41,
           38,
           29,
           45,
           27,
           52,
           31,
           36,
           24,
           44,
           28,
           29,
           33,
           37,
           26,
           28,
           33,
           44,
           29,
           31,
           40,
           27,
           47,
           35,
           42,
           26,
           49,
           30,
           35,
           38,
           31,
           29,
           32,
           27,
           41,
           36,
           29,
           33,
           45,
           28,
           39,
           32,
           44,
           26,
           36,
           29,
           42,
           30,
           34,
           35,
           28,
           42,
           31,
           30,
           36,
           44,
           29,
           37,
           26,
           43,
           34,
           36,
           27,
           41,
           30,
           38,
           29,
           40,
           33,
           39,
           32,
           45,
           28,
           34,
           31,
           42,
           30,
           37,
           37,
           27,
           44,
           32,
           39,
           29,
           43,
           31,
           38,
           28,
           41,
           33,
           36,
           30,
           42,
           34,
           35,
           29,
           40,
           31,
           43,
           32,
           37,
           28,
           34,
           32,
           27,
           44,
           35,
           38,
           30,
           42,
           29,
           36,
           31,
           41,
           33,
           35,
           28,
           40,
           34,
           37,
           29,
           40,
           31,
           43,
           32,
           38,
           27,
           33,
           29
          ],
          "coloraxis": "coloraxis",
          "pattern": {
           "shape": ""
          }
         },
         "name": "",
         "offsetgroup": "",
         "orientation": "v",
         "showlegend": false,
         "textposition": "auto",
         "type": "bar",
         "x": [
          " Software Engineer",
          " Sales Representative",
          " Doctor",
          " Lawyer",
          " Graphic Designer",
          " Business Consultant",
          " Marketing Specialist",
          " CEO",
          " Project Manager",
          " Engineer",
          " Accountant",
          " Architect",
          " Nurse",
          " Analyst",
          " Teacher",
          " IT Manager",
          " Writer",
          " Engineer",
          " Teacher",
          " Doctor",
          " Sales Representative",
          " Marketing Specialist",
          " Business Analyst",
          " Project Manager",
          " CEO",
          " Graphic Designer",
          " Architect",
          " Accountant",
          " Lawyer",
          " Nurse",
          " Analyst",
          " Teacher",
          " IT Manager",
          " Writer",
          " Engineer",
          " Marketing Specialist",
          " Business Analyst",
          " Graphic Designer",
          " Sales Representative",
          " Doctor",
          " CEO",
          " Writer",
          " IT Manager",
          " Accountant",
          " Lawyer",
          " Teacher",
          " Analyst",
          " Project Manager",
          " Architect",
          " Nurse",
          " Teacher",
          "Engineer",
          "Teacher",
          "Doctor",
          "Graphic Designer",
          "IT Manager",
          "Sales Representative",
          "Lawyer",
          "Marketing Specialist",
          "Project Manager",
          "Writer",
          "Architect",
          "Nurse",
          "Business Analyst",
          "Accountant",
          "CEO",
          "Teacher",
          "Analyst",
          "Doctor",
          "Engineer",
          "Marketing Specialist",
          "IT Manager",
          "Writer",
          "Lawyer",
          "Graphic Designer",
          "Sales Representative",
          "Teacher",
          "Architect",
          "Nurse",
          "Project Manager",
          "Engineer",
          "Teacher",
          "Doctor",
          "Graphic Designer",
          "IT Manager",
          "Marketing Specialist",
          "Lawyer",
          "Nurse",
          "Project Manager",
          "Writer",
          "Architect",
          "Accountant",
          "Business Analyst",
          "Teacher",
          "CEO",
          "Marketing Specialist",
          "Analyst",
          "Doctor",
          "Engineer",
          "Writer",
          "Lawyer",
          "Nurse",
          "Project Manager",
          "Graphic Designer",
          "Sales Representative",
          "Engineer",
          "Teacher",
          "Doctor",
          "Graphic Designer",
          "IT Manager",
          "Marketing Specialist",
          "Lawyer",
          "Nurse",
          "Project Manager",
          "Writer",
          "Architect",
          "Accountant",
          "Business Analyst",
          "Teacher",
          "CEO",
          "Marketing Specialist",
          "Analyst",
          "Doctor",
          "Engineer",
          "Writer",
          "Lawyer",
          "Nurse",
          "Project Manager",
          "Graphic Designer",
          "Sales Representative",
          "Software Developer"
         ],
         "xaxis": "x",
         "y": [
          32,
          25,
          41,
          38,
          29,
          45,
          27,
          52,
          31,
          36,
          24,
          44,
          28,
          29,
          33,
          37,
          26,
          28,
          33,
          44,
          29,
          31,
          40,
          27,
          47,
          35,
          42,
          26,
          49,
          30,
          35,
          38,
          31,
          29,
          32,
          27,
          41,
          36,
          29,
          33,
          45,
          28,
          39,
          32,
          44,
          26,
          36,
          29,
          42,
          30,
          34,
          35,
          28,
          42,
          31,
          30,
          36,
          44,
          29,
          37,
          26,
          43,
          34,
          36,
          27,
          41,
          30,
          38,
          29,
          40,
          33,
          39,
          32,
          45,
          28,
          34,
          31,
          42,
          30,
          37,
          37,
          27,
          44,
          32,
          39,
          29,
          43,
          31,
          38,
          28,
          41,
          33,
          36,
          30,
          42,
          34,
          35,
          29,
          40,
          31,
          43,
          32,
          37,
          28,
          34,
          32,
          27,
          44,
          35,
          38,
          30,
          42,
          29,
          36,
          31,
          41,
          33,
          35,
          28,
          40,
          34,
          37,
          29,
          40,
          31,
          43,
          32,
          38,
          27,
          33,
          29
         ],
         "yaxis": "y"
        }
       ],
       "layout": {
        "barmode": "relative",
        "coloraxis": {
         "colorbar": {
          "title": {
           "text": " Age"
          }
         },
         "colorscale": [
          [
           0.0,
           "#0d0887"
          ],
          [
           0.1111111111111111,
           "#46039f"
          ],
          [
           0.2222222222222222,
           "#7201a8"
          ],
          [
           0.3333333333333333,
           "#9c179e"
          ],
          [
           0.4444444444444444,
           "#bd3786"
          ],
          [
           0.5555555555555556,
           "#d8576b"
          ],
          [
           0.6666666666666666,
           "#ed7953"
          ],
          [
           0.7777777777777778,
           "#fb9f3a"
          ],
          [
           0.8888888888888888,
           "#fdca26"
          ],
          [
           1.0,
           "#f0f921"
          ]
         ]
        },
        "height": 500,
        "legend": {
         "tracegroupgap": 0
        },
        "margin": {
         "t": 60
        },
        "template": {
         "data": {
          "bar": [
           {
            "error_x": {
             "color": "#2a3f5f"
            },
            "error_y": {
             "color": "#2a3f5f"
            },
            "marker": {
             "line": {
              "color": "#E5ECF6",
              "width": 0.5
             },
             "pattern": {
              "fillmode": "overlay",
              "size": 10,
              "solidity": 0.2
             }
            },
            "type": "bar"
           }
          ],
          "barpolar": [
           {
            "marker": {
             "line": {
              "color": "#E5ECF6",
              "width": 0.5
             },
             "pattern": {
              "fillmode": "overlay",
              "size": 10,
              "solidity": 0.2
             }
            },
            "type": "barpolar"
           }
          ],
          "carpet": [
           {
            "aaxis": {
             "endlinecolor": "#2a3f5f",
             "gridcolor": "white",
             "linecolor": "white",
             "minorgridcolor": "white",
             "startlinecolor": "#2a3f5f"
            },
            "baxis": {
             "endlinecolor": "#2a3f5f",
             "gridcolor": "white",
             "linecolor": "white",
             "minorgridcolor": "white",
             "startlinecolor": "#2a3f5f"
            },
            "type": "carpet"
           }
          ],
          "choropleth": [
           {
            "colorbar": {
             "outlinewidth": 0,
             "ticks": ""
            },
            "type": "choropleth"
           }
          ],
          "contour": [
           {
            "colorbar": {
             "outlinewidth": 0,
             "ticks": ""
            },
            "colorscale": [
             [
              0.0,
              "#0d0887"
             ],
             [
              0.1111111111111111,
              "#46039f"
             ],
             [
              0.2222222222222222,
              "#7201a8"
             ],
             [
              0.3333333333333333,
              "#9c179e"
             ],
             [
              0.4444444444444444,
              "#bd3786"
             ],
             [
              0.5555555555555556,
              "#d8576b"
             ],
             [
              0.6666666666666666,
              "#ed7953"
             ],
             [
              0.7777777777777778,
              "#fb9f3a"
             ],
             [
              0.8888888888888888,
              "#fdca26"
             ],
             [
              1.0,
              "#f0f921"
             ]
            ],
            "type": "contour"
           }
          ],
          "contourcarpet": [
           {
            "colorbar": {
             "outlinewidth": 0,
             "ticks": ""
            },
            "type": "contourcarpet"
           }
          ],
          "heatmap": [
           {
            "colorbar": {
             "outlinewidth": 0,
             "ticks": ""
            },
            "colorscale": [
             [
              0.0,
              "#0d0887"
             ],
             [
              0.1111111111111111,
              "#46039f"
             ],
             [
              0.2222222222222222,
              "#7201a8"
             ],
             [
              0.3333333333333333,
              "#9c179e"
             ],
             [
              0.4444444444444444,
              "#bd3786"
             ],
             [
              0.5555555555555556,
              "#d8576b"
             ],
             [
              0.6666666666666666,
              "#ed7953"
             ],
             [
              0.7777777777777778,
              "#fb9f3a"
             ],
             [
              0.8888888888888888,
              "#fdca26"
             ],
             [
              1.0,
              "#f0f921"
             ]
            ],
            "type": "heatmap"
           }
          ],
          "heatmapgl": [
           {
            "colorbar": {
             "outlinewidth": 0,
             "ticks": ""
            },
            "colorscale": [
             [
              0.0,
              "#0d0887"
             ],
             [
              0.1111111111111111,
              "#46039f"
             ],
             [
              0.2222222222222222,
              "#7201a8"
             ],
             [
              0.3333333333333333,
              "#9c179e"
             ],
             [
              0.4444444444444444,
              "#bd3786"
             ],
             [
              0.5555555555555556,
              "#d8576b"
             ],
             [
              0.6666666666666666,
              "#ed7953"
             ],
             [
              0.7777777777777778,
              "#fb9f3a"
             ],
             [
              0.8888888888888888,
              "#fdca26"
             ],
             [
              1.0,
              "#f0f921"
             ]
            ],
            "type": "heatmapgl"
           }
          ],
          "histogram": [
           {
            "marker": {
             "pattern": {
              "fillmode": "overlay",
              "size": 10,
              "solidity": 0.2
             }
            },
            "type": "histogram"
           }
          ],
          "histogram2d": [
           {
            "colorbar": {
             "outlinewidth": 0,
             "ticks": ""
            },
            "colorscale": [
             [
              0.0,
              "#0d0887"
             ],
             [
              0.1111111111111111,
              "#46039f"
             ],
             [
              0.2222222222222222,
              "#7201a8"
             ],
             [
              0.3333333333333333,
              "#9c179e"
             ],
             [
              0.4444444444444444,
              "#bd3786"
             ],
             [
              0.5555555555555556,
              "#d8576b"
             ],
             [
              0.6666666666666666,
              "#ed7953"
             ],
             [
              0.7777777777777778,
              "#fb9f3a"
             ],
             [
              0.8888888888888888,
              "#fdca26"
             ],
             [
              1.0,
              "#f0f921"
             ]
            ],
            "type": "histogram2d"
           }
          ],
          "histogram2dcontour": [
           {
            "colorbar": {
             "outlinewidth": 0,
             "ticks": ""
            },
            "colorscale": [
             [
              0.0,
              "#0d0887"
             ],
             [
              0.1111111111111111,
              "#46039f"
             ],
             [
              0.2222222222222222,
              "#7201a8"
             ],
             [
              0.3333333333333333,
              "#9c179e"
             ],
             [
              0.4444444444444444,
              "#bd3786"
             ],
             [
              0.5555555555555556,
              "#d8576b"
             ],
             [
              0.6666666666666666,
              "#ed7953"
             ],
             [
              0.7777777777777778,
              "#fb9f3a"
             ],
             [
              0.8888888888888888,
              "#fdca26"
             ],
             [
              1.0,
              "#f0f921"
             ]
            ],
            "type": "histogram2dcontour"
           }
          ],
          "mesh3d": [
           {
            "colorbar": {
             "outlinewidth": 0,
             "ticks": ""
            },
            "type": "mesh3d"
           }
          ],
          "parcoords": [
           {
            "line": {
             "colorbar": {
              "outlinewidth": 0,
              "ticks": ""
             }
            },
            "type": "parcoords"
           }
          ],
          "pie": [
           {
            "automargin": true,
            "type": "pie"
           }
          ],
          "scatter": [
           {
            "fillpattern": {
             "fillmode": "overlay",
             "size": 10,
             "solidity": 0.2
            },
            "type": "scatter"
           }
          ],
          "scatter3d": [
           {
            "line": {
             "colorbar": {
              "outlinewidth": 0,
              "ticks": ""
             }
            },
            "marker": {
             "colorbar": {
              "outlinewidth": 0,
              "ticks": ""
             }
            },
            "type": "scatter3d"
           }
          ],
          "scattercarpet": [
           {
            "marker": {
             "colorbar": {
              "outlinewidth": 0,
              "ticks": ""
             }
            },
            "type": "scattercarpet"
           }
          ],
          "scattergeo": [
           {
            "marker": {
             "colorbar": {
              "outlinewidth": 0,
              "ticks": ""
             }
            },
            "type": "scattergeo"
           }
          ],
          "scattergl": [
           {
            "marker": {
             "colorbar": {
              "outlinewidth": 0,
              "ticks": ""
             }
            },
            "type": "scattergl"
           }
          ],
          "scattermapbox": [
           {
            "marker": {
             "colorbar": {
              "outlinewidth": 0,
              "ticks": ""
             }
            },
            "type": "scattermapbox"
           }
          ],
          "scatterpolar": [
           {
            "marker": {
             "colorbar": {
              "outlinewidth": 0,
              "ticks": ""
             }
            },
            "type": "scatterpolar"
           }
          ],
          "scatterpolargl": [
           {
            "marker": {
             "colorbar": {
              "outlinewidth": 0,
              "ticks": ""
             }
            },
            "type": "scatterpolargl"
           }
          ],
          "scatterternary": [
           {
            "marker": {
             "colorbar": {
              "outlinewidth": 0,
              "ticks": ""
             }
            },
            "type": "scatterternary"
           }
          ],
          "surface": [
           {
            "colorbar": {
             "outlinewidth": 0,
             "ticks": ""
            },
            "colorscale": [
             [
              0.0,
              "#0d0887"
             ],
             [
              0.1111111111111111,
              "#46039f"
             ],
             [
              0.2222222222222222,
              "#7201a8"
             ],
             [
              0.3333333333333333,
              "#9c179e"
             ],
             [
              0.4444444444444444,
              "#bd3786"
             ],
             [
              0.5555555555555556,
              "#d8576b"
             ],
             [
              0.6666666666666666,
              "#ed7953"
             ],
             [
              0.7777777777777778,
              "#fb9f3a"
             ],
             [
              0.8888888888888888,
              "#fdca26"
             ],
             [
              1.0,
              "#f0f921"
             ]
            ],
            "type": "surface"
           }
          ],
          "table": [
           {
            "cells": {
             "fill": {
              "color": "#EBF0F8"
             },
             "line": {
              "color": "white"
             }
            },
            "header": {
             "fill": {
              "color": "#C8D4E3"
             },
             "line": {
              "color": "white"
             }
            },
            "type": "table"
           }
          ]
         },
         "layout": {
          "annotationdefaults": {
           "arrowcolor": "#2a3f5f",
           "arrowhead": 0,
           "arrowwidth": 1
          },
          "autotypenumbers": "strict",
          "coloraxis": {
           "colorbar": {
            "outlinewidth": 0,
            "ticks": ""
           }
          },
          "colorscale": {
           "diverging": [
            [
             0,
             "#8e0152"
            ],
            [
             0.1,
             "#c51b7d"
            ],
            [
             0.2,
             "#de77ae"
            ],
            [
             0.3,
             "#f1b6da"
            ],
            [
             0.4,
             "#fde0ef"
            ],
            [
             0.5,
             "#f7f7f7"
            ],
            [
             0.6,
             "#e6f5d0"
            ],
            [
             0.7,
             "#b8e186"
            ],
            [
             0.8,
             "#7fbc41"
            ],
            [
             0.9,
             "#4d9221"
            ],
            [
             1,
             "#276419"
            ]
           ],
           "sequential": [
            [
             0.0,
             "#0d0887"
            ],
            [
             0.1111111111111111,
             "#46039f"
            ],
            [
             0.2222222222222222,
             "#7201a8"
            ],
            [
             0.3333333333333333,
             "#9c179e"
            ],
            [
             0.4444444444444444,
             "#bd3786"
            ],
            [
             0.5555555555555556,
             "#d8576b"
            ],
            [
             0.6666666666666666,
             "#ed7953"
            ],
            [
             0.7777777777777778,
             "#fb9f3a"
            ],
            [
             0.8888888888888888,
             "#fdca26"
            ],
            [
             1.0,
             "#f0f921"
            ]
           ],
           "sequentialminus": [
            [
             0.0,
             "#0d0887"
            ],
            [
             0.1111111111111111,
             "#46039f"
            ],
            [
             0.2222222222222222,
             "#7201a8"
            ],
            [
             0.3333333333333333,
             "#9c179e"
            ],
            [
             0.4444444444444444,
             "#bd3786"
            ],
            [
             0.5555555555555556,
             "#d8576b"
            ],
            [
             0.6666666666666666,
             "#ed7953"
            ],
            [
             0.7777777777777778,
             "#fb9f3a"
            ],
            [
             0.8888888888888888,
             "#fdca26"
            ],
            [
             1.0,
             "#f0f921"
            ]
           ]
          },
          "colorway": [
           "#636efa",
           "#EF553B",
           "#00cc96",
           "#ab63fa",
           "#FFA15A",
           "#19d3f3",
           "#FF6692",
           "#B6E880",
           "#FF97FF",
           "#FECB52"
          ],
          "font": {
           "color": "#2a3f5f"
          },
          "geo": {
           "bgcolor": "white",
           "lakecolor": "white",
           "landcolor": "#E5ECF6",
           "showlakes": true,
           "showland": true,
           "subunitcolor": "white"
          },
          "hoverlabel": {
           "align": "left"
          },
          "hovermode": "closest",
          "mapbox": {
           "style": "light"
          },
          "paper_bgcolor": "white",
          "plot_bgcolor": "#E5ECF6",
          "polar": {
           "angularaxis": {
            "gridcolor": "white",
            "linecolor": "white",
            "ticks": ""
           },
           "bgcolor": "#E5ECF6",
           "radialaxis": {
            "gridcolor": "white",
            "linecolor": "white",
            "ticks": ""
           }
          },
          "scene": {
           "xaxis": {
            "backgroundcolor": "#E5ECF6",
            "gridcolor": "white",
            "gridwidth": 2,
            "linecolor": "white",
            "showbackground": true,
            "ticks": "",
            "zerolinecolor": "white"
           },
           "yaxis": {
            "backgroundcolor": "#E5ECF6",
            "gridcolor": "white",
            "gridwidth": 2,
            "linecolor": "white",
            "showbackground": true,
            "ticks": "",
            "zerolinecolor": "white"
           },
           "zaxis": {
            "backgroundcolor": "#E5ECF6",
            "gridcolor": "white",
            "gridwidth": 2,
            "linecolor": "white",
            "showbackground": true,
            "ticks": "",
            "zerolinecolor": "white"
           }
          },
          "shapedefaults": {
           "line": {
            "color": "#2a3f5f"
           }
          },
          "ternary": {
           "aaxis": {
            "gridcolor": "white",
            "linecolor": "white",
            "ticks": ""
           },
           "baxis": {
            "gridcolor": "white",
            "linecolor": "white",
            "ticks": ""
           },
           "bgcolor": "#E5ECF6",
           "caxis": {
            "gridcolor": "white",
            "linecolor": "white",
            "ticks": ""
           }
          },
          "title": {
           "x": 0.05
          },
          "xaxis": {
           "automargin": true,
           "gridcolor": "white",
           "linecolor": "white",
           "ticks": "",
           "title": {
            "standoff": 15
           },
           "zerolinecolor": "white",
           "zerolinewidth": 2
          },
          "yaxis": {
           "automargin": true,
           "gridcolor": "white",
           "linecolor": "white",
           "ticks": "",
           "title": {
            "standoff": 15
           },
           "zerolinecolor": "white",
           "zerolinewidth": 2
          }
         }
        },
        "xaxis": {
         "anchor": "y",
         "domain": [
          0.0,
          1.0
         ],
         "title": {
          "text": " Occupation"
         }
        },
        "yaxis": {
         "anchor": "x",
         "domain": [
          0.0,
          1.0
         ],
         "title": {
          "text": " Age"
         }
        }
       }
      },
      "text/html": [
       "<div>                            <div id=\"0a97b62e-5093-414a-844c-a4533726a057\" class=\"plotly-graph-div\" style=\"height:500px; width:100%;\"></div>            <script type=\"text/javascript\">                require([\"plotly\"], function(Plotly) {                    window.PLOTLYENV=window.PLOTLYENV || {};                                    if (document.getElementById(\"0a97b62e-5093-414a-844c-a4533726a057\")) {                    Plotly.newPlot(                        \"0a97b62e-5093-414a-844c-a4533726a057\",                        [{\"alignmentgroup\":\"True\",\"customdata\":[[\" male\"],[\" male\"],[\" female\"],[\" male\"],[\" female\"],[\" male\"],[\" female\"],[\" male\"],[\" female\"],[\" male\"],[\" female\"],[\" male\"],[\" female\"],[\" male\"],[\" female\"],[\" male\"],[\" female\"],[\" male\"],[\" male\"],[\" female\"],[\" male\"],[\" female\"],[\" male\"],[\" female\"],[\" male\"],[\" female\"],[\" male\"],[\" female\"],[\" male\"],[\" female\"],[\" male\"],[\" female\"],[\" male\"],[\" female\"],[\" male\"],[\" female\"],[\" male\"],[\" female\"],[\" male\"],[\" female\"],[\" male\"],[\" female\"],[\" male\"],[\" female\"],[\" male\"],[\" female\"],[\" male\"],[\" female\"],[\" male\"],[\" female\"],[\" male\"],[\"male\"],[\"female\"],[\"male\"],[\"female\"],[\"male\"],[\"female\"],[\"male\"],[\"female\"],[\"male\"],[\"female\"],[\"male\"],[\"female\"],[\"male\"],[\"female\"],[\"male\"],[\"female\"],[\"male\"],[\"female\"],[\"male\"],[\"female\"],[\"male\"],[\"female\"],[\"male\"],[\"female\"],[\"male\"],[\"female\"],[\"male\"],[\"female\"],[\"male\"],[\"male\"],[\"female\"],[\"male\"],[\"female\"],[\"male\"],[\"female\"],[\"male\"],[\"female\"],[\"male\"],[\"female\"],[\"male\"],[\"female\"],[\"male\"],[\"female\"],[\"male\"],[\"female\"],[\"male\"],[\"female\"],[\"male\"],[\"female\"],[\"male\"],[\"female\"],[\"male\"],[\"female\"],[\"male\"],[\"male\"],[\"female\"],[\"male\"],[\"female\"],[\"male\"],[\"female\"],[\"male\"],[\"female\"],[\"male\"],[\"female\"],[\"male\"],[\"female\"],[\"male\"],[\"female\"],[\"male\"],[\"female\"],[\"male\"],[\"female\"],[\"male\"],[\"female\"],[\"male\"],[\"female\"],[\"male\"],[\"female\"],[\"male\"],[\"female\"]],\"hovertemplate\":\" Occupation=%{x}<br> Age=%{marker.color}<br>Male or Female=%{customdata[0]}<extra></extra>\",\"legendgroup\":\"\",\"marker\":{\"color\":[32,25,41,38,29,45,27,52,31,36,24,44,28,29,33,37,26,28,33,44,29,31,40,27,47,35,42,26,49,30,35,38,31,29,32,27,41,36,29,33,45,28,39,32,44,26,36,29,42,30,34,35,28,42,31,30,36,44,29,37,26,43,34,36,27,41,30,38,29,40,33,39,32,45,28,34,31,42,30,37,37,27,44,32,39,29,43,31,38,28,41,33,36,30,42,34,35,29,40,31,43,32,37,28,34,32,27,44,35,38,30,42,29,36,31,41,33,35,28,40,34,37,29,40,31,43,32,38,27,33,29],\"coloraxis\":\"coloraxis\",\"pattern\":{\"shape\":\"\"}},\"name\":\"\",\"offsetgroup\":\"\",\"orientation\":\"v\",\"showlegend\":false,\"textposition\":\"auto\",\"x\":[\" Software Engineer\",\" Sales Representative\",\" Doctor\",\" Lawyer\",\" Graphic Designer\",\" Business Consultant\",\" Marketing Specialist\",\" CEO\",\" Project Manager\",\" Engineer\",\" Accountant\",\" Architect\",\" Nurse\",\" Analyst\",\" Teacher\",\" IT Manager\",\" Writer\",\" Engineer\",\" Teacher\",\" Doctor\",\" Sales Representative\",\" Marketing Specialist\",\" Business Analyst\",\" Project Manager\",\" CEO\",\" Graphic Designer\",\" Architect\",\" Accountant\",\" Lawyer\",\" Nurse\",\" Analyst\",\" Teacher\",\" IT Manager\",\" Writer\",\" Engineer\",\" Marketing Specialist\",\" Business Analyst\",\" Graphic Designer\",\" Sales Representative\",\" Doctor\",\" CEO\",\" Writer\",\" IT Manager\",\" Accountant\",\" Lawyer\",\" Teacher\",\" Analyst\",\" Project Manager\",\" Architect\",\" Nurse\",\" Teacher\",\"Engineer\",\"Teacher\",\"Doctor\",\"Graphic Designer\",\"IT Manager\",\"Sales Representative\",\"Lawyer\",\"Marketing Specialist\",\"Project Manager\",\"Writer\",\"Architect\",\"Nurse\",\"Business Analyst\",\"Accountant\",\"CEO\",\"Teacher\",\"Analyst\",\"Doctor\",\"Engineer\",\"Marketing Specialist\",\"IT Manager\",\"Writer\",\"Lawyer\",\"Graphic Designer\",\"Sales Representative\",\"Teacher\",\"Architect\",\"Nurse\",\"Project Manager\",\"Engineer\",\"Teacher\",\"Doctor\",\"Graphic Designer\",\"IT Manager\",\"Marketing Specialist\",\"Lawyer\",\"Nurse\",\"Project Manager\",\"Writer\",\"Architect\",\"Accountant\",\"Business Analyst\",\"Teacher\",\"CEO\",\"Marketing Specialist\",\"Analyst\",\"Doctor\",\"Engineer\",\"Writer\",\"Lawyer\",\"Nurse\",\"Project Manager\",\"Graphic Designer\",\"Sales Representative\",\"Engineer\",\"Teacher\",\"Doctor\",\"Graphic Designer\",\"IT Manager\",\"Marketing Specialist\",\"Lawyer\",\"Nurse\",\"Project Manager\",\"Writer\",\"Architect\",\"Accountant\",\"Business Analyst\",\"Teacher\",\"CEO\",\"Marketing Specialist\",\"Analyst\",\"Doctor\",\"Engineer\",\"Writer\",\"Lawyer\",\"Nurse\",\"Project Manager\",\"Graphic Designer\",\"Sales Representative\",\"Software Developer\"],\"xaxis\":\"x\",\"y\":[32,25,41,38,29,45,27,52,31,36,24,44,28,29,33,37,26,28,33,44,29,31,40,27,47,35,42,26,49,30,35,38,31,29,32,27,41,36,29,33,45,28,39,32,44,26,36,29,42,30,34,35,28,42,31,30,36,44,29,37,26,43,34,36,27,41,30,38,29,40,33,39,32,45,28,34,31,42,30,37,37,27,44,32,39,29,43,31,38,28,41,33,36,30,42,34,35,29,40,31,43,32,37,28,34,32,27,44,35,38,30,42,29,36,31,41,33,35,28,40,34,37,29,40,31,43,32,38,27,33,29],\"yaxis\":\"y\",\"type\":\"bar\"}],                        {\"template\":{\"data\":{\"histogram2dcontour\":[{\"type\":\"histogram2dcontour\",\"colorbar\":{\"outlinewidth\":0,\"ticks\":\"\"},\"colorscale\":[[0.0,\"#0d0887\"],[0.1111111111111111,\"#46039f\"],[0.2222222222222222,\"#7201a8\"],[0.3333333333333333,\"#9c179e\"],[0.4444444444444444,\"#bd3786\"],[0.5555555555555556,\"#d8576b\"],[0.6666666666666666,\"#ed7953\"],[0.7777777777777778,\"#fb9f3a\"],[0.8888888888888888,\"#fdca26\"],[1.0,\"#f0f921\"]]}],\"choropleth\":[{\"type\":\"choropleth\",\"colorbar\":{\"outlinewidth\":0,\"ticks\":\"\"}}],\"histogram2d\":[{\"type\":\"histogram2d\",\"colorbar\":{\"outlinewidth\":0,\"ticks\":\"\"},\"colorscale\":[[0.0,\"#0d0887\"],[0.1111111111111111,\"#46039f\"],[0.2222222222222222,\"#7201a8\"],[0.3333333333333333,\"#9c179e\"],[0.4444444444444444,\"#bd3786\"],[0.5555555555555556,\"#d8576b\"],[0.6666666666666666,\"#ed7953\"],[0.7777777777777778,\"#fb9f3a\"],[0.8888888888888888,\"#fdca26\"],[1.0,\"#f0f921\"]]}],\"heatmap\":[{\"type\":\"heatmap\",\"colorbar\":{\"outlinewidth\":0,\"ticks\":\"\"},\"colorscale\":[[0.0,\"#0d0887\"],[0.1111111111111111,\"#46039f\"],[0.2222222222222222,\"#7201a8\"],[0.3333333333333333,\"#9c179e\"],[0.4444444444444444,\"#bd3786\"],[0.5555555555555556,\"#d8576b\"],[0.6666666666666666,\"#ed7953\"],[0.7777777777777778,\"#fb9f3a\"],[0.8888888888888888,\"#fdca26\"],[1.0,\"#f0f921\"]]}],\"heatmapgl\":[{\"type\":\"heatmapgl\",\"colorbar\":{\"outlinewidth\":0,\"ticks\":\"\"},\"colorscale\":[[0.0,\"#0d0887\"],[0.1111111111111111,\"#46039f\"],[0.2222222222222222,\"#7201a8\"],[0.3333333333333333,\"#9c179e\"],[0.4444444444444444,\"#bd3786\"],[0.5555555555555556,\"#d8576b\"],[0.6666666666666666,\"#ed7953\"],[0.7777777777777778,\"#fb9f3a\"],[0.8888888888888888,\"#fdca26\"],[1.0,\"#f0f921\"]]}],\"contourcarpet\":[{\"type\":\"contourcarpet\",\"colorbar\":{\"outlinewidth\":0,\"ticks\":\"\"}}],\"contour\":[{\"type\":\"contour\",\"colorbar\":{\"outlinewidth\":0,\"ticks\":\"\"},\"colorscale\":[[0.0,\"#0d0887\"],[0.1111111111111111,\"#46039f\"],[0.2222222222222222,\"#7201a8\"],[0.3333333333333333,\"#9c179e\"],[0.4444444444444444,\"#bd3786\"],[0.5555555555555556,\"#d8576b\"],[0.6666666666666666,\"#ed7953\"],[0.7777777777777778,\"#fb9f3a\"],[0.8888888888888888,\"#fdca26\"],[1.0,\"#f0f921\"]]}],\"surface\":[{\"type\":\"surface\",\"colorbar\":{\"outlinewidth\":0,\"ticks\":\"\"},\"colorscale\":[[0.0,\"#0d0887\"],[0.1111111111111111,\"#46039f\"],[0.2222222222222222,\"#7201a8\"],[0.3333333333333333,\"#9c179e\"],[0.4444444444444444,\"#bd3786\"],[0.5555555555555556,\"#d8576b\"],[0.6666666666666666,\"#ed7953\"],[0.7777777777777778,\"#fb9f3a\"],[0.8888888888888888,\"#fdca26\"],[1.0,\"#f0f921\"]]}],\"mesh3d\":[{\"type\":\"mesh3d\",\"colorbar\":{\"outlinewidth\":0,\"ticks\":\"\"}}],\"scatter\":[{\"fillpattern\":{\"fillmode\":\"overlay\",\"size\":10,\"solidity\":0.2},\"type\":\"scatter\"}],\"parcoords\":[{\"type\":\"parcoords\",\"line\":{\"colorbar\":{\"outlinewidth\":0,\"ticks\":\"\"}}}],\"scatterpolargl\":[{\"type\":\"scatterpolargl\",\"marker\":{\"colorbar\":{\"outlinewidth\":0,\"ticks\":\"\"}}}],\"bar\":[{\"error_x\":{\"color\":\"#2a3f5f\"},\"error_y\":{\"color\":\"#2a3f5f\"},\"marker\":{\"line\":{\"color\":\"#E5ECF6\",\"width\":0.5},\"pattern\":{\"fillmode\":\"overlay\",\"size\":10,\"solidity\":0.2}},\"type\":\"bar\"}],\"scattergeo\":[{\"type\":\"scattergeo\",\"marker\":{\"colorbar\":{\"outlinewidth\":0,\"ticks\":\"\"}}}],\"scatterpolar\":[{\"type\":\"scatterpolar\",\"marker\":{\"colorbar\":{\"outlinewidth\":0,\"ticks\":\"\"}}}],\"histogram\":[{\"marker\":{\"pattern\":{\"fillmode\":\"overlay\",\"size\":10,\"solidity\":0.2}},\"type\":\"histogram\"}],\"scattergl\":[{\"type\":\"scattergl\",\"marker\":{\"colorbar\":{\"outlinewidth\":0,\"ticks\":\"\"}}}],\"scatter3d\":[{\"type\":\"scatter3d\",\"line\":{\"colorbar\":{\"outlinewidth\":0,\"ticks\":\"\"}},\"marker\":{\"colorbar\":{\"outlinewidth\":0,\"ticks\":\"\"}}}],\"scattermapbox\":[{\"type\":\"scattermapbox\",\"marker\":{\"colorbar\":{\"outlinewidth\":0,\"ticks\":\"\"}}}],\"scatterternary\":[{\"type\":\"scatterternary\",\"marker\":{\"colorbar\":{\"outlinewidth\":0,\"ticks\":\"\"}}}],\"scattercarpet\":[{\"type\":\"scattercarpet\",\"marker\":{\"colorbar\":{\"outlinewidth\":0,\"ticks\":\"\"}}}],\"carpet\":[{\"aaxis\":{\"endlinecolor\":\"#2a3f5f\",\"gridcolor\":\"white\",\"linecolor\":\"white\",\"minorgridcolor\":\"white\",\"startlinecolor\":\"#2a3f5f\"},\"baxis\":{\"endlinecolor\":\"#2a3f5f\",\"gridcolor\":\"white\",\"linecolor\":\"white\",\"minorgridcolor\":\"white\",\"startlinecolor\":\"#2a3f5f\"},\"type\":\"carpet\"}],\"table\":[{\"cells\":{\"fill\":{\"color\":\"#EBF0F8\"},\"line\":{\"color\":\"white\"}},\"header\":{\"fill\":{\"color\":\"#C8D4E3\"},\"line\":{\"color\":\"white\"}},\"type\":\"table\"}],\"barpolar\":[{\"marker\":{\"line\":{\"color\":\"#E5ECF6\",\"width\":0.5},\"pattern\":{\"fillmode\":\"overlay\",\"size\":10,\"solidity\":0.2}},\"type\":\"barpolar\"}],\"pie\":[{\"automargin\":true,\"type\":\"pie\"}]},\"layout\":{\"autotypenumbers\":\"strict\",\"colorway\":[\"#636efa\",\"#EF553B\",\"#00cc96\",\"#ab63fa\",\"#FFA15A\",\"#19d3f3\",\"#FF6692\",\"#B6E880\",\"#FF97FF\",\"#FECB52\"],\"font\":{\"color\":\"#2a3f5f\"},\"hovermode\":\"closest\",\"hoverlabel\":{\"align\":\"left\"},\"paper_bgcolor\":\"white\",\"plot_bgcolor\":\"#E5ECF6\",\"polar\":{\"bgcolor\":\"#E5ECF6\",\"angularaxis\":{\"gridcolor\":\"white\",\"linecolor\":\"white\",\"ticks\":\"\"},\"radialaxis\":{\"gridcolor\":\"white\",\"linecolor\":\"white\",\"ticks\":\"\"}},\"ternary\":{\"bgcolor\":\"#E5ECF6\",\"aaxis\":{\"gridcolor\":\"white\",\"linecolor\":\"white\",\"ticks\":\"\"},\"baxis\":{\"gridcolor\":\"white\",\"linecolor\":\"white\",\"ticks\":\"\"},\"caxis\":{\"gridcolor\":\"white\",\"linecolor\":\"white\",\"ticks\":\"\"}},\"coloraxis\":{\"colorbar\":{\"outlinewidth\":0,\"ticks\":\"\"}},\"colorscale\":{\"sequential\":[[0.0,\"#0d0887\"],[0.1111111111111111,\"#46039f\"],[0.2222222222222222,\"#7201a8\"],[0.3333333333333333,\"#9c179e\"],[0.4444444444444444,\"#bd3786\"],[0.5555555555555556,\"#d8576b\"],[0.6666666666666666,\"#ed7953\"],[0.7777777777777778,\"#fb9f3a\"],[0.8888888888888888,\"#fdca26\"],[1.0,\"#f0f921\"]],\"sequentialminus\":[[0.0,\"#0d0887\"],[0.1111111111111111,\"#46039f\"],[0.2222222222222222,\"#7201a8\"],[0.3333333333333333,\"#9c179e\"],[0.4444444444444444,\"#bd3786\"],[0.5555555555555556,\"#d8576b\"],[0.6666666666666666,\"#ed7953\"],[0.7777777777777778,\"#fb9f3a\"],[0.8888888888888888,\"#fdca26\"],[1.0,\"#f0f921\"]],\"diverging\":[[0,\"#8e0152\"],[0.1,\"#c51b7d\"],[0.2,\"#de77ae\"],[0.3,\"#f1b6da\"],[0.4,\"#fde0ef\"],[0.5,\"#f7f7f7\"],[0.6,\"#e6f5d0\"],[0.7,\"#b8e186\"],[0.8,\"#7fbc41\"],[0.9,\"#4d9221\"],[1,\"#276419\"]]},\"xaxis\":{\"gridcolor\":\"white\",\"linecolor\":\"white\",\"ticks\":\"\",\"title\":{\"standoff\":15},\"zerolinecolor\":\"white\",\"automargin\":true,\"zerolinewidth\":2},\"yaxis\":{\"gridcolor\":\"white\",\"linecolor\":\"white\",\"ticks\":\"\",\"title\":{\"standoff\":15},\"zerolinecolor\":\"white\",\"automargin\":true,\"zerolinewidth\":2},\"scene\":{\"xaxis\":{\"backgroundcolor\":\"#E5ECF6\",\"gridcolor\":\"white\",\"linecolor\":\"white\",\"showbackground\":true,\"ticks\":\"\",\"zerolinecolor\":\"white\",\"gridwidth\":2},\"yaxis\":{\"backgroundcolor\":\"#E5ECF6\",\"gridcolor\":\"white\",\"linecolor\":\"white\",\"showbackground\":true,\"ticks\":\"\",\"zerolinecolor\":\"white\",\"gridwidth\":2},\"zaxis\":{\"backgroundcolor\":\"#E5ECF6\",\"gridcolor\":\"white\",\"linecolor\":\"white\",\"showbackground\":true,\"ticks\":\"\",\"zerolinecolor\":\"white\",\"gridwidth\":2}},\"shapedefaults\":{\"line\":{\"color\":\"#2a3f5f\"}},\"annotationdefaults\":{\"arrowcolor\":\"#2a3f5f\",\"arrowhead\":0,\"arrowwidth\":1},\"geo\":{\"bgcolor\":\"white\",\"landcolor\":\"#E5ECF6\",\"subunitcolor\":\"white\",\"showland\":true,\"showlakes\":true,\"lakecolor\":\"white\"},\"title\":{\"x\":0.05},\"mapbox\":{\"style\":\"light\"}}},\"xaxis\":{\"anchor\":\"y\",\"domain\":[0.0,1.0],\"title\":{\"text\":\" Occupation\"}},\"yaxis\":{\"anchor\":\"x\",\"domain\":[0.0,1.0],\"title\":{\"text\":\" Age\"}},\"coloraxis\":{\"colorbar\":{\"title\":{\"text\":\" Age\"}},\"colorscale\":[[0.0,\"#0d0887\"],[0.1111111111111111,\"#46039f\"],[0.2222222222222222,\"#7201a8\"],[0.3333333333333333,\"#9c179e\"],[0.4444444444444444,\"#bd3786\"],[0.5555555555555556,\"#d8576b\"],[0.6666666666666666,\"#ed7953\"],[0.7777777777777778,\"#fb9f3a\"],[0.8888888888888888,\"#fdca26\"],[1.0,\"#f0f921\"]]},\"legend\":{\"tracegroupgap\":0},\"margin\":{\"t\":60},\"barmode\":\"relative\",\"height\":500},                        {\"responsive\": true}                    ).then(function(){\n",
       "                            \n",
       "var gd = document.getElementById('0a97b62e-5093-414a-844c-a4533726a057');\n",
       "var x = new MutationObserver(function (mutations, observer) {{\n",
       "        var display = window.getComputedStyle(gd).display;\n",
       "        if (!display || display === 'none') {{\n",
       "            console.log([gd, 'removed!']);\n",
       "            Plotly.purge(gd);\n",
       "            observer.disconnect();\n",
       "        }}\n",
       "}});\n",
       "\n",
       "// Listen for the removal of the full notebook cells\n",
       "var notebookContainer = gd.closest('#notebook-container');\n",
       "if (notebookContainer) {{\n",
       "    x.observe(notebookContainer, {childList: true});\n",
       "}}\n",
       "\n",
       "// Listen for the clearing of the current output cell\n",
       "var outputEl = gd.closest('.output');\n",
       "if (outputEl) {{\n",
       "    x.observe(outputEl, {childList: true});\n",
       "}}\n",
       "\n",
       "                        })                };                });            </script>        </div>"
      ]
     },
     "metadata": {},
     "output_type": "display_data"
    }
   ],
   "source": [
    "# Male Female at various ages in different jobs\n",
    "fig = px.bar(df, x=' Occupation', y=' Age',\n",
    "             hover_data=[' Gender'], color=' Age',\n",
    "             labels={' Gender':'Male or Female'}, height=500)\n",
    "fig.show()"
   ]
  },
  {
   "cell_type": "code",
   "execution_count": 9,
   "id": "4abc9048",
   "metadata": {
    "execution": {
     "iopub.execute_input": "2023-03-19T09:50:36.413524Z",
     "iopub.status.busy": "2023-03-19T09:50:36.413079Z",
     "iopub.status.idle": "2023-03-19T09:50:36.559790Z",
     "shell.execute_reply": "2023-03-19T09:50:36.558275Z"
    },
    "papermill": {
     "duration": 0.168172,
     "end_time": "2023-03-19T09:50:36.562506",
     "exception": false,
     "start_time": "2023-03-19T09:50:36.394334",
     "status": "completed"
    },
    "tags": []
   },
   "outputs": [
    {
     "data": {
      "application/vnd.plotly.v1+json": {
       "config": {
        "plotlyServerURL": "https://plot.ly"
       },
       "data": [
        {
         "hovertemplate": " Marital Status=%{x}<br> Age=%{y}<extra></extra>",
         "legendgroup": " Married",
         "marker": {
          "color": "#636efa",
          "size": 10,
          "symbol": "circle"
         },
         "mode": "markers",
         "name": " Married",
         "orientation": "v",
         "showlegend": true,
         "type": "scatter",
         "x": [
          " Married",
          " Married",
          " Married",
          " Married",
          " Married",
          " Married",
          " Married",
          " Married",
          " Married",
          " Married",
          " Married",
          " Married",
          " Married",
          " Married",
          " Married",
          " Married",
          " Married",
          " Married",
          " Married",
          " Married",
          " Married",
          " Married",
          " Married",
          " Married"
         ],
         "xaxis": "x",
         "y": [
          32,
          41,
          52,
          31,
          36,
          28,
          33,
          37,
          28,
          44,
          47,
          35,
          42,
          30,
          38,
          31,
          32,
          36,
          33,
          45,
          39,
          44,
          42,
          30
         ],
         "yaxis": "y"
        },
        {
         "hovertemplate": " Marital Status=%{x}<br> Age=%{y}<extra></extra>",
         "legendgroup": " Single",
         "marker": {
          "color": "#EF553B",
          "size": 10,
          "symbol": "diamond"
         },
         "mode": "markers",
         "name": " Single",
         "orientation": "v",
         "showlegend": true,
         "type": "scatter",
         "x": [
          " Single",
          " Single",
          " Single",
          " Single",
          " Single",
          " Single",
          " Single",
          " Single",
          " Single",
          " Single",
          " Single",
          " Single",
          " Single",
          " Single",
          " Single",
          " Single",
          " Single",
          " Single",
          " Single",
          " Single",
          " Single"
         ],
         "xaxis": "x",
         "y": [
          25,
          38,
          29,
          27,
          24,
          29,
          26,
          33,
          29,
          31,
          27,
          26,
          35,
          29,
          27,
          29,
          28,
          32,
          26,
          29,
          34
         ],
         "yaxis": "y"
        },
        {
         "hovertemplate": " Marital Status=%{x}<br> Age=%{y}<extra></extra>",
         "legendgroup": " Divorced",
         "marker": {
          "color": "#00cc96",
          "size": 10,
          "symbol": "square"
         },
         "mode": "markers",
         "name": " Divorced",
         "orientation": "v",
         "showlegend": true,
         "type": "scatter",
         "x": [
          " Divorced",
          " Divorced",
          " Divorced",
          " Divorced"
         ],
         "xaxis": "x",
         "y": [
          45,
          40,
          41,
          36
         ],
         "yaxis": "y"
        },
        {
         "hovertemplate": " Marital Status=%{x}<br> Age=%{y}<extra></extra>",
         "legendgroup": " Widowed",
         "marker": {
          "color": "#ab63fa",
          "size": 10,
          "symbol": "x"
         },
         "mode": "markers",
         "name": " Widowed",
         "orientation": "v",
         "showlegend": true,
         "type": "scatter",
         "x": [
          " Widowed",
          " Widowed"
         ],
         "xaxis": "x",
         "y": [
          44,
          49
         ],
         "yaxis": "y"
        },
        {
         "hovertemplate": " Marital Status=%{x}<br> Age=%{y}<extra></extra>",
         "legendgroup": "Single",
         "marker": {
          "color": "#FFA15A",
          "size": 10,
          "symbol": "cross"
         },
         "mode": "markers",
         "name": "Single",
         "orientation": "v",
         "showlegend": true,
         "type": "scatter",
         "x": [
          "Single",
          "Single",
          "Single",
          "Single",
          "Single",
          "Single",
          "Single",
          "Single",
          "Single",
          "Single",
          "Single",
          "Single",
          "Single",
          "Single",
          "Single",
          "Single",
          "Single",
          "Single",
          "Single",
          "Single",
          "Single",
          "Single",
          "Single",
          "Single",
          "Single",
          "Single",
          "Single",
          "Single",
          "Single",
          "Single",
          "Single",
          "Single",
          "Single",
          "Single",
          "Single",
          "Single",
          "Single",
          "Single"
         ],
         "xaxis": "x",
         "y": [
          35,
          31,
          30,
          29,
          26,
          27,
          30,
          29,
          39,
          32,
          28,
          34,
          30,
          27,
          32,
          29,
          31,
          28,
          33,
          30,
          34,
          29,
          31,
          32,
          28,
          27,
          35,
          30,
          29,
          31,
          33,
          28,
          34,
          29,
          31,
          32,
          27,
          29
         ],
         "yaxis": "y"
        },
        {
         "hovertemplate": " Marital Status=%{x}<br> Age=%{y}<extra></extra>",
         "legendgroup": "Married",
         "marker": {
          "color": "#19d3f3",
          "size": 10,
          "symbol": "circle"
         },
         "mode": "markers",
         "name": "Married",
         "orientation": "v",
         "showlegend": true,
         "type": "scatter",
         "x": [
          "Married",
          "Married",
          "Married",
          "Married",
          "Married",
          "Married",
          "Married",
          "Married",
          "Married",
          "Married",
          "Married",
          "Married",
          "Married",
          "Married",
          "Married",
          "Married",
          "Married",
          "Married",
          "Married",
          "Married",
          "Married",
          "Married",
          "Married",
          "Married",
          "Married",
          "Married",
          "Married",
          "Married",
          "Married",
          "Married",
          "Married",
          "Married",
          "Married",
          "Married",
          "Married",
          "Married",
          "Married",
          "Married",
          "Married",
          "Married",
          "Married"
         ],
         "xaxis": "x",
         "y": [
          28,
          42,
          36,
          37,
          43,
          34,
          36,
          41,
          38,
          40,
          33,
          45,
          31,
          42,
          37,
          37,
          44,
          39,
          43,
          38,
          41,
          36,
          42,
          35,
          40,
          43,
          37,
          34,
          32,
          44,
          38,
          42,
          36,
          41,
          35,
          40,
          37,
          40,
          43,
          38,
          33
         ],
         "yaxis": "y"
        },
        {
         "hovertemplate": " Marital Status=%{x}<br> Age=%{y}<extra></extra>",
         "legendgroup": "Divorced",
         "marker": {
          "color": "#FF6692",
          "size": 10,
          "symbol": "diamond"
         },
         "mode": "markers",
         "name": "Divorced",
         "orientation": "v",
         "showlegend": true,
         "type": "scatter",
         "x": [
          "Divorced"
         ],
         "xaxis": "x",
         "y": [
          44
         ],
         "yaxis": "y"
        }
       ],
       "layout": {
        "legend": {
         "title": {
          "text": " Marital Status"
         },
         "tracegroupgap": 0
        },
        "margin": {
         "t": 60
        },
        "template": {
         "data": {
          "bar": [
           {
            "error_x": {
             "color": "#2a3f5f"
            },
            "error_y": {
             "color": "#2a3f5f"
            },
            "marker": {
             "line": {
              "color": "#E5ECF6",
              "width": 0.5
             },
             "pattern": {
              "fillmode": "overlay",
              "size": 10,
              "solidity": 0.2
             }
            },
            "type": "bar"
           }
          ],
          "barpolar": [
           {
            "marker": {
             "line": {
              "color": "#E5ECF6",
              "width": 0.5
             },
             "pattern": {
              "fillmode": "overlay",
              "size": 10,
              "solidity": 0.2
             }
            },
            "type": "barpolar"
           }
          ],
          "carpet": [
           {
            "aaxis": {
             "endlinecolor": "#2a3f5f",
             "gridcolor": "white",
             "linecolor": "white",
             "minorgridcolor": "white",
             "startlinecolor": "#2a3f5f"
            },
            "baxis": {
             "endlinecolor": "#2a3f5f",
             "gridcolor": "white",
             "linecolor": "white",
             "minorgridcolor": "white",
             "startlinecolor": "#2a3f5f"
            },
            "type": "carpet"
           }
          ],
          "choropleth": [
           {
            "colorbar": {
             "outlinewidth": 0,
             "ticks": ""
            },
            "type": "choropleth"
           }
          ],
          "contour": [
           {
            "colorbar": {
             "outlinewidth": 0,
             "ticks": ""
            },
            "colorscale": [
             [
              0.0,
              "#0d0887"
             ],
             [
              0.1111111111111111,
              "#46039f"
             ],
             [
              0.2222222222222222,
              "#7201a8"
             ],
             [
              0.3333333333333333,
              "#9c179e"
             ],
             [
              0.4444444444444444,
              "#bd3786"
             ],
             [
              0.5555555555555556,
              "#d8576b"
             ],
             [
              0.6666666666666666,
              "#ed7953"
             ],
             [
              0.7777777777777778,
              "#fb9f3a"
             ],
             [
              0.8888888888888888,
              "#fdca26"
             ],
             [
              1.0,
              "#f0f921"
             ]
            ],
            "type": "contour"
           }
          ],
          "contourcarpet": [
           {
            "colorbar": {
             "outlinewidth": 0,
             "ticks": ""
            },
            "type": "contourcarpet"
           }
          ],
          "heatmap": [
           {
            "colorbar": {
             "outlinewidth": 0,
             "ticks": ""
            },
            "colorscale": [
             [
              0.0,
              "#0d0887"
             ],
             [
              0.1111111111111111,
              "#46039f"
             ],
             [
              0.2222222222222222,
              "#7201a8"
             ],
             [
              0.3333333333333333,
              "#9c179e"
             ],
             [
              0.4444444444444444,
              "#bd3786"
             ],
             [
              0.5555555555555556,
              "#d8576b"
             ],
             [
              0.6666666666666666,
              "#ed7953"
             ],
             [
              0.7777777777777778,
              "#fb9f3a"
             ],
             [
              0.8888888888888888,
              "#fdca26"
             ],
             [
              1.0,
              "#f0f921"
             ]
            ],
            "type": "heatmap"
           }
          ],
          "heatmapgl": [
           {
            "colorbar": {
             "outlinewidth": 0,
             "ticks": ""
            },
            "colorscale": [
             [
              0.0,
              "#0d0887"
             ],
             [
              0.1111111111111111,
              "#46039f"
             ],
             [
              0.2222222222222222,
              "#7201a8"
             ],
             [
              0.3333333333333333,
              "#9c179e"
             ],
             [
              0.4444444444444444,
              "#bd3786"
             ],
             [
              0.5555555555555556,
              "#d8576b"
             ],
             [
              0.6666666666666666,
              "#ed7953"
             ],
             [
              0.7777777777777778,
              "#fb9f3a"
             ],
             [
              0.8888888888888888,
              "#fdca26"
             ],
             [
              1.0,
              "#f0f921"
             ]
            ],
            "type": "heatmapgl"
           }
          ],
          "histogram": [
           {
            "marker": {
             "pattern": {
              "fillmode": "overlay",
              "size": 10,
              "solidity": 0.2
             }
            },
            "type": "histogram"
           }
          ],
          "histogram2d": [
           {
            "colorbar": {
             "outlinewidth": 0,
             "ticks": ""
            },
            "colorscale": [
             [
              0.0,
              "#0d0887"
             ],
             [
              0.1111111111111111,
              "#46039f"
             ],
             [
              0.2222222222222222,
              "#7201a8"
             ],
             [
              0.3333333333333333,
              "#9c179e"
             ],
             [
              0.4444444444444444,
              "#bd3786"
             ],
             [
              0.5555555555555556,
              "#d8576b"
             ],
             [
              0.6666666666666666,
              "#ed7953"
             ],
             [
              0.7777777777777778,
              "#fb9f3a"
             ],
             [
              0.8888888888888888,
              "#fdca26"
             ],
             [
              1.0,
              "#f0f921"
             ]
            ],
            "type": "histogram2d"
           }
          ],
          "histogram2dcontour": [
           {
            "colorbar": {
             "outlinewidth": 0,
             "ticks": ""
            },
            "colorscale": [
             [
              0.0,
              "#0d0887"
             ],
             [
              0.1111111111111111,
              "#46039f"
             ],
             [
              0.2222222222222222,
              "#7201a8"
             ],
             [
              0.3333333333333333,
              "#9c179e"
             ],
             [
              0.4444444444444444,
              "#bd3786"
             ],
             [
              0.5555555555555556,
              "#d8576b"
             ],
             [
              0.6666666666666666,
              "#ed7953"
             ],
             [
              0.7777777777777778,
              "#fb9f3a"
             ],
             [
              0.8888888888888888,
              "#fdca26"
             ],
             [
              1.0,
              "#f0f921"
             ]
            ],
            "type": "histogram2dcontour"
           }
          ],
          "mesh3d": [
           {
            "colorbar": {
             "outlinewidth": 0,
             "ticks": ""
            },
            "type": "mesh3d"
           }
          ],
          "parcoords": [
           {
            "line": {
             "colorbar": {
              "outlinewidth": 0,
              "ticks": ""
             }
            },
            "type": "parcoords"
           }
          ],
          "pie": [
           {
            "automargin": true,
            "type": "pie"
           }
          ],
          "scatter": [
           {
            "fillpattern": {
             "fillmode": "overlay",
             "size": 10,
             "solidity": 0.2
            },
            "type": "scatter"
           }
          ],
          "scatter3d": [
           {
            "line": {
             "colorbar": {
              "outlinewidth": 0,
              "ticks": ""
             }
            },
            "marker": {
             "colorbar": {
              "outlinewidth": 0,
              "ticks": ""
             }
            },
            "type": "scatter3d"
           }
          ],
          "scattercarpet": [
           {
            "marker": {
             "colorbar": {
              "outlinewidth": 0,
              "ticks": ""
             }
            },
            "type": "scattercarpet"
           }
          ],
          "scattergeo": [
           {
            "marker": {
             "colorbar": {
              "outlinewidth": 0,
              "ticks": ""
             }
            },
            "type": "scattergeo"
           }
          ],
          "scattergl": [
           {
            "marker": {
             "colorbar": {
              "outlinewidth": 0,
              "ticks": ""
             }
            },
            "type": "scattergl"
           }
          ],
          "scattermapbox": [
           {
            "marker": {
             "colorbar": {
              "outlinewidth": 0,
              "ticks": ""
             }
            },
            "type": "scattermapbox"
           }
          ],
          "scatterpolar": [
           {
            "marker": {
             "colorbar": {
              "outlinewidth": 0,
              "ticks": ""
             }
            },
            "type": "scatterpolar"
           }
          ],
          "scatterpolargl": [
           {
            "marker": {
             "colorbar": {
              "outlinewidth": 0,
              "ticks": ""
             }
            },
            "type": "scatterpolargl"
           }
          ],
          "scatterternary": [
           {
            "marker": {
             "colorbar": {
              "outlinewidth": 0,
              "ticks": ""
             }
            },
            "type": "scatterternary"
           }
          ],
          "surface": [
           {
            "colorbar": {
             "outlinewidth": 0,
             "ticks": ""
            },
            "colorscale": [
             [
              0.0,
              "#0d0887"
             ],
             [
              0.1111111111111111,
              "#46039f"
             ],
             [
              0.2222222222222222,
              "#7201a8"
             ],
             [
              0.3333333333333333,
              "#9c179e"
             ],
             [
              0.4444444444444444,
              "#bd3786"
             ],
             [
              0.5555555555555556,
              "#d8576b"
             ],
             [
              0.6666666666666666,
              "#ed7953"
             ],
             [
              0.7777777777777778,
              "#fb9f3a"
             ],
             [
              0.8888888888888888,
              "#fdca26"
             ],
             [
              1.0,
              "#f0f921"
             ]
            ],
            "type": "surface"
           }
          ],
          "table": [
           {
            "cells": {
             "fill": {
              "color": "#EBF0F8"
             },
             "line": {
              "color": "white"
             }
            },
            "header": {
             "fill": {
              "color": "#C8D4E3"
             },
             "line": {
              "color": "white"
             }
            },
            "type": "table"
           }
          ]
         },
         "layout": {
          "annotationdefaults": {
           "arrowcolor": "#2a3f5f",
           "arrowhead": 0,
           "arrowwidth": 1
          },
          "autotypenumbers": "strict",
          "coloraxis": {
           "colorbar": {
            "outlinewidth": 0,
            "ticks": ""
           }
          },
          "colorscale": {
           "diverging": [
            [
             0,
             "#8e0152"
            ],
            [
             0.1,
             "#c51b7d"
            ],
            [
             0.2,
             "#de77ae"
            ],
            [
             0.3,
             "#f1b6da"
            ],
            [
             0.4,
             "#fde0ef"
            ],
            [
             0.5,
             "#f7f7f7"
            ],
            [
             0.6,
             "#e6f5d0"
            ],
            [
             0.7,
             "#b8e186"
            ],
            [
             0.8,
             "#7fbc41"
            ],
            [
             0.9,
             "#4d9221"
            ],
            [
             1,
             "#276419"
            ]
           ],
           "sequential": [
            [
             0.0,
             "#0d0887"
            ],
            [
             0.1111111111111111,
             "#46039f"
            ],
            [
             0.2222222222222222,
             "#7201a8"
            ],
            [
             0.3333333333333333,
             "#9c179e"
            ],
            [
             0.4444444444444444,
             "#bd3786"
            ],
            [
             0.5555555555555556,
             "#d8576b"
            ],
            [
             0.6666666666666666,
             "#ed7953"
            ],
            [
             0.7777777777777778,
             "#fb9f3a"
            ],
            [
             0.8888888888888888,
             "#fdca26"
            ],
            [
             1.0,
             "#f0f921"
            ]
           ],
           "sequentialminus": [
            [
             0.0,
             "#0d0887"
            ],
            [
             0.1111111111111111,
             "#46039f"
            ],
            [
             0.2222222222222222,
             "#7201a8"
            ],
            [
             0.3333333333333333,
             "#9c179e"
            ],
            [
             0.4444444444444444,
             "#bd3786"
            ],
            [
             0.5555555555555556,
             "#d8576b"
            ],
            [
             0.6666666666666666,
             "#ed7953"
            ],
            [
             0.7777777777777778,
             "#fb9f3a"
            ],
            [
             0.8888888888888888,
             "#fdca26"
            ],
            [
             1.0,
             "#f0f921"
            ]
           ]
          },
          "colorway": [
           "#636efa",
           "#EF553B",
           "#00cc96",
           "#ab63fa",
           "#FFA15A",
           "#19d3f3",
           "#FF6692",
           "#B6E880",
           "#FF97FF",
           "#FECB52"
          ],
          "font": {
           "color": "#2a3f5f"
          },
          "geo": {
           "bgcolor": "white",
           "lakecolor": "white",
           "landcolor": "#E5ECF6",
           "showlakes": true,
           "showland": true,
           "subunitcolor": "white"
          },
          "hoverlabel": {
           "align": "left"
          },
          "hovermode": "closest",
          "mapbox": {
           "style": "light"
          },
          "paper_bgcolor": "white",
          "plot_bgcolor": "#E5ECF6",
          "polar": {
           "angularaxis": {
            "gridcolor": "white",
            "linecolor": "white",
            "ticks": ""
           },
           "bgcolor": "#E5ECF6",
           "radialaxis": {
            "gridcolor": "white",
            "linecolor": "white",
            "ticks": ""
           }
          },
          "scene": {
           "xaxis": {
            "backgroundcolor": "#E5ECF6",
            "gridcolor": "white",
            "gridwidth": 2,
            "linecolor": "white",
            "showbackground": true,
            "ticks": "",
            "zerolinecolor": "white"
           },
           "yaxis": {
            "backgroundcolor": "#E5ECF6",
            "gridcolor": "white",
            "gridwidth": 2,
            "linecolor": "white",
            "showbackground": true,
            "ticks": "",
            "zerolinecolor": "white"
           },
           "zaxis": {
            "backgroundcolor": "#E5ECF6",
            "gridcolor": "white",
            "gridwidth": 2,
            "linecolor": "white",
            "showbackground": true,
            "ticks": "",
            "zerolinecolor": "white"
           }
          },
          "shapedefaults": {
           "line": {
            "color": "#2a3f5f"
           }
          },
          "ternary": {
           "aaxis": {
            "gridcolor": "white",
            "linecolor": "white",
            "ticks": ""
           },
           "baxis": {
            "gridcolor": "white",
            "linecolor": "white",
            "ticks": ""
           },
           "bgcolor": "#E5ECF6",
           "caxis": {
            "gridcolor": "white",
            "linecolor": "white",
            "ticks": ""
           }
          },
          "title": {
           "x": 0.05
          },
          "xaxis": {
           "automargin": true,
           "gridcolor": "white",
           "linecolor": "white",
           "ticks": "",
           "title": {
            "standoff": 15
           },
           "zerolinecolor": "white",
           "zerolinewidth": 2
          },
          "yaxis": {
           "automargin": true,
           "gridcolor": "white",
           "linecolor": "white",
           "ticks": "",
           "title": {
            "standoff": 15
           },
           "zerolinecolor": "white",
           "zerolinewidth": 2
          }
         }
        },
        "xaxis": {
         "anchor": "y",
         "categoryarray": [
          " Married",
          " Single",
          " Divorced",
          " Widowed",
          "Single",
          "Married",
          "Divorced"
         ],
         "categoryorder": "array",
         "domain": [
          0.0,
          1.0
         ],
         "title": {
          "text": " Marital Status"
         }
        },
        "yaxis": {
         "anchor": "x",
         "domain": [
          0.0,
          1.0
         ],
         "title": {
          "text": " Age"
         }
        }
       }
      },
      "text/html": [
       "<div>                            <div id=\"e4f4c2af-0736-4b32-b4f0-7bb49582945f\" class=\"plotly-graph-div\" style=\"height:525px; width:100%;\"></div>            <script type=\"text/javascript\">                require([\"plotly\"], function(Plotly) {                    window.PLOTLYENV=window.PLOTLYENV || {};                                    if (document.getElementById(\"e4f4c2af-0736-4b32-b4f0-7bb49582945f\")) {                    Plotly.newPlot(                        \"e4f4c2af-0736-4b32-b4f0-7bb49582945f\",                        [{\"hovertemplate\":\" Marital Status=%{x}<br> Age=%{y}<extra></extra>\",\"legendgroup\":\" Married\",\"marker\":{\"color\":\"#636efa\",\"symbol\":\"circle\",\"size\":10},\"mode\":\"markers\",\"name\":\" Married\",\"orientation\":\"v\",\"showlegend\":true,\"x\":[\" Married\",\" Married\",\" Married\",\" Married\",\" Married\",\" Married\",\" Married\",\" Married\",\" Married\",\" Married\",\" Married\",\" Married\",\" Married\",\" Married\",\" Married\",\" Married\",\" Married\",\" Married\",\" Married\",\" Married\",\" Married\",\" Married\",\" Married\",\" Married\"],\"xaxis\":\"x\",\"y\":[32,41,52,31,36,28,33,37,28,44,47,35,42,30,38,31,32,36,33,45,39,44,42,30],\"yaxis\":\"y\",\"type\":\"scatter\"},{\"hovertemplate\":\" Marital Status=%{x}<br> Age=%{y}<extra></extra>\",\"legendgroup\":\" Single\",\"marker\":{\"color\":\"#EF553B\",\"symbol\":\"diamond\",\"size\":10},\"mode\":\"markers\",\"name\":\" Single\",\"orientation\":\"v\",\"showlegend\":true,\"x\":[\" Single\",\" Single\",\" Single\",\" Single\",\" Single\",\" Single\",\" Single\",\" Single\",\" Single\",\" Single\",\" Single\",\" Single\",\" Single\",\" Single\",\" Single\",\" Single\",\" Single\",\" Single\",\" Single\",\" Single\",\" Single\"],\"xaxis\":\"x\",\"y\":[25,38,29,27,24,29,26,33,29,31,27,26,35,29,27,29,28,32,26,29,34],\"yaxis\":\"y\",\"type\":\"scatter\"},{\"hovertemplate\":\" Marital Status=%{x}<br> Age=%{y}<extra></extra>\",\"legendgroup\":\" Divorced\",\"marker\":{\"color\":\"#00cc96\",\"symbol\":\"square\",\"size\":10},\"mode\":\"markers\",\"name\":\" Divorced\",\"orientation\":\"v\",\"showlegend\":true,\"x\":[\" Divorced\",\" Divorced\",\" Divorced\",\" Divorced\"],\"xaxis\":\"x\",\"y\":[45,40,41,36],\"yaxis\":\"y\",\"type\":\"scatter\"},{\"hovertemplate\":\" Marital Status=%{x}<br> Age=%{y}<extra></extra>\",\"legendgroup\":\" Widowed\",\"marker\":{\"color\":\"#ab63fa\",\"symbol\":\"x\",\"size\":10},\"mode\":\"markers\",\"name\":\" Widowed\",\"orientation\":\"v\",\"showlegend\":true,\"x\":[\" Widowed\",\" Widowed\"],\"xaxis\":\"x\",\"y\":[44,49],\"yaxis\":\"y\",\"type\":\"scatter\"},{\"hovertemplate\":\" Marital Status=%{x}<br> Age=%{y}<extra></extra>\",\"legendgroup\":\"Single\",\"marker\":{\"color\":\"#FFA15A\",\"symbol\":\"cross\",\"size\":10},\"mode\":\"markers\",\"name\":\"Single\",\"orientation\":\"v\",\"showlegend\":true,\"x\":[\"Single\",\"Single\",\"Single\",\"Single\",\"Single\",\"Single\",\"Single\",\"Single\",\"Single\",\"Single\",\"Single\",\"Single\",\"Single\",\"Single\",\"Single\",\"Single\",\"Single\",\"Single\",\"Single\",\"Single\",\"Single\",\"Single\",\"Single\",\"Single\",\"Single\",\"Single\",\"Single\",\"Single\",\"Single\",\"Single\",\"Single\",\"Single\",\"Single\",\"Single\",\"Single\",\"Single\",\"Single\",\"Single\"],\"xaxis\":\"x\",\"y\":[35,31,30,29,26,27,30,29,39,32,28,34,30,27,32,29,31,28,33,30,34,29,31,32,28,27,35,30,29,31,33,28,34,29,31,32,27,29],\"yaxis\":\"y\",\"type\":\"scatter\"},{\"hovertemplate\":\" Marital Status=%{x}<br> Age=%{y}<extra></extra>\",\"legendgroup\":\"Married\",\"marker\":{\"color\":\"#19d3f3\",\"symbol\":\"circle\",\"size\":10},\"mode\":\"markers\",\"name\":\"Married\",\"orientation\":\"v\",\"showlegend\":true,\"x\":[\"Married\",\"Married\",\"Married\",\"Married\",\"Married\",\"Married\",\"Married\",\"Married\",\"Married\",\"Married\",\"Married\",\"Married\",\"Married\",\"Married\",\"Married\",\"Married\",\"Married\",\"Married\",\"Married\",\"Married\",\"Married\",\"Married\",\"Married\",\"Married\",\"Married\",\"Married\",\"Married\",\"Married\",\"Married\",\"Married\",\"Married\",\"Married\",\"Married\",\"Married\",\"Married\",\"Married\",\"Married\",\"Married\",\"Married\",\"Married\",\"Married\"],\"xaxis\":\"x\",\"y\":[28,42,36,37,43,34,36,41,38,40,33,45,31,42,37,37,44,39,43,38,41,36,42,35,40,43,37,34,32,44,38,42,36,41,35,40,37,40,43,38,33],\"yaxis\":\"y\",\"type\":\"scatter\"},{\"hovertemplate\":\" Marital Status=%{x}<br> Age=%{y}<extra></extra>\",\"legendgroup\":\"Divorced\",\"marker\":{\"color\":\"#FF6692\",\"symbol\":\"diamond\",\"size\":10},\"mode\":\"markers\",\"name\":\"Divorced\",\"orientation\":\"v\",\"showlegend\":true,\"x\":[\"Divorced\"],\"xaxis\":\"x\",\"y\":[44],\"yaxis\":\"y\",\"type\":\"scatter\"}],                        {\"template\":{\"data\":{\"histogram2dcontour\":[{\"type\":\"histogram2dcontour\",\"colorbar\":{\"outlinewidth\":0,\"ticks\":\"\"},\"colorscale\":[[0.0,\"#0d0887\"],[0.1111111111111111,\"#46039f\"],[0.2222222222222222,\"#7201a8\"],[0.3333333333333333,\"#9c179e\"],[0.4444444444444444,\"#bd3786\"],[0.5555555555555556,\"#d8576b\"],[0.6666666666666666,\"#ed7953\"],[0.7777777777777778,\"#fb9f3a\"],[0.8888888888888888,\"#fdca26\"],[1.0,\"#f0f921\"]]}],\"choropleth\":[{\"type\":\"choropleth\",\"colorbar\":{\"outlinewidth\":0,\"ticks\":\"\"}}],\"histogram2d\":[{\"type\":\"histogram2d\",\"colorbar\":{\"outlinewidth\":0,\"ticks\":\"\"},\"colorscale\":[[0.0,\"#0d0887\"],[0.1111111111111111,\"#46039f\"],[0.2222222222222222,\"#7201a8\"],[0.3333333333333333,\"#9c179e\"],[0.4444444444444444,\"#bd3786\"],[0.5555555555555556,\"#d8576b\"],[0.6666666666666666,\"#ed7953\"],[0.7777777777777778,\"#fb9f3a\"],[0.8888888888888888,\"#fdca26\"],[1.0,\"#f0f921\"]]}],\"heatmap\":[{\"type\":\"heatmap\",\"colorbar\":{\"outlinewidth\":0,\"ticks\":\"\"},\"colorscale\":[[0.0,\"#0d0887\"],[0.1111111111111111,\"#46039f\"],[0.2222222222222222,\"#7201a8\"],[0.3333333333333333,\"#9c179e\"],[0.4444444444444444,\"#bd3786\"],[0.5555555555555556,\"#d8576b\"],[0.6666666666666666,\"#ed7953\"],[0.7777777777777778,\"#fb9f3a\"],[0.8888888888888888,\"#fdca26\"],[1.0,\"#f0f921\"]]}],\"heatmapgl\":[{\"type\":\"heatmapgl\",\"colorbar\":{\"outlinewidth\":0,\"ticks\":\"\"},\"colorscale\":[[0.0,\"#0d0887\"],[0.1111111111111111,\"#46039f\"],[0.2222222222222222,\"#7201a8\"],[0.3333333333333333,\"#9c179e\"],[0.4444444444444444,\"#bd3786\"],[0.5555555555555556,\"#d8576b\"],[0.6666666666666666,\"#ed7953\"],[0.7777777777777778,\"#fb9f3a\"],[0.8888888888888888,\"#fdca26\"],[1.0,\"#f0f921\"]]}],\"contourcarpet\":[{\"type\":\"contourcarpet\",\"colorbar\":{\"outlinewidth\":0,\"ticks\":\"\"}}],\"contour\":[{\"type\":\"contour\",\"colorbar\":{\"outlinewidth\":0,\"ticks\":\"\"},\"colorscale\":[[0.0,\"#0d0887\"],[0.1111111111111111,\"#46039f\"],[0.2222222222222222,\"#7201a8\"],[0.3333333333333333,\"#9c179e\"],[0.4444444444444444,\"#bd3786\"],[0.5555555555555556,\"#d8576b\"],[0.6666666666666666,\"#ed7953\"],[0.7777777777777778,\"#fb9f3a\"],[0.8888888888888888,\"#fdca26\"],[1.0,\"#f0f921\"]]}],\"surface\":[{\"type\":\"surface\",\"colorbar\":{\"outlinewidth\":0,\"ticks\":\"\"},\"colorscale\":[[0.0,\"#0d0887\"],[0.1111111111111111,\"#46039f\"],[0.2222222222222222,\"#7201a8\"],[0.3333333333333333,\"#9c179e\"],[0.4444444444444444,\"#bd3786\"],[0.5555555555555556,\"#d8576b\"],[0.6666666666666666,\"#ed7953\"],[0.7777777777777778,\"#fb9f3a\"],[0.8888888888888888,\"#fdca26\"],[1.0,\"#f0f921\"]]}],\"mesh3d\":[{\"type\":\"mesh3d\",\"colorbar\":{\"outlinewidth\":0,\"ticks\":\"\"}}],\"scatter\":[{\"fillpattern\":{\"fillmode\":\"overlay\",\"size\":10,\"solidity\":0.2},\"type\":\"scatter\"}],\"parcoords\":[{\"type\":\"parcoords\",\"line\":{\"colorbar\":{\"outlinewidth\":0,\"ticks\":\"\"}}}],\"scatterpolargl\":[{\"type\":\"scatterpolargl\",\"marker\":{\"colorbar\":{\"outlinewidth\":0,\"ticks\":\"\"}}}],\"bar\":[{\"error_x\":{\"color\":\"#2a3f5f\"},\"error_y\":{\"color\":\"#2a3f5f\"},\"marker\":{\"line\":{\"color\":\"#E5ECF6\",\"width\":0.5},\"pattern\":{\"fillmode\":\"overlay\",\"size\":10,\"solidity\":0.2}},\"type\":\"bar\"}],\"scattergeo\":[{\"type\":\"scattergeo\",\"marker\":{\"colorbar\":{\"outlinewidth\":0,\"ticks\":\"\"}}}],\"scatterpolar\":[{\"type\":\"scatterpolar\",\"marker\":{\"colorbar\":{\"outlinewidth\":0,\"ticks\":\"\"}}}],\"histogram\":[{\"marker\":{\"pattern\":{\"fillmode\":\"overlay\",\"size\":10,\"solidity\":0.2}},\"type\":\"histogram\"}],\"scattergl\":[{\"type\":\"scattergl\",\"marker\":{\"colorbar\":{\"outlinewidth\":0,\"ticks\":\"\"}}}],\"scatter3d\":[{\"type\":\"scatter3d\",\"line\":{\"colorbar\":{\"outlinewidth\":0,\"ticks\":\"\"}},\"marker\":{\"colorbar\":{\"outlinewidth\":0,\"ticks\":\"\"}}}],\"scattermapbox\":[{\"type\":\"scattermapbox\",\"marker\":{\"colorbar\":{\"outlinewidth\":0,\"ticks\":\"\"}}}],\"scatterternary\":[{\"type\":\"scatterternary\",\"marker\":{\"colorbar\":{\"outlinewidth\":0,\"ticks\":\"\"}}}],\"scattercarpet\":[{\"type\":\"scattercarpet\",\"marker\":{\"colorbar\":{\"outlinewidth\":0,\"ticks\":\"\"}}}],\"carpet\":[{\"aaxis\":{\"endlinecolor\":\"#2a3f5f\",\"gridcolor\":\"white\",\"linecolor\":\"white\",\"minorgridcolor\":\"white\",\"startlinecolor\":\"#2a3f5f\"},\"baxis\":{\"endlinecolor\":\"#2a3f5f\",\"gridcolor\":\"white\",\"linecolor\":\"white\",\"minorgridcolor\":\"white\",\"startlinecolor\":\"#2a3f5f\"},\"type\":\"carpet\"}],\"table\":[{\"cells\":{\"fill\":{\"color\":\"#EBF0F8\"},\"line\":{\"color\":\"white\"}},\"header\":{\"fill\":{\"color\":\"#C8D4E3\"},\"line\":{\"color\":\"white\"}},\"type\":\"table\"}],\"barpolar\":[{\"marker\":{\"line\":{\"color\":\"#E5ECF6\",\"width\":0.5},\"pattern\":{\"fillmode\":\"overlay\",\"size\":10,\"solidity\":0.2}},\"type\":\"barpolar\"}],\"pie\":[{\"automargin\":true,\"type\":\"pie\"}]},\"layout\":{\"autotypenumbers\":\"strict\",\"colorway\":[\"#636efa\",\"#EF553B\",\"#00cc96\",\"#ab63fa\",\"#FFA15A\",\"#19d3f3\",\"#FF6692\",\"#B6E880\",\"#FF97FF\",\"#FECB52\"],\"font\":{\"color\":\"#2a3f5f\"},\"hovermode\":\"closest\",\"hoverlabel\":{\"align\":\"left\"},\"paper_bgcolor\":\"white\",\"plot_bgcolor\":\"#E5ECF6\",\"polar\":{\"bgcolor\":\"#E5ECF6\",\"angularaxis\":{\"gridcolor\":\"white\",\"linecolor\":\"white\",\"ticks\":\"\"},\"radialaxis\":{\"gridcolor\":\"white\",\"linecolor\":\"white\",\"ticks\":\"\"}},\"ternary\":{\"bgcolor\":\"#E5ECF6\",\"aaxis\":{\"gridcolor\":\"white\",\"linecolor\":\"white\",\"ticks\":\"\"},\"baxis\":{\"gridcolor\":\"white\",\"linecolor\":\"white\",\"ticks\":\"\"},\"caxis\":{\"gridcolor\":\"white\",\"linecolor\":\"white\",\"ticks\":\"\"}},\"coloraxis\":{\"colorbar\":{\"outlinewidth\":0,\"ticks\":\"\"}},\"colorscale\":{\"sequential\":[[0.0,\"#0d0887\"],[0.1111111111111111,\"#46039f\"],[0.2222222222222222,\"#7201a8\"],[0.3333333333333333,\"#9c179e\"],[0.4444444444444444,\"#bd3786\"],[0.5555555555555556,\"#d8576b\"],[0.6666666666666666,\"#ed7953\"],[0.7777777777777778,\"#fb9f3a\"],[0.8888888888888888,\"#fdca26\"],[1.0,\"#f0f921\"]],\"sequentialminus\":[[0.0,\"#0d0887\"],[0.1111111111111111,\"#46039f\"],[0.2222222222222222,\"#7201a8\"],[0.3333333333333333,\"#9c179e\"],[0.4444444444444444,\"#bd3786\"],[0.5555555555555556,\"#d8576b\"],[0.6666666666666666,\"#ed7953\"],[0.7777777777777778,\"#fb9f3a\"],[0.8888888888888888,\"#fdca26\"],[1.0,\"#f0f921\"]],\"diverging\":[[0,\"#8e0152\"],[0.1,\"#c51b7d\"],[0.2,\"#de77ae\"],[0.3,\"#f1b6da\"],[0.4,\"#fde0ef\"],[0.5,\"#f7f7f7\"],[0.6,\"#e6f5d0\"],[0.7,\"#b8e186\"],[0.8,\"#7fbc41\"],[0.9,\"#4d9221\"],[1,\"#276419\"]]},\"xaxis\":{\"gridcolor\":\"white\",\"linecolor\":\"white\",\"ticks\":\"\",\"title\":{\"standoff\":15},\"zerolinecolor\":\"white\",\"automargin\":true,\"zerolinewidth\":2},\"yaxis\":{\"gridcolor\":\"white\",\"linecolor\":\"white\",\"ticks\":\"\",\"title\":{\"standoff\":15},\"zerolinecolor\":\"white\",\"automargin\":true,\"zerolinewidth\":2},\"scene\":{\"xaxis\":{\"backgroundcolor\":\"#E5ECF6\",\"gridcolor\":\"white\",\"linecolor\":\"white\",\"showbackground\":true,\"ticks\":\"\",\"zerolinecolor\":\"white\",\"gridwidth\":2},\"yaxis\":{\"backgroundcolor\":\"#E5ECF6\",\"gridcolor\":\"white\",\"linecolor\":\"white\",\"showbackground\":true,\"ticks\":\"\",\"zerolinecolor\":\"white\",\"gridwidth\":2},\"zaxis\":{\"backgroundcolor\":\"#E5ECF6\",\"gridcolor\":\"white\",\"linecolor\":\"white\",\"showbackground\":true,\"ticks\":\"\",\"zerolinecolor\":\"white\",\"gridwidth\":2}},\"shapedefaults\":{\"line\":{\"color\":\"#2a3f5f\"}},\"annotationdefaults\":{\"arrowcolor\":\"#2a3f5f\",\"arrowhead\":0,\"arrowwidth\":1},\"geo\":{\"bgcolor\":\"white\",\"landcolor\":\"#E5ECF6\",\"subunitcolor\":\"white\",\"showland\":true,\"showlakes\":true,\"lakecolor\":\"white\"},\"title\":{\"x\":0.05},\"mapbox\":{\"style\":\"light\"}}},\"xaxis\":{\"anchor\":\"y\",\"domain\":[0.0,1.0],\"title\":{\"text\":\" Marital Status\"},\"categoryorder\":\"array\",\"categoryarray\":[\" Married\",\" Single\",\" Divorced\",\" Widowed\",\"Single\",\"Married\",\"Divorced\"]},\"yaxis\":{\"anchor\":\"x\",\"domain\":[0.0,1.0],\"title\":{\"text\":\" Age\"}},\"legend\":{\"title\":{\"text\":\" Marital Status\"},\"tracegroupgap\":0},\"margin\":{\"t\":60}},                        {\"responsive\": true}                    ).then(function(){\n",
       "                            \n",
       "var gd = document.getElementById('e4f4c2af-0736-4b32-b4f0-7bb49582945f');\n",
       "var x = new MutationObserver(function (mutations, observer) {{\n",
       "        var display = window.getComputedStyle(gd).display;\n",
       "        if (!display || display === 'none') {{\n",
       "            console.log([gd, 'removed!']);\n",
       "            Plotly.purge(gd);\n",
       "            observer.disconnect();\n",
       "        }}\n",
       "}});\n",
       "\n",
       "// Listen for the removal of the full notebook cells\n",
       "var notebookContainer = gd.closest('#notebook-container');\n",
       "if (notebookContainer) {{\n",
       "    x.observe(notebookContainer, {childList: true});\n",
       "}}\n",
       "\n",
       "// Listen for the clearing of the current output cell\n",
       "var outputEl = gd.closest('.output');\n",
       "if (outputEl) {{\n",
       "    x.observe(outputEl, {childList: true});\n",
       "}}\n",
       "\n",
       "                        })                };                });            </script>        </div>"
      ]
     },
     "metadata": {},
     "output_type": "display_data"
    }
   ],
   "source": [
    "fig = px.scatter(df, y=\" Age\", x=\" Marital Status\", color=\" Marital Status\", symbol=\" Marital Status\")\n",
    "fig.update_traces(marker_size=10)"
   ]
  },
  {
   "cell_type": "code",
   "execution_count": 10,
   "id": "19e8f3d9",
   "metadata": {
    "execution": {
     "iopub.execute_input": "2023-03-19T09:50:36.614061Z",
     "iopub.status.busy": "2023-03-19T09:50:36.613620Z",
     "iopub.status.idle": "2023-03-19T09:50:36.726604Z",
     "shell.execute_reply": "2023-03-19T09:50:36.725210Z"
    },
    "papermill": {
     "duration": 0.142053,
     "end_time": "2023-03-19T09:50:36.729484",
     "exception": false,
     "start_time": "2023-03-19T09:50:36.587431",
     "status": "completed"
    },
    "tags": []
   },
   "outputs": [
    {
     "data": {
      "application/vnd.plotly.v1+json": {
       "config": {
        "plotlyServerURL": "https://plot.ly"
       },
       "data": [
        {
         "hovertemplate": " Gender= male<br> Marital Status=%{x}<br> Age=%{y}<extra></extra>",
         "legendgroup": " male,  Married",
         "marker": {
          "color": "#636efa",
          "size": 10,
          "symbol": "circle"
         },
         "mode": "markers",
         "name": " male,  Married",
         "orientation": "v",
         "showlegend": true,
         "type": "scatter",
         "x": [
          " Married",
          " Married",
          " Married",
          " Married",
          " Married",
          " Married",
          " Married",
          " Married",
          " Married",
          " Married",
          " Married",
          " Married",
          " Married"
         ],
         "xaxis": "x",
         "y": [
          32,
          52,
          36,
          37,
          28,
          47,
          42,
          31,
          32,
          45,
          39,
          44,
          42
         ],
         "yaxis": "y"
        },
        {
         "hovertemplate": " Gender= male<br> Marital Status=%{x}<br> Age=%{y}<extra></extra>",
         "legendgroup": " male,  Single",
         "marker": {
          "color": "#636efa",
          "size": 10,
          "symbol": "diamond"
         },
         "mode": "markers",
         "name": " male,  Single",
         "orientation": "v",
         "showlegend": true,
         "type": "scatter",
         "x": [
          " Single",
          " Single",
          " Single",
          " Single",
          " Single",
          " Single",
          " Single",
          " Single"
         ],
         "xaxis": "x",
         "y": [
          25,
          38,
          29,
          33,
          29,
          35,
          29,
          34
         ],
         "yaxis": "y"
        },
        {
         "hovertemplate": " Gender= male<br> Marital Status=%{x}<br> Age=%{y}<extra></extra>",
         "legendgroup": " male,  Divorced",
         "marker": {
          "color": "#636efa",
          "size": 10,
          "symbol": "square"
         },
         "mode": "markers",
         "name": " male,  Divorced",
         "orientation": "v",
         "showlegend": true,
         "type": "scatter",
         "x": [
          " Divorced",
          " Divorced",
          " Divorced",
          " Divorced"
         ],
         "xaxis": "x",
         "y": [
          45,
          40,
          41,
          36
         ],
         "yaxis": "y"
        },
        {
         "hovertemplate": " Gender= male<br> Marital Status=%{x}<br> Age=%{y}<extra></extra>",
         "legendgroup": " male,  Widowed",
         "marker": {
          "color": "#636efa",
          "size": 10,
          "symbol": "x"
         },
         "mode": "markers",
         "name": " male,  Widowed",
         "orientation": "v",
         "showlegend": true,
         "type": "scatter",
         "x": [
          " Widowed",
          " Widowed"
         ],
         "xaxis": "x",
         "y": [
          44,
          49
         ],
         "yaxis": "y"
        },
        {
         "hovertemplate": " Gender= female<br> Marital Status=%{x}<br> Age=%{y}<extra></extra>",
         "legendgroup": " female,  Married",
         "marker": {
          "color": "#EF553B",
          "size": 10,
          "symbol": "circle"
         },
         "mode": "markers",
         "name": " female,  Married",
         "orientation": "v",
         "showlegend": true,
         "type": "scatter",
         "x": [
          " Married",
          " Married",
          " Married",
          " Married",
          " Married",
          " Married",
          " Married",
          " Married",
          " Married",
          " Married",
          " Married"
         ],
         "xaxis": "x",
         "y": [
          41,
          31,
          28,
          33,
          44,
          35,
          30,
          38,
          36,
          33,
          30
         ],
         "yaxis": "y"
        },
        {
         "hovertemplate": " Gender= female<br> Marital Status=%{x}<br> Age=%{y}<extra></extra>",
         "legendgroup": " female,  Single",
         "marker": {
          "color": "#EF553B",
          "size": 10,
          "symbol": "diamond"
         },
         "mode": "markers",
         "name": " female,  Single",
         "orientation": "v",
         "showlegend": true,
         "type": "scatter",
         "x": [
          " Single",
          " Single",
          " Single",
          " Single",
          " Single",
          " Single",
          " Single",
          " Single",
          " Single",
          " Single",
          " Single",
          " Single",
          " Single"
         ],
         "xaxis": "x",
         "y": [
          29,
          27,
          24,
          26,
          31,
          27,
          26,
          29,
          27,
          28,
          32,
          26,
          29
         ],
         "yaxis": "y"
        },
        {
         "hovertemplate": " Gender=male<br> Marital Status=%{x}<br> Age=%{y}<extra></extra>",
         "legendgroup": "male, Single",
         "marker": {
          "color": "#00cc96",
          "size": 10,
          "symbol": "cross"
         },
         "mode": "markers",
         "name": "male, Single",
         "orientation": "v",
         "showlegend": true,
         "type": "scatter",
         "x": [
          "Single",
          "Single",
          "Single",
          "Single"
         ],
         "xaxis": "x",
         "y": [
          35,
          30,
          39,
          34
         ],
         "yaxis": "y"
        },
        {
         "hovertemplate": " Gender=male<br> Marital Status=%{x}<br> Age=%{y}<extra></extra>",
         "legendgroup": "male, Married",
         "marker": {
          "color": "#00cc96",
          "size": 10,
          "symbol": "circle"
         },
         "mode": "markers",
         "name": "male, Married",
         "orientation": "v",
         "showlegend": true,
         "type": "scatter",
         "x": [
          "Married",
          "Married",
          "Married",
          "Married",
          "Married",
          "Married",
          "Married",
          "Married",
          "Married",
          "Married",
          "Married",
          "Married",
          "Married",
          "Married",
          "Married",
          "Married",
          "Married",
          "Married",
          "Married",
          "Married",
          "Married",
          "Married",
          "Married",
          "Married",
          "Married",
          "Married",
          "Married",
          "Married",
          "Married",
          "Married",
          "Married",
          "Married",
          "Married",
          "Married",
          "Married",
          "Married"
         ],
         "xaxis": "x",
         "y": [
          42,
          37,
          43,
          36,
          41,
          38,
          40,
          45,
          42,
          37,
          37,
          44,
          39,
          43,
          38,
          41,
          36,
          42,
          35,
          40,
          43,
          37,
          34,
          32,
          44,
          38,
          42,
          36,
          41,
          35,
          40,
          37,
          40,
          43,
          38,
          33
         ],
         "yaxis": "y"
        },
        {
         "hovertemplate": " Gender=male<br> Marital Status=%{x}<br> Age=%{y}<extra></extra>",
         "legendgroup": "male, Divorced",
         "marker": {
          "color": "#00cc96",
          "size": 10,
          "symbol": "diamond"
         },
         "mode": "markers",
         "name": "male, Divorced",
         "orientation": "v",
         "showlegend": true,
         "type": "scatter",
         "x": [
          "Divorced"
         ],
         "xaxis": "x",
         "y": [
          44
         ],
         "yaxis": "y"
        },
        {
         "hovertemplate": " Gender=female<br> Marital Status=%{x}<br> Age=%{y}<extra></extra>",
         "legendgroup": "female, Single",
         "marker": {
          "color": "#ab63fa",
          "size": 10,
          "symbol": "cross"
         },
         "mode": "markers",
         "name": "female, Single",
         "orientation": "v",
         "showlegend": true,
         "type": "scatter",
         "x": [
          "Single",
          "Single",
          "Single",
          "Single",
          "Single",
          "Single",
          "Single",
          "Single",
          "Single",
          "Single",
          "Single",
          "Single",
          "Single",
          "Single",
          "Single",
          "Single",
          "Single",
          "Single",
          "Single",
          "Single",
          "Single",
          "Single",
          "Single",
          "Single",
          "Single",
          "Single",
          "Single",
          "Single",
          "Single",
          "Single",
          "Single",
          "Single",
          "Single",
          "Single"
         ],
         "xaxis": "x",
         "y": [
          31,
          29,
          26,
          27,
          30,
          29,
          32,
          28,
          30,
          27,
          32,
          29,
          31,
          28,
          33,
          30,
          34,
          29,
          31,
          32,
          28,
          27,
          35,
          30,
          29,
          31,
          33,
          28,
          34,
          29,
          31,
          32,
          27,
          29
         ],
         "yaxis": "y"
        },
        {
         "hovertemplate": " Gender=female<br> Marital Status=%{x}<br> Age=%{y}<extra></extra>",
         "legendgroup": "female, Married",
         "marker": {
          "color": "#ab63fa",
          "size": 10,
          "symbol": "circle"
         },
         "mode": "markers",
         "name": "female, Married",
         "orientation": "v",
         "showlegend": true,
         "type": "scatter",
         "x": [
          "Married",
          "Married",
          "Married",
          "Married",
          "Married"
         ],
         "xaxis": "x",
         "y": [
          28,
          36,
          34,
          33,
          31
         ],
         "yaxis": "y"
        }
       ],
       "layout": {
        "legend": {
         "title": {
          "text": " Gender,  Marital Status"
         },
         "tracegroupgap": 0
        },
        "margin": {
         "t": 60
        },
        "template": {
         "data": {
          "bar": [
           {
            "error_x": {
             "color": "#2a3f5f"
            },
            "error_y": {
             "color": "#2a3f5f"
            },
            "marker": {
             "line": {
              "color": "#E5ECF6",
              "width": 0.5
             },
             "pattern": {
              "fillmode": "overlay",
              "size": 10,
              "solidity": 0.2
             }
            },
            "type": "bar"
           }
          ],
          "barpolar": [
           {
            "marker": {
             "line": {
              "color": "#E5ECF6",
              "width": 0.5
             },
             "pattern": {
              "fillmode": "overlay",
              "size": 10,
              "solidity": 0.2
             }
            },
            "type": "barpolar"
           }
          ],
          "carpet": [
           {
            "aaxis": {
             "endlinecolor": "#2a3f5f",
             "gridcolor": "white",
             "linecolor": "white",
             "minorgridcolor": "white",
             "startlinecolor": "#2a3f5f"
            },
            "baxis": {
             "endlinecolor": "#2a3f5f",
             "gridcolor": "white",
             "linecolor": "white",
             "minorgridcolor": "white",
             "startlinecolor": "#2a3f5f"
            },
            "type": "carpet"
           }
          ],
          "choropleth": [
           {
            "colorbar": {
             "outlinewidth": 0,
             "ticks": ""
            },
            "type": "choropleth"
           }
          ],
          "contour": [
           {
            "colorbar": {
             "outlinewidth": 0,
             "ticks": ""
            },
            "colorscale": [
             [
              0.0,
              "#0d0887"
             ],
             [
              0.1111111111111111,
              "#46039f"
             ],
             [
              0.2222222222222222,
              "#7201a8"
             ],
             [
              0.3333333333333333,
              "#9c179e"
             ],
             [
              0.4444444444444444,
              "#bd3786"
             ],
             [
              0.5555555555555556,
              "#d8576b"
             ],
             [
              0.6666666666666666,
              "#ed7953"
             ],
             [
              0.7777777777777778,
              "#fb9f3a"
             ],
             [
              0.8888888888888888,
              "#fdca26"
             ],
             [
              1.0,
              "#f0f921"
             ]
            ],
            "type": "contour"
           }
          ],
          "contourcarpet": [
           {
            "colorbar": {
             "outlinewidth": 0,
             "ticks": ""
            },
            "type": "contourcarpet"
           }
          ],
          "heatmap": [
           {
            "colorbar": {
             "outlinewidth": 0,
             "ticks": ""
            },
            "colorscale": [
             [
              0.0,
              "#0d0887"
             ],
             [
              0.1111111111111111,
              "#46039f"
             ],
             [
              0.2222222222222222,
              "#7201a8"
             ],
             [
              0.3333333333333333,
              "#9c179e"
             ],
             [
              0.4444444444444444,
              "#bd3786"
             ],
             [
              0.5555555555555556,
              "#d8576b"
             ],
             [
              0.6666666666666666,
              "#ed7953"
             ],
             [
              0.7777777777777778,
              "#fb9f3a"
             ],
             [
              0.8888888888888888,
              "#fdca26"
             ],
             [
              1.0,
              "#f0f921"
             ]
            ],
            "type": "heatmap"
           }
          ],
          "heatmapgl": [
           {
            "colorbar": {
             "outlinewidth": 0,
             "ticks": ""
            },
            "colorscale": [
             [
              0.0,
              "#0d0887"
             ],
             [
              0.1111111111111111,
              "#46039f"
             ],
             [
              0.2222222222222222,
              "#7201a8"
             ],
             [
              0.3333333333333333,
              "#9c179e"
             ],
             [
              0.4444444444444444,
              "#bd3786"
             ],
             [
              0.5555555555555556,
              "#d8576b"
             ],
             [
              0.6666666666666666,
              "#ed7953"
             ],
             [
              0.7777777777777778,
              "#fb9f3a"
             ],
             [
              0.8888888888888888,
              "#fdca26"
             ],
             [
              1.0,
              "#f0f921"
             ]
            ],
            "type": "heatmapgl"
           }
          ],
          "histogram": [
           {
            "marker": {
             "pattern": {
              "fillmode": "overlay",
              "size": 10,
              "solidity": 0.2
             }
            },
            "type": "histogram"
           }
          ],
          "histogram2d": [
           {
            "colorbar": {
             "outlinewidth": 0,
             "ticks": ""
            },
            "colorscale": [
             [
              0.0,
              "#0d0887"
             ],
             [
              0.1111111111111111,
              "#46039f"
             ],
             [
              0.2222222222222222,
              "#7201a8"
             ],
             [
              0.3333333333333333,
              "#9c179e"
             ],
             [
              0.4444444444444444,
              "#bd3786"
             ],
             [
              0.5555555555555556,
              "#d8576b"
             ],
             [
              0.6666666666666666,
              "#ed7953"
             ],
             [
              0.7777777777777778,
              "#fb9f3a"
             ],
             [
              0.8888888888888888,
              "#fdca26"
             ],
             [
              1.0,
              "#f0f921"
             ]
            ],
            "type": "histogram2d"
           }
          ],
          "histogram2dcontour": [
           {
            "colorbar": {
             "outlinewidth": 0,
             "ticks": ""
            },
            "colorscale": [
             [
              0.0,
              "#0d0887"
             ],
             [
              0.1111111111111111,
              "#46039f"
             ],
             [
              0.2222222222222222,
              "#7201a8"
             ],
             [
              0.3333333333333333,
              "#9c179e"
             ],
             [
              0.4444444444444444,
              "#bd3786"
             ],
             [
              0.5555555555555556,
              "#d8576b"
             ],
             [
              0.6666666666666666,
              "#ed7953"
             ],
             [
              0.7777777777777778,
              "#fb9f3a"
             ],
             [
              0.8888888888888888,
              "#fdca26"
             ],
             [
              1.0,
              "#f0f921"
             ]
            ],
            "type": "histogram2dcontour"
           }
          ],
          "mesh3d": [
           {
            "colorbar": {
             "outlinewidth": 0,
             "ticks": ""
            },
            "type": "mesh3d"
           }
          ],
          "parcoords": [
           {
            "line": {
             "colorbar": {
              "outlinewidth": 0,
              "ticks": ""
             }
            },
            "type": "parcoords"
           }
          ],
          "pie": [
           {
            "automargin": true,
            "type": "pie"
           }
          ],
          "scatter": [
           {
            "fillpattern": {
             "fillmode": "overlay",
             "size": 10,
             "solidity": 0.2
            },
            "type": "scatter"
           }
          ],
          "scatter3d": [
           {
            "line": {
             "colorbar": {
              "outlinewidth": 0,
              "ticks": ""
             }
            },
            "marker": {
             "colorbar": {
              "outlinewidth": 0,
              "ticks": ""
             }
            },
            "type": "scatter3d"
           }
          ],
          "scattercarpet": [
           {
            "marker": {
             "colorbar": {
              "outlinewidth": 0,
              "ticks": ""
             }
            },
            "type": "scattercarpet"
           }
          ],
          "scattergeo": [
           {
            "marker": {
             "colorbar": {
              "outlinewidth": 0,
              "ticks": ""
             }
            },
            "type": "scattergeo"
           }
          ],
          "scattergl": [
           {
            "marker": {
             "colorbar": {
              "outlinewidth": 0,
              "ticks": ""
             }
            },
            "type": "scattergl"
           }
          ],
          "scattermapbox": [
           {
            "marker": {
             "colorbar": {
              "outlinewidth": 0,
              "ticks": ""
             }
            },
            "type": "scattermapbox"
           }
          ],
          "scatterpolar": [
           {
            "marker": {
             "colorbar": {
              "outlinewidth": 0,
              "ticks": ""
             }
            },
            "type": "scatterpolar"
           }
          ],
          "scatterpolargl": [
           {
            "marker": {
             "colorbar": {
              "outlinewidth": 0,
              "ticks": ""
             }
            },
            "type": "scatterpolargl"
           }
          ],
          "scatterternary": [
           {
            "marker": {
             "colorbar": {
              "outlinewidth": 0,
              "ticks": ""
             }
            },
            "type": "scatterternary"
           }
          ],
          "surface": [
           {
            "colorbar": {
             "outlinewidth": 0,
             "ticks": ""
            },
            "colorscale": [
             [
              0.0,
              "#0d0887"
             ],
             [
              0.1111111111111111,
              "#46039f"
             ],
             [
              0.2222222222222222,
              "#7201a8"
             ],
             [
              0.3333333333333333,
              "#9c179e"
             ],
             [
              0.4444444444444444,
              "#bd3786"
             ],
             [
              0.5555555555555556,
              "#d8576b"
             ],
             [
              0.6666666666666666,
              "#ed7953"
             ],
             [
              0.7777777777777778,
              "#fb9f3a"
             ],
             [
              0.8888888888888888,
              "#fdca26"
             ],
             [
              1.0,
              "#f0f921"
             ]
            ],
            "type": "surface"
           }
          ],
          "table": [
           {
            "cells": {
             "fill": {
              "color": "#EBF0F8"
             },
             "line": {
              "color": "white"
             }
            },
            "header": {
             "fill": {
              "color": "#C8D4E3"
             },
             "line": {
              "color": "white"
             }
            },
            "type": "table"
           }
          ]
         },
         "layout": {
          "annotationdefaults": {
           "arrowcolor": "#2a3f5f",
           "arrowhead": 0,
           "arrowwidth": 1
          },
          "autotypenumbers": "strict",
          "coloraxis": {
           "colorbar": {
            "outlinewidth": 0,
            "ticks": ""
           }
          },
          "colorscale": {
           "diverging": [
            [
             0,
             "#8e0152"
            ],
            [
             0.1,
             "#c51b7d"
            ],
            [
             0.2,
             "#de77ae"
            ],
            [
             0.3,
             "#f1b6da"
            ],
            [
             0.4,
             "#fde0ef"
            ],
            [
             0.5,
             "#f7f7f7"
            ],
            [
             0.6,
             "#e6f5d0"
            ],
            [
             0.7,
             "#b8e186"
            ],
            [
             0.8,
             "#7fbc41"
            ],
            [
             0.9,
             "#4d9221"
            ],
            [
             1,
             "#276419"
            ]
           ],
           "sequential": [
            [
             0.0,
             "#0d0887"
            ],
            [
             0.1111111111111111,
             "#46039f"
            ],
            [
             0.2222222222222222,
             "#7201a8"
            ],
            [
             0.3333333333333333,
             "#9c179e"
            ],
            [
             0.4444444444444444,
             "#bd3786"
            ],
            [
             0.5555555555555556,
             "#d8576b"
            ],
            [
             0.6666666666666666,
             "#ed7953"
            ],
            [
             0.7777777777777778,
             "#fb9f3a"
            ],
            [
             0.8888888888888888,
             "#fdca26"
            ],
            [
             1.0,
             "#f0f921"
            ]
           ],
           "sequentialminus": [
            [
             0.0,
             "#0d0887"
            ],
            [
             0.1111111111111111,
             "#46039f"
            ],
            [
             0.2222222222222222,
             "#7201a8"
            ],
            [
             0.3333333333333333,
             "#9c179e"
            ],
            [
             0.4444444444444444,
             "#bd3786"
            ],
            [
             0.5555555555555556,
             "#d8576b"
            ],
            [
             0.6666666666666666,
             "#ed7953"
            ],
            [
             0.7777777777777778,
             "#fb9f3a"
            ],
            [
             0.8888888888888888,
             "#fdca26"
            ],
            [
             1.0,
             "#f0f921"
            ]
           ]
          },
          "colorway": [
           "#636efa",
           "#EF553B",
           "#00cc96",
           "#ab63fa",
           "#FFA15A",
           "#19d3f3",
           "#FF6692",
           "#B6E880",
           "#FF97FF",
           "#FECB52"
          ],
          "font": {
           "color": "#2a3f5f"
          },
          "geo": {
           "bgcolor": "white",
           "lakecolor": "white",
           "landcolor": "#E5ECF6",
           "showlakes": true,
           "showland": true,
           "subunitcolor": "white"
          },
          "hoverlabel": {
           "align": "left"
          },
          "hovermode": "closest",
          "mapbox": {
           "style": "light"
          },
          "paper_bgcolor": "white",
          "plot_bgcolor": "#E5ECF6",
          "polar": {
           "angularaxis": {
            "gridcolor": "white",
            "linecolor": "white",
            "ticks": ""
           },
           "bgcolor": "#E5ECF6",
           "radialaxis": {
            "gridcolor": "white",
            "linecolor": "white",
            "ticks": ""
           }
          },
          "scene": {
           "xaxis": {
            "backgroundcolor": "#E5ECF6",
            "gridcolor": "white",
            "gridwidth": 2,
            "linecolor": "white",
            "showbackground": true,
            "ticks": "",
            "zerolinecolor": "white"
           },
           "yaxis": {
            "backgroundcolor": "#E5ECF6",
            "gridcolor": "white",
            "gridwidth": 2,
            "linecolor": "white",
            "showbackground": true,
            "ticks": "",
            "zerolinecolor": "white"
           },
           "zaxis": {
            "backgroundcolor": "#E5ECF6",
            "gridcolor": "white",
            "gridwidth": 2,
            "linecolor": "white",
            "showbackground": true,
            "ticks": "",
            "zerolinecolor": "white"
           }
          },
          "shapedefaults": {
           "line": {
            "color": "#2a3f5f"
           }
          },
          "ternary": {
           "aaxis": {
            "gridcolor": "white",
            "linecolor": "white",
            "ticks": ""
           },
           "baxis": {
            "gridcolor": "white",
            "linecolor": "white",
            "ticks": ""
           },
           "bgcolor": "#E5ECF6",
           "caxis": {
            "gridcolor": "white",
            "linecolor": "white",
            "ticks": ""
           }
          },
          "title": {
           "x": 0.05
          },
          "xaxis": {
           "automargin": true,
           "gridcolor": "white",
           "linecolor": "white",
           "ticks": "",
           "title": {
            "standoff": 15
           },
           "zerolinecolor": "white",
           "zerolinewidth": 2
          },
          "yaxis": {
           "automargin": true,
           "gridcolor": "white",
           "linecolor": "white",
           "ticks": "",
           "title": {
            "standoff": 15
           },
           "zerolinecolor": "white",
           "zerolinewidth": 2
          }
         }
        },
        "xaxis": {
         "anchor": "y",
         "categoryarray": [
          " Married",
          " Single",
          " Divorced",
          " Widowed",
          "Single",
          "Married",
          "Divorced"
         ],
         "categoryorder": "array",
         "domain": [
          0.0,
          1.0
         ],
         "title": {
          "text": " Marital Status"
         }
        },
        "yaxis": {
         "anchor": "x",
         "domain": [
          0.0,
          1.0
         ],
         "title": {
          "text": " Age"
         }
        }
       }
      },
      "text/html": [
       "<div>                            <div id=\"b0d320d3-6214-4a75-8b38-42dba17b4778\" class=\"plotly-graph-div\" style=\"height:525px; width:100%;\"></div>            <script type=\"text/javascript\">                require([\"plotly\"], function(Plotly) {                    window.PLOTLYENV=window.PLOTLYENV || {};                                    if (document.getElementById(\"b0d320d3-6214-4a75-8b38-42dba17b4778\")) {                    Plotly.newPlot(                        \"b0d320d3-6214-4a75-8b38-42dba17b4778\",                        [{\"hovertemplate\":\" Gender= male<br> Marital Status=%{x}<br> Age=%{y}<extra></extra>\",\"legendgroup\":\" male,  Married\",\"marker\":{\"color\":\"#636efa\",\"symbol\":\"circle\",\"size\":10},\"mode\":\"markers\",\"name\":\" male,  Married\",\"orientation\":\"v\",\"showlegend\":true,\"x\":[\" Married\",\" Married\",\" Married\",\" Married\",\" Married\",\" Married\",\" Married\",\" Married\",\" Married\",\" Married\",\" Married\",\" Married\",\" Married\"],\"xaxis\":\"x\",\"y\":[32,52,36,37,28,47,42,31,32,45,39,44,42],\"yaxis\":\"y\",\"type\":\"scatter\"},{\"hovertemplate\":\" Gender= male<br> Marital Status=%{x}<br> Age=%{y}<extra></extra>\",\"legendgroup\":\" male,  Single\",\"marker\":{\"color\":\"#636efa\",\"symbol\":\"diamond\",\"size\":10},\"mode\":\"markers\",\"name\":\" male,  Single\",\"orientation\":\"v\",\"showlegend\":true,\"x\":[\" Single\",\" Single\",\" Single\",\" Single\",\" Single\",\" Single\",\" Single\",\" Single\"],\"xaxis\":\"x\",\"y\":[25,38,29,33,29,35,29,34],\"yaxis\":\"y\",\"type\":\"scatter\"},{\"hovertemplate\":\" Gender= male<br> Marital Status=%{x}<br> Age=%{y}<extra></extra>\",\"legendgroup\":\" male,  Divorced\",\"marker\":{\"color\":\"#636efa\",\"symbol\":\"square\",\"size\":10},\"mode\":\"markers\",\"name\":\" male,  Divorced\",\"orientation\":\"v\",\"showlegend\":true,\"x\":[\" Divorced\",\" Divorced\",\" Divorced\",\" Divorced\"],\"xaxis\":\"x\",\"y\":[45,40,41,36],\"yaxis\":\"y\",\"type\":\"scatter\"},{\"hovertemplate\":\" Gender= male<br> Marital Status=%{x}<br> Age=%{y}<extra></extra>\",\"legendgroup\":\" male,  Widowed\",\"marker\":{\"color\":\"#636efa\",\"symbol\":\"x\",\"size\":10},\"mode\":\"markers\",\"name\":\" male,  Widowed\",\"orientation\":\"v\",\"showlegend\":true,\"x\":[\" Widowed\",\" Widowed\"],\"xaxis\":\"x\",\"y\":[44,49],\"yaxis\":\"y\",\"type\":\"scatter\"},{\"hovertemplate\":\" Gender= female<br> Marital Status=%{x}<br> Age=%{y}<extra></extra>\",\"legendgroup\":\" female,  Married\",\"marker\":{\"color\":\"#EF553B\",\"symbol\":\"circle\",\"size\":10},\"mode\":\"markers\",\"name\":\" female,  Married\",\"orientation\":\"v\",\"showlegend\":true,\"x\":[\" Married\",\" Married\",\" Married\",\" Married\",\" Married\",\" Married\",\" Married\",\" Married\",\" Married\",\" Married\",\" Married\"],\"xaxis\":\"x\",\"y\":[41,31,28,33,44,35,30,38,36,33,30],\"yaxis\":\"y\",\"type\":\"scatter\"},{\"hovertemplate\":\" Gender= female<br> Marital Status=%{x}<br> Age=%{y}<extra></extra>\",\"legendgroup\":\" female,  Single\",\"marker\":{\"color\":\"#EF553B\",\"symbol\":\"diamond\",\"size\":10},\"mode\":\"markers\",\"name\":\" female,  Single\",\"orientation\":\"v\",\"showlegend\":true,\"x\":[\" Single\",\" Single\",\" Single\",\" Single\",\" Single\",\" Single\",\" Single\",\" Single\",\" Single\",\" Single\",\" Single\",\" Single\",\" Single\"],\"xaxis\":\"x\",\"y\":[29,27,24,26,31,27,26,29,27,28,32,26,29],\"yaxis\":\"y\",\"type\":\"scatter\"},{\"hovertemplate\":\" Gender=male<br> Marital Status=%{x}<br> Age=%{y}<extra></extra>\",\"legendgroup\":\"male, Single\",\"marker\":{\"color\":\"#00cc96\",\"symbol\":\"cross\",\"size\":10},\"mode\":\"markers\",\"name\":\"male, Single\",\"orientation\":\"v\",\"showlegend\":true,\"x\":[\"Single\",\"Single\",\"Single\",\"Single\"],\"xaxis\":\"x\",\"y\":[35,30,39,34],\"yaxis\":\"y\",\"type\":\"scatter\"},{\"hovertemplate\":\" Gender=male<br> Marital Status=%{x}<br> Age=%{y}<extra></extra>\",\"legendgroup\":\"male, Married\",\"marker\":{\"color\":\"#00cc96\",\"symbol\":\"circle\",\"size\":10},\"mode\":\"markers\",\"name\":\"male, Married\",\"orientation\":\"v\",\"showlegend\":true,\"x\":[\"Married\",\"Married\",\"Married\",\"Married\",\"Married\",\"Married\",\"Married\",\"Married\",\"Married\",\"Married\",\"Married\",\"Married\",\"Married\",\"Married\",\"Married\",\"Married\",\"Married\",\"Married\",\"Married\",\"Married\",\"Married\",\"Married\",\"Married\",\"Married\",\"Married\",\"Married\",\"Married\",\"Married\",\"Married\",\"Married\",\"Married\",\"Married\",\"Married\",\"Married\",\"Married\",\"Married\"],\"xaxis\":\"x\",\"y\":[42,37,43,36,41,38,40,45,42,37,37,44,39,43,38,41,36,42,35,40,43,37,34,32,44,38,42,36,41,35,40,37,40,43,38,33],\"yaxis\":\"y\",\"type\":\"scatter\"},{\"hovertemplate\":\" Gender=male<br> Marital Status=%{x}<br> Age=%{y}<extra></extra>\",\"legendgroup\":\"male, Divorced\",\"marker\":{\"color\":\"#00cc96\",\"symbol\":\"diamond\",\"size\":10},\"mode\":\"markers\",\"name\":\"male, Divorced\",\"orientation\":\"v\",\"showlegend\":true,\"x\":[\"Divorced\"],\"xaxis\":\"x\",\"y\":[44],\"yaxis\":\"y\",\"type\":\"scatter\"},{\"hovertemplate\":\" Gender=female<br> Marital Status=%{x}<br> Age=%{y}<extra></extra>\",\"legendgroup\":\"female, Single\",\"marker\":{\"color\":\"#ab63fa\",\"symbol\":\"cross\",\"size\":10},\"mode\":\"markers\",\"name\":\"female, Single\",\"orientation\":\"v\",\"showlegend\":true,\"x\":[\"Single\",\"Single\",\"Single\",\"Single\",\"Single\",\"Single\",\"Single\",\"Single\",\"Single\",\"Single\",\"Single\",\"Single\",\"Single\",\"Single\",\"Single\",\"Single\",\"Single\",\"Single\",\"Single\",\"Single\",\"Single\",\"Single\",\"Single\",\"Single\",\"Single\",\"Single\",\"Single\",\"Single\",\"Single\",\"Single\",\"Single\",\"Single\",\"Single\",\"Single\"],\"xaxis\":\"x\",\"y\":[31,29,26,27,30,29,32,28,30,27,32,29,31,28,33,30,34,29,31,32,28,27,35,30,29,31,33,28,34,29,31,32,27,29],\"yaxis\":\"y\",\"type\":\"scatter\"},{\"hovertemplate\":\" Gender=female<br> Marital Status=%{x}<br> Age=%{y}<extra></extra>\",\"legendgroup\":\"female, Married\",\"marker\":{\"color\":\"#ab63fa\",\"symbol\":\"circle\",\"size\":10},\"mode\":\"markers\",\"name\":\"female, Married\",\"orientation\":\"v\",\"showlegend\":true,\"x\":[\"Married\",\"Married\",\"Married\",\"Married\",\"Married\"],\"xaxis\":\"x\",\"y\":[28,36,34,33,31],\"yaxis\":\"y\",\"type\":\"scatter\"}],                        {\"template\":{\"data\":{\"histogram2dcontour\":[{\"type\":\"histogram2dcontour\",\"colorbar\":{\"outlinewidth\":0,\"ticks\":\"\"},\"colorscale\":[[0.0,\"#0d0887\"],[0.1111111111111111,\"#46039f\"],[0.2222222222222222,\"#7201a8\"],[0.3333333333333333,\"#9c179e\"],[0.4444444444444444,\"#bd3786\"],[0.5555555555555556,\"#d8576b\"],[0.6666666666666666,\"#ed7953\"],[0.7777777777777778,\"#fb9f3a\"],[0.8888888888888888,\"#fdca26\"],[1.0,\"#f0f921\"]]}],\"choropleth\":[{\"type\":\"choropleth\",\"colorbar\":{\"outlinewidth\":0,\"ticks\":\"\"}}],\"histogram2d\":[{\"type\":\"histogram2d\",\"colorbar\":{\"outlinewidth\":0,\"ticks\":\"\"},\"colorscale\":[[0.0,\"#0d0887\"],[0.1111111111111111,\"#46039f\"],[0.2222222222222222,\"#7201a8\"],[0.3333333333333333,\"#9c179e\"],[0.4444444444444444,\"#bd3786\"],[0.5555555555555556,\"#d8576b\"],[0.6666666666666666,\"#ed7953\"],[0.7777777777777778,\"#fb9f3a\"],[0.8888888888888888,\"#fdca26\"],[1.0,\"#f0f921\"]]}],\"heatmap\":[{\"type\":\"heatmap\",\"colorbar\":{\"outlinewidth\":0,\"ticks\":\"\"},\"colorscale\":[[0.0,\"#0d0887\"],[0.1111111111111111,\"#46039f\"],[0.2222222222222222,\"#7201a8\"],[0.3333333333333333,\"#9c179e\"],[0.4444444444444444,\"#bd3786\"],[0.5555555555555556,\"#d8576b\"],[0.6666666666666666,\"#ed7953\"],[0.7777777777777778,\"#fb9f3a\"],[0.8888888888888888,\"#fdca26\"],[1.0,\"#f0f921\"]]}],\"heatmapgl\":[{\"type\":\"heatmapgl\",\"colorbar\":{\"outlinewidth\":0,\"ticks\":\"\"},\"colorscale\":[[0.0,\"#0d0887\"],[0.1111111111111111,\"#46039f\"],[0.2222222222222222,\"#7201a8\"],[0.3333333333333333,\"#9c179e\"],[0.4444444444444444,\"#bd3786\"],[0.5555555555555556,\"#d8576b\"],[0.6666666666666666,\"#ed7953\"],[0.7777777777777778,\"#fb9f3a\"],[0.8888888888888888,\"#fdca26\"],[1.0,\"#f0f921\"]]}],\"contourcarpet\":[{\"type\":\"contourcarpet\",\"colorbar\":{\"outlinewidth\":0,\"ticks\":\"\"}}],\"contour\":[{\"type\":\"contour\",\"colorbar\":{\"outlinewidth\":0,\"ticks\":\"\"},\"colorscale\":[[0.0,\"#0d0887\"],[0.1111111111111111,\"#46039f\"],[0.2222222222222222,\"#7201a8\"],[0.3333333333333333,\"#9c179e\"],[0.4444444444444444,\"#bd3786\"],[0.5555555555555556,\"#d8576b\"],[0.6666666666666666,\"#ed7953\"],[0.7777777777777778,\"#fb9f3a\"],[0.8888888888888888,\"#fdca26\"],[1.0,\"#f0f921\"]]}],\"surface\":[{\"type\":\"surface\",\"colorbar\":{\"outlinewidth\":0,\"ticks\":\"\"},\"colorscale\":[[0.0,\"#0d0887\"],[0.1111111111111111,\"#46039f\"],[0.2222222222222222,\"#7201a8\"],[0.3333333333333333,\"#9c179e\"],[0.4444444444444444,\"#bd3786\"],[0.5555555555555556,\"#d8576b\"],[0.6666666666666666,\"#ed7953\"],[0.7777777777777778,\"#fb9f3a\"],[0.8888888888888888,\"#fdca26\"],[1.0,\"#f0f921\"]]}],\"mesh3d\":[{\"type\":\"mesh3d\",\"colorbar\":{\"outlinewidth\":0,\"ticks\":\"\"}}],\"scatter\":[{\"fillpattern\":{\"fillmode\":\"overlay\",\"size\":10,\"solidity\":0.2},\"type\":\"scatter\"}],\"parcoords\":[{\"type\":\"parcoords\",\"line\":{\"colorbar\":{\"outlinewidth\":0,\"ticks\":\"\"}}}],\"scatterpolargl\":[{\"type\":\"scatterpolargl\",\"marker\":{\"colorbar\":{\"outlinewidth\":0,\"ticks\":\"\"}}}],\"bar\":[{\"error_x\":{\"color\":\"#2a3f5f\"},\"error_y\":{\"color\":\"#2a3f5f\"},\"marker\":{\"line\":{\"color\":\"#E5ECF6\",\"width\":0.5},\"pattern\":{\"fillmode\":\"overlay\",\"size\":10,\"solidity\":0.2}},\"type\":\"bar\"}],\"scattergeo\":[{\"type\":\"scattergeo\",\"marker\":{\"colorbar\":{\"outlinewidth\":0,\"ticks\":\"\"}}}],\"scatterpolar\":[{\"type\":\"scatterpolar\",\"marker\":{\"colorbar\":{\"outlinewidth\":0,\"ticks\":\"\"}}}],\"histogram\":[{\"marker\":{\"pattern\":{\"fillmode\":\"overlay\",\"size\":10,\"solidity\":0.2}},\"type\":\"histogram\"}],\"scattergl\":[{\"type\":\"scattergl\",\"marker\":{\"colorbar\":{\"outlinewidth\":0,\"ticks\":\"\"}}}],\"scatter3d\":[{\"type\":\"scatter3d\",\"line\":{\"colorbar\":{\"outlinewidth\":0,\"ticks\":\"\"}},\"marker\":{\"colorbar\":{\"outlinewidth\":0,\"ticks\":\"\"}}}],\"scattermapbox\":[{\"type\":\"scattermapbox\",\"marker\":{\"colorbar\":{\"outlinewidth\":0,\"ticks\":\"\"}}}],\"scatterternary\":[{\"type\":\"scatterternary\",\"marker\":{\"colorbar\":{\"outlinewidth\":0,\"ticks\":\"\"}}}],\"scattercarpet\":[{\"type\":\"scattercarpet\",\"marker\":{\"colorbar\":{\"outlinewidth\":0,\"ticks\":\"\"}}}],\"carpet\":[{\"aaxis\":{\"endlinecolor\":\"#2a3f5f\",\"gridcolor\":\"white\",\"linecolor\":\"white\",\"minorgridcolor\":\"white\",\"startlinecolor\":\"#2a3f5f\"},\"baxis\":{\"endlinecolor\":\"#2a3f5f\",\"gridcolor\":\"white\",\"linecolor\":\"white\",\"minorgridcolor\":\"white\",\"startlinecolor\":\"#2a3f5f\"},\"type\":\"carpet\"}],\"table\":[{\"cells\":{\"fill\":{\"color\":\"#EBF0F8\"},\"line\":{\"color\":\"white\"}},\"header\":{\"fill\":{\"color\":\"#C8D4E3\"},\"line\":{\"color\":\"white\"}},\"type\":\"table\"}],\"barpolar\":[{\"marker\":{\"line\":{\"color\":\"#E5ECF6\",\"width\":0.5},\"pattern\":{\"fillmode\":\"overlay\",\"size\":10,\"solidity\":0.2}},\"type\":\"barpolar\"}],\"pie\":[{\"automargin\":true,\"type\":\"pie\"}]},\"layout\":{\"autotypenumbers\":\"strict\",\"colorway\":[\"#636efa\",\"#EF553B\",\"#00cc96\",\"#ab63fa\",\"#FFA15A\",\"#19d3f3\",\"#FF6692\",\"#B6E880\",\"#FF97FF\",\"#FECB52\"],\"font\":{\"color\":\"#2a3f5f\"},\"hovermode\":\"closest\",\"hoverlabel\":{\"align\":\"left\"},\"paper_bgcolor\":\"white\",\"plot_bgcolor\":\"#E5ECF6\",\"polar\":{\"bgcolor\":\"#E5ECF6\",\"angularaxis\":{\"gridcolor\":\"white\",\"linecolor\":\"white\",\"ticks\":\"\"},\"radialaxis\":{\"gridcolor\":\"white\",\"linecolor\":\"white\",\"ticks\":\"\"}},\"ternary\":{\"bgcolor\":\"#E5ECF6\",\"aaxis\":{\"gridcolor\":\"white\",\"linecolor\":\"white\",\"ticks\":\"\"},\"baxis\":{\"gridcolor\":\"white\",\"linecolor\":\"white\",\"ticks\":\"\"},\"caxis\":{\"gridcolor\":\"white\",\"linecolor\":\"white\",\"ticks\":\"\"}},\"coloraxis\":{\"colorbar\":{\"outlinewidth\":0,\"ticks\":\"\"}},\"colorscale\":{\"sequential\":[[0.0,\"#0d0887\"],[0.1111111111111111,\"#46039f\"],[0.2222222222222222,\"#7201a8\"],[0.3333333333333333,\"#9c179e\"],[0.4444444444444444,\"#bd3786\"],[0.5555555555555556,\"#d8576b\"],[0.6666666666666666,\"#ed7953\"],[0.7777777777777778,\"#fb9f3a\"],[0.8888888888888888,\"#fdca26\"],[1.0,\"#f0f921\"]],\"sequentialminus\":[[0.0,\"#0d0887\"],[0.1111111111111111,\"#46039f\"],[0.2222222222222222,\"#7201a8\"],[0.3333333333333333,\"#9c179e\"],[0.4444444444444444,\"#bd3786\"],[0.5555555555555556,\"#d8576b\"],[0.6666666666666666,\"#ed7953\"],[0.7777777777777778,\"#fb9f3a\"],[0.8888888888888888,\"#fdca26\"],[1.0,\"#f0f921\"]],\"diverging\":[[0,\"#8e0152\"],[0.1,\"#c51b7d\"],[0.2,\"#de77ae\"],[0.3,\"#f1b6da\"],[0.4,\"#fde0ef\"],[0.5,\"#f7f7f7\"],[0.6,\"#e6f5d0\"],[0.7,\"#b8e186\"],[0.8,\"#7fbc41\"],[0.9,\"#4d9221\"],[1,\"#276419\"]]},\"xaxis\":{\"gridcolor\":\"white\",\"linecolor\":\"white\",\"ticks\":\"\",\"title\":{\"standoff\":15},\"zerolinecolor\":\"white\",\"automargin\":true,\"zerolinewidth\":2},\"yaxis\":{\"gridcolor\":\"white\",\"linecolor\":\"white\",\"ticks\":\"\",\"title\":{\"standoff\":15},\"zerolinecolor\":\"white\",\"automargin\":true,\"zerolinewidth\":2},\"scene\":{\"xaxis\":{\"backgroundcolor\":\"#E5ECF6\",\"gridcolor\":\"white\",\"linecolor\":\"white\",\"showbackground\":true,\"ticks\":\"\",\"zerolinecolor\":\"white\",\"gridwidth\":2},\"yaxis\":{\"backgroundcolor\":\"#E5ECF6\",\"gridcolor\":\"white\",\"linecolor\":\"white\",\"showbackground\":true,\"ticks\":\"\",\"zerolinecolor\":\"white\",\"gridwidth\":2},\"zaxis\":{\"backgroundcolor\":\"#E5ECF6\",\"gridcolor\":\"white\",\"linecolor\":\"white\",\"showbackground\":true,\"ticks\":\"\",\"zerolinecolor\":\"white\",\"gridwidth\":2}},\"shapedefaults\":{\"line\":{\"color\":\"#2a3f5f\"}},\"annotationdefaults\":{\"arrowcolor\":\"#2a3f5f\",\"arrowhead\":0,\"arrowwidth\":1},\"geo\":{\"bgcolor\":\"white\",\"landcolor\":\"#E5ECF6\",\"subunitcolor\":\"white\",\"showland\":true,\"showlakes\":true,\"lakecolor\":\"white\"},\"title\":{\"x\":0.05},\"mapbox\":{\"style\":\"light\"}}},\"xaxis\":{\"anchor\":\"y\",\"domain\":[0.0,1.0],\"title\":{\"text\":\" Marital Status\"},\"categoryorder\":\"array\",\"categoryarray\":[\" Married\",\" Single\",\" Divorced\",\" Widowed\",\"Single\",\"Married\",\"Divorced\"]},\"yaxis\":{\"anchor\":\"x\",\"domain\":[0.0,1.0],\"title\":{\"text\":\" Age\"}},\"legend\":{\"title\":{\"text\":\" Gender,  Marital Status\"},\"tracegroupgap\":0},\"margin\":{\"t\":60}},                        {\"responsive\": true}                    ).then(function(){\n",
       "                            \n",
       "var gd = document.getElementById('b0d320d3-6214-4a75-8b38-42dba17b4778');\n",
       "var x = new MutationObserver(function (mutations, observer) {{\n",
       "        var display = window.getComputedStyle(gd).display;\n",
       "        if (!display || display === 'none') {{\n",
       "            console.log([gd, 'removed!']);\n",
       "            Plotly.purge(gd);\n",
       "            observer.disconnect();\n",
       "        }}\n",
       "}});\n",
       "\n",
       "// Listen for the removal of the full notebook cells\n",
       "var notebookContainer = gd.closest('#notebook-container');\n",
       "if (notebookContainer) {{\n",
       "    x.observe(notebookContainer, {childList: true});\n",
       "}}\n",
       "\n",
       "// Listen for the clearing of the current output cell\n",
       "var outputEl = gd.closest('.output');\n",
       "if (outputEl) {{\n",
       "    x.observe(outputEl, {childList: true});\n",
       "}}\n",
       "\n",
       "                        })                };                });            </script>        </div>"
      ]
     },
     "metadata": {},
     "output_type": "display_data"
    }
   ],
   "source": [
    "fig = px.scatter(df, y=\" Age\", x=\" Marital Status\", color=\" Gender\", symbol=\" Marital Status\")\n",
    "fig.update_traces(marker_size=10)"
   ]
  },
  {
   "cell_type": "code",
   "execution_count": 11,
   "id": "9dd8b9d3",
   "metadata": {
    "execution": {
     "iopub.execute_input": "2023-03-19T09:50:36.795978Z",
     "iopub.status.busy": "2023-03-19T09:50:36.795560Z",
     "iopub.status.idle": "2023-03-19T09:50:37.068298Z",
     "shell.execute_reply": "2023-03-19T09:50:37.066902Z"
    },
    "papermill": {
     "duration": 0.307415,
     "end_time": "2023-03-19T09:50:37.071035",
     "exception": false,
     "start_time": "2023-03-19T09:50:36.763620",
     "status": "completed"
    },
    "tags": []
   },
   "outputs": [
    {
     "data": {
      "text/plain": [
       "<AxesSubplot:xlabel=' Gender', ylabel='count'>"
      ]
     },
     "execution_count": 11,
     "metadata": {},
     "output_type": "execute_result"
    },
    {
     "data": {
      "image/png": "[encoded data removed]",
      "text/plain": [
       "<Figure size 640x480 with 1 Axes>"
      ]
     },
     "metadata": {},
     "output_type": "display_data"
    }
   ],
   "source": [
    "sns.countplot(x =' Gender', data = df)"
   ]
  },
  {
   "cell_type": "code",
   "execution_count": 12,
   "id": "d7022cfa",
   "metadata": {
    "execution": {
     "iopub.execute_input": "2023-03-19T09:50:37.135763Z",
     "iopub.status.busy": "2023-03-19T09:50:37.135301Z",
     "iopub.status.idle": "2023-03-19T09:50:38.028771Z",
     "shell.execute_reply": "2023-03-19T09:50:38.027674Z"
    },
    "papermill": {
     "duration": 0.9284,
     "end_time": "2023-03-19T09:50:38.031569",
     "exception": false,
     "start_time": "2023-03-19T09:50:37.103169",
     "status": "completed"
    },
    "tags": []
   },
   "outputs": [
    {
     "data": {
      "text/plain": [
       "<AxesSubplot:xlabel=' Age', ylabel=' Income (USD)'>"
      ]
     },
     "execution_count": 12,
     "metadata": {},
     "output_type": "execute_result"
    },
    {
     "data": {
      "image/png": "[encoded data removed]",
      "text/plain": [
       "<Figure size 640x480 with 1 Axes>"
      ]
     },
     "metadata": {},
     "output_type": "display_data"
    }
   ],
   "source": [
    "sns.barplot(x=\" Age\",y=\" Income (USD)\",data=df)"
   ]
  },
  {
   "cell_type": "code",
   "execution_count": 13,
   "id": "1bb524b6",
   "metadata": {
    "execution": {
     "iopub.execute_input": "2023-03-19T09:50:38.097435Z",
     "iopub.status.busy": "2023-03-19T09:50:38.096589Z",
     "iopub.status.idle": "2023-03-19T09:50:38.708296Z",
     "shell.execute_reply": "2023-03-19T09:50:38.707028Z"
    },
    "papermill": {
     "duration": 0.64738,
     "end_time": "2023-03-19T09:50:38.710806",
     "exception": false,
     "start_time": "2023-03-19T09:50:38.063426",
     "status": "completed"
    },
    "tags": []
   },
   "outputs": [
    {
     "data": {
      "image/png": "[encoded data removed]",
      "text/plain": [
       "<Figure size 1500x400 with 1 Axes>"
      ]
     },
     "metadata": {},
     "output_type": "display_data"
    }
   ],
   "source": [
    "# For each numerical feature compute number of unique entries\n",
    "unique_values = df.select_dtypes(include=\"number\").nunique().sort_values()\n",
    "\n",
    "# Plot information with y-axis in log-scale\n",
    "unique_values.plot.bar(logy=True, figsize=(15, 4), title=\"Unique values per feature\");"
   ]
  },
  {
   "cell_type": "code",
   "execution_count": 14,
   "id": "68a7ed37",
   "metadata": {
    "execution": {
     "iopub.execute_input": "2023-03-19T09:50:38.777806Z",
     "iopub.status.busy": "2023-03-19T09:50:38.777376Z",
     "iopub.status.idle": "2023-03-19T09:50:39.704332Z",
     "shell.execute_reply": "2023-03-19T09:50:39.703132Z"
    },
    "papermill": {
     "duration": 0.962652,
     "end_time": "2023-03-19T09:50:39.707039",
     "exception": false,
     "start_time": "2023-03-19T09:50:38.744387",
     "status": "completed"
    },
    "tags": []
   },
   "outputs": [
    {
     "data": {
      "text/plain": [
       "<AxesSubplot:xlabel=' Favorite Color', ylabel='count'>"
      ]
     },
     "execution_count": 14,
     "metadata": {},
     "output_type": "execute_result"
    },
    {
     "data": {
      "image/png": "[encoded data removed]",
      "text/plain": [
       "<Figure size 3000x2000 with 1 Axes>"
      ]
     },
     "metadata": {},
     "output_type": "display_data"
    }
   ],
   "source": [
    "plt.figure(figsize=(15,10),dpi=200)\n",
    "sns.countplot(data = df,x=\" Favorite Color\",hue=\" Gender\")"
   ]
  },
  {
   "cell_type": "code",
   "execution_count": 15,
   "id": "950726f9",
   "metadata": {
    "execution": {
     "iopub.execute_input": "2023-03-19T09:50:39.789267Z",
     "iopub.status.busy": "2023-03-19T09:50:39.788635Z",
     "iopub.status.idle": "2023-03-19T09:50:40.172835Z",
     "shell.execute_reply": "2023-03-19T09:50:40.171461Z"
    },
    "papermill": {
     "duration": 0.434027,
     "end_time": "2023-03-19T09:50:40.175656",
     "exception": false,
     "start_time": "2023-03-19T09:50:39.741629",
     "status": "completed"
    },
    "tags": []
   },
   "outputs": [
    {
     "data": {
      "text/plain": [
       "<AxesSubplot:>"
      ]
     },
     "execution_count": 15,
     "metadata": {},
     "output_type": "execute_result"
    },
    {
     "data": {
      "image/png": "[encoded data removed]",
      "text/plain": [
       "<Figure size 800x800 with 2 Axes>"
      ]
     },
     "metadata": {},
     "output_type": "display_data"
    }
   ],
   "source": [
    "plt.figure(figsize=[8,8])\n",
    "sns.heatmap(df.corr(),annot=True)"
   ]
  },
  {
   "cell_type": "markdown",
   "id": "7dd19138",
   "metadata": {
    "papermill": {
     "duration": 0.034669,
     "end_time": "2023-03-19T09:50:40.245034",
     "exception": false,
     "start_time": "2023-03-19T09:50:40.210365",
     "status": "completed"
    },
    "tags": []
   },
   "source": [
    "# **LABEL ENCODING**"
   ]
  },
  {
   "cell_type": "code",
   "execution_count": 16,
   "id": "86ed2ec3",
   "metadata": {
    "execution": {
     "iopub.execute_input": "2023-03-19T09:50:40.315892Z",
     "iopub.status.busy": "2023-03-19T09:50:40.315434Z",
     "iopub.status.idle": "2023-03-19T09:50:40.475896Z",
     "shell.execute_reply": "2023-03-19T09:50:40.474559Z"
    },
    "papermill": {
     "duration": 0.199476,
     "end_time": "2023-03-19T09:50:40.478974",
     "exception": false,
     "start_time": "2023-03-19T09:50:40.279498",
     "status": "completed"
    },
    "tags": []
   },
   "outputs": [],
   "source": [
    "from sklearn.preprocessing import LabelEncoder\n",
    "\n",
    "def labelencoder(df):\n",
    "    for c in df.columns:\n",
    "        if df[c].dtype=='object': \n",
    "            df[c] = df[c].fillna('N')\n",
    "            lbl = LabelEncoder()\n",
    "            lbl.fit(list(df[c].values))\n",
    "            df[c] = lbl.transform(df[c].values)\n",
    "    return df"
   ]
  },
  {
   "cell_type": "code",
   "execution_count": 17,
   "id": "26544f5c",
   "metadata": {
    "execution": {
     "iopub.execute_input": "2023-03-19T09:50:40.547659Z",
     "iopub.status.busy": "2023-03-19T09:50:40.546994Z",
     "iopub.status.idle": "2023-03-19T09:50:40.569516Z",
     "shell.execute_reply": "2023-03-19T09:50:40.568041Z"
    },
    "papermill": {
     "duration": 0.060613,
     "end_time": "2023-03-19T09:50:40.572404",
     "exception": false,
     "start_time": "2023-03-19T09:50:40.511791",
     "status": "completed"
    },
    "tags": []
   },
   "outputs": [
    {
     "data": {
      "text/html": [
       "<div>\n",
       "<style scoped>\n",
       "    .dataframe tbody tr th:only-of-type {\n",
       "        vertical-align: middle;\n",
       "    }\n",
       "\n",
       "    .dataframe tbody tr th {\n",
       "        vertical-align: top;\n",
       "    }\n",
       "\n",
       "    .dataframe thead th {\n",
       "        text-align: right;\n",
       "    }\n",
       "</style>\n",
       "<table border=\"1\" class=\"dataframe\">\n",
       "  <thead>\n",
       "    <tr style=\"text-align: right;\">\n",
       "      <th></th>\n",
       "      <th>Gender</th>\n",
       "      <th>Age</th>\n",
       "      <th>Height (cm)</th>\n",
       "      <th>Weight (kg)</th>\n",
       "      <th>Occupation</th>\n",
       "      <th>Education Level</th>\n",
       "      <th>Marital Status</th>\n",
       "      <th>Income (USD)</th>\n",
       "      <th>Favorite Color</th>\n",
       "    </tr>\n",
       "  </thead>\n",
       "  <tbody>\n",
       "    <tr>\n",
       "      <th>0</th>\n",
       "      <td>1</td>\n",
       "      <td>32</td>\n",
       "      <td>175</td>\n",
       "      <td>70</td>\n",
       "      <td>15</td>\n",
       "      <td>3</td>\n",
       "      <td>1</td>\n",
       "      <td>75000</td>\n",
       "      <td>1</td>\n",
       "    </tr>\n",
       "    <tr>\n",
       "      <th>1</th>\n",
       "      <td>1</td>\n",
       "      <td>25</td>\n",
       "      <td>182</td>\n",
       "      <td>85</td>\n",
       "      <td>14</td>\n",
       "      <td>1</td>\n",
       "      <td>2</td>\n",
       "      <td>45000</td>\n",
       "      <td>2</td>\n",
       "    </tr>\n",
       "    <tr>\n",
       "      <th>2</th>\n",
       "      <td>0</td>\n",
       "      <td>41</td>\n",
       "      <td>160</td>\n",
       "      <td>62</td>\n",
       "      <td>6</td>\n",
       "      <td>2</td>\n",
       "      <td>1</td>\n",
       "      <td>120000</td>\n",
       "      <td>6</td>\n",
       "    </tr>\n",
       "    <tr>\n",
       "      <th>3</th>\n",
       "      <td>1</td>\n",
       "      <td>38</td>\n",
       "      <td>178</td>\n",
       "      <td>79</td>\n",
       "      <td>10</td>\n",
       "      <td>1</td>\n",
       "      <td>2</td>\n",
       "      <td>90000</td>\n",
       "      <td>7</td>\n",
       "    </tr>\n",
       "    <tr>\n",
       "      <th>4</th>\n",
       "      <td>0</td>\n",
       "      <td>29</td>\n",
       "      <td>165</td>\n",
       "      <td>58</td>\n",
       "      <td>8</td>\n",
       "      <td>0</td>\n",
       "      <td>2</td>\n",
       "      <td>35000</td>\n",
       "      <td>8</td>\n",
       "    </tr>\n",
       "    <tr>\n",
       "      <th>...</th>\n",
       "      <td>...</td>\n",
       "      <td>...</td>\n",
       "      <td>...</td>\n",
       "      <td>...</td>\n",
       "      <td>...</td>\n",
       "      <td>...</td>\n",
       "      <td>...</td>\n",
       "      <td>...</td>\n",
       "      <td>...</td>\n",
       "    </tr>\n",
       "    <tr>\n",
       "      <th>126</th>\n",
       "      <td>2</td>\n",
       "      <td>32</td>\n",
       "      <td>170</td>\n",
       "      <td>64</td>\n",
       "      <td>29</td>\n",
       "      <td>4</td>\n",
       "      <td>6</td>\n",
       "      <td>60000</td>\n",
       "      <td>13</td>\n",
       "    </tr>\n",
       "    <tr>\n",
       "      <th>127</th>\n",
       "      <td>3</td>\n",
       "      <td>38</td>\n",
       "      <td>176</td>\n",
       "      <td>79</td>\n",
       "      <td>30</td>\n",
       "      <td>5</td>\n",
       "      <td>5</td>\n",
       "      <td>90000</td>\n",
       "      <td>9</td>\n",
       "    </tr>\n",
       "    <tr>\n",
       "      <th>128</th>\n",
       "      <td>2</td>\n",
       "      <td>27</td>\n",
       "      <td>162</td>\n",
       "      <td>55</td>\n",
       "      <td>25</td>\n",
       "      <td>4</td>\n",
       "      <td>6</td>\n",
       "      <td>55000</td>\n",
       "      <td>11</td>\n",
       "    </tr>\n",
       "    <tr>\n",
       "      <th>129</th>\n",
       "      <td>3</td>\n",
       "      <td>33</td>\n",
       "      <td>175</td>\n",
       "      <td>77</td>\n",
       "      <td>31</td>\n",
       "      <td>5</td>\n",
       "      <td>5</td>\n",
       "      <td>80000</td>\n",
       "      <td>17</td>\n",
       "    </tr>\n",
       "    <tr>\n",
       "      <th>130</th>\n",
       "      <td>2</td>\n",
       "      <td>29</td>\n",
       "      <td>164</td>\n",
       "      <td>57</td>\n",
       "      <td>32</td>\n",
       "      <td>5</td>\n",
       "      <td>6</td>\n",
       "      <td>65000</td>\n",
       "      <td>10</td>\n",
       "    </tr>\n",
       "  </tbody>\n",
       "</table>\n",
       "<p>131 rows × 9 columns</p>\n",
       "</div>"
      ],
      "text/plain": [
       "      Gender   Age   Height (cm)   Weight (kg)   Occupation   Education Level  \\\n",
       "0          1    32           175            70           15                 3   \n",
       "1          1    25           182            85           14                 1   \n",
       "2          0    41           160            62            6                 2   \n",
       "3          1    38           178            79           10                 1   \n",
       "4          0    29           165            58            8                 0   \n",
       "..       ...   ...           ...           ...          ...               ...   \n",
       "126        2    32           170            64           29                 4   \n",
       "127        3    38           176            79           30                 5   \n",
       "128        2    27           162            55           25                 4   \n",
       "129        3    33           175            77           31                 5   \n",
       "130        2    29           164            57           32                 5   \n",
       "\n",
       "      Marital Status   Income (USD)   Favorite Color  \n",
       "0                  1          75000                1  \n",
       "1                  2          45000                2  \n",
       "2                  1         120000                6  \n",
       "3                  2          90000                7  \n",
       "4                  2          35000                8  \n",
       "..               ...            ...              ...  \n",
       "126                6          60000               13  \n",
       "127                5          90000                9  \n",
       "128                6          55000               11  \n",
       "129                5          80000               17  \n",
       "130                6          65000               10  \n",
       "\n",
       "[131 rows x 9 columns]"
      ]
     },
     "metadata": {},
     "output_type": "display_data"
    }
   ],
   "source": [
    "df=labelencoder(df.copy())\n",
    "display(df)"
   ]
  },
  {
   "cell_type": "markdown",
   "id": "93cb2397",
   "metadata": {
    "papermill": {
     "duration": 0.033068,
     "end_time": "2023-03-19T09:50:40.639518",
     "exception": false,
     "start_time": "2023-03-19T09:50:40.606450",
     "status": "completed"
    },
    "tags": []
   },
   "source": [
    "# **SPLITTING INTO INDEPENDENT AND DEPENDENT VARIABLES**"
   ]
  },
  {
   "cell_type": "code",
   "execution_count": 18,
   "id": "2eb33e41",
   "metadata": {
    "execution": {
     "iopub.execute_input": "2023-03-19T09:50:40.709172Z",
     "iopub.status.busy": "2023-03-19T09:50:40.708744Z",
     "iopub.status.idle": "2023-03-19T09:50:40.716852Z",
     "shell.execute_reply": "2023-03-19T09:50:40.715629Z"
    },
    "papermill": {
     "duration": 0.046576,
     "end_time": "2023-03-19T09:50:40.719521",
     "exception": false,
     "start_time": "2023-03-19T09:50:40.672945",
     "status": "completed"
    },
    "tags": []
   },
   "outputs": [
    {
     "data": {
      "text/plain": [
       "0      1\n",
       "1      1\n",
       "2      0\n",
       "3      1\n",
       "4      0\n",
       "      ..\n",
       "126    2\n",
       "127    3\n",
       "128    2\n",
       "129    3\n",
       "130    2\n",
       "Name:  Gender, Length: 131, dtype: int64"
      ]
     },
     "execution_count": 18,
     "metadata": {},
     "output_type": "execute_result"
    }
   ],
   "source": [
    "#dependent variable\n",
    "y=df[' Gender']\n",
    "y"
   ]
  },
  {
   "cell_type": "code",
   "execution_count": 19,
   "id": "b56dd0f0",
   "metadata": {
    "execution": {
     "iopub.execute_input": "2023-03-19T09:50:40.789339Z",
     "iopub.status.busy": "2023-03-19T09:50:40.788587Z",
     "iopub.status.idle": "2023-03-19T09:50:40.801545Z",
     "shell.execute_reply": "2023-03-19T09:50:40.800610Z"
    },
    "papermill": {
     "duration": 0.050891,
     "end_time": "2023-03-19T09:50:40.803897",
     "exception": false,
     "start_time": "2023-03-19T09:50:40.753006",
     "status": "completed"
    },
    "tags": []
   },
   "outputs": [
    {
     "data": {
      "text/html": [
       "<div>\n",
       "<style scoped>\n",
       "    .dataframe tbody tr th:only-of-type {\n",
       "        vertical-align: middle;\n",
       "    }\n",
       "\n",
       "    .dataframe tbody tr th {\n",
       "        vertical-align: top;\n",
       "    }\n",
       "\n",
       "    .dataframe thead th {\n",
       "        text-align: right;\n",
       "    }\n",
       "</style>\n",
       "<table border=\"1\" class=\"dataframe\">\n",
       "  <thead>\n",
       "    <tr style=\"text-align: right;\">\n",
       "      <th></th>\n",
       "      <th>Age</th>\n",
       "      <th>Height (cm)</th>\n",
       "      <th>Weight (kg)</th>\n",
       "      <th>Occupation</th>\n",
       "      <th>Education Level</th>\n",
       "      <th>Marital Status</th>\n",
       "      <th>Income (USD)</th>\n",
       "      <th>Favorite Color</th>\n",
       "    </tr>\n",
       "  </thead>\n",
       "  <tbody>\n",
       "    <tr>\n",
       "      <th>0</th>\n",
       "      <td>32</td>\n",
       "      <td>175</td>\n",
       "      <td>70</td>\n",
       "      <td>15</td>\n",
       "      <td>3</td>\n",
       "      <td>1</td>\n",
       "      <td>75000</td>\n",
       "      <td>1</td>\n",
       "    </tr>\n",
       "    <tr>\n",
       "      <th>1</th>\n",
       "      <td>25</td>\n",
       "      <td>182</td>\n",
       "      <td>85</td>\n",
       "      <td>14</td>\n",
       "      <td>1</td>\n",
       "      <td>2</td>\n",
       "      <td>45000</td>\n",
       "      <td>2</td>\n",
       "    </tr>\n",
       "    <tr>\n",
       "      <th>2</th>\n",
       "      <td>41</td>\n",
       "      <td>160</td>\n",
       "      <td>62</td>\n",
       "      <td>6</td>\n",
       "      <td>2</td>\n",
       "      <td>1</td>\n",
       "      <td>120000</td>\n",
       "      <td>6</td>\n",
       "    </tr>\n",
       "    <tr>\n",
       "      <th>3</th>\n",
       "      <td>38</td>\n",
       "      <td>178</td>\n",
       "      <td>79</td>\n",
       "      <td>10</td>\n",
       "      <td>1</td>\n",
       "      <td>2</td>\n",
       "      <td>90000</td>\n",
       "      <td>7</td>\n",
       "    </tr>\n",
       "    <tr>\n",
       "      <th>4</th>\n",
       "      <td>29</td>\n",
       "      <td>165</td>\n",
       "      <td>58</td>\n",
       "      <td>8</td>\n",
       "      <td>0</td>\n",
       "      <td>2</td>\n",
       "      <td>35000</td>\n",
       "      <td>8</td>\n",
       "    </tr>\n",
       "  </tbody>\n",
       "</table>\n",
       "</div>"
      ],
      "text/plain": [
       "    Age   Height (cm)   Weight (kg)   Occupation   Education Level  \\\n",
       "0    32           175            70           15                 3   \n",
       "1    25           182            85           14                 1   \n",
       "2    41           160            62            6                 2   \n",
       "3    38           178            79           10                 1   \n",
       "4    29           165            58            8                 0   \n",
       "\n",
       "    Marital Status   Income (USD)   Favorite Color  \n",
       "0                1          75000                1  \n",
       "1                2          45000                2  \n",
       "2                1         120000                6  \n",
       "3                2          90000                7  \n",
       "4                2          35000                8  "
      ]
     },
     "execution_count": 19,
     "metadata": {},
     "output_type": "execute_result"
    }
   ],
   "source": [
    "#independent variable\n",
    "X=df.drop(columns=' Gender',axis=1)\n",
    "X.head()"
   ]
  },
  {
   "cell_type": "markdown",
   "id": "a9171d6f",
   "metadata": {
    "papermill": {
     "duration": 0.033522,
     "end_time": "2023-03-19T09:50:40.871588",
     "exception": false,
     "start_time": "2023-03-19T09:50:40.838066",
     "status": "completed"
    },
    "tags": []
   },
   "source": [
    "# **SPLITTING THE DATA INTO TRAINING DATA AND TEST DATA**"
   ]
  },
  {
   "cell_type": "code",
   "execution_count": 20,
   "id": "b8eeb494",
   "metadata": {
    "execution": {
     "iopub.execute_input": "2023-03-19T09:50:40.943271Z",
     "iopub.status.busy": "2023-03-19T09:50:40.942533Z",
     "iopub.status.idle": "2023-03-19T09:50:41.022534Z",
     "shell.execute_reply": "2023-03-19T09:50:41.021082Z"
    },
    "papermill": {
     "duration": 0.119807,
     "end_time": "2023-03-19T09:50:41.025608",
     "exception": false,
     "start_time": "2023-03-19T09:50:40.905801",
     "status": "completed"
    },
    "tags": []
   },
   "outputs": [],
   "source": [
    "from sklearn.model_selection import train_test_split\n",
    "X_train,X_test,y_train,y_test = train_test_split(X,y,test_size=0.3,random_state=0)\n",
    "#0.3 indicates 30% test dataset and remaining 70% training dataset which is ideal size of dataset for ml algorithms training and testing "
   ]
  },
  {
   "cell_type": "markdown",
   "id": "fca60735",
   "metadata": {
    "papermill": {
     "duration": 0.036179,
     "end_time": "2023-03-19T09:50:41.096740",
     "exception": false,
     "start_time": "2023-03-19T09:50:41.060561",
     "status": "completed"
    },
    "tags": []
   },
   "source": [
    "# **GENDER CLASSIFICATION**"
   ]
  },
  {
   "cell_type": "code",
   "execution_count": 21,
   "id": "ed02fdb1",
   "metadata": {
    "execution": {
     "iopub.execute_input": "2023-03-19T09:50:41.169428Z",
     "iopub.status.busy": "2023-03-19T09:50:41.169013Z",
     "iopub.status.idle": "2023-03-19T09:50:41.174706Z",
     "shell.execute_reply": "2023-03-19T09:50:41.173312Z"
    },
    "papermill": {
     "duration": 0.046535,
     "end_time": "2023-03-19T09:50:41.177403",
     "exception": false,
     "start_time": "2023-03-19T09:50:41.130868",
     "status": "completed"
    },
    "tags": []
   },
   "outputs": [],
   "source": [
    "def classify(model):\n",
    "    model.fit(X_train, y_train)\n",
    "    print('Accuracy:', model.score(X_train, y_train))"
   ]
  },
  {
   "cell_type": "code",
   "execution_count": 22,
   "id": "d6266119",
   "metadata": {
    "execution": {
     "iopub.execute_input": "2023-03-19T09:50:41.249437Z",
     "iopub.status.busy": "2023-03-19T09:50:41.249015Z",
     "iopub.status.idle": "2023-03-19T09:50:41.644166Z",
     "shell.execute_reply": "2023-03-19T09:50:41.642811Z"
    },
    "papermill": {
     "duration": 0.435031,
     "end_time": "2023-03-19T09:50:41.646999",
     "exception": false,
     "start_time": "2023-03-19T09:50:41.211968",
     "status": "completed"
    },
    "tags": []
   },
   "outputs": [
    {
     "name": "stdout",
     "output_type": "stream",
     "text": [
      "Accuracy: 1.0\n"
     ]
    }
   ],
   "source": [
    "from sklearn.linear_model import LogisticRegression\n",
    "model = LogisticRegression(solver='lbfgs', max_iter=3000)\n",
    "classify(model)"
   ]
  },
  {
   "cell_type": "code",
   "execution_count": 23,
   "id": "bbd86a93",
   "metadata": {
    "execution": {
     "iopub.execute_input": "2023-03-19T09:50:41.722631Z",
     "iopub.status.busy": "2023-03-19T09:50:41.721915Z",
     "iopub.status.idle": "2023-03-19T09:50:42.180705Z",
     "shell.execute_reply": "2023-03-19T09:50:42.179266Z"
    },
    "papermill": {
     "duration": 0.503365,
     "end_time": "2023-03-19T09:50:42.184300",
     "exception": false,
     "start_time": "2023-03-19T09:50:41.680935",
     "status": "completed"
    },
    "tags": []
   },
   "outputs": [
    {
     "name": "stdout",
     "output_type": "stream",
     "text": [
      "Accuracy: 1.0\n"
     ]
    }
   ],
   "source": [
    "from sklearn.ensemble import RandomForestClassifier\n",
    "model = RandomForestClassifier()\n",
    "classify(model)"
   ]
  },
  {
   "cell_type": "code",
   "execution_count": 24,
   "id": "18202ee8",
   "metadata": {
    "execution": {
     "iopub.execute_input": "2023-03-19T09:50:42.256312Z",
     "iopub.status.busy": "2023-03-19T09:50:42.255577Z",
     "iopub.status.idle": "2023-03-19T09:50:42.275274Z",
     "shell.execute_reply": "2023-03-19T09:50:42.273752Z"
    },
    "papermill": {
     "duration": 0.05829,
     "end_time": "2023-03-19T09:50:42.277986",
     "exception": false,
     "start_time": "2023-03-19T09:50:42.219696",
     "status": "completed"
    },
    "tags": []
   },
   "outputs": [
    {
     "name": "stdout",
     "output_type": "stream",
     "text": [
      "Accuracy: 1.0\n"
     ]
    }
   ],
   "source": [
    "from sklearn.naive_bayes import GaussianNB \n",
    "model = GaussianNB()  \n",
    "classify(model)"
   ]
  },
  {
   "cell_type": "code",
   "execution_count": 25,
   "id": "dc7c4b27",
   "metadata": {
    "execution": {
     "iopub.execute_input": "2023-03-19T09:50:42.349251Z",
     "iopub.status.busy": "2023-03-19T09:50:42.348765Z",
     "iopub.status.idle": "2023-03-19T09:50:43.527608Z",
     "shell.execute_reply": "2023-03-19T09:50:43.525717Z"
    },
    "papermill": {
     "duration": 1.218925,
     "end_time": "2023-03-19T09:50:43.531972",
     "exception": false,
     "start_time": "2023-03-19T09:50:42.313047",
     "status": "completed"
    },
    "tags": []
   },
   "outputs": [
    {
     "name": "stdout",
     "output_type": "stream",
     "text": [
      "Accuracy: 1.0\n"
     ]
    }
   ],
   "source": [
    "from catboost import CatBoostClassifier\n",
    "model = CatBoostClassifier(verbose=0)\n",
    "classify(model)"
   ]
  },
  {
   "cell_type": "code",
   "execution_count": 26,
   "id": "44e3449a",
   "metadata": {
    "execution": {
     "iopub.execute_input": "2023-03-19T09:50:43.603309Z",
     "iopub.status.busy": "2023-03-19T09:50:43.602785Z",
     "iopub.status.idle": "2023-03-19T09:50:43.613501Z",
     "shell.execute_reply": "2023-03-19T09:50:43.612282Z"
    },
    "papermill": {
     "duration": 0.049721,
     "end_time": "2023-03-19T09:50:43.616501",
     "exception": false,
     "start_time": "2023-03-19T09:50:43.566780",
     "status": "completed"
    },
    "tags": []
   },
   "outputs": [
    {
     "data": {
      "text/plain": [
       "array([[0],\n",
       "       [3],\n",
       "       [3],\n",
       "       [2],\n",
       "       [3],\n",
       "       [1],\n",
       "       [1],\n",
       "       [0],\n",
       "       [2],\n",
       "       [1],\n",
       "       [2],\n",
       "       [1],\n",
       "       [1],\n",
       "       [3],\n",
       "       [0],\n",
       "       [1],\n",
       "       [3],\n",
       "       [3],\n",
       "       [0],\n",
       "       [3],\n",
       "       [2],\n",
       "       [2],\n",
       "       [1],\n",
       "       [3],\n",
       "       [1],\n",
       "       [1],\n",
       "       [2],\n",
       "       [2],\n",
       "       [2],\n",
       "       [0],\n",
       "       [3],\n",
       "       [2],\n",
       "       [1],\n",
       "       [3],\n",
       "       [3],\n",
       "       [0],\n",
       "       [1],\n",
       "       [2],\n",
       "       [3],\n",
       "       [2]])"
      ]
     },
     "execution_count": 26,
     "metadata": {},
     "output_type": "execute_result"
    }
   ],
   "source": [
    "y_pred = model.predict(X_test)\n",
    "y_pred"
   ]
  },
  {
   "cell_type": "code",
   "execution_count": 27,
   "id": "e869efbc",
   "metadata": {
    "execution": {
     "iopub.execute_input": "2023-03-19T09:50:43.688897Z",
     "iopub.status.busy": "2023-03-19T09:50:43.687702Z",
     "iopub.status.idle": "2023-03-19T09:50:43.696865Z",
     "shell.execute_reply": "2023-03-19T09:50:43.695609Z"
    },
    "papermill": {
     "duration": 0.048629,
     "end_time": "2023-03-19T09:50:43.699671",
     "exception": false,
     "start_time": "2023-03-19T09:50:43.651042",
     "status": "completed"
    },
    "tags": []
   },
   "outputs": [
    {
     "data": {
      "text/plain": [
       "8      0\n",
       "61     3\n",
       "90     3\n",
       "106    2\n",
       "71     3\n",
       "30     1\n",
       "44     1\n",
       "33     0\n",
       "60     2\n",
       "26     1\n",
       "78     2\n",
       "7      1\n",
       "22     1\n",
       "127    3\n",
       "10     0\n",
       "48     1\n",
       "105    3\n",
       "92     3\n",
       "2      0\n",
       "59     3\n",
       "52     2\n",
       "76     2\n",
       "24     1\n",
       "51     3\n",
       "50     1\n",
       "40     1\n",
       "85     2\n",
       "118    2\n",
       "68     2\n",
       "16     0\n",
       "96     3\n",
       "122    2\n",
       "13     1\n",
       "63     3\n",
       "100    3\n",
       "45     0\n",
       "15     1\n",
       "93     2\n",
       "125    3\n",
       "97     2\n",
       "Name:  Gender, dtype: int64"
      ]
     },
     "execution_count": 27,
     "metadata": {},
     "output_type": "execute_result"
    }
   ],
   "source": [
    "y_test"
   ]
  }
 ],
 "metadata": {
  "kernelspec": {
   "display_name": "Python 3",
   "language": "python",
   "name": "python3"
  },
  "language_info": {
   "codemirror_mode": {
    "name": "ipython",
    "version": 3
   },
   "file_extension": ".py",
   "mimetype": "text/x-python",
   "name": "python",
   "nbconvert_exporter": "python",
   "pygments_lexer": "ipython3",
   "version": "3.7.12"
  },
  "papermill": {
   "default_parameters": {},
   "duration": 25.571959,
   "end_time": "2023-03-19T09:50:44.758291",
   "environment_variables": {},
   "exception": null,
   "input_path": "__notebook__.ipynb",
   "output_path": "__notebook__.ipynb",
   "parameters": {},
   "start_time": "2023-03-19T09:50:19.186332",
   "version": "2.4.0"
  }
 },
 "nbformat": 4,
 "nbformat_minor": 5
}
