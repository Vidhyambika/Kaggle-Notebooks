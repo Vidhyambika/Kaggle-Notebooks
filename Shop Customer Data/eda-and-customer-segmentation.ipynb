{
 "cells": [
  {
   "cell_type": "code",
   "execution_count": 1,
   "id": "3c052fe1",
   "metadata": {
    "_cell_guid": "b1076dfc-b9ad-4769-8c92-a6c4dae69d19",
    "_uuid": "8f2839f25d086af736a60e9eeb907d3b93b6e0e5",
    "execution": {
     "iopub.execute_input": "2023-03-03T19:13:39.749468Z",
     "iopub.status.busy": "2023-03-03T19:13:39.749074Z",
     "iopub.status.idle": "2023-03-03T19:13:39.765577Z",
     "shell.execute_reply": "2023-03-03T19:13:39.764469Z"
    },
    "papermill": {
     "duration": 0.033403,
     "end_time": "2023-03-03T19:13:39.768655",
     "exception": false,
     "start_time": "2023-03-03T19:13:39.735252",
     "status": "completed"
    },
    "tags": []
   },
   "outputs": [
    {
     "name": "stdout",
     "output_type": "stream",
     "text": [
      "/kaggle/input/customers-dataset/Customers.csv\n"
     ]
    }
   ],
   "source": [
    "# This Python 3 environment comes with many helpful analytics libraries installed\n",
    "# It is defined by the kaggle/python Docker image: https://github.com/kaggle/docker-python\n",
    "# For example, here's several helpful packages to load\n",
    "\n",
    "import numpy as np # linear algebra\n",
    "import pandas as pd # data processing, CSV file I/O (e.g. pd.read_csv)\n",
    "\n",
    "# Input data files are available in the read-only \"../input/\" directory\n",
    "# For example, running this (by clicking run or pressing Shift+Enter) will list all files under the input directory\n",
    "\n",
    "import os\n",
    "for dirname, _, filenames in os.walk('/kaggle/input'):\n",
    "    for filename in filenames:\n",
    "        print(os.path.join(dirname, filename))\n",
    "\n",
    "# You can write up to 20GB to the current directory (/kaggle/working/) that gets preserved as output when you create a version using \"Save & Run All\" \n",
    "# You can also write temporary files to /kaggle/temp/, but they won't be saved outside of the current session"
   ]
  },
  {
   "cell_type": "markdown",
   "id": "6fc16d46",
   "metadata": {
    "papermill": {
     "duration": 0.010077,
     "end_time": "2023-03-03T19:13:39.790056",
     "exception": false,
     "start_time": "2023-03-03T19:13:39.779979",
     "status": "completed"
    },
    "tags": []
   },
   "source": [
    "# **IMPORTING THE LIBRARIES**"
   ]
  },
  {
   "cell_type": "code",
   "execution_count": 2,
   "id": "b00901d2",
   "metadata": {
    "execution": {
     "iopub.execute_input": "2023-03-03T19:13:39.812828Z",
     "iopub.status.busy": "2023-03-03T19:13:39.811700Z",
     "iopub.status.idle": "2023-03-03T19:13:40.913496Z",
     "shell.execute_reply": "2023-03-03T19:13:40.912283Z"
    },
    "papermill": {
     "duration": 1.116381,
     "end_time": "2023-03-03T19:13:40.916577",
     "exception": false,
     "start_time": "2023-03-03T19:13:39.800196",
     "status": "completed"
    },
    "tags": []
   },
   "outputs": [],
   "source": [
    "import pandas as pd \n",
    "import numpy as np\n",
    "import seaborn as sns\n",
    "import matplotlib.pyplot as plt"
   ]
  },
  {
   "cell_type": "markdown",
   "id": "ccc626a2",
   "metadata": {
    "papermill": {
     "duration": 0.011763,
     "end_time": "2023-03-03T19:13:40.938882",
     "exception": false,
     "start_time": "2023-03-03T19:13:40.927119",
     "status": "completed"
    },
    "tags": []
   },
   "source": [
    "# **LOAD THE DATASET**"
   ]
  },
  {
   "cell_type": "code",
   "execution_count": 3,
   "id": "33998e00",
   "metadata": {
    "execution": {
     "iopub.execute_input": "2023-03-03T19:13:40.962025Z",
     "iopub.status.busy": "2023-03-03T19:13:40.960753Z",
     "iopub.status.idle": "2023-03-03T19:13:41.011439Z",
     "shell.execute_reply": "2023-03-03T19:13:41.010150Z"
    },
    "papermill": {
     "duration": 0.065147,
     "end_time": "2023-03-03T19:13:41.014251",
     "exception": false,
     "start_time": "2023-03-03T19:13:40.949104",
     "status": "completed"
    },
    "tags": []
   },
   "outputs": [
    {
     "data": {
      "text/html": [
       "<div>\n",
       "<style scoped>\n",
       "    .dataframe tbody tr th:only-of-type {\n",
       "        vertical-align: middle;\n",
       "    }\n",
       "\n",
       "    .dataframe tbody tr th {\n",
       "        vertical-align: top;\n",
       "    }\n",
       "\n",
       "    .dataframe thead th {\n",
       "        text-align: right;\n",
       "    }\n",
       "</style>\n",
       "<table border=\"1\" class=\"dataframe\">\n",
       "  <thead>\n",
       "    <tr style=\"text-align: right;\">\n",
       "      <th></th>\n",
       "      <th>CustomerID</th>\n",
       "      <th>Gender</th>\n",
       "      <th>Age</th>\n",
       "      <th>Annual Income ($)</th>\n",
       "      <th>Spending Score (1-100)</th>\n",
       "      <th>Profession</th>\n",
       "      <th>Work Experience</th>\n",
       "      <th>Family Size</th>\n",
       "    </tr>\n",
       "  </thead>\n",
       "  <tbody>\n",
       "    <tr>\n",
       "      <th>0</th>\n",
       "      <td>1</td>\n",
       "      <td>Male</td>\n",
       "      <td>19</td>\n",
       "      <td>15000</td>\n",
       "      <td>39</td>\n",
       "      <td>Healthcare</td>\n",
       "      <td>1</td>\n",
       "      <td>4</td>\n",
       "    </tr>\n",
       "    <tr>\n",
       "      <th>1</th>\n",
       "      <td>2</td>\n",
       "      <td>Male</td>\n",
       "      <td>21</td>\n",
       "      <td>35000</td>\n",
       "      <td>81</td>\n",
       "      <td>Engineer</td>\n",
       "      <td>3</td>\n",
       "      <td>3</td>\n",
       "    </tr>\n",
       "    <tr>\n",
       "      <th>2</th>\n",
       "      <td>3</td>\n",
       "      <td>Female</td>\n",
       "      <td>20</td>\n",
       "      <td>86000</td>\n",
       "      <td>6</td>\n",
       "      <td>Engineer</td>\n",
       "      <td>1</td>\n",
       "      <td>1</td>\n",
       "    </tr>\n",
       "    <tr>\n",
       "      <th>3</th>\n",
       "      <td>4</td>\n",
       "      <td>Female</td>\n",
       "      <td>23</td>\n",
       "      <td>59000</td>\n",
       "      <td>77</td>\n",
       "      <td>Lawyer</td>\n",
       "      <td>0</td>\n",
       "      <td>2</td>\n",
       "    </tr>\n",
       "    <tr>\n",
       "      <th>4</th>\n",
       "      <td>5</td>\n",
       "      <td>Female</td>\n",
       "      <td>31</td>\n",
       "      <td>38000</td>\n",
       "      <td>40</td>\n",
       "      <td>Entertainment</td>\n",
       "      <td>2</td>\n",
       "      <td>6</td>\n",
       "    </tr>\n",
       "    <tr>\n",
       "      <th>...</th>\n",
       "      <td>...</td>\n",
       "      <td>...</td>\n",
       "      <td>...</td>\n",
       "      <td>...</td>\n",
       "      <td>...</td>\n",
       "      <td>...</td>\n",
       "      <td>...</td>\n",
       "      <td>...</td>\n",
       "    </tr>\n",
       "    <tr>\n",
       "      <th>1995</th>\n",
       "      <td>1996</td>\n",
       "      <td>Female</td>\n",
       "      <td>71</td>\n",
       "      <td>184387</td>\n",
       "      <td>40</td>\n",
       "      <td>Artist</td>\n",
       "      <td>8</td>\n",
       "      <td>7</td>\n",
       "    </tr>\n",
       "    <tr>\n",
       "      <th>1996</th>\n",
       "      <td>1997</td>\n",
       "      <td>Female</td>\n",
       "      <td>91</td>\n",
       "      <td>73158</td>\n",
       "      <td>32</td>\n",
       "      <td>Doctor</td>\n",
       "      <td>7</td>\n",
       "      <td>7</td>\n",
       "    </tr>\n",
       "    <tr>\n",
       "      <th>1997</th>\n",
       "      <td>1998</td>\n",
       "      <td>Male</td>\n",
       "      <td>87</td>\n",
       "      <td>90961</td>\n",
       "      <td>14</td>\n",
       "      <td>Healthcare</td>\n",
       "      <td>9</td>\n",
       "      <td>2</td>\n",
       "    </tr>\n",
       "    <tr>\n",
       "      <th>1998</th>\n",
       "      <td>1999</td>\n",
       "      <td>Male</td>\n",
       "      <td>77</td>\n",
       "      <td>182109</td>\n",
       "      <td>4</td>\n",
       "      <td>Executive</td>\n",
       "      <td>7</td>\n",
       "      <td>2</td>\n",
       "    </tr>\n",
       "    <tr>\n",
       "      <th>1999</th>\n",
       "      <td>2000</td>\n",
       "      <td>Male</td>\n",
       "      <td>90</td>\n",
       "      <td>110610</td>\n",
       "      <td>52</td>\n",
       "      <td>Entertainment</td>\n",
       "      <td>5</td>\n",
       "      <td>2</td>\n",
       "    </tr>\n",
       "  </tbody>\n",
       "</table>\n",
       "<p>2000 rows × 8 columns</p>\n",
       "</div>"
      ],
      "text/plain": [
       "      CustomerID  Gender  Age  Annual Income ($)  Spending Score (1-100)  \\\n",
       "0              1    Male   19              15000                      39   \n",
       "1              2    Male   21              35000                      81   \n",
       "2              3  Female   20              86000                       6   \n",
       "3              4  Female   23              59000                      77   \n",
       "4              5  Female   31              38000                      40   \n",
       "...          ...     ...  ...                ...                     ...   \n",
       "1995        1996  Female   71             184387                      40   \n",
       "1996        1997  Female   91              73158                      32   \n",
       "1997        1998    Male   87              90961                      14   \n",
       "1998        1999    Male   77             182109                       4   \n",
       "1999        2000    Male   90             110610                      52   \n",
       "\n",
       "         Profession  Work Experience  Family Size  \n",
       "0        Healthcare                1            4  \n",
       "1          Engineer                3            3  \n",
       "2          Engineer                1            1  \n",
       "3            Lawyer                0            2  \n",
       "4     Entertainment                2            6  \n",
       "...             ...              ...          ...  \n",
       "1995         Artist                8            7  \n",
       "1996         Doctor                7            7  \n",
       "1997     Healthcare                9            2  \n",
       "1998      Executive                7            2  \n",
       "1999  Entertainment                5            2  \n",
       "\n",
       "[2000 rows x 8 columns]"
      ]
     },
     "execution_count": 3,
     "metadata": {},
     "output_type": "execute_result"
    }
   ],
   "source": [
    "df = pd.read_csv(\"/kaggle/input/customers-dataset/Customers.csv\")\n",
    "df"
   ]
  },
  {
   "cell_type": "code",
   "execution_count": 4,
   "id": "8baeb944",
   "metadata": {
    "execution": {
     "iopub.execute_input": "2023-03-03T19:13:41.037909Z",
     "iopub.status.busy": "2023-03-03T19:13:41.037228Z",
     "iopub.status.idle": "2023-03-03T19:13:41.057646Z",
     "shell.execute_reply": "2023-03-03T19:13:41.056767Z"
    },
    "papermill": {
     "duration": 0.034739,
     "end_time": "2023-03-03T19:13:41.059815",
     "exception": false,
     "start_time": "2023-03-03T19:13:41.025076",
     "status": "completed"
    },
    "tags": []
   },
   "outputs": [
    {
     "data": {
      "text/html": [
       "<div>\n",
       "<style scoped>\n",
       "    .dataframe tbody tr th:only-of-type {\n",
       "        vertical-align: middle;\n",
       "    }\n",
       "\n",
       "    .dataframe tbody tr th {\n",
       "        vertical-align: top;\n",
       "    }\n",
       "\n",
       "    .dataframe thead th {\n",
       "        text-align: right;\n",
       "    }\n",
       "</style>\n",
       "<table border=\"1\" class=\"dataframe\">\n",
       "  <thead>\n",
       "    <tr style=\"text-align: right;\">\n",
       "      <th></th>\n",
       "      <th>CustomerID</th>\n",
       "      <th>Gender</th>\n",
       "      <th>Age</th>\n",
       "      <th>AnnualIncome</th>\n",
       "      <th>SpendingScore</th>\n",
       "      <th>Profession</th>\n",
       "      <th>Work Experience</th>\n",
       "      <th>Family Size</th>\n",
       "    </tr>\n",
       "  </thead>\n",
       "  <tbody>\n",
       "    <tr>\n",
       "      <th>0</th>\n",
       "      <td>1</td>\n",
       "      <td>Male</td>\n",
       "      <td>19</td>\n",
       "      <td>15000</td>\n",
       "      <td>39</td>\n",
       "      <td>Healthcare</td>\n",
       "      <td>1</td>\n",
       "      <td>4</td>\n",
       "    </tr>\n",
       "    <tr>\n",
       "      <th>1</th>\n",
       "      <td>2</td>\n",
       "      <td>Male</td>\n",
       "      <td>21</td>\n",
       "      <td>35000</td>\n",
       "      <td>81</td>\n",
       "      <td>Engineer</td>\n",
       "      <td>3</td>\n",
       "      <td>3</td>\n",
       "    </tr>\n",
       "    <tr>\n",
       "      <th>2</th>\n",
       "      <td>3</td>\n",
       "      <td>Female</td>\n",
       "      <td>20</td>\n",
       "      <td>86000</td>\n",
       "      <td>6</td>\n",
       "      <td>Engineer</td>\n",
       "      <td>1</td>\n",
       "      <td>1</td>\n",
       "    </tr>\n",
       "    <tr>\n",
       "      <th>3</th>\n",
       "      <td>4</td>\n",
       "      <td>Female</td>\n",
       "      <td>23</td>\n",
       "      <td>59000</td>\n",
       "      <td>77</td>\n",
       "      <td>Lawyer</td>\n",
       "      <td>0</td>\n",
       "      <td>2</td>\n",
       "    </tr>\n",
       "    <tr>\n",
       "      <th>4</th>\n",
       "      <td>5</td>\n",
       "      <td>Female</td>\n",
       "      <td>31</td>\n",
       "      <td>38000</td>\n",
       "      <td>40</td>\n",
       "      <td>Entertainment</td>\n",
       "      <td>2</td>\n",
       "      <td>6</td>\n",
       "    </tr>\n",
       "    <tr>\n",
       "      <th>...</th>\n",
       "      <td>...</td>\n",
       "      <td>...</td>\n",
       "      <td>...</td>\n",
       "      <td>...</td>\n",
       "      <td>...</td>\n",
       "      <td>...</td>\n",
       "      <td>...</td>\n",
       "      <td>...</td>\n",
       "    </tr>\n",
       "    <tr>\n",
       "      <th>1995</th>\n",
       "      <td>1996</td>\n",
       "      <td>Female</td>\n",
       "      <td>71</td>\n",
       "      <td>184387</td>\n",
       "      <td>40</td>\n",
       "      <td>Artist</td>\n",
       "      <td>8</td>\n",
       "      <td>7</td>\n",
       "    </tr>\n",
       "    <tr>\n",
       "      <th>1996</th>\n",
       "      <td>1997</td>\n",
       "      <td>Female</td>\n",
       "      <td>91</td>\n",
       "      <td>73158</td>\n",
       "      <td>32</td>\n",
       "      <td>Doctor</td>\n",
       "      <td>7</td>\n",
       "      <td>7</td>\n",
       "    </tr>\n",
       "    <tr>\n",
       "      <th>1997</th>\n",
       "      <td>1998</td>\n",
       "      <td>Male</td>\n",
       "      <td>87</td>\n",
       "      <td>90961</td>\n",
       "      <td>14</td>\n",
       "      <td>Healthcare</td>\n",
       "      <td>9</td>\n",
       "      <td>2</td>\n",
       "    </tr>\n",
       "    <tr>\n",
       "      <th>1998</th>\n",
       "      <td>1999</td>\n",
       "      <td>Male</td>\n",
       "      <td>77</td>\n",
       "      <td>182109</td>\n",
       "      <td>4</td>\n",
       "      <td>Executive</td>\n",
       "      <td>7</td>\n",
       "      <td>2</td>\n",
       "    </tr>\n",
       "    <tr>\n",
       "      <th>1999</th>\n",
       "      <td>2000</td>\n",
       "      <td>Male</td>\n",
       "      <td>90</td>\n",
       "      <td>110610</td>\n",
       "      <td>52</td>\n",
       "      <td>Entertainment</td>\n",
       "      <td>5</td>\n",
       "      <td>2</td>\n",
       "    </tr>\n",
       "  </tbody>\n",
       "</table>\n",
       "<p>2000 rows × 8 columns</p>\n",
       "</div>"
      ],
      "text/plain": [
       "      CustomerID  Gender  Age  AnnualIncome  SpendingScore     Profession  \\\n",
       "0              1    Male   19         15000             39     Healthcare   \n",
       "1              2    Male   21         35000             81       Engineer   \n",
       "2              3  Female   20         86000              6       Engineer   \n",
       "3              4  Female   23         59000             77         Lawyer   \n",
       "4              5  Female   31         38000             40  Entertainment   \n",
       "...          ...     ...  ...           ...            ...            ...   \n",
       "1995        1996  Female   71        184387             40         Artist   \n",
       "1996        1997  Female   91         73158             32         Doctor   \n",
       "1997        1998    Male   87         90961             14     Healthcare   \n",
       "1998        1999    Male   77        182109              4      Executive   \n",
       "1999        2000    Male   90        110610             52  Entertainment   \n",
       "\n",
       "      Work Experience  Family Size  \n",
       "0                   1            4  \n",
       "1                   3            3  \n",
       "2                   1            1  \n",
       "3                   0            2  \n",
       "4                   2            6  \n",
       "...               ...          ...  \n",
       "1995                8            7  \n",
       "1996                7            7  \n",
       "1997                9            2  \n",
       "1998                7            2  \n",
       "1999                5            2  \n",
       "\n",
       "[2000 rows x 8 columns]"
      ]
     },
     "execution_count": 4,
     "metadata": {},
     "output_type": "execute_result"
    }
   ],
   "source": [
    "#renaming a column name\n",
    "df.rename(columns = {'Spending Score (1-100)':'SpendingScore'}, inplace = True)\n",
    "df.rename(columns = {'Annual Income ($)':'AnnualIncome'}, inplace = True)\n",
    "df"
   ]
  },
  {
   "cell_type": "markdown",
   "id": "40c08959",
   "metadata": {
    "papermill": {
     "duration": 0.01066,
     "end_time": "2023-03-03T19:13:41.081682",
     "exception": false,
     "start_time": "2023-03-03T19:13:41.071022",
     "status": "completed"
    },
    "tags": []
   },
   "source": [
    "# **EDA - UNIVARIATE, BIVARIATE, MULTIVARIATE ANALYSIS**"
   ]
  },
  {
   "cell_type": "code",
   "execution_count": 5,
   "id": "88724cf7",
   "metadata": {
    "execution": {
     "iopub.execute_input": "2023-03-03T19:13:41.105413Z",
     "iopub.status.busy": "2023-03-03T19:13:41.104983Z",
     "iopub.status.idle": "2023-03-03T19:13:41.420959Z",
     "shell.execute_reply": "2023-03-03T19:13:41.419848Z"
    },
    "papermill": {
     "duration": 0.330906,
     "end_time": "2023-03-03T19:13:41.423484",
     "exception": false,
     "start_time": "2023-03-03T19:13:41.092578",
     "status": "completed"
    },
    "tags": []
   },
   "outputs": [
    {
     "name": "stderr",
     "output_type": "stream",
     "text": [
      "/opt/conda/lib/python3.7/site-packages/ipykernel_launcher.py:1: UserWarning: \n",
      "\n",
      "`distplot` is a deprecated function and will be removed in seaborn v0.14.0.\n",
      "\n",
      "Please adapt your code to use either `displot` (a figure-level function with\n",
      "similar flexibility) or `histplot` (an axes-level function for histograms).\n",
      "\n",
      "For a guide to updating your code to use the new functions, please see\n",
      "https://gist.github.com/mwaskom/de44147ed2974457ad6372750bbe5751\n",
      "\n",
      "  \"\"\"Entry point for launching an IPython kernel.\n"
     ]
    },
    {
     "data": {
      "text/plain": [
       "<AxesSubplot:xlabel='SpendingScore', ylabel='Density'>"
      ]
     },
     "execution_count": 5,
     "metadata": {},
     "output_type": "execute_result"
    },
    {
     "data": {
      "image/png": "[encoded data removed]",
      "text/plain": [
       "<Figure size 640x480 with 1 Axes>"
      ]
     },
     "metadata": {},
     "output_type": "display_data"
    }
   ],
   "source": [
    "sns.distplot(df.SpendingScore)"
   ]
  },
  {
   "cell_type": "code",
   "execution_count": 6,
   "id": "30e93cb2",
   "metadata": {
    "execution": {
     "iopub.execute_input": "2023-03-03T19:13:41.449402Z",
     "iopub.status.busy": "2023-03-03T19:13:41.448495Z",
     "iopub.status.idle": "2023-03-03T19:13:41.563475Z",
     "shell.execute_reply": "2023-03-03T19:13:41.561750Z"
    },
    "papermill": {
     "duration": 0.131817,
     "end_time": "2023-03-03T19:13:41.567176",
     "exception": false,
     "start_time": "2023-03-03T19:13:41.435359",
     "status": "completed"
    },
    "tags": []
   },
   "outputs": [
    {
     "data": {
      "image/png": "[encoded data removed]",
      "text/plain": [
       "<Figure size 640x480 with 1 Axes>"
      ]
     },
     "metadata": {},
     "output_type": "display_data"
    }
   ],
   "source": [
    "plt.pie(df.Gender.value_counts(),[0.1,0],labels=[\"Male\",\"Female\"],autopct=\"%1.1f%%\",colors=[\"orange\",\"yellow\"])\n",
    "plt.title(\"Gender\")\n",
    "plt.show()"
   ]
  },
  {
   "cell_type": "code",
   "execution_count": 7,
   "id": "6366f9aa",
   "metadata": {
    "execution": {
     "iopub.execute_input": "2023-03-03T19:13:41.610146Z",
     "iopub.status.busy": "2023-03-03T19:13:41.609118Z",
     "iopub.status.idle": "2023-03-03T19:13:42.283115Z",
     "shell.execute_reply": "2023-03-03T19:13:42.282110Z"
    },
    "papermill": {
     "duration": 0.698428,
     "end_time": "2023-03-03T19:13:42.285647",
     "exception": false,
     "start_time": "2023-03-03T19:13:41.587219",
     "status": "completed"
    },
    "tags": []
   },
   "outputs": [
    {
     "data": {
      "text/plain": [
       "<AxesSubplot:xlabel='Profession', ylabel='count'>"
      ]
     },
     "execution_count": 7,
     "metadata": {},
     "output_type": "execute_result"
    },
    {
     "data": {
      "image/png": "[encoded data removed]",
      "text/plain": [
       "<Figure size 3000x2000 with 1 Axes>"
      ]
     },
     "metadata": {},
     "output_type": "display_data"
    }
   ],
   "source": [
    "# Number of Male and Female Professions based on the field\n",
    "plt.figure(figsize=(15,10),dpi=200)\n",
    "sns.countplot(data = df,x=\"Profession\",hue=\"Gender\")"
   ]
  },
  {
   "cell_type": "code",
   "execution_count": 8,
   "id": "134dcd32",
   "metadata": {
    "execution": {
     "iopub.execute_input": "2023-03-03T19:13:42.314918Z",
     "iopub.status.busy": "2023-03-03T19:13:42.314110Z",
     "iopub.status.idle": "2023-03-03T19:13:44.008079Z",
     "shell.execute_reply": "2023-03-03T19:13:44.006891Z"
    },
    "papermill": {
     "duration": 1.714,
     "end_time": "2023-03-03T19:13:44.013241",
     "exception": false,
     "start_time": "2023-03-03T19:13:42.299241",
     "status": "completed"
    },
    "tags": []
   },
   "outputs": [
    {
     "data": {
      "image/png": "[encoded data removed]",
      "text/plain": [
       "<Figure size 600x600 with 3 Axes>"
      ]
     },
     "metadata": {},
     "output_type": "display_data"
    }
   ],
   "source": [
    "#2D Density plot, contors-plot\n",
    "sns.jointplot(x=\"Age\", y=\"SpendingScore\", data=df, kind=\"kde\");\n",
    "plt.show()"
   ]
  },
  {
   "cell_type": "code",
   "execution_count": 9,
   "id": "042f0d6e",
   "metadata": {
    "execution": {
     "iopub.execute_input": "2023-03-03T19:13:44.046735Z",
     "iopub.status.busy": "2023-03-03T19:13:44.046277Z",
     "iopub.status.idle": "2023-03-03T19:13:44.290533Z",
     "shell.execute_reply": "2023-03-03T19:13:44.289248Z"
    },
    "papermill": {
     "duration": 0.263915,
     "end_time": "2023-03-03T19:13:44.293298",
     "exception": false,
     "start_time": "2023-03-03T19:13:44.029383",
     "status": "completed"
    },
    "tags": []
   },
   "outputs": [
    {
     "data": {
      "image/png": "[encoded data removed]",
      "text/plain": [
       "<Figure size 1000x600 with 1 Axes>"
      ]
     },
     "metadata": {},
     "output_type": "display_data"
    }
   ],
   "source": [
    "fig, ax = plt.subplots(figsize=(10,6))\n",
    "ax.scatter(df['Family Size'], df['AnnualIncome'])\n",
    "ax.set_xlabel('Family Size')\n",
    "ax.set_ylabel('Annual Income')\n",
    "plt.show()"
   ]
  },
  {
   "cell_type": "code",
   "execution_count": 10,
   "id": "5222d738",
   "metadata": {
    "execution": {
     "iopub.execute_input": "2023-03-03T19:13:44.327914Z",
     "iopub.status.busy": "2023-03-03T19:13:44.326968Z",
     "iopub.status.idle": "2023-03-03T19:13:44.573309Z",
     "shell.execute_reply": "2023-03-03T19:13:44.571878Z"
    },
    "papermill": {
     "duration": 0.267041,
     "end_time": "2023-03-03T19:13:44.576478",
     "exception": false,
     "start_time": "2023-03-03T19:13:44.309437",
     "status": "completed"
    },
    "tags": []
   },
   "outputs": [
    {
     "data": {
      "image/png": "[encoded data removed]",
      "text/plain": [
       "<Figure size 1000x600 with 1 Axes>"
      ]
     },
     "metadata": {},
     "output_type": "display_data"
    }
   ],
   "source": [
    "fig, ax = plt.subplots(figsize=(10,6))\n",
    "ax.scatter(df['Work Experience'], df['AnnualIncome'])\n",
    "ax.set_xlabel('Work Experience')\n",
    "ax.set_ylabel('Annual Income')\n",
    "plt.show()"
   ]
  },
  {
   "cell_type": "code",
   "execution_count": 11,
   "id": "b5da172f",
   "metadata": {
    "execution": {
     "iopub.execute_input": "2023-03-03T19:13:44.613681Z",
     "iopub.status.busy": "2023-03-03T19:13:44.613280Z",
     "iopub.status.idle": "2023-03-03T19:13:45.546189Z",
     "shell.execute_reply": "2023-03-03T19:13:45.544927Z"
    },
    "papermill": {
     "duration": 0.955172,
     "end_time": "2023-03-03T19:13:45.549400",
     "exception": false,
     "start_time": "2023-03-03T19:13:44.594228",
     "status": "completed"
    },
    "tags": []
   },
   "outputs": [
    {
     "data": {
      "text/plain": [
       "array([[<AxesSubplot:title={'center':'CustomerID'}>,\n",
       "        <AxesSubplot:title={'center':'Age'}>],\n",
       "       [<AxesSubplot:title={'center':'AnnualIncome'}>,\n",
       "        <AxesSubplot:title={'center':'SpendingScore'}>],\n",
       "       [<AxesSubplot:title={'center':'Work Experience'}>,\n",
       "        <AxesSubplot:title={'center':'Family Size'}>]], dtype=object)"
      ]
     },
     "execution_count": 11,
     "metadata": {},
     "output_type": "execute_result"
    },
    {
     "data": {
      "image/png": "[encoded data removed]",
      "text/plain": [
       "<Figure size 800x800 with 6 Axes>"
      ]
     },
     "metadata": {},
     "output_type": "display_data"
    }
   ],
   "source": [
    "df.hist(figsize=(8,8))"
   ]
  },
  {
   "cell_type": "code",
   "execution_count": 12,
   "id": "27ee1a65",
   "metadata": {
    "execution": {
     "iopub.execute_input": "2023-03-03T19:13:45.588910Z",
     "iopub.status.busy": "2023-03-03T19:13:45.588056Z",
     "iopub.status.idle": "2023-03-03T19:13:46.235954Z",
     "shell.execute_reply": "2023-03-03T19:13:46.234675Z"
    },
    "papermill": {
     "duration": 0.67077,
     "end_time": "2023-03-03T19:13:46.239054",
     "exception": false,
     "start_time": "2023-03-03T19:13:45.568284",
     "status": "completed"
    },
    "tags": []
   },
   "outputs": [
    {
     "data": {
      "text/plain": [
       "<AxesSubplot:>"
      ]
     },
     "execution_count": 12,
     "metadata": {},
     "output_type": "execute_result"
    },
    {
     "data": {
      "image/png": "[encoded data removed]",
      "text/plain": [
       "<Figure size 900x700 with 2 Axes>"
      ]
     },
     "metadata": {},
     "output_type": "display_data"
    }
   ],
   "source": [
    "plt.figure(figsize=[9,7])\n",
    "sns.heatmap(df.corr(),annot=True)"
   ]
  },
  {
   "cell_type": "code",
   "execution_count": 13,
   "id": "2b423463",
   "metadata": {
    "execution": {
     "iopub.execute_input": "2023-03-03T19:13:46.280107Z",
     "iopub.status.busy": "2023-03-03T19:13:46.279264Z",
     "iopub.status.idle": "2023-03-03T19:13:46.295807Z",
     "shell.execute_reply": "2023-03-03T19:13:46.294092Z"
    },
    "papermill": {
     "duration": 0.040728,
     "end_time": "2023-03-03T19:13:46.299055",
     "exception": false,
     "start_time": "2023-03-03T19:13:46.258327",
     "status": "completed"
    },
    "tags": []
   },
   "outputs": [
    {
     "name": "stdout",
     "output_type": "stream",
     "text": [
      "<class 'pandas.core.frame.DataFrame'>\n",
      "RangeIndex: 2000 entries, 0 to 1999\n",
      "Data columns (total 8 columns):\n",
      " #   Column           Non-Null Count  Dtype \n",
      "---  ------           --------------  ----- \n",
      " 0   CustomerID       2000 non-null   int64 \n",
      " 1   Gender           2000 non-null   object\n",
      " 2   Age              2000 non-null   int64 \n",
      " 3   AnnualIncome     2000 non-null   int64 \n",
      " 4   SpendingScore    2000 non-null   int64 \n",
      " 5   Profession       1965 non-null   object\n",
      " 6   Work Experience  2000 non-null   int64 \n",
      " 7   Family Size      2000 non-null   int64 \n",
      "dtypes: int64(6), object(2)\n",
      "memory usage: 125.1+ KB\n"
     ]
    }
   ],
   "source": [
    "df.info()"
   ]
  },
  {
   "cell_type": "markdown",
   "id": "870ff898",
   "metadata": {
    "papermill": {
     "duration": 0.019278,
     "end_time": "2023-03-03T19:13:46.338684",
     "exception": false,
     "start_time": "2023-03-03T19:13:46.319406",
     "status": "completed"
    },
    "tags": []
   },
   "source": [
    "# **CHECK AND HANDLE MISSING VALUES, IF PRESENT**"
   ]
  },
  {
   "cell_type": "code",
   "execution_count": 14,
   "id": "10fb6078",
   "metadata": {
    "execution": {
     "iopub.execute_input": "2023-03-03T19:13:46.380110Z",
     "iopub.status.busy": "2023-03-03T19:13:46.378882Z",
     "iopub.status.idle": "2023-03-03T19:13:46.389287Z",
     "shell.execute_reply": "2023-03-03T19:13:46.388227Z"
    },
    "papermill": {
     "duration": 0.033797,
     "end_time": "2023-03-03T19:13:46.391810",
     "exception": false,
     "start_time": "2023-03-03T19:13:46.358013",
     "status": "completed"
    },
    "tags": []
   },
   "outputs": [
    {
     "data": {
      "text/plain": [
       "CustomerID         False\n",
       "Gender             False\n",
       "Age                False\n",
       "AnnualIncome       False\n",
       "SpendingScore      False\n",
       "Profession          True\n",
       "Work Experience    False\n",
       "Family Size        False\n",
       "dtype: bool"
      ]
     },
     "execution_count": 14,
     "metadata": {},
     "output_type": "execute_result"
    }
   ],
   "source": [
    "#Checking for null values\n",
    "df.isnull().any()"
   ]
  },
  {
   "cell_type": "code",
   "execution_count": 15,
   "id": "b35a9f2c",
   "metadata": {
    "execution": {
     "iopub.execute_input": "2023-03-03T19:13:46.433451Z",
     "iopub.status.busy": "2023-03-03T19:13:46.433039Z",
     "iopub.status.idle": "2023-03-03T19:13:46.442846Z",
     "shell.execute_reply": "2023-03-03T19:13:46.441595Z"
    },
    "papermill": {
     "duration": 0.033683,
     "end_time": "2023-03-03T19:13:46.445251",
     "exception": false,
     "start_time": "2023-03-03T19:13:46.411568",
     "status": "completed"
    },
    "tags": []
   },
   "outputs": [
    {
     "data": {
      "text/plain": [
       "CustomerID          0\n",
       "Gender              0\n",
       "Age                 0\n",
       "AnnualIncome        0\n",
       "SpendingScore       0\n",
       "Profession         35\n",
       "Work Experience     0\n",
       "Family Size         0\n",
       "dtype: int64"
      ]
     },
     "execution_count": 15,
     "metadata": {},
     "output_type": "execute_result"
    }
   ],
   "source": [
    "df.isnull().sum()"
   ]
  },
  {
   "cell_type": "code",
   "execution_count": 16,
   "id": "dc981642",
   "metadata": {
    "execution": {
     "iopub.execute_input": "2023-03-03T19:13:46.486675Z",
     "iopub.status.busy": "2023-03-03T19:13:46.486265Z",
     "iopub.status.idle": "2023-03-03T19:13:46.502601Z",
     "shell.execute_reply": "2023-03-03T19:13:46.501278Z"
    },
    "papermill": {
     "duration": 0.040231,
     "end_time": "2023-03-03T19:13:46.505222",
     "exception": false,
     "start_time": "2023-03-03T19:13:46.464991",
     "status": "completed"
    },
    "tags": []
   },
   "outputs": [],
   "source": [
    "df=df.fillna(df.mode())"
   ]
  },
  {
   "cell_type": "code",
   "execution_count": 17,
   "id": "dca254d1",
   "metadata": {
    "execution": {
     "iopub.execute_input": "2023-03-03T19:13:46.547648Z",
     "iopub.status.busy": "2023-03-03T19:13:46.546807Z",
     "iopub.status.idle": "2023-03-03T19:13:46.565526Z",
     "shell.execute_reply": "2023-03-03T19:13:46.564387Z"
    },
    "papermill": {
     "duration": 0.043144,
     "end_time": "2023-03-03T19:13:46.568477",
     "exception": false,
     "start_time": "2023-03-03T19:13:46.525333",
     "status": "completed"
    },
    "tags": []
   },
   "outputs": [
    {
     "data": {
      "text/html": [
       "<div>\n",
       "<style scoped>\n",
       "    .dataframe tbody tr th:only-of-type {\n",
       "        vertical-align: middle;\n",
       "    }\n",
       "\n",
       "    .dataframe tbody tr th {\n",
       "        vertical-align: top;\n",
       "    }\n",
       "\n",
       "    .dataframe thead th {\n",
       "        text-align: right;\n",
       "    }\n",
       "</style>\n",
       "<table border=\"1\" class=\"dataframe\">\n",
       "  <thead>\n",
       "    <tr style=\"text-align: right;\">\n",
       "      <th></th>\n",
       "      <th>CustomerID</th>\n",
       "      <th>Gender</th>\n",
       "      <th>Age</th>\n",
       "      <th>AnnualIncome</th>\n",
       "      <th>SpendingScore</th>\n",
       "      <th>Profession</th>\n",
       "      <th>Work Experience</th>\n",
       "      <th>Family Size</th>\n",
       "    </tr>\n",
       "  </thead>\n",
       "  <tbody>\n",
       "    <tr>\n",
       "      <th>0</th>\n",
       "      <td>1</td>\n",
       "      <td>Male</td>\n",
       "      <td>19</td>\n",
       "      <td>15000</td>\n",
       "      <td>39</td>\n",
       "      <td>Healthcare</td>\n",
       "      <td>1</td>\n",
       "      <td>4</td>\n",
       "    </tr>\n",
       "    <tr>\n",
       "      <th>1</th>\n",
       "      <td>2</td>\n",
       "      <td>Male</td>\n",
       "      <td>21</td>\n",
       "      <td>35000</td>\n",
       "      <td>81</td>\n",
       "      <td>Engineer</td>\n",
       "      <td>3</td>\n",
       "      <td>3</td>\n",
       "    </tr>\n",
       "    <tr>\n",
       "      <th>2</th>\n",
       "      <td>3</td>\n",
       "      <td>Female</td>\n",
       "      <td>20</td>\n",
       "      <td>86000</td>\n",
       "      <td>6</td>\n",
       "      <td>Engineer</td>\n",
       "      <td>1</td>\n",
       "      <td>1</td>\n",
       "    </tr>\n",
       "    <tr>\n",
       "      <th>3</th>\n",
       "      <td>4</td>\n",
       "      <td>Female</td>\n",
       "      <td>23</td>\n",
       "      <td>59000</td>\n",
       "      <td>77</td>\n",
       "      <td>Lawyer</td>\n",
       "      <td>0</td>\n",
       "      <td>2</td>\n",
       "    </tr>\n",
       "    <tr>\n",
       "      <th>4</th>\n",
       "      <td>5</td>\n",
       "      <td>Female</td>\n",
       "      <td>31</td>\n",
       "      <td>38000</td>\n",
       "      <td>40</td>\n",
       "      <td>Entertainment</td>\n",
       "      <td>2</td>\n",
       "      <td>6</td>\n",
       "    </tr>\n",
       "    <tr>\n",
       "      <th>...</th>\n",
       "      <td>...</td>\n",
       "      <td>...</td>\n",
       "      <td>...</td>\n",
       "      <td>...</td>\n",
       "      <td>...</td>\n",
       "      <td>...</td>\n",
       "      <td>...</td>\n",
       "      <td>...</td>\n",
       "    </tr>\n",
       "    <tr>\n",
       "      <th>1995</th>\n",
       "      <td>1996</td>\n",
       "      <td>Female</td>\n",
       "      <td>71</td>\n",
       "      <td>184387</td>\n",
       "      <td>40</td>\n",
       "      <td>Artist</td>\n",
       "      <td>8</td>\n",
       "      <td>7</td>\n",
       "    </tr>\n",
       "    <tr>\n",
       "      <th>1996</th>\n",
       "      <td>1997</td>\n",
       "      <td>Female</td>\n",
       "      <td>91</td>\n",
       "      <td>73158</td>\n",
       "      <td>32</td>\n",
       "      <td>Doctor</td>\n",
       "      <td>7</td>\n",
       "      <td>7</td>\n",
       "    </tr>\n",
       "    <tr>\n",
       "      <th>1997</th>\n",
       "      <td>1998</td>\n",
       "      <td>Male</td>\n",
       "      <td>87</td>\n",
       "      <td>90961</td>\n",
       "      <td>14</td>\n",
       "      <td>Healthcare</td>\n",
       "      <td>9</td>\n",
       "      <td>2</td>\n",
       "    </tr>\n",
       "    <tr>\n",
       "      <th>1998</th>\n",
       "      <td>1999</td>\n",
       "      <td>Male</td>\n",
       "      <td>77</td>\n",
       "      <td>182109</td>\n",
       "      <td>4</td>\n",
       "      <td>Executive</td>\n",
       "      <td>7</td>\n",
       "      <td>2</td>\n",
       "    </tr>\n",
       "    <tr>\n",
       "      <th>1999</th>\n",
       "      <td>2000</td>\n",
       "      <td>Male</td>\n",
       "      <td>90</td>\n",
       "      <td>110610</td>\n",
       "      <td>52</td>\n",
       "      <td>Entertainment</td>\n",
       "      <td>5</td>\n",
       "      <td>2</td>\n",
       "    </tr>\n",
       "  </tbody>\n",
       "</table>\n",
       "<p>2000 rows × 8 columns</p>\n",
       "</div>"
      ],
      "text/plain": [
       "      CustomerID  Gender  Age  AnnualIncome  SpendingScore     Profession  \\\n",
       "0              1    Male   19         15000             39     Healthcare   \n",
       "1              2    Male   21         35000             81       Engineer   \n",
       "2              3  Female   20         86000              6       Engineer   \n",
       "3              4  Female   23         59000             77         Lawyer   \n",
       "4              5  Female   31         38000             40  Entertainment   \n",
       "...          ...     ...  ...           ...            ...            ...   \n",
       "1995        1996  Female   71        184387             40         Artist   \n",
       "1996        1997  Female   91         73158             32         Doctor   \n",
       "1997        1998    Male   87         90961             14     Healthcare   \n",
       "1998        1999    Male   77        182109              4      Executive   \n",
       "1999        2000    Male   90        110610             52  Entertainment   \n",
       "\n",
       "      Work Experience  Family Size  \n",
       "0                   1            4  \n",
       "1                   3            3  \n",
       "2                   1            1  \n",
       "3                   0            2  \n",
       "4                   2            6  \n",
       "...               ...          ...  \n",
       "1995                8            7  \n",
       "1996                7            7  \n",
       "1997                9            2  \n",
       "1998                7            2  \n",
       "1999                5            2  \n",
       "\n",
       "[2000 rows x 8 columns]"
      ]
     },
     "execution_count": 17,
     "metadata": {},
     "output_type": "execute_result"
    }
   ],
   "source": [
    "df"
   ]
  },
  {
   "cell_type": "code",
   "execution_count": 18,
   "id": "ef0c6ce1",
   "metadata": {
    "execution": {
     "iopub.execute_input": "2023-03-03T19:13:46.610597Z",
     "iopub.status.busy": "2023-03-03T19:13:46.610190Z",
     "iopub.status.idle": "2023-03-03T19:13:46.626209Z",
     "shell.execute_reply": "2023-03-03T19:13:46.624946Z"
    },
    "jupyter": {
     "source_hidden": true
    },
    "papermill": {
     "duration": 0.040023,
     "end_time": "2023-03-03T19:13:46.628690",
     "exception": false,
     "start_time": "2023-03-03T19:13:46.588667",
     "status": "completed"
    },
    "tags": []
   },
   "outputs": [
    {
     "data": {
      "text/html": [
       "<div>\n",
       "<style scoped>\n",
       "    .dataframe tbody tr th:only-of-type {\n",
       "        vertical-align: middle;\n",
       "    }\n",
       "\n",
       "    .dataframe tbody tr th {\n",
       "        vertical-align: top;\n",
       "    }\n",
       "\n",
       "    .dataframe thead th {\n",
       "        text-align: right;\n",
       "    }\n",
       "</style>\n",
       "<table border=\"1\" class=\"dataframe\">\n",
       "  <thead>\n",
       "    <tr style=\"text-align: right;\">\n",
       "      <th></th>\n",
       "      <th>CustomerID</th>\n",
       "      <th>Gender</th>\n",
       "      <th>Age</th>\n",
       "      <th>AnnualIncome</th>\n",
       "      <th>SpendingScore</th>\n",
       "      <th>Profession</th>\n",
       "      <th>Work Experience</th>\n",
       "      <th>Family Size</th>\n",
       "    </tr>\n",
       "  </thead>\n",
       "  <tbody>\n",
       "    <tr>\n",
       "      <th>0</th>\n",
       "      <td>1</td>\n",
       "      <td>Male</td>\n",
       "      <td>19</td>\n",
       "      <td>15000</td>\n",
       "      <td>39</td>\n",
       "      <td>Healthcare</td>\n",
       "      <td>1</td>\n",
       "      <td>4</td>\n",
       "    </tr>\n",
       "    <tr>\n",
       "      <th>1</th>\n",
       "      <td>2</td>\n",
       "      <td>Male</td>\n",
       "      <td>21</td>\n",
       "      <td>35000</td>\n",
       "      <td>81</td>\n",
       "      <td>Engineer</td>\n",
       "      <td>3</td>\n",
       "      <td>3</td>\n",
       "    </tr>\n",
       "    <tr>\n",
       "      <th>2</th>\n",
       "      <td>3</td>\n",
       "      <td>Female</td>\n",
       "      <td>20</td>\n",
       "      <td>86000</td>\n",
       "      <td>6</td>\n",
       "      <td>Engineer</td>\n",
       "      <td>1</td>\n",
       "      <td>1</td>\n",
       "    </tr>\n",
       "    <tr>\n",
       "      <th>3</th>\n",
       "      <td>4</td>\n",
       "      <td>Female</td>\n",
       "      <td>23</td>\n",
       "      <td>59000</td>\n",
       "      <td>77</td>\n",
       "      <td>Lawyer</td>\n",
       "      <td>0</td>\n",
       "      <td>2</td>\n",
       "    </tr>\n",
       "    <tr>\n",
       "      <th>4</th>\n",
       "      <td>5</td>\n",
       "      <td>Female</td>\n",
       "      <td>31</td>\n",
       "      <td>38000</td>\n",
       "      <td>40</td>\n",
       "      <td>Entertainment</td>\n",
       "      <td>2</td>\n",
       "      <td>6</td>\n",
       "    </tr>\n",
       "    <tr>\n",
       "      <th>5</th>\n",
       "      <td>6</td>\n",
       "      <td>Female</td>\n",
       "      <td>22</td>\n",
       "      <td>58000</td>\n",
       "      <td>76</td>\n",
       "      <td>Artist</td>\n",
       "      <td>0</td>\n",
       "      <td>2</td>\n",
       "    </tr>\n",
       "    <tr>\n",
       "      <th>6</th>\n",
       "      <td>7</td>\n",
       "      <td>Female</td>\n",
       "      <td>35</td>\n",
       "      <td>31000</td>\n",
       "      <td>6</td>\n",
       "      <td>Healthcare</td>\n",
       "      <td>1</td>\n",
       "      <td>3</td>\n",
       "    </tr>\n",
       "    <tr>\n",
       "      <th>7</th>\n",
       "      <td>8</td>\n",
       "      <td>Female</td>\n",
       "      <td>23</td>\n",
       "      <td>84000</td>\n",
       "      <td>94</td>\n",
       "      <td>Healthcare</td>\n",
       "      <td>1</td>\n",
       "      <td>3</td>\n",
       "    </tr>\n",
       "    <tr>\n",
       "      <th>8</th>\n",
       "      <td>9</td>\n",
       "      <td>Male</td>\n",
       "      <td>64</td>\n",
       "      <td>97000</td>\n",
       "      <td>3</td>\n",
       "      <td>Engineer</td>\n",
       "      <td>0</td>\n",
       "      <td>3</td>\n",
       "    </tr>\n",
       "    <tr>\n",
       "      <th>9</th>\n",
       "      <td>10</td>\n",
       "      <td>Female</td>\n",
       "      <td>30</td>\n",
       "      <td>98000</td>\n",
       "      <td>72</td>\n",
       "      <td>Artist</td>\n",
       "      <td>1</td>\n",
       "      <td>4</td>\n",
       "    </tr>\n",
       "    <tr>\n",
       "      <th>10</th>\n",
       "      <td>11</td>\n",
       "      <td>Male</td>\n",
       "      <td>67</td>\n",
       "      <td>7000</td>\n",
       "      <td>14</td>\n",
       "      <td>Engineer</td>\n",
       "      <td>1</td>\n",
       "      <td>3</td>\n",
       "    </tr>\n",
       "    <tr>\n",
       "      <th>11</th>\n",
       "      <td>12</td>\n",
       "      <td>Female</td>\n",
       "      <td>35</td>\n",
       "      <td>93000</td>\n",
       "      <td>99</td>\n",
       "      <td>Healthcare</td>\n",
       "      <td>4</td>\n",
       "      <td>4</td>\n",
       "    </tr>\n",
       "    <tr>\n",
       "      <th>12</th>\n",
       "      <td>13</td>\n",
       "      <td>Female</td>\n",
       "      <td>58</td>\n",
       "      <td>80000</td>\n",
       "      <td>15</td>\n",
       "      <td>Executive</td>\n",
       "      <td>0</td>\n",
       "      <td>5</td>\n",
       "    </tr>\n",
       "    <tr>\n",
       "      <th>13</th>\n",
       "      <td>14</td>\n",
       "      <td>Female</td>\n",
       "      <td>24</td>\n",
       "      <td>91000</td>\n",
       "      <td>77</td>\n",
       "      <td>Lawyer</td>\n",
       "      <td>1</td>\n",
       "      <td>1</td>\n",
       "    </tr>\n",
       "    <tr>\n",
       "      <th>14</th>\n",
       "      <td>15</td>\n",
       "      <td>Male</td>\n",
       "      <td>37</td>\n",
       "      <td>19000</td>\n",
       "      <td>13</td>\n",
       "      <td>Doctor</td>\n",
       "      <td>0</td>\n",
       "      <td>1</td>\n",
       "    </tr>\n",
       "    <tr>\n",
       "      <th>15</th>\n",
       "      <td>16</td>\n",
       "      <td>Male</td>\n",
       "      <td>22</td>\n",
       "      <td>51000</td>\n",
       "      <td>79</td>\n",
       "      <td>Healthcare</td>\n",
       "      <td>1</td>\n",
       "      <td>2</td>\n",
       "    </tr>\n",
       "    <tr>\n",
       "      <th>16</th>\n",
       "      <td>17</td>\n",
       "      <td>Female</td>\n",
       "      <td>35</td>\n",
       "      <td>29000</td>\n",
       "      <td>35</td>\n",
       "      <td>Homemaker</td>\n",
       "      <td>9</td>\n",
       "      <td>5</td>\n",
       "    </tr>\n",
       "    <tr>\n",
       "      <th>17</th>\n",
       "      <td>18</td>\n",
       "      <td>Male</td>\n",
       "      <td>20</td>\n",
       "      <td>89000</td>\n",
       "      <td>66</td>\n",
       "      <td>Healthcare</td>\n",
       "      <td>1</td>\n",
       "      <td>6</td>\n",
       "    </tr>\n",
       "    <tr>\n",
       "      <th>18</th>\n",
       "      <td>19</td>\n",
       "      <td>Male</td>\n",
       "      <td>52</td>\n",
       "      <td>20000</td>\n",
       "      <td>29</td>\n",
       "      <td>Entertainment</td>\n",
       "      <td>1</td>\n",
       "      <td>4</td>\n",
       "    </tr>\n",
       "    <tr>\n",
       "      <th>19</th>\n",
       "      <td>20</td>\n",
       "      <td>Female</td>\n",
       "      <td>35</td>\n",
       "      <td>62000</td>\n",
       "      <td>98</td>\n",
       "      <td>Artist</td>\n",
       "      <td>0</td>\n",
       "      <td>1</td>\n",
       "    </tr>\n",
       "  </tbody>\n",
       "</table>\n",
       "</div>"
      ],
      "text/plain": [
       "    CustomerID  Gender  Age  AnnualIncome  SpendingScore     Profession  \\\n",
       "0            1    Male   19         15000             39     Healthcare   \n",
       "1            2    Male   21         35000             81       Engineer   \n",
       "2            3  Female   20         86000              6       Engineer   \n",
       "3            4  Female   23         59000             77         Lawyer   \n",
       "4            5  Female   31         38000             40  Entertainment   \n",
       "5            6  Female   22         58000             76         Artist   \n",
       "6            7  Female   35         31000              6     Healthcare   \n",
       "7            8  Female   23         84000             94     Healthcare   \n",
       "8            9    Male   64         97000              3       Engineer   \n",
       "9           10  Female   30         98000             72         Artist   \n",
       "10          11    Male   67          7000             14       Engineer   \n",
       "11          12  Female   35         93000             99     Healthcare   \n",
       "12          13  Female   58         80000             15      Executive   \n",
       "13          14  Female   24         91000             77         Lawyer   \n",
       "14          15    Male   37         19000             13         Doctor   \n",
       "15          16    Male   22         51000             79     Healthcare   \n",
       "16          17  Female   35         29000             35      Homemaker   \n",
       "17          18    Male   20         89000             66     Healthcare   \n",
       "18          19    Male   52         20000             29  Entertainment   \n",
       "19          20  Female   35         62000             98         Artist   \n",
       "\n",
       "    Work Experience  Family Size  \n",
       "0                 1            4  \n",
       "1                 3            3  \n",
       "2                 1            1  \n",
       "3                 0            2  \n",
       "4                 2            6  \n",
       "5                 0            2  \n",
       "6                 1            3  \n",
       "7                 1            3  \n",
       "8                 0            3  \n",
       "9                 1            4  \n",
       "10                1            3  \n",
       "11                4            4  \n",
       "12                0            5  \n",
       "13                1            1  \n",
       "14                0            1  \n",
       "15                1            2  \n",
       "16                9            5  \n",
       "17                1            6  \n",
       "18                1            4  \n",
       "19                0            1  "
      ]
     },
     "execution_count": 18,
     "metadata": {},
     "output_type": "execute_result"
    }
   ],
   "source": [
    "df.head(20)"
   ]
  },
  {
   "cell_type": "markdown",
   "id": "3f2100b7",
   "metadata": {
    "papermill": {
     "duration": 0.020082,
     "end_time": "2023-03-03T19:13:46.669289",
     "exception": false,
     "start_time": "2023-03-03T19:13:46.649207",
     "status": "completed"
    },
    "tags": []
   },
   "source": [
    "# **CHECK FOR CATEGORICAL COLUMNS AND PERFORM ENCODING**"
   ]
  },
  {
   "cell_type": "code",
   "execution_count": 19,
   "id": "e797b731",
   "metadata": {
    "execution": {
     "iopub.execute_input": "2023-03-03T19:13:46.712278Z",
     "iopub.status.busy": "2023-03-03T19:13:46.711876Z",
     "iopub.status.idle": "2023-03-03T19:13:46.720220Z",
     "shell.execute_reply": "2023-03-03T19:13:46.719000Z"
    },
    "papermill": {
     "duration": 0.032966,
     "end_time": "2023-03-03T19:13:46.722658",
     "exception": false,
     "start_time": "2023-03-03T19:13:46.689692",
     "status": "completed"
    },
    "tags": []
   },
   "outputs": [
    {
     "data": {
      "text/plain": [
       "['Gender', 'Profession']"
      ]
     },
     "execution_count": 19,
     "metadata": {},
     "output_type": "execute_result"
    }
   ],
   "source": [
    "#Checking for Categorical Columns\n",
    "df.select_dtypes(include=['object']).columns.tolist()"
   ]
  },
  {
   "cell_type": "markdown",
   "id": "25149df8",
   "metadata": {
    "papermill": {
     "duration": 0.02051,
     "end_time": "2023-03-03T19:13:46.763658",
     "exception": false,
     "start_time": "2023-03-03T19:13:46.743148",
     "status": "completed"
    },
    "tags": []
   },
   "source": [
    "**One - Hot Encoding**"
   ]
  },
  {
   "cell_type": "code",
   "execution_count": 20,
   "id": "472b8d4e",
   "metadata": {
    "execution": {
     "iopub.execute_input": "2023-03-03T19:13:46.806965Z",
     "iopub.status.busy": "2023-03-03T19:13:46.806536Z",
     "iopub.status.idle": "2023-03-03T19:13:46.824801Z",
     "shell.execute_reply": "2023-03-03T19:13:46.823525Z"
    },
    "papermill": {
     "duration": 0.043073,
     "end_time": "2023-03-03T19:13:46.827377",
     "exception": false,
     "start_time": "2023-03-03T19:13:46.784304",
     "status": "completed"
    },
    "tags": []
   },
   "outputs": [
    {
     "data": {
      "text/html": [
       "<div>\n",
       "<style scoped>\n",
       "    .dataframe tbody tr th:only-of-type {\n",
       "        vertical-align: middle;\n",
       "    }\n",
       "\n",
       "    .dataframe tbody tr th {\n",
       "        vertical-align: top;\n",
       "    }\n",
       "\n",
       "    .dataframe thead th {\n",
       "        text-align: right;\n",
       "    }\n",
       "</style>\n",
       "<table border=\"1\" class=\"dataframe\">\n",
       "  <thead>\n",
       "    <tr style=\"text-align: right;\">\n",
       "      <th></th>\n",
       "      <th>CustomerID</th>\n",
       "      <th>Age</th>\n",
       "      <th>AnnualIncome</th>\n",
       "      <th>SpendingScore</th>\n",
       "      <th>Profession</th>\n",
       "      <th>Work Experience</th>\n",
       "      <th>Family Size</th>\n",
       "      <th>Gender_Female</th>\n",
       "      <th>Gender_Male</th>\n",
       "    </tr>\n",
       "  </thead>\n",
       "  <tbody>\n",
       "    <tr>\n",
       "      <th>0</th>\n",
       "      <td>1</td>\n",
       "      <td>19</td>\n",
       "      <td>15000</td>\n",
       "      <td>39</td>\n",
       "      <td>Healthcare</td>\n",
       "      <td>1</td>\n",
       "      <td>4</td>\n",
       "      <td>0</td>\n",
       "      <td>1</td>\n",
       "    </tr>\n",
       "    <tr>\n",
       "      <th>1</th>\n",
       "      <td>2</td>\n",
       "      <td>21</td>\n",
       "      <td>35000</td>\n",
       "      <td>81</td>\n",
       "      <td>Engineer</td>\n",
       "      <td>3</td>\n",
       "      <td>3</td>\n",
       "      <td>0</td>\n",
       "      <td>1</td>\n",
       "    </tr>\n",
       "    <tr>\n",
       "      <th>2</th>\n",
       "      <td>3</td>\n",
       "      <td>20</td>\n",
       "      <td>86000</td>\n",
       "      <td>6</td>\n",
       "      <td>Engineer</td>\n",
       "      <td>1</td>\n",
       "      <td>1</td>\n",
       "      <td>1</td>\n",
       "      <td>0</td>\n",
       "    </tr>\n",
       "    <tr>\n",
       "      <th>3</th>\n",
       "      <td>4</td>\n",
       "      <td>23</td>\n",
       "      <td>59000</td>\n",
       "      <td>77</td>\n",
       "      <td>Lawyer</td>\n",
       "      <td>0</td>\n",
       "      <td>2</td>\n",
       "      <td>1</td>\n",
       "      <td>0</td>\n",
       "    </tr>\n",
       "    <tr>\n",
       "      <th>4</th>\n",
       "      <td>5</td>\n",
       "      <td>31</td>\n",
       "      <td>38000</td>\n",
       "      <td>40</td>\n",
       "      <td>Entertainment</td>\n",
       "      <td>2</td>\n",
       "      <td>6</td>\n",
       "      <td>1</td>\n",
       "      <td>0</td>\n",
       "    </tr>\n",
       "  </tbody>\n",
       "</table>\n",
       "</div>"
      ],
      "text/plain": [
       "   CustomerID  Age  AnnualIncome  SpendingScore     Profession  \\\n",
       "0           1   19         15000             39     Healthcare   \n",
       "1           2   21         35000             81       Engineer   \n",
       "2           3   20         86000              6       Engineer   \n",
       "3           4   23         59000             77         Lawyer   \n",
       "4           5   31         38000             40  Entertainment   \n",
       "\n",
       "   Work Experience  Family Size  Gender_Female  Gender_Male  \n",
       "0                1            4              0            1  \n",
       "1                3            3              0            1  \n",
       "2                1            1              1            0  \n",
       "3                0            2              1            0  \n",
       "4                2            6              1            0  "
      ]
     },
     "execution_count": 20,
     "metadata": {},
     "output_type": "execute_result"
    }
   ],
   "source": [
    "df=pd.get_dummies(df,columns=['Gender'])\n",
    "df.head()"
   ]
  },
  {
   "cell_type": "markdown",
   "id": "74aad831",
   "metadata": {
    "papermill": {
     "duration": 0.020524,
     "end_time": "2023-03-03T19:13:46.868771",
     "exception": false,
     "start_time": "2023-03-03T19:13:46.848247",
     "status": "completed"
    },
    "tags": []
   },
   "source": [
    "**Label Encoding**"
   ]
  },
  {
   "cell_type": "code",
   "execution_count": 21,
   "id": "5f8cac2e",
   "metadata": {
    "execution": {
     "iopub.execute_input": "2023-03-03T19:13:46.912063Z",
     "iopub.status.busy": "2023-03-03T19:13:46.911369Z",
     "iopub.status.idle": "2023-03-03T19:13:47.064348Z",
     "shell.execute_reply": "2023-03-03T19:13:47.062968Z"
    },
    "papermill": {
     "duration": 0.177511,
     "end_time": "2023-03-03T19:13:47.066820",
     "exception": false,
     "start_time": "2023-03-03T19:13:46.889309",
     "status": "completed"
    },
    "tags": []
   },
   "outputs": [
    {
     "data": {
      "text/html": [
       "<div>\n",
       "<style scoped>\n",
       "    .dataframe tbody tr th:only-of-type {\n",
       "        vertical-align: middle;\n",
       "    }\n",
       "\n",
       "    .dataframe tbody tr th {\n",
       "        vertical-align: top;\n",
       "    }\n",
       "\n",
       "    .dataframe thead th {\n",
       "        text-align: right;\n",
       "    }\n",
       "</style>\n",
       "<table border=\"1\" class=\"dataframe\">\n",
       "  <thead>\n",
       "    <tr style=\"text-align: right;\">\n",
       "      <th></th>\n",
       "      <th>CustomerID</th>\n",
       "      <th>Age</th>\n",
       "      <th>AnnualIncome</th>\n",
       "      <th>SpendingScore</th>\n",
       "      <th>Profession</th>\n",
       "      <th>Work Experience</th>\n",
       "      <th>Family Size</th>\n",
       "      <th>Gender_Female</th>\n",
       "      <th>Gender_Male</th>\n",
       "    </tr>\n",
       "  </thead>\n",
       "  <tbody>\n",
       "    <tr>\n",
       "      <th>0</th>\n",
       "      <td>1</td>\n",
       "      <td>19</td>\n",
       "      <td>15000</td>\n",
       "      <td>39</td>\n",
       "      <td>5</td>\n",
       "      <td>1</td>\n",
       "      <td>4</td>\n",
       "      <td>0</td>\n",
       "      <td>1</td>\n",
       "    </tr>\n",
       "    <tr>\n",
       "      <th>1</th>\n",
       "      <td>2</td>\n",
       "      <td>21</td>\n",
       "      <td>35000</td>\n",
       "      <td>81</td>\n",
       "      <td>2</td>\n",
       "      <td>3</td>\n",
       "      <td>3</td>\n",
       "      <td>0</td>\n",
       "      <td>1</td>\n",
       "    </tr>\n",
       "    <tr>\n",
       "      <th>2</th>\n",
       "      <td>3</td>\n",
       "      <td>20</td>\n",
       "      <td>86000</td>\n",
       "      <td>6</td>\n",
       "      <td>2</td>\n",
       "      <td>1</td>\n",
       "      <td>1</td>\n",
       "      <td>1</td>\n",
       "      <td>0</td>\n",
       "    </tr>\n",
       "    <tr>\n",
       "      <th>3</th>\n",
       "      <td>4</td>\n",
       "      <td>23</td>\n",
       "      <td>59000</td>\n",
       "      <td>77</td>\n",
       "      <td>7</td>\n",
       "      <td>0</td>\n",
       "      <td>2</td>\n",
       "      <td>1</td>\n",
       "      <td>0</td>\n",
       "    </tr>\n",
       "    <tr>\n",
       "      <th>4</th>\n",
       "      <td>5</td>\n",
       "      <td>31</td>\n",
       "      <td>38000</td>\n",
       "      <td>40</td>\n",
       "      <td>3</td>\n",
       "      <td>2</td>\n",
       "      <td>6</td>\n",
       "      <td>1</td>\n",
       "      <td>0</td>\n",
       "    </tr>\n",
       "    <tr>\n",
       "      <th>...</th>\n",
       "      <td>...</td>\n",
       "      <td>...</td>\n",
       "      <td>...</td>\n",
       "      <td>...</td>\n",
       "      <td>...</td>\n",
       "      <td>...</td>\n",
       "      <td>...</td>\n",
       "      <td>...</td>\n",
       "      <td>...</td>\n",
       "    </tr>\n",
       "    <tr>\n",
       "      <th>1995</th>\n",
       "      <td>1996</td>\n",
       "      <td>71</td>\n",
       "      <td>184387</td>\n",
       "      <td>40</td>\n",
       "      <td>0</td>\n",
       "      <td>8</td>\n",
       "      <td>7</td>\n",
       "      <td>1</td>\n",
       "      <td>0</td>\n",
       "    </tr>\n",
       "    <tr>\n",
       "      <th>1996</th>\n",
       "      <td>1997</td>\n",
       "      <td>91</td>\n",
       "      <td>73158</td>\n",
       "      <td>32</td>\n",
       "      <td>1</td>\n",
       "      <td>7</td>\n",
       "      <td>7</td>\n",
       "      <td>1</td>\n",
       "      <td>0</td>\n",
       "    </tr>\n",
       "    <tr>\n",
       "      <th>1997</th>\n",
       "      <td>1998</td>\n",
       "      <td>87</td>\n",
       "      <td>90961</td>\n",
       "      <td>14</td>\n",
       "      <td>5</td>\n",
       "      <td>9</td>\n",
       "      <td>2</td>\n",
       "      <td>0</td>\n",
       "      <td>1</td>\n",
       "    </tr>\n",
       "    <tr>\n",
       "      <th>1998</th>\n",
       "      <td>1999</td>\n",
       "      <td>77</td>\n",
       "      <td>182109</td>\n",
       "      <td>4</td>\n",
       "      <td>4</td>\n",
       "      <td>7</td>\n",
       "      <td>2</td>\n",
       "      <td>0</td>\n",
       "      <td>1</td>\n",
       "    </tr>\n",
       "    <tr>\n",
       "      <th>1999</th>\n",
       "      <td>2000</td>\n",
       "      <td>90</td>\n",
       "      <td>110610</td>\n",
       "      <td>52</td>\n",
       "      <td>3</td>\n",
       "      <td>5</td>\n",
       "      <td>2</td>\n",
       "      <td>0</td>\n",
       "      <td>1</td>\n",
       "    </tr>\n",
       "  </tbody>\n",
       "</table>\n",
       "<p>2000 rows × 9 columns</p>\n",
       "</div>"
      ],
      "text/plain": [
       "      CustomerID  Age  AnnualIncome  SpendingScore  Profession  \\\n",
       "0              1   19         15000             39           5   \n",
       "1              2   21         35000             81           2   \n",
       "2              3   20         86000              6           2   \n",
       "3              4   23         59000             77           7   \n",
       "4              5   31         38000             40           3   \n",
       "...          ...  ...           ...            ...         ...   \n",
       "1995        1996   71        184387             40           0   \n",
       "1996        1997   91         73158             32           1   \n",
       "1997        1998   87         90961             14           5   \n",
       "1998        1999   77        182109              4           4   \n",
       "1999        2000   90        110610             52           3   \n",
       "\n",
       "      Work Experience  Family Size  Gender_Female  Gender_Male  \n",
       "0                   1            4              0            1  \n",
       "1                   3            3              0            1  \n",
       "2                   1            1              1            0  \n",
       "3                   0            2              1            0  \n",
       "4                   2            6              1            0  \n",
       "...               ...          ...            ...          ...  \n",
       "1995                8            7              1            0  \n",
       "1996                7            7              1            0  \n",
       "1997                9            2              0            1  \n",
       "1998                7            2              0            1  \n",
       "1999                5            2              0            1  \n",
       "\n",
       "[2000 rows x 9 columns]"
      ]
     },
     "execution_count": 21,
     "metadata": {},
     "output_type": "execute_result"
    }
   ],
   "source": [
    "from sklearn.preprocessing import LabelEncoder\n",
    "le=LabelEncoder()\n",
    "df.Profession=le.fit_transform(df.Profession)\n",
    "df"
   ]
  },
  {
   "cell_type": "markdown",
   "id": "b3c420ee",
   "metadata": {
    "papermill": {
     "duration": 0.020974,
     "end_time": "2023-03-03T19:13:47.109137",
     "exception": false,
     "start_time": "2023-03-03T19:13:47.088163",
     "status": "completed"
    },
    "tags": []
   },
   "source": [
    "# **SCALING THE DATA**"
   ]
  },
  {
   "cell_type": "code",
   "execution_count": 22,
   "id": "22146550",
   "metadata": {
    "execution": {
     "iopub.execute_input": "2023-03-03T19:13:47.153642Z",
     "iopub.status.busy": "2023-03-03T19:13:47.152901Z",
     "iopub.status.idle": "2023-03-03T19:13:47.166486Z",
     "shell.execute_reply": "2023-03-03T19:13:47.165284Z"
    },
    "papermill": {
     "duration": 0.038613,
     "end_time": "2023-03-03T19:13:47.168808",
     "exception": false,
     "start_time": "2023-03-03T19:13:47.130195",
     "status": "completed"
    },
    "tags": []
   },
   "outputs": [
    {
     "data": {
      "text/html": [
       "<div>\n",
       "<style scoped>\n",
       "    .dataframe tbody tr th:only-of-type {\n",
       "        vertical-align: middle;\n",
       "    }\n",
       "\n",
       "    .dataframe tbody tr th {\n",
       "        vertical-align: top;\n",
       "    }\n",
       "\n",
       "    .dataframe thead th {\n",
       "        text-align: right;\n",
       "    }\n",
       "</style>\n",
       "<table border=\"1\" class=\"dataframe\">\n",
       "  <thead>\n",
       "    <tr style=\"text-align: right;\">\n",
       "      <th></th>\n",
       "      <th>Age</th>\n",
       "      <th>AnnualIncome</th>\n",
       "      <th>SpendingScore</th>\n",
       "      <th>Profession</th>\n",
       "      <th>Work Experience</th>\n",
       "      <th>Family Size</th>\n",
       "      <th>Gender_Female</th>\n",
       "      <th>Gender_Male</th>\n",
       "    </tr>\n",
       "  </thead>\n",
       "  <tbody>\n",
       "    <tr>\n",
       "      <th>0</th>\n",
       "      <td>19</td>\n",
       "      <td>15000</td>\n",
       "      <td>39</td>\n",
       "      <td>5</td>\n",
       "      <td>1</td>\n",
       "      <td>4</td>\n",
       "      <td>0</td>\n",
       "      <td>1</td>\n",
       "    </tr>\n",
       "    <tr>\n",
       "      <th>1</th>\n",
       "      <td>21</td>\n",
       "      <td>35000</td>\n",
       "      <td>81</td>\n",
       "      <td>2</td>\n",
       "      <td>3</td>\n",
       "      <td>3</td>\n",
       "      <td>0</td>\n",
       "      <td>1</td>\n",
       "    </tr>\n",
       "    <tr>\n",
       "      <th>2</th>\n",
       "      <td>20</td>\n",
       "      <td>86000</td>\n",
       "      <td>6</td>\n",
       "      <td>2</td>\n",
       "      <td>1</td>\n",
       "      <td>1</td>\n",
       "      <td>1</td>\n",
       "      <td>0</td>\n",
       "    </tr>\n",
       "    <tr>\n",
       "      <th>3</th>\n",
       "      <td>23</td>\n",
       "      <td>59000</td>\n",
       "      <td>77</td>\n",
       "      <td>7</td>\n",
       "      <td>0</td>\n",
       "      <td>2</td>\n",
       "      <td>1</td>\n",
       "      <td>0</td>\n",
       "    </tr>\n",
       "    <tr>\n",
       "      <th>4</th>\n",
       "      <td>31</td>\n",
       "      <td>38000</td>\n",
       "      <td>40</td>\n",
       "      <td>3</td>\n",
       "      <td>2</td>\n",
       "      <td>6</td>\n",
       "      <td>1</td>\n",
       "      <td>0</td>\n",
       "    </tr>\n",
       "  </tbody>\n",
       "</table>\n",
       "</div>"
      ],
      "text/plain": [
       "   Age  AnnualIncome  SpendingScore  Profession  Work Experience  Family Size  \\\n",
       "0   19         15000             39           5                1            4   \n",
       "1   21         35000             81           2                3            3   \n",
       "2   20         86000              6           2                1            1   \n",
       "3   23         59000             77           7                0            2   \n",
       "4   31         38000             40           3                2            6   \n",
       "\n",
       "   Gender_Female  Gender_Male  \n",
       "0              0            1  \n",
       "1              0            1  \n",
       "2              1            0  \n",
       "3              1            0  \n",
       "4              1            0  "
      ]
     },
     "execution_count": 22,
     "metadata": {},
     "output_type": "execute_result"
    }
   ],
   "source": [
    "#Dropping the CustomerID column\n",
    "Up_data=df.drop(columns='CustomerID',axis=1)\n",
    "Up_data.head()"
   ]
  },
  {
   "cell_type": "code",
   "execution_count": 23,
   "id": "74d9b06b",
   "metadata": {
    "execution": {
     "iopub.execute_input": "2023-03-03T19:13:47.213226Z",
     "iopub.status.busy": "2023-03-03T19:13:47.212441Z",
     "iopub.status.idle": "2023-03-03T19:13:47.225024Z",
     "shell.execute_reply": "2023-03-03T19:13:47.223854Z"
    },
    "papermill": {
     "duration": 0.037423,
     "end_time": "2023-03-03T19:13:47.227237",
     "exception": false,
     "start_time": "2023-03-03T19:13:47.189814",
     "status": "completed"
    },
    "tags": []
   },
   "outputs": [
    {
     "data": {
      "text/plain": [
       "array([[0.19191919, 0.07895817, 0.39      , ..., 0.375     , 0.        ,\n",
       "        1.        ],\n",
       "       [0.21212121, 0.18423574, 0.81      , ..., 0.25      , 0.        ,\n",
       "        1.        ],\n",
       "       [0.2020202 , 0.45269353, 0.06      , ..., 0.        , 1.        ,\n",
       "        0.        ],\n",
       "       ...,\n",
       "       [0.87878788, 0.47880763, 0.14      , ..., 0.125     , 0.        ,\n",
       "        1.        ],\n",
       "       [0.77777778, 0.9585996 , 0.04      , ..., 0.125     , 0.        ,\n",
       "        1.        ],\n",
       "       [0.90909091, 0.58223757, 0.52      , ..., 0.125     , 0.        ,\n",
       "        1.        ]])"
      ]
     },
     "execution_count": 23,
     "metadata": {},
     "output_type": "execute_result"
    }
   ],
   "source": [
    "#Min-Max Scaling\n",
    "from sklearn.preprocessing import MinMaxScaler\n",
    "min_max = MinMaxScaler()\n",
    "X_scaled = min_max.fit_transform(Up_data)\n",
    "X_scaled"
   ]
  },
  {
   "cell_type": "markdown",
   "id": "946c270a",
   "metadata": {
    "papermill": {
     "duration": 0.021026,
     "end_time": "2023-03-03T19:13:47.269662",
     "exception": false,
     "start_time": "2023-03-03T19:13:47.248636",
     "status": "completed"
    },
    "tags": []
   },
   "source": [
    "# **PERFORM ANY OF THE CLUSTERING ALGORITHMS**"
   ]
  },
  {
   "cell_type": "code",
   "execution_count": 24,
   "id": "a8d74f66",
   "metadata": {
    "execution": {
     "iopub.execute_input": "2023-03-03T19:13:47.314066Z",
     "iopub.status.busy": "2023-03-03T19:13:47.313356Z",
     "iopub.status.idle": "2023-03-03T19:13:49.008341Z",
     "shell.execute_reply": "2023-03-03T19:13:49.007189Z"
    },
    "papermill": {
     "duration": 1.720067,
     "end_time": "2023-03-03T19:13:49.010842",
     "exception": false,
     "start_time": "2023-03-03T19:13:47.290775",
     "status": "completed"
    },
    "tags": []
   },
   "outputs": [
    {
     "data": {
      "text/plain": [
       "KMeans(n_clusters=3, random_state=0)"
      ]
     },
     "execution_count": 24,
     "metadata": {},
     "output_type": "execute_result"
    }
   ],
   "source": [
    "from sklearn import cluster\n",
    "from sklearn.cluster import KMeans\n",
    "km_model=cluster.KMeans(n_clusters=3,init='k-means++',random_state=0)\n",
    "km_model.fit(X_scaled)"
   ]
  },
  {
   "cell_type": "code",
   "execution_count": 25,
   "id": "88941e41",
   "metadata": {
    "execution": {
     "iopub.execute_input": "2023-03-03T19:13:49.056701Z",
     "iopub.status.busy": "2023-03-03T19:13:49.055890Z",
     "iopub.status.idle": "2023-03-03T19:13:49.168738Z",
     "shell.execute_reply": "2023-03-03T19:13:49.167064Z"
    },
    "papermill": {
     "duration": 0.140735,
     "end_time": "2023-03-03T19:13:49.173010",
     "exception": false,
     "start_time": "2023-03-03T19:13:49.032275",
     "status": "completed"
    },
    "tags": []
   },
   "outputs": [
    {
     "data": {
      "text/plain": [
       "array([1, 1, 0, ..., 1, 1, 1], dtype=int32)"
      ]
     },
     "execution_count": 25,
     "metadata": {},
     "output_type": "execute_result"
    }
   ],
   "source": [
    "Cluster_kms =km_model.predict(X_scaled)\n",
    "Cluster_kms"
   ]
  },
  {
   "cell_type": "markdown",
   "id": "3c7f308b",
   "metadata": {
    "papermill": {
     "duration": 0.028699,
     "end_time": "2023-03-03T19:13:49.239748",
     "exception": false,
     "start_time": "2023-03-03T19:13:49.211049",
     "status": "completed"
    },
    "tags": []
   },
   "source": [
    "# **ADDING THE CLUSTER DATA WITH THE PRIMARY DATASET**"
   ]
  },
  {
   "cell_type": "code",
   "execution_count": 26,
   "id": "a883c920",
   "metadata": {
    "execution": {
     "iopub.execute_input": "2023-03-03T19:13:49.285180Z",
     "iopub.status.busy": "2023-03-03T19:13:49.284705Z",
     "iopub.status.idle": "2023-03-03T19:13:49.304698Z",
     "shell.execute_reply": "2023-03-03T19:13:49.303358Z"
    },
    "papermill": {
     "duration": 0.045723,
     "end_time": "2023-03-03T19:13:49.307134",
     "exception": false,
     "start_time": "2023-03-03T19:13:49.261411",
     "status": "completed"
    },
    "tags": []
   },
   "outputs": [
    {
     "data": {
      "text/html": [
       "<div>\n",
       "<style scoped>\n",
       "    .dataframe tbody tr th:only-of-type {\n",
       "        vertical-align: middle;\n",
       "    }\n",
       "\n",
       "    .dataframe tbody tr th {\n",
       "        vertical-align: top;\n",
       "    }\n",
       "\n",
       "    .dataframe thead th {\n",
       "        text-align: right;\n",
       "    }\n",
       "</style>\n",
       "<table border=\"1\" class=\"dataframe\">\n",
       "  <thead>\n",
       "    <tr style=\"text-align: right;\">\n",
       "      <th></th>\n",
       "      <th>CustomerID</th>\n",
       "      <th>Age</th>\n",
       "      <th>AnnualIncome</th>\n",
       "      <th>SpendingScore</th>\n",
       "      <th>Profession</th>\n",
       "      <th>Work Experience</th>\n",
       "      <th>Family Size</th>\n",
       "      <th>Gender_Female</th>\n",
       "      <th>Gender_Male</th>\n",
       "      <th>kcluster</th>\n",
       "    </tr>\n",
       "  </thead>\n",
       "  <tbody>\n",
       "    <tr>\n",
       "      <th>0</th>\n",
       "      <td>1</td>\n",
       "      <td>19</td>\n",
       "      <td>15000</td>\n",
       "      <td>39</td>\n",
       "      <td>5</td>\n",
       "      <td>1</td>\n",
       "      <td>4</td>\n",
       "      <td>0</td>\n",
       "      <td>1</td>\n",
       "      <td>1</td>\n",
       "    </tr>\n",
       "    <tr>\n",
       "      <th>1</th>\n",
       "      <td>2</td>\n",
       "      <td>21</td>\n",
       "      <td>35000</td>\n",
       "      <td>81</td>\n",
       "      <td>2</td>\n",
       "      <td>3</td>\n",
       "      <td>3</td>\n",
       "      <td>0</td>\n",
       "      <td>1</td>\n",
       "      <td>1</td>\n",
       "    </tr>\n",
       "    <tr>\n",
       "      <th>2</th>\n",
       "      <td>3</td>\n",
       "      <td>20</td>\n",
       "      <td>86000</td>\n",
       "      <td>6</td>\n",
       "      <td>2</td>\n",
       "      <td>1</td>\n",
       "      <td>1</td>\n",
       "      <td>1</td>\n",
       "      <td>0</td>\n",
       "      <td>0</td>\n",
       "    </tr>\n",
       "    <tr>\n",
       "      <th>3</th>\n",
       "      <td>4</td>\n",
       "      <td>23</td>\n",
       "      <td>59000</td>\n",
       "      <td>77</td>\n",
       "      <td>7</td>\n",
       "      <td>0</td>\n",
       "      <td>2</td>\n",
       "      <td>1</td>\n",
       "      <td>0</td>\n",
       "      <td>2</td>\n",
       "    </tr>\n",
       "    <tr>\n",
       "      <th>4</th>\n",
       "      <td>5</td>\n",
       "      <td>31</td>\n",
       "      <td>38000</td>\n",
       "      <td>40</td>\n",
       "      <td>3</td>\n",
       "      <td>2</td>\n",
       "      <td>6</td>\n",
       "      <td>1</td>\n",
       "      <td>0</td>\n",
       "      <td>0</td>\n",
       "    </tr>\n",
       "    <tr>\n",
       "      <th>...</th>\n",
       "      <td>...</td>\n",
       "      <td>...</td>\n",
       "      <td>...</td>\n",
       "      <td>...</td>\n",
       "      <td>...</td>\n",
       "      <td>...</td>\n",
       "      <td>...</td>\n",
       "      <td>...</td>\n",
       "      <td>...</td>\n",
       "      <td>...</td>\n",
       "    </tr>\n",
       "    <tr>\n",
       "      <th>1995</th>\n",
       "      <td>1996</td>\n",
       "      <td>71</td>\n",
       "      <td>184387</td>\n",
       "      <td>40</td>\n",
       "      <td>0</td>\n",
       "      <td>8</td>\n",
       "      <td>7</td>\n",
       "      <td>1</td>\n",
       "      <td>0</td>\n",
       "      <td>0</td>\n",
       "    </tr>\n",
       "    <tr>\n",
       "      <th>1996</th>\n",
       "      <td>1997</td>\n",
       "      <td>91</td>\n",
       "      <td>73158</td>\n",
       "      <td>32</td>\n",
       "      <td>1</td>\n",
       "      <td>7</td>\n",
       "      <td>7</td>\n",
       "      <td>1</td>\n",
       "      <td>0</td>\n",
       "      <td>0</td>\n",
       "    </tr>\n",
       "    <tr>\n",
       "      <th>1997</th>\n",
       "      <td>1998</td>\n",
       "      <td>87</td>\n",
       "      <td>90961</td>\n",
       "      <td>14</td>\n",
       "      <td>5</td>\n",
       "      <td>9</td>\n",
       "      <td>2</td>\n",
       "      <td>0</td>\n",
       "      <td>1</td>\n",
       "      <td>1</td>\n",
       "    </tr>\n",
       "    <tr>\n",
       "      <th>1998</th>\n",
       "      <td>1999</td>\n",
       "      <td>77</td>\n",
       "      <td>182109</td>\n",
       "      <td>4</td>\n",
       "      <td>4</td>\n",
       "      <td>7</td>\n",
       "      <td>2</td>\n",
       "      <td>0</td>\n",
       "      <td>1</td>\n",
       "      <td>1</td>\n",
       "    </tr>\n",
       "    <tr>\n",
       "      <th>1999</th>\n",
       "      <td>2000</td>\n",
       "      <td>90</td>\n",
       "      <td>110610</td>\n",
       "      <td>52</td>\n",
       "      <td>3</td>\n",
       "      <td>5</td>\n",
       "      <td>2</td>\n",
       "      <td>0</td>\n",
       "      <td>1</td>\n",
       "      <td>1</td>\n",
       "    </tr>\n",
       "  </tbody>\n",
       "</table>\n",
       "<p>2000 rows × 10 columns</p>\n",
       "</div>"
      ],
      "text/plain": [
       "      CustomerID  Age  AnnualIncome  SpendingScore  Profession  \\\n",
       "0              1   19         15000             39           5   \n",
       "1              2   21         35000             81           2   \n",
       "2              3   20         86000              6           2   \n",
       "3              4   23         59000             77           7   \n",
       "4              5   31         38000             40           3   \n",
       "...          ...  ...           ...            ...         ...   \n",
       "1995        1996   71        184387             40           0   \n",
       "1996        1997   91         73158             32           1   \n",
       "1997        1998   87         90961             14           5   \n",
       "1998        1999   77        182109              4           4   \n",
       "1999        2000   90        110610             52           3   \n",
       "\n",
       "      Work Experience  Family Size  Gender_Female  Gender_Male  kcluster  \n",
       "0                   1            4              0            1         1  \n",
       "1                   3            3              0            1         1  \n",
       "2                   1            1              1            0         0  \n",
       "3                   0            2              1            0         2  \n",
       "4                   2            6              1            0         0  \n",
       "...               ...          ...            ...          ...       ...  \n",
       "1995                8            7              1            0         0  \n",
       "1996                7            7              1            0         0  \n",
       "1997                9            2              0            1         1  \n",
       "1998                7            2              0            1         1  \n",
       "1999                5            2              0            1         1  \n",
       "\n",
       "[2000 rows x 10 columns]"
      ]
     },
     "execution_count": 26,
     "metadata": {},
     "output_type": "execute_result"
    }
   ],
   "source": [
    "#Creating a copy of the dataframe\n",
    "new_df = df\n",
    "#Adding the cluster data with dataframe\n",
    "new_df['kcluster'] = pd.Series(Cluster_kms)\n",
    "new_df"
   ]
  },
  {
   "cell_type": "markdown",
   "id": "07355b4a",
   "metadata": {
    "papermill": {
     "duration": 0.021436,
     "end_time": "2023-03-03T19:13:49.350751",
     "exception": false,
     "start_time": "2023-03-03T19:13:49.329315",
     "status": "completed"
    },
    "tags": []
   },
   "source": [
    "# **SPLITTING THE DATA INTO DEPENDENT AND INDEPENDENT VARIABLES**"
   ]
  },
  {
   "cell_type": "code",
   "execution_count": 27,
   "id": "c1f70ee1",
   "metadata": {
    "execution": {
     "iopub.execute_input": "2023-03-03T19:13:49.396650Z",
     "iopub.status.busy": "2023-03-03T19:13:49.395536Z",
     "iopub.status.idle": "2023-03-03T19:13:49.413197Z",
     "shell.execute_reply": "2023-03-03T19:13:49.411728Z"
    },
    "papermill": {
     "duration": 0.043471,
     "end_time": "2023-03-03T19:13:49.415973",
     "exception": false,
     "start_time": "2023-03-03T19:13:49.372502",
     "status": "completed"
    },
    "tags": []
   },
   "outputs": [
    {
     "data": {
      "text/html": [
       "<div>\n",
       "<style scoped>\n",
       "    .dataframe tbody tr th:only-of-type {\n",
       "        vertical-align: middle;\n",
       "    }\n",
       "\n",
       "    .dataframe tbody tr th {\n",
       "        vertical-align: top;\n",
       "    }\n",
       "\n",
       "    .dataframe thead th {\n",
       "        text-align: right;\n",
       "    }\n",
       "</style>\n",
       "<table border=\"1\" class=\"dataframe\">\n",
       "  <thead>\n",
       "    <tr style=\"text-align: right;\">\n",
       "      <th></th>\n",
       "      <th>CustomerID</th>\n",
       "      <th>Age</th>\n",
       "      <th>AnnualIncome</th>\n",
       "      <th>SpendingScore</th>\n",
       "      <th>Profession</th>\n",
       "      <th>Work Experience</th>\n",
       "      <th>Family Size</th>\n",
       "      <th>Gender_Female</th>\n",
       "      <th>Gender_Male</th>\n",
       "    </tr>\n",
       "  </thead>\n",
       "  <tbody>\n",
       "    <tr>\n",
       "      <th>0</th>\n",
       "      <td>1</td>\n",
       "      <td>19</td>\n",
       "      <td>15000</td>\n",
       "      <td>39</td>\n",
       "      <td>5</td>\n",
       "      <td>1</td>\n",
       "      <td>4</td>\n",
       "      <td>0</td>\n",
       "      <td>1</td>\n",
       "    </tr>\n",
       "    <tr>\n",
       "      <th>1</th>\n",
       "      <td>2</td>\n",
       "      <td>21</td>\n",
       "      <td>35000</td>\n",
       "      <td>81</td>\n",
       "      <td>2</td>\n",
       "      <td>3</td>\n",
       "      <td>3</td>\n",
       "      <td>0</td>\n",
       "      <td>1</td>\n",
       "    </tr>\n",
       "    <tr>\n",
       "      <th>2</th>\n",
       "      <td>3</td>\n",
       "      <td>20</td>\n",
       "      <td>86000</td>\n",
       "      <td>6</td>\n",
       "      <td>2</td>\n",
       "      <td>1</td>\n",
       "      <td>1</td>\n",
       "      <td>1</td>\n",
       "      <td>0</td>\n",
       "    </tr>\n",
       "    <tr>\n",
       "      <th>3</th>\n",
       "      <td>4</td>\n",
       "      <td>23</td>\n",
       "      <td>59000</td>\n",
       "      <td>77</td>\n",
       "      <td>7</td>\n",
       "      <td>0</td>\n",
       "      <td>2</td>\n",
       "      <td>1</td>\n",
       "      <td>0</td>\n",
       "    </tr>\n",
       "    <tr>\n",
       "      <th>4</th>\n",
       "      <td>5</td>\n",
       "      <td>31</td>\n",
       "      <td>38000</td>\n",
       "      <td>40</td>\n",
       "      <td>3</td>\n",
       "      <td>2</td>\n",
       "      <td>6</td>\n",
       "      <td>1</td>\n",
       "      <td>0</td>\n",
       "    </tr>\n",
       "    <tr>\n",
       "      <th>...</th>\n",
       "      <td>...</td>\n",
       "      <td>...</td>\n",
       "      <td>...</td>\n",
       "      <td>...</td>\n",
       "      <td>...</td>\n",
       "      <td>...</td>\n",
       "      <td>...</td>\n",
       "      <td>...</td>\n",
       "      <td>...</td>\n",
       "    </tr>\n",
       "    <tr>\n",
       "      <th>1995</th>\n",
       "      <td>1996</td>\n",
       "      <td>71</td>\n",
       "      <td>184387</td>\n",
       "      <td>40</td>\n",
       "      <td>0</td>\n",
       "      <td>8</td>\n",
       "      <td>7</td>\n",
       "      <td>1</td>\n",
       "      <td>0</td>\n",
       "    </tr>\n",
       "    <tr>\n",
       "      <th>1996</th>\n",
       "      <td>1997</td>\n",
       "      <td>91</td>\n",
       "      <td>73158</td>\n",
       "      <td>32</td>\n",
       "      <td>1</td>\n",
       "      <td>7</td>\n",
       "      <td>7</td>\n",
       "      <td>1</td>\n",
       "      <td>0</td>\n",
       "    </tr>\n",
       "    <tr>\n",
       "      <th>1997</th>\n",
       "      <td>1998</td>\n",
       "      <td>87</td>\n",
       "      <td>90961</td>\n",
       "      <td>14</td>\n",
       "      <td>5</td>\n",
       "      <td>9</td>\n",
       "      <td>2</td>\n",
       "      <td>0</td>\n",
       "      <td>1</td>\n",
       "    </tr>\n",
       "    <tr>\n",
       "      <th>1998</th>\n",
       "      <td>1999</td>\n",
       "      <td>77</td>\n",
       "      <td>182109</td>\n",
       "      <td>4</td>\n",
       "      <td>4</td>\n",
       "      <td>7</td>\n",
       "      <td>2</td>\n",
       "      <td>0</td>\n",
       "      <td>1</td>\n",
       "    </tr>\n",
       "    <tr>\n",
       "      <th>1999</th>\n",
       "      <td>2000</td>\n",
       "      <td>90</td>\n",
       "      <td>110610</td>\n",
       "      <td>52</td>\n",
       "      <td>3</td>\n",
       "      <td>5</td>\n",
       "      <td>2</td>\n",
       "      <td>0</td>\n",
       "      <td>1</td>\n",
       "    </tr>\n",
       "  </tbody>\n",
       "</table>\n",
       "<p>2000 rows × 9 columns</p>\n",
       "</div>"
      ],
      "text/plain": [
       "      CustomerID  Age  AnnualIncome  SpendingScore  Profession  \\\n",
       "0              1   19         15000             39           5   \n",
       "1              2   21         35000             81           2   \n",
       "2              3   20         86000              6           2   \n",
       "3              4   23         59000             77           7   \n",
       "4              5   31         38000             40           3   \n",
       "...          ...  ...           ...            ...         ...   \n",
       "1995        1996   71        184387             40           0   \n",
       "1996        1997   91         73158             32           1   \n",
       "1997        1998   87         90961             14           5   \n",
       "1998        1999   77        182109              4           4   \n",
       "1999        2000   90        110610             52           3   \n",
       "\n",
       "      Work Experience  Family Size  Gender_Female  Gender_Male  \n",
       "0                   1            4              0            1  \n",
       "1                   3            3              0            1  \n",
       "2                   1            1              1            0  \n",
       "3                   0            2              1            0  \n",
       "4                   2            6              1            0  \n",
       "...               ...          ...            ...          ...  \n",
       "1995                8            7              1            0  \n",
       "1996                7            7              1            0  \n",
       "1997                9            2              0            1  \n",
       "1998                7            2              0            1  \n",
       "1999                5            2              0            1  \n",
       "\n",
       "[2000 rows x 9 columns]"
      ]
     },
     "execution_count": 27,
     "metadata": {},
     "output_type": "execute_result"
    }
   ],
   "source": [
    "#Independent variable\n",
    "X=new_df.iloc[:,:-1]\n",
    "X"
   ]
  },
  {
   "cell_type": "code",
   "execution_count": 28,
   "id": "4ba53777",
   "metadata": {
    "execution": {
     "iopub.execute_input": "2023-03-03T19:13:49.462529Z",
     "iopub.status.busy": "2023-03-03T19:13:49.461483Z",
     "iopub.status.idle": "2023-03-03T19:13:49.471413Z",
     "shell.execute_reply": "2023-03-03T19:13:49.470365Z"
    },
    "papermill": {
     "duration": 0.035468,
     "end_time": "2023-03-03T19:13:49.473628",
     "exception": false,
     "start_time": "2023-03-03T19:13:49.438160",
     "status": "completed"
    },
    "tags": []
   },
   "outputs": [
    {
     "data": {
      "text/plain": [
       "0       1\n",
       "1       1\n",
       "2       0\n",
       "3       2\n",
       "4       0\n",
       "       ..\n",
       "1995    0\n",
       "1996    0\n",
       "1997    1\n",
       "1998    1\n",
       "1999    1\n",
       "Name: kcluster, Length: 2000, dtype: int32"
      ]
     },
     "execution_count": 28,
     "metadata": {},
     "output_type": "execute_result"
    }
   ],
   "source": [
    "#dedpendent variable\n",
    "y=new_df.kcluster\n",
    "y"
   ]
  },
  {
   "cell_type": "markdown",
   "id": "0426177f",
   "metadata": {
    "papermill": {
     "duration": 0.021984,
     "end_time": "2023-03-03T19:13:49.517622",
     "exception": false,
     "start_time": "2023-03-03T19:13:49.495638",
     "status": "completed"
    },
    "tags": []
   },
   "source": [
    "# **SPLITTING THE DATA INTO TRAINING DATA AND TEST DATA**"
   ]
  },
  {
   "cell_type": "code",
   "execution_count": 29,
   "id": "a046bf34",
   "metadata": {
    "execution": {
     "iopub.execute_input": "2023-03-03T19:13:49.564610Z",
     "iopub.status.busy": "2023-03-03T19:13:49.563338Z",
     "iopub.status.idle": "2023-03-03T19:13:49.572179Z",
     "shell.execute_reply": "2023-03-03T19:13:49.571062Z"
    },
    "papermill": {
     "duration": 0.034985,
     "end_time": "2023-03-03T19:13:49.574712",
     "exception": false,
     "start_time": "2023-03-03T19:13:49.539727",
     "status": "completed"
    },
    "tags": []
   },
   "outputs": [],
   "source": [
    "from sklearn.model_selection import train_test_split\n",
    "X_train,X_test,y_train,y_test = train_test_split(X,y,test_size=0.3,random_state=0)\n",
    "#0.3 indicates 30% test dataset and remaining 70% training dataset which is ideal size of dataset for ml algorithms training and testing "
   ]
  },
  {
   "cell_type": "code",
   "execution_count": 30,
   "id": "e6304e22",
   "metadata": {
    "execution": {
     "iopub.execute_input": "2023-03-03T19:13:49.621075Z",
     "iopub.status.busy": "2023-03-03T19:13:49.620259Z",
     "iopub.status.idle": "2023-03-03T19:13:49.635390Z",
     "shell.execute_reply": "2023-03-03T19:13:49.634499Z"
    },
    "papermill": {
     "duration": 0.040895,
     "end_time": "2023-03-03T19:13:49.637614",
     "exception": false,
     "start_time": "2023-03-03T19:13:49.596719",
     "status": "completed"
    },
    "tags": []
   },
   "outputs": [
    {
     "data": {
      "text/html": [
       "<div>\n",
       "<style scoped>\n",
       "    .dataframe tbody tr th:only-of-type {\n",
       "        vertical-align: middle;\n",
       "    }\n",
       "\n",
       "    .dataframe tbody tr th {\n",
       "        vertical-align: top;\n",
       "    }\n",
       "\n",
       "    .dataframe thead th {\n",
       "        text-align: right;\n",
       "    }\n",
       "</style>\n",
       "<table border=\"1\" class=\"dataframe\">\n",
       "  <thead>\n",
       "    <tr style=\"text-align: right;\">\n",
       "      <th></th>\n",
       "      <th>CustomerID</th>\n",
       "      <th>Age</th>\n",
       "      <th>AnnualIncome</th>\n",
       "      <th>SpendingScore</th>\n",
       "      <th>Profession</th>\n",
       "      <th>Work Experience</th>\n",
       "      <th>Family Size</th>\n",
       "      <th>Gender_Female</th>\n",
       "      <th>Gender_Male</th>\n",
       "    </tr>\n",
       "  </thead>\n",
       "  <tbody>\n",
       "    <tr>\n",
       "      <th>1719</th>\n",
       "      <td>1720</td>\n",
       "      <td>48</td>\n",
       "      <td>74308</td>\n",
       "      <td>23</td>\n",
       "      <td>3</td>\n",
       "      <td>1</td>\n",
       "      <td>2</td>\n",
       "      <td>1</td>\n",
       "      <td>0</td>\n",
       "    </tr>\n",
       "    <tr>\n",
       "      <th>1702</th>\n",
       "      <td>1703</td>\n",
       "      <td>69</td>\n",
       "      <td>85401</td>\n",
       "      <td>10</td>\n",
       "      <td>3</td>\n",
       "      <td>4</td>\n",
       "      <td>6</td>\n",
       "      <td>1</td>\n",
       "      <td>0</td>\n",
       "    </tr>\n",
       "    <tr>\n",
       "      <th>1287</th>\n",
       "      <td>1288</td>\n",
       "      <td>54</td>\n",
       "      <td>179546</td>\n",
       "      <td>4</td>\n",
       "      <td>6</td>\n",
       "      <td>8</td>\n",
       "      <td>4</td>\n",
       "      <td>1</td>\n",
       "      <td>0</td>\n",
       "    </tr>\n",
       "    <tr>\n",
       "      <th>482</th>\n",
       "      <td>483</td>\n",
       "      <td>76</td>\n",
       "      <td>155622</td>\n",
       "      <td>81</td>\n",
       "      <td>5</td>\n",
       "      <td>0</td>\n",
       "      <td>2</td>\n",
       "      <td>0</td>\n",
       "      <td>1</td>\n",
       "    </tr>\n",
       "    <tr>\n",
       "      <th>768</th>\n",
       "      <td>769</td>\n",
       "      <td>25</td>\n",
       "      <td>106569</td>\n",
       "      <td>84</td>\n",
       "      <td>2</td>\n",
       "      <td>1</td>\n",
       "      <td>3</td>\n",
       "      <td>1</td>\n",
       "      <td>0</td>\n",
       "    </tr>\n",
       "    <tr>\n",
       "      <th>...</th>\n",
       "      <td>...</td>\n",
       "      <td>...</td>\n",
       "      <td>...</td>\n",
       "      <td>...</td>\n",
       "      <td>...</td>\n",
       "      <td>...</td>\n",
       "      <td>...</td>\n",
       "      <td>...</td>\n",
       "      <td>...</td>\n",
       "    </tr>\n",
       "    <tr>\n",
       "      <th>835</th>\n",
       "      <td>836</td>\n",
       "      <td>51</td>\n",
       "      <td>117620</td>\n",
       "      <td>60</td>\n",
       "      <td>5</td>\n",
       "      <td>7</td>\n",
       "      <td>6</td>\n",
       "      <td>1</td>\n",
       "      <td>0</td>\n",
       "    </tr>\n",
       "    <tr>\n",
       "      <th>1216</th>\n",
       "      <td>1217</td>\n",
       "      <td>78</td>\n",
       "      <td>59784</td>\n",
       "      <td>81</td>\n",
       "      <td>0</td>\n",
       "      <td>3</td>\n",
       "      <td>3</td>\n",
       "      <td>1</td>\n",
       "      <td>0</td>\n",
       "    </tr>\n",
       "    <tr>\n",
       "      <th>1653</th>\n",
       "      <td>1654</td>\n",
       "      <td>52</td>\n",
       "      <td>133214</td>\n",
       "      <td>1</td>\n",
       "      <td>8</td>\n",
       "      <td>9</td>\n",
       "      <td>7</td>\n",
       "      <td>1</td>\n",
       "      <td>0</td>\n",
       "    </tr>\n",
       "    <tr>\n",
       "      <th>559</th>\n",
       "      <td>560</td>\n",
       "      <td>0</td>\n",
       "      <td>151298</td>\n",
       "      <td>89</td>\n",
       "      <td>0</td>\n",
       "      <td>0</td>\n",
       "      <td>6</td>\n",
       "      <td>0</td>\n",
       "      <td>1</td>\n",
       "    </tr>\n",
       "    <tr>\n",
       "      <th>684</th>\n",
       "      <td>685</td>\n",
       "      <td>54</td>\n",
       "      <td>145679</td>\n",
       "      <td>35</td>\n",
       "      <td>0</td>\n",
       "      <td>0</td>\n",
       "      <td>2</td>\n",
       "      <td>1</td>\n",
       "      <td>0</td>\n",
       "    </tr>\n",
       "  </tbody>\n",
       "</table>\n",
       "<p>1400 rows × 9 columns</p>\n",
       "</div>"
      ],
      "text/plain": [
       "      CustomerID  Age  AnnualIncome  SpendingScore  Profession  \\\n",
       "1719        1720   48         74308             23           3   \n",
       "1702        1703   69         85401             10           3   \n",
       "1287        1288   54        179546              4           6   \n",
       "482          483   76        155622             81           5   \n",
       "768          769   25        106569             84           2   \n",
       "...          ...  ...           ...            ...         ...   \n",
       "835          836   51        117620             60           5   \n",
       "1216        1217   78         59784             81           0   \n",
       "1653        1654   52        133214              1           8   \n",
       "559          560    0        151298             89           0   \n",
       "684          685   54        145679             35           0   \n",
       "\n",
       "      Work Experience  Family Size  Gender_Female  Gender_Male  \n",
       "1719                1            2              1            0  \n",
       "1702                4            6              1            0  \n",
       "1287                8            4              1            0  \n",
       "482                 0            2              0            1  \n",
       "768                 1            3              1            0  \n",
       "...               ...          ...            ...          ...  \n",
       "835                 7            6              1            0  \n",
       "1216                3            3              1            0  \n",
       "1653                9            7              1            0  \n",
       "559                 0            6              0            1  \n",
       "684                 0            2              1            0  \n",
       "\n",
       "[1400 rows x 9 columns]"
      ]
     },
     "execution_count": 30,
     "metadata": {},
     "output_type": "execute_result"
    }
   ],
   "source": [
    "X_train"
   ]
  },
  {
   "cell_type": "markdown",
   "id": "8b155cbe",
   "metadata": {
    "papermill": {
     "duration": 0.022415,
     "end_time": "2023-03-03T19:13:49.682680",
     "exception": false,
     "start_time": "2023-03-03T19:13:49.660265",
     "status": "completed"
    },
    "tags": []
   },
   "source": [
    "# **BUILD & TRAIN THE MODEL**"
   ]
  },
  {
   "cell_type": "code",
   "execution_count": 31,
   "id": "34b547e3",
   "metadata": {
    "execution": {
     "iopub.execute_input": "2023-03-03T19:13:49.730823Z",
     "iopub.status.busy": "2023-03-03T19:13:49.729623Z",
     "iopub.status.idle": "2023-03-03T19:13:49.735931Z",
     "shell.execute_reply": "2023-03-03T19:13:49.735056Z"
    },
    "papermill": {
     "duration": 0.033005,
     "end_time": "2023-03-03T19:13:49.738310",
     "exception": false,
     "start_time": "2023-03-03T19:13:49.705305",
     "status": "completed"
    },
    "tags": []
   },
   "outputs": [],
   "source": [
    "def classify(model):\n",
    "    model.fit(X_train, y_train)\n",
    "    print('Accuracy:', model.score(X_test, y_test))"
   ]
  },
  {
   "cell_type": "code",
   "execution_count": 32,
   "id": "c6809e98",
   "metadata": {
    "execution": {
     "iopub.execute_input": "2023-03-03T19:13:49.785810Z",
     "iopub.status.busy": "2023-03-03T19:13:49.785020Z",
     "iopub.status.idle": "2023-03-03T19:13:49.808539Z",
     "shell.execute_reply": "2023-03-03T19:13:49.806890Z"
    },
    "papermill": {
     "duration": 0.050263,
     "end_time": "2023-03-03T19:13:49.811068",
     "exception": false,
     "start_time": "2023-03-03T19:13:49.760805",
     "status": "completed"
    },
    "tags": []
   },
   "outputs": [
    {
     "name": "stdout",
     "output_type": "stream",
     "text": [
      "Accuracy: 0.805\n"
     ]
    }
   ],
   "source": [
    "from sklearn.naive_bayes import GaussianNB  \n",
    "model = GaussianNB()  \n",
    "classify(model)"
   ]
  },
  {
   "cell_type": "code",
   "execution_count": 33,
   "id": "f18636c6",
   "metadata": {
    "execution": {
     "iopub.execute_input": "2023-03-03T19:13:49.858073Z",
     "iopub.status.busy": "2023-03-03T19:13:49.857265Z",
     "iopub.status.idle": "2023-03-03T19:13:50.216047Z",
     "shell.execute_reply": "2023-03-03T19:13:50.214583Z"
    },
    "papermill": {
     "duration": 0.385205,
     "end_time": "2023-03-03T19:13:50.218763",
     "exception": false,
     "start_time": "2023-03-03T19:13:49.833558",
     "status": "completed"
    },
    "tags": []
   },
   "outputs": [
    {
     "name": "stdout",
     "output_type": "stream",
     "text": [
      "Accuracy: 0.9933333333333333\n"
     ]
    }
   ],
   "source": [
    "from sklearn.ensemble import RandomForestClassifier\n",
    "model = RandomForestClassifier()\n",
    "classify(model)"
   ]
  },
  {
   "cell_type": "code",
   "execution_count": 34,
   "id": "85e79cb8",
   "metadata": {
    "execution": {
     "iopub.execute_input": "2023-03-03T19:13:50.266948Z",
     "iopub.status.busy": "2023-03-03T19:13:50.265876Z",
     "iopub.status.idle": "2023-03-03T19:13:50.789159Z",
     "shell.execute_reply": "2023-03-03T19:13:50.788109Z"
    },
    "papermill": {
     "duration": 0.550368,
     "end_time": "2023-03-03T19:13:50.791960",
     "exception": false,
     "start_time": "2023-03-03T19:13:50.241592",
     "status": "completed"
    },
    "tags": []
   },
   "outputs": [
    {
     "name": "stdout",
     "output_type": "stream",
     "text": [
      "Accuracy: 0.9866666666666667\n"
     ]
    }
   ],
   "source": [
    "from xgboost import XGBClassifier\n",
    "model = XGBClassifier()\n",
    "classify(model)"
   ]
  },
  {
   "cell_type": "code",
   "execution_count": 35,
   "id": "3103150e",
   "metadata": {
    "execution": {
     "iopub.execute_input": "2023-03-03T19:13:50.844747Z",
     "iopub.status.busy": "2023-03-03T19:13:50.844033Z",
     "iopub.status.idle": "2023-03-03T19:13:53.393319Z",
     "shell.execute_reply": "2023-03-03T19:13:53.392107Z"
    },
    "papermill": {
     "duration": 2.579504,
     "end_time": "2023-03-03T19:13:53.396283",
     "exception": false,
     "start_time": "2023-03-03T19:13:50.816779",
     "status": "completed"
    },
    "tags": []
   },
   "outputs": [
    {
     "name": "stdout",
     "output_type": "stream",
     "text": [
      "Accuracy: 0.9883333333333333\n"
     ]
    }
   ],
   "source": [
    "from catboost import CatBoostClassifier\n",
    "model = CatBoostClassifier(verbose=0)\n",
    "classify(model)"
   ]
  }
 ],
 "metadata": {
  "kernelspec": {
   "display_name": "Python 3",
   "language": "python",
   "name": "python3"
  },
  "language_info": {
   "codemirror_mode": {
    "name": "ipython",
    "version": 3
   },
   "file_extension": ".py",
   "mimetype": "text/x-python",
   "name": "python",
   "nbconvert_exporter": "python",
   "pygments_lexer": "ipython3",
   "version": "3.7.12"
  },
  "papermill": {
   "default_parameters": {},
   "duration": 24.466317,
   "end_time": "2023-03-03T19:13:54.342405",
   "environment_variables": {},
   "exception": null,
   "input_path": "__notebook__.ipynb",
   "output_path": "__notebook__.ipynb",
   "parameters": {},
   "start_time": "2023-03-03T19:13:29.876088",
   "version": "2.4.0"
  }
 },
 "nbformat": 4,
 "nbformat_minor": 5
}
